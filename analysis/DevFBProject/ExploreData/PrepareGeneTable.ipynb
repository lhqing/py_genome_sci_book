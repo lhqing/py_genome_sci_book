{
 "cells": [
  {
   "cell_type": "markdown",
   "metadata": {
    "ExecuteTime": {
     "end_time": "2020-06-01T03:13:23.551817Z",
     "start_time": "2020-06-01T03:13:23.549278Z"
    }
   },
   "source": [
    "# Prepare Gene Table From GTF"
   ]
  },
  {
   "cell_type": "code",
   "execution_count": 1,
   "metadata": {
    "ExecuteTime": {
     "end_time": "2020-06-01T06:05:23.998165Z",
     "start_time": "2020-06-01T06:05:23.045425Z"
    }
   },
   "outputs": [],
   "source": [
    "import pandas as pd"
   ]
  },
  {
   "cell_type": "code",
   "execution_count": 2,
   "metadata": {
    "ExecuteTime": {
     "end_time": "2020-06-01T06:06:03.402799Z",
     "start_time": "2020-06-01T06:05:53.841126Z"
    }
   },
   "outputs": [
    {
     "data": {
      "text/html": [
       "<div>\n",
       "<style scoped>\n",
       "    .dataframe tbody tr th:only-of-type {\n",
       "        vertical-align: middle;\n",
       "    }\n",
       "\n",
       "    .dataframe tbody tr th {\n",
       "        vertical-align: top;\n",
       "    }\n",
       "\n",
       "    .dataframe thead th {\n",
       "        text-align: right;\n",
       "    }\n",
       "</style>\n",
       "<table border=\"1\" class=\"dataframe\">\n",
       "  <thead>\n",
       "    <tr style=\"text-align: right;\">\n",
       "      <th></th>\n",
       "      <th>chrom</th>\n",
       "      <th>source</th>\n",
       "      <th>feature</th>\n",
       "      <th>start</th>\n",
       "      <th>end</th>\n",
       "      <th>na1</th>\n",
       "      <th>strand</th>\n",
       "      <th>na2</th>\n",
       "      <th>annotation</th>\n",
       "    </tr>\n",
       "  </thead>\n",
       "  <tbody>\n",
       "    <tr>\n",
       "      <th>0</th>\n",
       "      <td>chr1</td>\n",
       "      <td>HAVANA</td>\n",
       "      <td>gene</td>\n",
       "      <td>3073253</td>\n",
       "      <td>3074322</td>\n",
       "      <td>.</td>\n",
       "      <td>+</td>\n",
       "      <td>.</td>\n",
       "      <td>gene_id \"ENSMUSG00000102693.1\"; gene_type \"TEC...</td>\n",
       "    </tr>\n",
       "    <tr>\n",
       "      <th>1</th>\n",
       "      <td>chr1</td>\n",
       "      <td>HAVANA</td>\n",
       "      <td>transcript</td>\n",
       "      <td>3073253</td>\n",
       "      <td>3074322</td>\n",
       "      <td>.</td>\n",
       "      <td>+</td>\n",
       "      <td>.</td>\n",
       "      <td>gene_id \"ENSMUSG00000102693.1\"; transcript_id ...</td>\n",
       "    </tr>\n",
       "    <tr>\n",
       "      <th>2</th>\n",
       "      <td>chr1</td>\n",
       "      <td>HAVANA</td>\n",
       "      <td>exon</td>\n",
       "      <td>3073253</td>\n",
       "      <td>3074322</td>\n",
       "      <td>.</td>\n",
       "      <td>+</td>\n",
       "      <td>.</td>\n",
       "      <td>gene_id \"ENSMUSG00000102693.1\"; transcript_id ...</td>\n",
       "    </tr>\n",
       "    <tr>\n",
       "      <th>3</th>\n",
       "      <td>chr1</td>\n",
       "      <td>ENSEMBL</td>\n",
       "      <td>gene</td>\n",
       "      <td>3102016</td>\n",
       "      <td>3102125</td>\n",
       "      <td>.</td>\n",
       "      <td>+</td>\n",
       "      <td>.</td>\n",
       "      <td>gene_id \"ENSMUSG00000064842.1\"; gene_type \"snR...</td>\n",
       "    </tr>\n",
       "    <tr>\n",
       "      <th>4</th>\n",
       "      <td>chr1</td>\n",
       "      <td>ENSEMBL</td>\n",
       "      <td>transcript</td>\n",
       "      <td>3102016</td>\n",
       "      <td>3102125</td>\n",
       "      <td>.</td>\n",
       "      <td>+</td>\n",
       "      <td>.</td>\n",
       "      <td>gene_id \"ENSMUSG00000064842.1\"; transcript_id ...</td>\n",
       "    </tr>\n",
       "  </tbody>\n",
       "</table>\n",
       "</div>"
      ],
      "text/plain": [
       "  chrom   source     feature    start      end na1 strand na2  \\\n",
       "0  chr1   HAVANA        gene  3073253  3074322   .      +   .   \n",
       "1  chr1   HAVANA  transcript  3073253  3074322   .      +   .   \n",
       "2  chr1   HAVANA        exon  3073253  3074322   .      +   .   \n",
       "3  chr1  ENSEMBL        gene  3102016  3102125   .      +   .   \n",
       "4  chr1  ENSEMBL  transcript  3102016  3102125   .      +   .   \n",
       "\n",
       "                                          annotation  \n",
       "0  gene_id \"ENSMUSG00000102693.1\"; gene_type \"TEC...  \n",
       "1  gene_id \"ENSMUSG00000102693.1\"; transcript_id ...  \n",
       "2  gene_id \"ENSMUSG00000102693.1\"; transcript_id ...  \n",
       "3  gene_id \"ENSMUSG00000064842.1\"; gene_type \"snR...  \n",
       "4  gene_id \"ENSMUSG00000064842.1\"; transcript_id ...  "
      ]
     },
     "execution_count": 2,
     "metadata": {},
     "output_type": "execute_result"
    }
   ],
   "source": [
    "# gtf table has some spetial formats, we need to set more parameters when read it in,\n",
    "# here I just provide you the answer, you can search pandas.read_csv() documentation for more information\n",
    "gtf = pd.read_csv(\n",
    "    '../../../data/ref/GENCODEvM24/gencode.vM24.annotation.gtf.gz',\n",
    "    comment='#',\n",
    "    sep='\\t',\n",
    "    header=None,\n",
    "    names=[\n",
    "        'chrom', 'source', 'feature', 'start', 'end', 'na1', 'strand', 'na2',\n",
    "        'annotation'\n",
    "    ])\n",
    "gtf.head()"
   ]
  },
  {
   "cell_type": "code",
   "execution_count": 3,
   "metadata": {
    "ExecuteTime": {
     "end_time": "2020-06-01T06:06:03.579924Z",
     "start_time": "2020-06-01T06:06:03.405202Z"
    }
   },
   "outputs": [
    {
     "name": "stdout",
     "output_type": "stream",
     "text": [
      "(55385, 9)\n"
     ]
    },
    {
     "data": {
      "text/html": [
       "<div>\n",
       "<style scoped>\n",
       "    .dataframe tbody tr th:only-of-type {\n",
       "        vertical-align: middle;\n",
       "    }\n",
       "\n",
       "    .dataframe tbody tr th {\n",
       "        vertical-align: top;\n",
       "    }\n",
       "\n",
       "    .dataframe thead th {\n",
       "        text-align: right;\n",
       "    }\n",
       "</style>\n",
       "<table border=\"1\" class=\"dataframe\">\n",
       "  <thead>\n",
       "    <tr style=\"text-align: right;\">\n",
       "      <th></th>\n",
       "      <th>chrom</th>\n",
       "      <th>source</th>\n",
       "      <th>feature</th>\n",
       "      <th>start</th>\n",
       "      <th>end</th>\n",
       "      <th>na1</th>\n",
       "      <th>strand</th>\n",
       "      <th>na2</th>\n",
       "      <th>annotation</th>\n",
       "    </tr>\n",
       "  </thead>\n",
       "  <tbody>\n",
       "    <tr>\n",
       "      <th>0</th>\n",
       "      <td>chr1</td>\n",
       "      <td>HAVANA</td>\n",
       "      <td>gene</td>\n",
       "      <td>3073253</td>\n",
       "      <td>3074322</td>\n",
       "      <td>.</td>\n",
       "      <td>+</td>\n",
       "      <td>.</td>\n",
       "      <td>gene_id \"ENSMUSG00000102693.1\"; gene_type \"TEC...</td>\n",
       "    </tr>\n",
       "    <tr>\n",
       "      <th>3</th>\n",
       "      <td>chr1</td>\n",
       "      <td>ENSEMBL</td>\n",
       "      <td>gene</td>\n",
       "      <td>3102016</td>\n",
       "      <td>3102125</td>\n",
       "      <td>.</td>\n",
       "      <td>+</td>\n",
       "      <td>.</td>\n",
       "      <td>gene_id \"ENSMUSG00000064842.1\"; gene_type \"snR...</td>\n",
       "    </tr>\n",
       "    <tr>\n",
       "      <th>6</th>\n",
       "      <td>chr1</td>\n",
       "      <td>HAVANA</td>\n",
       "      <td>gene</td>\n",
       "      <td>3205901</td>\n",
       "      <td>3671498</td>\n",
       "      <td>.</td>\n",
       "      <td>-</td>\n",
       "      <td>.</td>\n",
       "      <td>gene_id \"ENSMUSG00000051951.5\"; gene_type \"pro...</td>\n",
       "    </tr>\n",
       "    <tr>\n",
       "      <th>24</th>\n",
       "      <td>chr1</td>\n",
       "      <td>HAVANA</td>\n",
       "      <td>gene</td>\n",
       "      <td>3252757</td>\n",
       "      <td>3253236</td>\n",
       "      <td>.</td>\n",
       "      <td>+</td>\n",
       "      <td>.</td>\n",
       "      <td>gene_id \"ENSMUSG00000102851.1\"; gene_type \"pro...</td>\n",
       "    </tr>\n",
       "    <tr>\n",
       "      <th>27</th>\n",
       "      <td>chr1</td>\n",
       "      <td>HAVANA</td>\n",
       "      <td>gene</td>\n",
       "      <td>3365731</td>\n",
       "      <td>3368549</td>\n",
       "      <td>.</td>\n",
       "      <td>-</td>\n",
       "      <td>.</td>\n",
       "      <td>gene_id \"ENSMUSG00000103377.1\"; gene_type \"TEC...</td>\n",
       "    </tr>\n",
       "  </tbody>\n",
       "</table>\n",
       "</div>"
      ],
      "text/plain": [
       "   chrom   source feature    start      end na1 strand na2  \\\n",
       "0   chr1   HAVANA    gene  3073253  3074322   .      +   .   \n",
       "3   chr1  ENSEMBL    gene  3102016  3102125   .      +   .   \n",
       "6   chr1   HAVANA    gene  3205901  3671498   .      -   .   \n",
       "24  chr1   HAVANA    gene  3252757  3253236   .      +   .   \n",
       "27  chr1   HAVANA    gene  3365731  3368549   .      -   .   \n",
       "\n",
       "                                           annotation  \n",
       "0   gene_id \"ENSMUSG00000102693.1\"; gene_type \"TEC...  \n",
       "3   gene_id \"ENSMUSG00000064842.1\"; gene_type \"snR...  \n",
       "6   gene_id \"ENSMUSG00000051951.5\"; gene_type \"pro...  \n",
       "24  gene_id \"ENSMUSG00000102851.1\"; gene_type \"pro...  \n",
       "27  gene_id \"ENSMUSG00000103377.1\"; gene_type \"TEC...  "
      ]
     },
     "execution_count": 3,
     "metadata": {},
     "output_type": "execute_result"
    }
   ],
   "source": [
    "gene_gtf = gtf[gtf['feature'] == 'gene'].copy()\n",
    "print(gene_gtf.shape)\n",
    "gene_gtf.head()"
   ]
  },
  {
   "cell_type": "code",
   "execution_count": 4,
   "metadata": {
    "ExecuteTime": {
     "end_time": "2020-06-01T06:06:03.590402Z",
     "start_time": "2020-06-01T06:06:03.582784Z"
    }
   },
   "outputs": [
    {
     "data": {
      "text/plain": [
       "'gene_id \"ENSMUSG00000102693.1\"; gene_type \"TEC\"; gene_name \"4933401J01Rik\"; level 2; mgi_id \"MGI:1918292\"; havana_gene \"OTTMUSG00000049935.1\";'"
      ]
     },
     "execution_count": 4,
     "metadata": {},
     "output_type": "execute_result"
    }
   ],
   "source": [
    "example_annotation = gene_gtf['annotation'][0]\n",
    "example_annotation"
   ]
  },
  {
   "cell_type": "code",
   "execution_count": 5,
   "metadata": {
    "ExecuteTime": {
     "end_time": "2020-06-01T06:06:03.598454Z",
     "start_time": "2020-06-01T06:06:03.593533Z"
    }
   },
   "outputs": [
    {
     "data": {
      "text/plain": [
       "{'gene_id': '\"ENSMUSG00000102693.1\"',\n",
       " 'gene_type': '\"TEC\"',\n",
       " 'gene_name': '\"4933401J01Rik\"',\n",
       " 'level': '2',\n",
       " 'mgi_id': '\"MGI:1918292\"',\n",
       " 'havana_gene': '\"OTTMUSG00000049935.1\"'}"
      ]
     },
     "execution_count": 5,
     "metadata": {},
     "output_type": "execute_result"
    }
   ],
   "source": [
    "# how to split everything into a dict\n",
    "anno_dict = {}\n",
    "for pair in example_annotation.strip(';').split(';'):\n",
    "    k, v = pair.strip().split(' ')\n",
    "    anno_dict[k] = v\n",
    "anno_dict"
   ]
  },
  {
   "cell_type": "code",
   "execution_count": 12,
   "metadata": {
    "ExecuteTime": {
     "end_time": "2020-06-01T06:07:26.548009Z",
     "start_time": "2020-06-01T06:07:26.544121Z"
    }
   },
   "outputs": [],
   "source": [
    "def anno_to_dict(anno_str):\n",
    "    anno_dict = {}\n",
    "    for pair in anno_str.strip(';').split(';'):\n",
    "        k, v = pair.strip().split(' ')\n",
    "        anno_dict[k] = v.strip('\"')\n",
    "    return pd.Series(anno_dict)"
   ]
  },
  {
   "cell_type": "code",
   "execution_count": 13,
   "metadata": {
    "ExecuteTime": {
     "end_time": "2020-06-01T06:07:47.696441Z",
     "start_time": "2020-06-01T06:07:27.127023Z"
    }
   },
   "outputs": [],
   "source": [
    "gene_anno_df = gene_gtf['annotation'].apply(anno_to_dict)"
   ]
  },
  {
   "cell_type": "code",
   "execution_count": 14,
   "metadata": {
    "ExecuteTime": {
     "end_time": "2020-06-01T06:07:47.717467Z",
     "start_time": "2020-06-01T06:07:47.699403Z"
    }
   },
   "outputs": [
    {
     "data": {
      "text/html": [
       "<div>\n",
       "<style scoped>\n",
       "    .dataframe tbody tr th:only-of-type {\n",
       "        vertical-align: middle;\n",
       "    }\n",
       "\n",
       "    .dataframe tbody tr th {\n",
       "        vertical-align: top;\n",
       "    }\n",
       "\n",
       "    .dataframe thead th {\n",
       "        text-align: right;\n",
       "    }\n",
       "</style>\n",
       "<table border=\"1\" class=\"dataframe\">\n",
       "  <thead>\n",
       "    <tr style=\"text-align: right;\">\n",
       "      <th></th>\n",
       "      <th>gene_id</th>\n",
       "      <th>gene_type</th>\n",
       "      <th>gene_name</th>\n",
       "      <th>level</th>\n",
       "      <th>mgi_id</th>\n",
       "      <th>havana_gene</th>\n",
       "      <th>tag</th>\n",
       "    </tr>\n",
       "  </thead>\n",
       "  <tbody>\n",
       "    <tr>\n",
       "      <th>0</th>\n",
       "      <td>ENSMUSG00000102693.1</td>\n",
       "      <td>TEC</td>\n",
       "      <td>4933401J01Rik</td>\n",
       "      <td>2</td>\n",
       "      <td>MGI:1918292</td>\n",
       "      <td>OTTMUSG00000049935.1</td>\n",
       "      <td>NaN</td>\n",
       "    </tr>\n",
       "    <tr>\n",
       "      <th>3</th>\n",
       "      <td>ENSMUSG00000064842.1</td>\n",
       "      <td>snRNA</td>\n",
       "      <td>Gm26206</td>\n",
       "      <td>3</td>\n",
       "      <td>MGI:5455983</td>\n",
       "      <td>NaN</td>\n",
       "      <td>NaN</td>\n",
       "    </tr>\n",
       "    <tr>\n",
       "      <th>6</th>\n",
       "      <td>ENSMUSG00000051951.5</td>\n",
       "      <td>protein_coding</td>\n",
       "      <td>Xkr4</td>\n",
       "      <td>2</td>\n",
       "      <td>MGI:3528744</td>\n",
       "      <td>OTTMUSG00000026353.2</td>\n",
       "      <td>NaN</td>\n",
       "    </tr>\n",
       "    <tr>\n",
       "      <th>24</th>\n",
       "      <td>ENSMUSG00000102851.1</td>\n",
       "      <td>processed_pseudogene</td>\n",
       "      <td>Gm18956</td>\n",
       "      <td>1</td>\n",
       "      <td>MGI:5011141</td>\n",
       "      <td>OTTMUSG00000049958.1</td>\n",
       "      <td>pseudo_consens</td>\n",
       "    </tr>\n",
       "    <tr>\n",
       "      <th>27</th>\n",
       "      <td>ENSMUSG00000103377.1</td>\n",
       "      <td>TEC</td>\n",
       "      <td>Gm37180</td>\n",
       "      <td>2</td>\n",
       "      <td>MGI:5610408</td>\n",
       "      <td>OTTMUSG00000049960.1</td>\n",
       "      <td>NaN</td>\n",
       "    </tr>\n",
       "    <tr>\n",
       "      <th>...</th>\n",
       "      <td>...</td>\n",
       "      <td>...</td>\n",
       "      <td>...</td>\n",
       "      <td>...</td>\n",
       "      <td>...</td>\n",
       "      <td>...</td>\n",
       "      <td>...</td>\n",
       "    </tr>\n",
       "    <tr>\n",
       "      <th>1870748</th>\n",
       "      <td>ENSMUSG00000064368.1</td>\n",
       "      <td>protein_coding</td>\n",
       "      <td>mt-Nd6</td>\n",
       "      <td>3</td>\n",
       "      <td>MGI:102495</td>\n",
       "      <td>NaN</td>\n",
       "      <td>NaN</td>\n",
       "    </tr>\n",
       "    <tr>\n",
       "      <th>1870755</th>\n",
       "      <td>ENSMUSG00000064369.1</td>\n",
       "      <td>Mt_tRNA</td>\n",
       "      <td>mt-Te</td>\n",
       "      <td>3</td>\n",
       "      <td>MGI:102488</td>\n",
       "      <td>NaN</td>\n",
       "      <td>NaN</td>\n",
       "    </tr>\n",
       "    <tr>\n",
       "      <th>1870758</th>\n",
       "      <td>ENSMUSG00000064370.1</td>\n",
       "      <td>protein_coding</td>\n",
       "      <td>mt-Cytb</td>\n",
       "      <td>3</td>\n",
       "      <td>MGI:102501</td>\n",
       "      <td>NaN</td>\n",
       "      <td>NaN</td>\n",
       "    </tr>\n",
       "    <tr>\n",
       "      <th>1870763</th>\n",
       "      <td>ENSMUSG00000064371.1</td>\n",
       "      <td>Mt_tRNA</td>\n",
       "      <td>mt-Tt</td>\n",
       "      <td>3</td>\n",
       "      <td>MGI:102473</td>\n",
       "      <td>NaN</td>\n",
       "      <td>NaN</td>\n",
       "    </tr>\n",
       "    <tr>\n",
       "      <th>1870766</th>\n",
       "      <td>ENSMUSG00000064372.1</td>\n",
       "      <td>Mt_tRNA</td>\n",
       "      <td>mt-Tp</td>\n",
       "      <td>3</td>\n",
       "      <td>MGI:102478</td>\n",
       "      <td>NaN</td>\n",
       "      <td>NaN</td>\n",
       "    </tr>\n",
       "  </tbody>\n",
       "</table>\n",
       "<p>55385 rows × 7 columns</p>\n",
       "</div>"
      ],
      "text/plain": [
       "                      gene_id             gene_type      gene_name level  \\\n",
       "0        ENSMUSG00000102693.1                   TEC  4933401J01Rik     2   \n",
       "3        ENSMUSG00000064842.1                 snRNA        Gm26206     3   \n",
       "6        ENSMUSG00000051951.5        protein_coding           Xkr4     2   \n",
       "24       ENSMUSG00000102851.1  processed_pseudogene        Gm18956     1   \n",
       "27       ENSMUSG00000103377.1                   TEC        Gm37180     2   \n",
       "...                       ...                   ...            ...   ...   \n",
       "1870748  ENSMUSG00000064368.1        protein_coding         mt-Nd6     3   \n",
       "1870755  ENSMUSG00000064369.1               Mt_tRNA          mt-Te     3   \n",
       "1870758  ENSMUSG00000064370.1        protein_coding        mt-Cytb     3   \n",
       "1870763  ENSMUSG00000064371.1               Mt_tRNA          mt-Tt     3   \n",
       "1870766  ENSMUSG00000064372.1               Mt_tRNA          mt-Tp     3   \n",
       "\n",
       "              mgi_id           havana_gene             tag  \n",
       "0        MGI:1918292  OTTMUSG00000049935.1             NaN  \n",
       "3        MGI:5455983                   NaN             NaN  \n",
       "6        MGI:3528744  OTTMUSG00000026353.2             NaN  \n",
       "24       MGI:5011141  OTTMUSG00000049958.1  pseudo_consens  \n",
       "27       MGI:5610408  OTTMUSG00000049960.1             NaN  \n",
       "...              ...                   ...             ...  \n",
       "1870748   MGI:102495                   NaN             NaN  \n",
       "1870755   MGI:102488                   NaN             NaN  \n",
       "1870758   MGI:102501                   NaN             NaN  \n",
       "1870763   MGI:102473                   NaN             NaN  \n",
       "1870766   MGI:102478                   NaN             NaN  \n",
       "\n",
       "[55385 rows x 7 columns]"
      ]
     },
     "execution_count": 14,
     "metadata": {},
     "output_type": "execute_result"
    }
   ],
   "source": [
    "gene_anno_df"
   ]
  },
  {
   "cell_type": "code",
   "execution_count": 17,
   "metadata": {
    "ExecuteTime": {
     "end_time": "2020-06-01T06:07:49.577027Z",
     "start_time": "2020-06-01T06:07:49.539520Z"
    }
   },
   "outputs": [
    {
     "data": {
      "text/html": [
       "<div>\n",
       "<style scoped>\n",
       "    .dataframe tbody tr th:only-of-type {\n",
       "        vertical-align: middle;\n",
       "    }\n",
       "\n",
       "    .dataframe tbody tr th {\n",
       "        vertical-align: top;\n",
       "    }\n",
       "\n",
       "    .dataframe thead th {\n",
       "        text-align: right;\n",
       "    }\n",
       "</style>\n",
       "<table border=\"1\" class=\"dataframe\">\n",
       "  <thead>\n",
       "    <tr style=\"text-align: right;\">\n",
       "      <th></th>\n",
       "      <th>chrom</th>\n",
       "      <th>source</th>\n",
       "      <th>feature</th>\n",
       "      <th>start</th>\n",
       "      <th>end</th>\n",
       "      <th>na1</th>\n",
       "      <th>strand</th>\n",
       "      <th>na2</th>\n",
       "      <th>gene_id</th>\n",
       "      <th>gene_type</th>\n",
       "      <th>gene_name</th>\n",
       "      <th>level</th>\n",
       "      <th>mgi_id</th>\n",
       "      <th>havana_gene</th>\n",
       "      <th>tag</th>\n",
       "    </tr>\n",
       "  </thead>\n",
       "  <tbody>\n",
       "    <tr>\n",
       "      <th>0</th>\n",
       "      <td>chr1</td>\n",
       "      <td>HAVANA</td>\n",
       "      <td>gene</td>\n",
       "      <td>3073253</td>\n",
       "      <td>3074322</td>\n",
       "      <td>.</td>\n",
       "      <td>+</td>\n",
       "      <td>.</td>\n",
       "      <td>ENSMUSG00000102693.1</td>\n",
       "      <td>TEC</td>\n",
       "      <td>4933401J01Rik</td>\n",
       "      <td>2</td>\n",
       "      <td>MGI:1918292</td>\n",
       "      <td>OTTMUSG00000049935.1</td>\n",
       "      <td>NaN</td>\n",
       "    </tr>\n",
       "    <tr>\n",
       "      <th>3</th>\n",
       "      <td>chr1</td>\n",
       "      <td>ENSEMBL</td>\n",
       "      <td>gene</td>\n",
       "      <td>3102016</td>\n",
       "      <td>3102125</td>\n",
       "      <td>.</td>\n",
       "      <td>+</td>\n",
       "      <td>.</td>\n",
       "      <td>ENSMUSG00000064842.1</td>\n",
       "      <td>snRNA</td>\n",
       "      <td>Gm26206</td>\n",
       "      <td>3</td>\n",
       "      <td>MGI:5455983</td>\n",
       "      <td>NaN</td>\n",
       "      <td>NaN</td>\n",
       "    </tr>\n",
       "    <tr>\n",
       "      <th>6</th>\n",
       "      <td>chr1</td>\n",
       "      <td>HAVANA</td>\n",
       "      <td>gene</td>\n",
       "      <td>3205901</td>\n",
       "      <td>3671498</td>\n",
       "      <td>.</td>\n",
       "      <td>-</td>\n",
       "      <td>.</td>\n",
       "      <td>ENSMUSG00000051951.5</td>\n",
       "      <td>protein_coding</td>\n",
       "      <td>Xkr4</td>\n",
       "      <td>2</td>\n",
       "      <td>MGI:3528744</td>\n",
       "      <td>OTTMUSG00000026353.2</td>\n",
       "      <td>NaN</td>\n",
       "    </tr>\n",
       "    <tr>\n",
       "      <th>24</th>\n",
       "      <td>chr1</td>\n",
       "      <td>HAVANA</td>\n",
       "      <td>gene</td>\n",
       "      <td>3252757</td>\n",
       "      <td>3253236</td>\n",
       "      <td>.</td>\n",
       "      <td>+</td>\n",
       "      <td>.</td>\n",
       "      <td>ENSMUSG00000102851.1</td>\n",
       "      <td>processed_pseudogene</td>\n",
       "      <td>Gm18956</td>\n",
       "      <td>1</td>\n",
       "      <td>MGI:5011141</td>\n",
       "      <td>OTTMUSG00000049958.1</td>\n",
       "      <td>pseudo_consens</td>\n",
       "    </tr>\n",
       "    <tr>\n",
       "      <th>27</th>\n",
       "      <td>chr1</td>\n",
       "      <td>HAVANA</td>\n",
       "      <td>gene</td>\n",
       "      <td>3365731</td>\n",
       "      <td>3368549</td>\n",
       "      <td>.</td>\n",
       "      <td>-</td>\n",
       "      <td>.</td>\n",
       "      <td>ENSMUSG00000103377.1</td>\n",
       "      <td>TEC</td>\n",
       "      <td>Gm37180</td>\n",
       "      <td>2</td>\n",
       "      <td>MGI:5610408</td>\n",
       "      <td>OTTMUSG00000049960.1</td>\n",
       "      <td>NaN</td>\n",
       "    </tr>\n",
       "  </tbody>\n",
       "</table>\n",
       "</div>"
      ],
      "text/plain": [
       "   chrom   source feature    start      end na1 strand na2  \\\n",
       "0   chr1   HAVANA    gene  3073253  3074322   .      +   .   \n",
       "3   chr1  ENSEMBL    gene  3102016  3102125   .      +   .   \n",
       "6   chr1   HAVANA    gene  3205901  3671498   .      -   .   \n",
       "24  chr1   HAVANA    gene  3252757  3253236   .      +   .   \n",
       "27  chr1   HAVANA    gene  3365731  3368549   .      -   .   \n",
       "\n",
       "                 gene_id             gene_type      gene_name level  \\\n",
       "0   ENSMUSG00000102693.1                   TEC  4933401J01Rik     2   \n",
       "3   ENSMUSG00000064842.1                 snRNA        Gm26206     3   \n",
       "6   ENSMUSG00000051951.5        protein_coding           Xkr4     2   \n",
       "24  ENSMUSG00000102851.1  processed_pseudogene        Gm18956     1   \n",
       "27  ENSMUSG00000103377.1                   TEC        Gm37180     2   \n",
       "\n",
       "         mgi_id           havana_gene             tag  \n",
       "0   MGI:1918292  OTTMUSG00000049935.1             NaN  \n",
       "3   MGI:5455983                   NaN             NaN  \n",
       "6   MGI:3528744  OTTMUSG00000026353.2             NaN  \n",
       "24  MGI:5011141  OTTMUSG00000049958.1  pseudo_consens  \n",
       "27  MGI:5610408  OTTMUSG00000049960.1             NaN  "
      ]
     },
     "execution_count": 17,
     "metadata": {},
     "output_type": "execute_result"
    }
   ],
   "source": [
    "gene_flat_table = pd.concat([gene_gtf, gene_anno_df], axis=1)\n",
    "del gene_flat_table['annotation']\n",
    "gene_flat_table.head()"
   ]
  },
  {
   "cell_type": "code",
   "execution_count": 18,
   "metadata": {
    "ExecuteTime": {
     "end_time": "2020-06-01T06:07:54.104064Z",
     "start_time": "2020-06-01T06:07:53.275195Z"
    }
   },
   "outputs": [],
   "source": [
    "# Let's save this into ref dir\n",
    "gene_flat_table.to_csv('../../../data/ref/GENCODEvM24/gene_meta.csv.gz', index=None)"
   ]
  },
  {
   "cell_type": "code",
   "execution_count": 19,
   "metadata": {
    "ExecuteTime": {
     "end_time": "2020-06-01T06:08:14.053267Z",
     "start_time": "2020-06-01T06:08:14.014517Z"
    }
   },
   "outputs": [
    {
     "data": {
      "text/html": [
       "<div>\n",
       "<style scoped>\n",
       "    .dataframe tbody tr th:only-of-type {\n",
       "        vertical-align: middle;\n",
       "    }\n",
       "\n",
       "    .dataframe tbody tr th {\n",
       "        vertical-align: top;\n",
       "    }\n",
       "\n",
       "    .dataframe thead th {\n",
       "        text-align: right;\n",
       "    }\n",
       "</style>\n",
       "<table border=\"1\" class=\"dataframe\">\n",
       "  <thead>\n",
       "    <tr style=\"text-align: right;\">\n",
       "      <th></th>\n",
       "      <th>chrom</th>\n",
       "      <th>start</th>\n",
       "      <th>end</th>\n",
       "      <th>gene_id</th>\n",
       "    </tr>\n",
       "  </thead>\n",
       "  <tbody>\n",
       "    <tr>\n",
       "      <th>0</th>\n",
       "      <td>chr1</td>\n",
       "      <td>3073253</td>\n",
       "      <td>3074322</td>\n",
       "      <td>ENSMUSG00000102693.1</td>\n",
       "    </tr>\n",
       "    <tr>\n",
       "      <th>3</th>\n",
       "      <td>chr1</td>\n",
       "      <td>3102016</td>\n",
       "      <td>3102125</td>\n",
       "      <td>ENSMUSG00000064842.1</td>\n",
       "    </tr>\n",
       "    <tr>\n",
       "      <th>6</th>\n",
       "      <td>chr1</td>\n",
       "      <td>3205901</td>\n",
       "      <td>3671498</td>\n",
       "      <td>ENSMUSG00000051951.5</td>\n",
       "    </tr>\n",
       "    <tr>\n",
       "      <th>24</th>\n",
       "      <td>chr1</td>\n",
       "      <td>3252757</td>\n",
       "      <td>3253236</td>\n",
       "      <td>ENSMUSG00000102851.1</td>\n",
       "    </tr>\n",
       "    <tr>\n",
       "      <th>27</th>\n",
       "      <td>chr1</td>\n",
       "      <td>3365731</td>\n",
       "      <td>3368549</td>\n",
       "      <td>ENSMUSG00000103377.1</td>\n",
       "    </tr>\n",
       "  </tbody>\n",
       "</table>\n",
       "</div>"
      ],
      "text/plain": [
       "   chrom    start      end               gene_id\n",
       "0   chr1  3073253  3074322  ENSMUSG00000102693.1\n",
       "3   chr1  3102016  3102125  ENSMUSG00000064842.1\n",
       "6   chr1  3205901  3671498  ENSMUSG00000051951.5\n",
       "24  chr1  3252757  3253236  ENSMUSG00000102851.1\n",
       "27  chr1  3365731  3368549  ENSMUSG00000103377.1"
      ]
     },
     "execution_count": 19,
     "metadata": {},
     "output_type": "execute_result"
    }
   ],
   "source": [
    "gene_bed = gene_flat_table[['chrom', 'start', 'end', 'gene_id']]\n",
    "gene_bed.head()"
   ]
  },
  {
   "cell_type": "code",
   "execution_count": 20,
   "metadata": {
    "ExecuteTime": {
     "end_time": "2020-06-01T06:08:49.434129Z",
     "start_time": "2020-06-01T06:08:49.284875Z"
    }
   },
   "outputs": [],
   "source": [
    "gene_bed.to_csv('../../../data/ref/GENCODEvM24/gene_bed_with_id.bed', \n",
    "                sep='\\t', header=None, index=None)"
   ]
  },
  {
   "cell_type": "code",
   "execution_count": 21,
   "metadata": {
    "ExecuteTime": {
     "end_time": "2020-06-01T06:09:05.444373Z",
     "start_time": "2020-06-01T06:09:05.285913Z"
    }
   },
   "outputs": [
    {
     "name": "stdout",
     "output_type": "stream",
     "text": [
      "chr1\t3073253\t3074322\tENSMUSG00000102693.1\r\n",
      "chr1\t3102016\t3102125\tENSMUSG00000064842.1\r\n",
      "chr1\t3205901\t3671498\tENSMUSG00000051951.5\r\n",
      "chr1\t3252757\t3253236\tENSMUSG00000102851.1\r\n",
      "chr1\t3365731\t3368549\tENSMUSG00000103377.1\r\n",
      "chr1\t3375556\t3377788\tENSMUSG00000104017.1\r\n",
      "chr1\t3464977\t3467285\tENSMUSG00000103025.1\r\n",
      "chr1\t3466587\t3513553\tENSMUSG00000089699.1\r\n",
      "chr1\t3512451\t3514507\tENSMUSG00000103201.1\r\n",
      "chr1\t3531795\t3532720\tENSMUSG00000103147.1\r\n"
     ]
    }
   ],
   "source": [
    "!head ../../../data/ref/GENCODEvM24/gene_bed_with_id.bed"
   ]
  },
  {
   "cell_type": "markdown",
   "metadata": {},
   "source": [
    "## Let's do some filtering on high quality genes\n",
    "\n",
    "- Remove blacklist\n",
    "- Remove low confidence gene"
   ]
  },
  {
   "cell_type": "markdown",
   "metadata": {},
   "source": [
    "### Remove blacklist\n"
   ]
  },
  {
   "cell_type": "code",
   "execution_count": 26,
   "metadata": {
    "ExecuteTime": {
     "end_time": "2020-06-01T03:39:20.536926Z",
     "start_time": "2020-06-01T03:39:19.434293Z"
    }
   },
   "outputs": [
    {
     "name": "stdout",
     "output_type": "stream",
     "text": [
      "--2020-05-31 20:39:19--  https://raw.githubusercontent.com/Boyle-Lab/Blacklist/master/lists/mm10-blacklist.v2.bed.gz\n",
      "Resolving raw.githubusercontent.com (raw.githubusercontent.com)... 151.101.196.133\n",
      "Connecting to raw.githubusercontent.com (raw.githubusercontent.com)|151.101.196.133|:443... connected.\n",
      "HTTP request sent, awaiting response... 200 OK\n",
      "Length: 30412 (30K) [application/octet-stream]\n",
      "Saving to: ‘mm10-blacklist.v2.bed.gz’\n",
      "\n",
      "mm10-blacklist.v2.b 100%[===================>]  29.70K  --.-KB/s    in 0.1s    \n",
      "\n",
      "2020-05-31 20:39:20 (217 KB/s) - ‘mm10-blacklist.v2.bed.gz’ saved [30412/30412]\n",
      "\n"
     ]
    }
   ],
   "source": [
    "# Download ENCODE Blacklist\n",
    "!wget https://raw.githubusercontent.com/Boyle-Lab/Blacklist/master/lists/mm10-blacklist.v2.bed.gz\n",
    "!gunzip mm10-blacklist.v2.bed.gz"
   ]
  },
  {
   "cell_type": "code",
   "execution_count": 34,
   "metadata": {
    "ExecuteTime": {
     "end_time": "2020-06-01T04:10:59.753109Z",
     "start_time": "2020-06-01T04:10:59.625218Z"
    }
   },
   "outputs": [
    {
     "name": "stdout",
     "output_type": "stream",
     "text": [
      "chr10\t0\t3135400\tHigh Signal Region\r\n",
      "chr10\t3218900\t3276600\tLow Mappability\r\n",
      "chr10\t3576900\t3627700\tLow Mappability\r\n",
      "chr10\t4191100\t4197600\tLow Mappability\r\n",
      "chr10\t4613500\t4615400\tHigh Signal Region\r\n",
      "chr10\t4761300\t4763900\tHigh Signal Region\r\n",
      "chr10\t5080800\t5096600\tLow Mappability\r\n",
      "chr10\t5580100\t5586600\tLow Mappability\r\n",
      "chr10\t6281200\t6286700\tHigh Signal Region\r\n",
      "chr10\t6740200\t6742100\tHigh Signal Region\r\n"
     ]
    }
   ],
   "source": [
    "!head mm10-blacklist.v2.bed"
   ]
  },
  {
   "cell_type": "code",
   "execution_count": 22,
   "metadata": {
    "ExecuteTime": {
     "end_time": "2020-06-01T06:10:45.465073Z",
     "start_time": "2020-06-01T06:10:45.162580Z"
    }
   },
   "outputs": [],
   "source": [
    "!bedtools intersect -a ../../../data/ref/GENCODEvM24/gene_bed_with_id.bed -b mm10-blacklist.v2.bed -v > gene_bed_white.bed"
   ]
  },
  {
   "cell_type": "code",
   "execution_count": 24,
   "metadata": {
    "ExecuteTime": {
     "end_time": "2020-06-01T06:10:57.976139Z",
     "start_time": "2020-06-01T06:10:57.822716Z"
    }
   },
   "outputs": [
    {
     "name": "stdout",
     "output_type": "stream",
     "text": [
      "   50144 gene_bed_white.bed\r\n"
     ]
    }
   ],
   "source": [
    "!wc -l gene_bed_white.bed"
   ]
  },
  {
   "cell_type": "code",
   "execution_count": 25,
   "metadata": {
    "ExecuteTime": {
     "end_time": "2020-06-01T06:11:06.837611Z",
     "start_time": "2020-06-01T06:11:06.711018Z"
    }
   },
   "outputs": [
    {
     "name": "stdout",
     "output_type": "stream",
     "text": [
      "   55385 ../../../data/ref/GENCODEvM24/gene_bed_with_id.bed\r\n"
     ]
    }
   ],
   "source": [
    "!wc -l ../../../data/ref/GENCODEvM24/gene_bed_with_id.bed"
   ]
  },
  {
   "cell_type": "code",
   "execution_count": 26,
   "metadata": {
    "ExecuteTime": {
     "end_time": "2020-06-01T06:12:24.534095Z",
     "start_time": "2020-06-01T06:12:24.531728Z"
    }
   },
   "outputs": [],
   "source": [
    "# Homework\n",
    "# How to select the white gene rows from ../../../data/ref/GENCODEvM24/gene_meta.csv.gz \n",
    "# and save them into a table for white gene only?"
   ]
  },
  {
   "cell_type": "code",
   "execution_count": null,
   "metadata": {},
   "outputs": [],
   "source": []
  },
  {
   "cell_type": "code",
   "execution_count": null,
   "metadata": {},
   "outputs": [],
   "source": []
  },
  {
   "cell_type": "code",
   "execution_count": null,
   "metadata": {},
   "outputs": [],
   "source": []
  },
  {
   "cell_type": "code",
   "execution_count": null,
   "metadata": {},
   "outputs": [],
   "source": []
  },
  {
   "cell_type": "code",
   "execution_count": null,
   "metadata": {},
   "outputs": [],
   "source": []
  },
  {
   "cell_type": "code",
   "execution_count": null,
   "metadata": {},
   "outputs": [],
   "source": []
  },
  {
   "cell_type": "code",
   "execution_count": null,
   "metadata": {},
   "outputs": [],
   "source": []
  },
  {
   "cell_type": "code",
   "execution_count": null,
   "metadata": {},
   "outputs": [],
   "source": []
  },
  {
   "cell_type": "code",
   "execution_count": null,
   "metadata": {},
   "outputs": [],
   "source": []
  },
  {
   "cell_type": "code",
   "execution_count": null,
   "metadata": {},
   "outputs": [],
   "source": []
  },
  {
   "cell_type": "code",
   "execution_count": null,
   "metadata": {},
   "outputs": [],
   "source": []
  },
  {
   "cell_type": "code",
   "execution_count": null,
   "metadata": {},
   "outputs": [],
   "source": []
  },
  {
   "cell_type": "code",
   "execution_count": null,
   "metadata": {},
   "outputs": [],
   "source": []
  },
  {
   "cell_type": "code",
   "execution_count": null,
   "metadata": {},
   "outputs": [],
   "source": []
  },
  {
   "cell_type": "code",
   "execution_count": null,
   "metadata": {},
   "outputs": [],
   "source": []
  },
  {
   "cell_type": "code",
   "execution_count": null,
   "metadata": {},
   "outputs": [],
   "source": []
  },
  {
   "cell_type": "code",
   "execution_count": null,
   "metadata": {},
   "outputs": [],
   "source": []
  },
  {
   "cell_type": "code",
   "execution_count": null,
   "metadata": {},
   "outputs": [],
   "source": []
  },
  {
   "cell_type": "code",
   "execution_count": null,
   "metadata": {},
   "outputs": [],
   "source": []
  },
  {
   "cell_type": "code",
   "execution_count": null,
   "metadata": {},
   "outputs": [],
   "source": []
  },
  {
   "cell_type": "code",
   "execution_count": null,
   "metadata": {},
   "outputs": [],
   "source": []
  },
  {
   "cell_type": "code",
   "execution_count": null,
   "metadata": {},
   "outputs": [],
   "source": []
  },
  {
   "cell_type": "code",
   "execution_count": null,
   "metadata": {},
   "outputs": [],
   "source": []
  }
 ],
 "metadata": {
  "kernelspec": {
   "display_name": "Python 3",
   "language": "python",
   "name": "python3"
  },
  "language_info": {
   "codemirror_mode": {
    "name": "ipython",
    "version": 3
   },
   "file_extension": ".py",
   "mimetype": "text/x-python",
   "name": "python",
   "nbconvert_exporter": "python",
   "pygments_lexer": "ipython3",
   "version": "3.7.6"
  },
  "toc": {
   "base_numbering": 1,
   "nav_menu": {},
   "number_sections": true,
   "sideBar": true,
   "skip_h1_title": true,
   "title_cell": "Table of Contents",
   "title_sidebar": "Contents",
   "toc_cell": false,
   "toc_position": {},
   "toc_section_display": true,
   "toc_window_display": true
  }
 },
 "nbformat": 4,
 "nbformat_minor": 4
}

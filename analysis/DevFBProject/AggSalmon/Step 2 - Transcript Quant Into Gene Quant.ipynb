{
 "cells": [
  {
   "cell_type": "markdown",
   "metadata": {},
   "source": [
    "# Step 2 - Transcript Quant Into Gene Quant\n",
    "\n",
    "## Introduction\n",
    "\n",
    "\n",
    "## Things I do below\n",
    "1. I used tximport to aggregate transcript-level quantification into gene-level quantification\n",
    "2. I aggregated all gene-level quantification from all 16 samples into a single large table\n",
    "\n",
    "\n",
    "## Use R and Python in the same notebook\n",
    "\n",
    "To achieve this magic, we need a wonderful package called rpy2. Again, we don't need to understand it all! Here I provide you a minimum example, which would be sufficient to use most of the open-box R packages in our further analysis!\n",
    "\n",
    "## Install rpy2 first if you haven't\n",
    "\n",
    "```shell\n",
    "\n",
    "conda install -n genome_book rpy2==3.3.2\n",
    "\n",
    "```\n"
   ]
  },
  {
   "cell_type": "markdown",
   "metadata": {},
   "source": [
    "## Import Packages\n",
    "\n",
    "### Import python package"
   ]
  },
  {
   "cell_type": "code",
   "execution_count": 1,
   "metadata": {
    "ExecuteTime": {
     "end_time": "2020-05-31T08:28:00.301405Z",
     "start_time": "2020-05-31T08:27:56.352264Z"
    }
   },
   "outputs": [],
   "source": [
    "import pandas as pd\n",
    "import pathlib\n",
    "\n",
    "import rpy2.robjects as ro\n",
    "from rpy2.robjects.packages import importr\n",
    "from rpy2.robjects import pandas2ri\n",
    "from rpy2.robjects.conversion import localconverter\n",
    "\n",
    "%load_ext rpy2.ipython"
   ]
  },
  {
   "cell_type": "markdown",
   "metadata": {},
   "source": [
    "### Install tximport if you haven't"
   ]
  },
  {
   "cell_type": "code",
   "execution_count": 2,
   "metadata": {
    "ExecuteTime": {
     "end_time": "2020-05-31T08:28:12.396050Z",
     "start_time": "2020-05-31T08:28:00.304257Z"
    },
    "scrolled": true
   },
   "outputs": [
    {
     "name": "stderr",
     "output_type": "stream",
     "text": [
      "R[write to console]: Bioconductor version 3.10 (BiocManager 1.30.10), R 3.6.3 (2020-02-29)\n",
      "\n",
      "R[write to console]: Installing package(s) 'tximport'\n",
      "\n",
      "R[write to console]: trying URL 'https://bioconductor.org/packages/3.10/bioc/bin/macosx/el-capitan/contrib/3.6/tximport_1.14.2.tgz'\n",
      "\n",
      "R[write to console]: Content type 'application/x-gzip'\n",
      "R[write to console]:  length 338954 bytes (331 KB)\n",
      "\n",
      "R[write to console]: =\n",
      "R[write to console]: =\n",
      "R[write to console]: =\n",
      "R[write to console]: =\n",
      "R[write to console]: =\n",
      "R[write to console]: =\n",
      "R[write to console]: =\n",
      "R[write to console]: =\n",
      "R[write to console]: =\n",
      "R[write to console]: =\n",
      "R[write to console]: =\n",
      "R[write to console]: =\n",
      "R[write to console]: =\n",
      "R[write to console]: =\n",
      "R[write to console]: =\n",
      "R[write to console]: =\n",
      "R[write to console]: =\n",
      "R[write to console]: =\n",
      "R[write to console]: =\n",
      "R[write to console]: =\n",
      "R[write to console]: =\n",
      "R[write to console]: =\n",
      "R[write to console]: =\n",
      "R[write to console]: =\n",
      "R[write to console]: =\n",
      "R[write to console]: =\n",
      "R[write to console]: =\n",
      "R[write to console]: =\n",
      "R[write to console]: =\n",
      "R[write to console]: =\n",
      "R[write to console]: =\n",
      "R[write to console]: =\n",
      "R[write to console]: =\n",
      "R[write to console]: =\n",
      "R[write to console]: =\n",
      "R[write to console]: =\n",
      "R[write to console]: =\n",
      "R[write to console]: =\n",
      "R[write to console]: =\n",
      "R[write to console]: =\n",
      "R[write to console]: =\n",
      "R[write to console]: =\n",
      "R[write to console]: =\n",
      "R[write to console]: =\n",
      "R[write to console]: =\n",
      "R[write to console]: =\n",
      "R[write to console]: =\n",
      "R[write to console]: =\n",
      "R[write to console]: =\n",
      "R[write to console]: =\n",
      "R[write to console]: \n",
      "\n",
      "R[write to console]: downloaded 331 KB\n",
      "\n",
      "\n"
     ]
    },
    {
     "name": "stdout",
     "output_type": "stream",
     "text": [
      "\n",
      "The downloaded binary packages are in\n",
      "\t/var/folders/cz/7q7963t101755yktmcz_v3_h0000gn/T//Rtmp9IWbQu/downloaded_packages\n"
     ]
    }
   ],
   "source": [
    "%%R\n",
    "# install the tximport package\n",
    "# this is R code! We are running R and python in the same notebook!\n",
    "if (!requireNamespace(\"BiocManager\", quietly = TRUE))\n",
    "    install.packages(\"BiocManager\")\n",
    "\n",
    "BiocManager::install(\"tximport\")"
   ]
  },
  {
   "cell_type": "markdown",
   "metadata": {},
   "source": [
    "### Import R package"
   ]
  },
  {
   "cell_type": "code",
   "execution_count": 3,
   "metadata": {
    "ExecuteTime": {
     "end_time": "2020-05-31T08:28:12.533012Z",
     "start_time": "2020-05-31T08:28:12.399140Z"
    }
   },
   "outputs": [
    {
     "data": {
      "text/plain": [
       "rpy2.robjects.packages.Package as a <module 'tximport'>"
      ]
     },
     "execution_count": 3,
     "metadata": {},
     "output_type": "execute_result"
    }
   ],
   "source": [
    "# import the tximport\n",
    "importr('tximport')"
   ]
  },
  {
   "cell_type": "markdown",
   "metadata": {},
   "source": [
    "## Calculate one sample as an example"
   ]
  },
  {
   "cell_type": "code",
   "execution_count": 4,
   "metadata": {
    "ExecuteTime": {
     "end_time": "2020-05-31T08:28:12.806781Z",
     "start_time": "2020-05-31T08:28:12.535391Z"
    }
   },
   "outputs": [
    {
     "data": {
      "text/html": [
       "<div>\n",
       "<style scoped>\n",
       "    .dataframe tbody tr th:only-of-type {\n",
       "        vertical-align: middle;\n",
       "    }\n",
       "\n",
       "    .dataframe tbody tr th {\n",
       "        vertical-align: top;\n",
       "    }\n",
       "\n",
       "    .dataframe thead th {\n",
       "        text-align: right;\n",
       "    }\n",
       "</style>\n",
       "<table border=\"1\" class=\"dataframe\">\n",
       "  <thead>\n",
       "    <tr style=\"text-align: right;\">\n",
       "      <th></th>\n",
       "      <th>transcript_id</th>\n",
       "      <th>gene_ids</th>\n",
       "    </tr>\n",
       "  </thead>\n",
       "  <tbody>\n",
       "    <tr>\n",
       "      <th>0</th>\n",
       "      <td>ENSMUST00000193812.1</td>\n",
       "      <td>ENSMUSG00000102693.1</td>\n",
       "    </tr>\n",
       "    <tr>\n",
       "      <th>1</th>\n",
       "      <td>ENSMUST00000082908.1</td>\n",
       "      <td>ENSMUSG00000064842.1</td>\n",
       "    </tr>\n",
       "    <tr>\n",
       "      <th>2</th>\n",
       "      <td>ENSMUST00000162897.1</td>\n",
       "      <td>ENSMUSG00000051951.5</td>\n",
       "    </tr>\n",
       "    <tr>\n",
       "      <th>3</th>\n",
       "      <td>ENSMUST00000159265.1</td>\n",
       "      <td>ENSMUSG00000051951.5</td>\n",
       "    </tr>\n",
       "    <tr>\n",
       "      <th>4</th>\n",
       "      <td>ENSMUST00000070533.4</td>\n",
       "      <td>ENSMUSG00000051951.5</td>\n",
       "    </tr>\n",
       "  </tbody>\n",
       "</table>\n",
       "</div>"
      ],
      "text/plain": [
       "          transcript_id              gene_ids\n",
       "0  ENSMUST00000193812.1  ENSMUSG00000102693.1\n",
       "1  ENSMUST00000082908.1  ENSMUSG00000064842.1\n",
       "2  ENSMUST00000162897.1  ENSMUSG00000051951.5\n",
       "3  ENSMUST00000159265.1  ENSMUSG00000051951.5\n",
       "4  ENSMUST00000070533.4  ENSMUSG00000051951.5"
      ]
     },
     "execution_count": 4,
     "metadata": {},
     "output_type": "execute_result"
    }
   ],
   "source": [
    "# read table use pandas\n",
    "tx2gene = pd.read_csv('tx2gene.csv')\n",
    "tx2gene.head()"
   ]
  },
  {
   "cell_type": "code",
   "execution_count": 5,
   "metadata": {
    "ExecuteTime": {
     "end_time": "2020-05-31T08:28:18.726066Z",
     "start_time": "2020-05-31T08:28:12.809452Z"
    }
   },
   "outputs": [
    {
     "name": "stderr",
     "output_type": "stream",
     "text": [
      "R[write to console]: reading in files with read_tsv\n",
      "\n",
      "R[write to console]: 1 \n",
      "R[write to console]: \n",
      "\n",
      "R[write to console]: summarizing abundance\n",
      "\n",
      "R[write to console]: summarizing counts\n",
      "\n",
      "R[write to console]: summarizing length\n",
      "\n"
     ]
    }
   ],
   "source": [
    "# see rpy2 documentation https://rpy2.github.io/doc/latest/html/pandas.html\n",
    "\n",
    "with localconverter(ro.default_converter + pandas2ri.converter):\n",
    "    tx2gene_in_r = ro.conversion.py2rpy(tx2gene)\n",
    "    gene_quant = ro.r['tximport']('../../../data/DevFB/quant/forebrain_P0_1.quant/quant.sf', \n",
    "                                        type='salmon', \n",
    "                                        tx2gene=tx2gene_in_r, \n",
    "                                        countsFromAbundance='lengthScaledTPM')\n",
    "    "
   ]
  },
  {
   "cell_type": "code",
   "execution_count": 6,
   "metadata": {
    "ExecuteTime": {
     "end_time": "2020-05-31T08:28:18.737682Z",
     "start_time": "2020-05-31T08:28:18.730142Z"
    }
   },
   "outputs": [
    {
     "data": {
      "text/html": [
       "\n",
       "        <span>ListVector with 4 elements.</span>\n",
       "        <table>\n",
       "        <tbody>\n",
       "        \n",
       "          <tr>\n",
       "            <th>\n",
       "            abundance\n",
       "            </th>\n",
       "            <td>\n",
       "            <rpy2.rinterface.FloatSexpVector object at 0x1233271e0> [RTYPES.REALSXP]\n",
       "            </td>\n",
       "          </tr>\n",
       "        \n",
       "          <tr>\n",
       "            <th>\n",
       "            counts\n",
       "            </th>\n",
       "            <td>\n",
       "            <rpy2.rinterface.FloatSexpVector object at 0x122389730> [RTYPES.REALSXP]\n",
       "            </td>\n",
       "          </tr>\n",
       "        \n",
       "          <tr>\n",
       "            <th>\n",
       "            length\n",
       "            </th>\n",
       "            <td>\n",
       "            <rpy2.rinterface.FloatSexpVector object at 0x123329780> [RTYPES.REALSXP]\n",
       "            </td>\n",
       "          </tr>\n",
       "        \n",
       "          <tr>\n",
       "            <th>\n",
       "            countsFromAbundance\n",
       "            </th>\n",
       "            <td>\n",
       "            <rpy2.rinterface_lib.sexp.StrSexpVector object at 0x123329960> [RTYPES.STRSXP]\n",
       "            </td>\n",
       "          </tr>\n",
       "        \n",
       "        </tbody>\n",
       "        </table>\n",
       "        "
      ],
      "text/plain": [
       "R object with classes: ('list',) mapped to:\n",
       "[FloatSexpV..., FloatSexpV..., FloatSexpV..., StrSexpVec...]\n",
       "  abundance: <class 'rpy2.rinterface.FloatSexpVector'>\n",
       "  <rpy2.rinterface.FloatSexpVector object at 0x1233210f0> [RTYPES.REALSXP]\n",
       "  counts: <class 'rpy2.rinterface.FloatSexpVector'>\n",
       "  <rpy2.rinterface.FloatSexpVector object at 0x128340aa0> [RTYPES.REALSXP]\n",
       "  length: <class 'rpy2.rinterface.FloatSexpVector'>\n",
       "  <rpy2.rinterface.FloatSexpVector object at 0x1233210f0> [RTYPES.REALSXP]\n",
       "  countsFromAbundance: <class 'rpy2.rinterface_lib.sexp.StrSexpVector'>\n",
       "  <rpy2.rinterface_lib.sexp.StrSexpVector object at 0x128340aa0> [RTYPES.STRSXP]"
      ]
     },
     "execution_count": 6,
     "metadata": {},
     "output_type": "execute_result"
    }
   ],
   "source": [
    "# this is a list with four items, we need the counts for further DEG analysis\n",
    "gene_quant"
   ]
  },
  {
   "cell_type": "code",
   "execution_count": 7,
   "metadata": {
    "ExecuteTime": {
     "end_time": "2020-05-31T08:28:19.173956Z",
     "start_time": "2020-05-31T08:28:18.742218Z"
    }
   },
   "outputs": [],
   "source": [
    "# gene_quant[1] is the counts\n",
    "gene_count = pd.Series(gene_quant[1], index=gene_quant[1].rownames)"
   ]
  },
  {
   "cell_type": "code",
   "execution_count": 8,
   "metadata": {
    "ExecuteTime": {
     "end_time": "2020-05-31T08:28:19.206765Z",
     "start_time": "2020-05-31T08:28:19.176480Z"
    }
   },
   "outputs": [
    {
     "data": {
      "text/plain": [
       "ENSMUSG00000000001.4     8660.999877\n",
       "ENSMUSG00000000003.15       0.000000\n",
       "ENSMUSG00000000028.15     230.000066\n",
       "ENSMUSG00000000031.16     578.000018\n",
       "ENSMUSG00000000037.17     181.000134\n",
       "                            ...     \n",
       "ENSMUSG00000118636.1        3.000045\n",
       "ENSMUSG00000118637.1        0.000000\n",
       "ENSMUSG00000118638.1        0.000000\n",
       "ENSMUSG00000118639.1        0.000000\n",
       "ENSMUSG00000118640.1        0.000000\n",
       "Length: 54331, dtype: float64"
      ]
     },
     "execution_count": 8,
     "metadata": {},
     "output_type": "execute_result"
    }
   ],
   "source": [
    "gene_count"
   ]
  },
  {
   "cell_type": "code",
   "execution_count": 9,
   "metadata": {
    "ExecuteTime": {
     "end_time": "2020-05-31T08:28:19.215744Z",
     "start_time": "2020-05-31T08:28:19.209205Z"
    }
   },
   "outputs": [],
   "source": [
    "# also, it doesn't hurt to save other useful quant as well\n",
    "def gene_quant_to_gene_df(gene_quant):\n",
    "    gene_df = pd.DataFrame({\n",
    "        'TPM': pd.Series(gene_quant[0], index=gene_quant[0].rownames),\n",
    "        'Counts': pd.Series(gene_quant[1], index=gene_quant[1].rownames),\n",
    "        'Length': pd.Series(gene_quant[2], index=gene_quant[2].rownames)\n",
    "    })\n",
    "    return gene_df"
   ]
  },
  {
   "cell_type": "code",
   "execution_count": 10,
   "metadata": {
    "ExecuteTime": {
     "end_time": "2020-05-31T08:28:20.441183Z",
     "start_time": "2020-05-31T08:28:19.220291Z"
    }
   },
   "outputs": [
    {
     "data": {
      "text/html": [
       "<div>\n",
       "<style scoped>\n",
       "    .dataframe tbody tr th:only-of-type {\n",
       "        vertical-align: middle;\n",
       "    }\n",
       "\n",
       "    .dataframe tbody tr th {\n",
       "        vertical-align: top;\n",
       "    }\n",
       "\n",
       "    .dataframe thead th {\n",
       "        text-align: right;\n",
       "    }\n",
       "</style>\n",
       "<table border=\"1\" class=\"dataframe\">\n",
       "  <thead>\n",
       "    <tr style=\"text-align: right;\">\n",
       "      <th></th>\n",
       "      <th>TPM</th>\n",
       "      <th>Counts</th>\n",
       "      <th>Length</th>\n",
       "    </tr>\n",
       "  </thead>\n",
       "  <tbody>\n",
       "    <tr>\n",
       "      <th>ENSMUSG00000000001.4</th>\n",
       "      <td>71.066276</td>\n",
       "      <td>8660.999877</td>\n",
       "      <td>3013.000000</td>\n",
       "    </tr>\n",
       "    <tr>\n",
       "      <th>ENSMUSG00000000003.15</th>\n",
       "      <td>0.000000</td>\n",
       "      <td>0.000000</td>\n",
       "      <td>550.500000</td>\n",
       "    </tr>\n",
       "    <tr>\n",
       "      <th>ENSMUSG00000000028.15</th>\n",
       "      <td>3.437285</td>\n",
       "      <td>230.000066</td>\n",
       "      <td>1654.272593</td>\n",
       "    </tr>\n",
       "    <tr>\n",
       "      <th>ENSMUSG00000000031.16</th>\n",
       "      <td>9.216219</td>\n",
       "      <td>578.000018</td>\n",
       "      <td>1550.492691</td>\n",
       "    </tr>\n",
       "    <tr>\n",
       "      <th>ENSMUSG00000000037.17</th>\n",
       "      <td>1.118736</td>\n",
       "      <td>181.000134</td>\n",
       "      <td>3999.870583</td>\n",
       "    </tr>\n",
       "    <tr>\n",
       "      <th>...</th>\n",
       "      <td>...</td>\n",
       "      <td>...</td>\n",
       "      <td>...</td>\n",
       "    </tr>\n",
       "    <tr>\n",
       "      <th>ENSMUSG00000118636.1</th>\n",
       "      <td>4.342193</td>\n",
       "      <td>3.000045</td>\n",
       "      <td>17.081000</td>\n",
       "    </tr>\n",
       "    <tr>\n",
       "      <th>ENSMUSG00000118637.1</th>\n",
       "      <td>0.000000</td>\n",
       "      <td>0.000000</td>\n",
       "      <td>7.349000</td>\n",
       "    </tr>\n",
       "    <tr>\n",
       "      <th>ENSMUSG00000118638.1</th>\n",
       "      <td>0.000000</td>\n",
       "      <td>0.000000</td>\n",
       "      <td>1768.000000</td>\n",
       "    </tr>\n",
       "    <tr>\n",
       "      <th>ENSMUSG00000118639.1</th>\n",
       "      <td>0.000000</td>\n",
       "      <td>0.000000</td>\n",
       "      <td>6.040000</td>\n",
       "    </tr>\n",
       "    <tr>\n",
       "      <th>ENSMUSG00000118640.1</th>\n",
       "      <td>0.000000</td>\n",
       "      <td>0.000000</td>\n",
       "      <td>642.000000</td>\n",
       "    </tr>\n",
       "  </tbody>\n",
       "</table>\n",
       "<p>54331 rows × 3 columns</p>\n",
       "</div>"
      ],
      "text/plain": [
       "                             TPM       Counts       Length\n",
       "ENSMUSG00000000001.4   71.066276  8660.999877  3013.000000\n",
       "ENSMUSG00000000003.15   0.000000     0.000000   550.500000\n",
       "ENSMUSG00000000028.15   3.437285   230.000066  1654.272593\n",
       "ENSMUSG00000000031.16   9.216219   578.000018  1550.492691\n",
       "ENSMUSG00000000037.17   1.118736   181.000134  3999.870583\n",
       "...                          ...          ...          ...\n",
       "ENSMUSG00000118636.1    4.342193     3.000045    17.081000\n",
       "ENSMUSG00000118637.1    0.000000     0.000000     7.349000\n",
       "ENSMUSG00000118638.1    0.000000     0.000000  1768.000000\n",
       "ENSMUSG00000118639.1    0.000000     0.000000     6.040000\n",
       "ENSMUSG00000118640.1    0.000000     0.000000   642.000000\n",
       "\n",
       "[54331 rows x 3 columns]"
      ]
     },
     "execution_count": 10,
     "metadata": {},
     "output_type": "execute_result"
    }
   ],
   "source": [
    "gene_quant_to_gene_df(gene_quant)"
   ]
  },
  {
   "cell_type": "markdown",
   "metadata": {},
   "source": [
    "## Calculate All Samples and Save into one Table"
   ]
  },
  {
   "cell_type": "code",
   "execution_count": 11,
   "metadata": {
    "ExecuteTime": {
     "end_time": "2020-05-31T08:28:20.449043Z",
     "start_time": "2020-05-31T08:28:20.443597Z"
    }
   },
   "outputs": [],
   "source": [
    "salmon_dir = '../../../data/DevFB/quant/'\n",
    "salmon_dir = pathlib.Path(salmon_dir)"
   ]
  },
  {
   "cell_type": "code",
   "execution_count": 12,
   "metadata": {
    "ExecuteTime": {
     "end_time": "2020-05-31T08:28:20.458564Z",
     "start_time": "2020-05-31T08:28:20.452510Z"
    }
   },
   "outputs": [
    {
     "name": "stdout",
     "output_type": "stream",
     "text": [
      "16 quantification tables\n"
     ]
    },
    {
     "data": {
      "text/plain": [
       "PosixPath('../../../data/DevFB/quant/forebrain_E13.5_2.quant/quant.sf')"
      ]
     },
     "execution_count": 12,
     "metadata": {},
     "output_type": "execute_result"
    }
   ],
   "source": [
    "quant_list = list(salmon_dir.glob('*/quant.sf'))\n",
    "print(len(quant_list), 'quantification tables')\n",
    "quant_list[0]"
   ]
  },
  {
   "cell_type": "code",
   "execution_count": 13,
   "metadata": {
    "ExecuteTime": {
     "end_time": "2020-05-31T08:28:20.470030Z",
     "start_time": "2020-05-31T08:28:20.460376Z"
    }
   },
   "outputs": [],
   "source": [
    "def transcript_to_gene_quant(input_path, tx2gene_df):\n",
    "    with localconverter(ro.default_converter + pandas2ri.converter):\n",
    "        tx2gene_in_r = ro.conversion.py2rpy(tx2gene_df)\n",
    "        gene_quant = ro.r['tximport'](\n",
    "            str(input_path),\n",
    "            type='salmon',\n",
    "            tx2gene=tx2gene_in_r,\n",
    "            countsFromAbundance='lengthScaledTPM')\n",
    "        \n",
    "    gene_df = gene_quant_to_gene_df(gene_quant)\n",
    "    return gene_df"
   ]
  },
  {
   "cell_type": "code",
   "execution_count": 14,
   "metadata": {
    "ExecuteTime": {
     "end_time": "2020-05-31T08:28:26.586364Z",
     "start_time": "2020-05-31T08:28:20.473908Z"
    }
   },
   "outputs": [
    {
     "name": "stderr",
     "output_type": "stream",
     "text": [
      "R[write to console]: reading in files with read_tsv\n",
      "\n",
      "R[write to console]: 1 \n",
      "R[write to console]: \n",
      "\n",
      "R[write to console]: summarizing abundance\n",
      "\n",
      "R[write to console]: summarizing counts\n",
      "\n",
      "R[write to console]: summarizing length\n",
      "\n"
     ]
    },
    {
     "data": {
      "text/html": [
       "<div>\n",
       "<style scoped>\n",
       "    .dataframe tbody tr th:only-of-type {\n",
       "        vertical-align: middle;\n",
       "    }\n",
       "\n",
       "    .dataframe tbody tr th {\n",
       "        vertical-align: top;\n",
       "    }\n",
       "\n",
       "    .dataframe thead th {\n",
       "        text-align: right;\n",
       "    }\n",
       "</style>\n",
       "<table border=\"1\" class=\"dataframe\">\n",
       "  <thead>\n",
       "    <tr style=\"text-align: right;\">\n",
       "      <th></th>\n",
       "      <th>TPM</th>\n",
       "      <th>Counts</th>\n",
       "      <th>Length</th>\n",
       "    </tr>\n",
       "  </thead>\n",
       "  <tbody>\n",
       "    <tr>\n",
       "      <th>ENSMUSG00000000001.4</th>\n",
       "      <td>98.051257</td>\n",
       "      <td>11963.999549</td>\n",
       "      <td>3013.000000</td>\n",
       "    </tr>\n",
       "    <tr>\n",
       "      <th>ENSMUSG00000000003.15</th>\n",
       "      <td>0.000000</td>\n",
       "      <td>0.000000</td>\n",
       "      <td>550.500000</td>\n",
       "    </tr>\n",
       "    <tr>\n",
       "      <th>ENSMUSG00000000028.15</th>\n",
       "      <td>28.238953</td>\n",
       "      <td>2043.214448</td>\n",
       "      <td>1786.657347</td>\n",
       "    </tr>\n",
       "    <tr>\n",
       "      <th>ENSMUSG00000000031.16</th>\n",
       "      <td>15.520992</td>\n",
       "      <td>985.999960</td>\n",
       "      <td>1568.676287</td>\n",
       "    </tr>\n",
       "    <tr>\n",
       "      <th>ENSMUSG00000000037.17</th>\n",
       "      <td>1.683454</td>\n",
       "      <td>235.000077</td>\n",
       "      <td>3447.010925</td>\n",
       "    </tr>\n",
       "  </tbody>\n",
       "</table>\n",
       "</div>"
      ],
      "text/plain": [
       "                             TPM        Counts       Length\n",
       "ENSMUSG00000000001.4   98.051257  11963.999549  3013.000000\n",
       "ENSMUSG00000000003.15   0.000000      0.000000   550.500000\n",
       "ENSMUSG00000000028.15  28.238953   2043.214448  1786.657347\n",
       "ENSMUSG00000000031.16  15.520992    985.999960  1568.676287\n",
       "ENSMUSG00000000037.17   1.683454    235.000077  3447.010925"
      ]
     },
     "execution_count": 14,
     "metadata": {},
     "output_type": "execute_result"
    }
   ],
   "source": [
    "gene_quant_df = transcript_to_gene_quant(quant_list[0], tx2gene)\n",
    "gene_quant_df.head()"
   ]
  },
  {
   "cell_type": "markdown",
   "metadata": {},
   "source": [
    "## Generate a single large table\n",
    "- Gene-level quant from all 16 samples in one file"
   ]
  },
  {
   "cell_type": "code",
   "execution_count": 15,
   "metadata": {
    "ExecuteTime": {
     "end_time": "2020-05-31T08:29:56.644846Z",
     "start_time": "2020-05-31T08:28:26.588588Z"
    },
    "scrolled": true
   },
   "outputs": [
    {
     "name": "stdout",
     "output_type": "stream",
     "text": [
      "forebrain_E13.5_2\n"
     ]
    },
    {
     "name": "stderr",
     "output_type": "stream",
     "text": [
      "R[write to console]: reading in files with read_tsv\n",
      "\n",
      "R[write to console]: 1 \n",
      "R[write to console]: \n",
      "\n",
      "R[write to console]: summarizing abundance\n",
      "\n",
      "R[write to console]: summarizing counts\n",
      "\n",
      "R[write to console]: summarizing length\n",
      "\n"
     ]
    },
    {
     "name": "stdout",
     "output_type": "stream",
     "text": [
      "forebrain_P0_2\n"
     ]
    },
    {
     "name": "stderr",
     "output_type": "stream",
     "text": [
      "R[write to console]: reading in files with read_tsv\n",
      "\n",
      "R[write to console]: 1 \n",
      "R[write to console]: \n",
      "\n",
      "R[write to console]: summarizing abundance\n",
      "\n",
      "R[write to console]: summarizing counts\n",
      "\n",
      "R[write to console]: summarizing length\n",
      "\n"
     ]
    },
    {
     "name": "stdout",
     "output_type": "stream",
     "text": [
      "forebrain_E12.5_1\n"
     ]
    },
    {
     "name": "stderr",
     "output_type": "stream",
     "text": [
      "R[write to console]: reading in files with read_tsv\n",
      "\n",
      "R[write to console]: 1 \n",
      "R[write to console]: \n",
      "\n",
      "R[write to console]: summarizing abundance\n",
      "\n",
      "R[write to console]: summarizing counts\n",
      "\n",
      "R[write to console]: summarizing length\n",
      "\n"
     ]
    },
    {
     "name": "stdout",
     "output_type": "stream",
     "text": [
      "forebrain_E14.5_1\n"
     ]
    },
    {
     "name": "stderr",
     "output_type": "stream",
     "text": [
      "R[write to console]: reading in files with read_tsv\n",
      "\n",
      "R[write to console]: 1 \n",
      "R[write to console]: \n",
      "\n",
      "R[write to console]: summarizing abundance\n",
      "\n",
      "R[write to console]: summarizing counts\n",
      "\n",
      "R[write to console]: summarizing length\n",
      "\n"
     ]
    },
    {
     "name": "stdout",
     "output_type": "stream",
     "text": [
      "forebrain_E15.5_2\n"
     ]
    },
    {
     "name": "stderr",
     "output_type": "stream",
     "text": [
      "R[write to console]: reading in files with read_tsv\n",
      "\n",
      "R[write to console]: 1 \n",
      "R[write to console]: \n",
      "\n",
      "R[write to console]: summarizing abundance\n",
      "\n",
      "R[write to console]: summarizing counts\n",
      "\n",
      "R[write to console]: summarizing length\n",
      "\n"
     ]
    },
    {
     "name": "stdout",
     "output_type": "stream",
     "text": [
      "forebrain_E12.5_2\n"
     ]
    },
    {
     "name": "stderr",
     "output_type": "stream",
     "text": [
      "R[write to console]: reading in files with read_tsv\n",
      "\n",
      "R[write to console]: 1 \n",
      "R[write to console]: \n",
      "\n",
      "R[write to console]: summarizing abundance\n",
      "\n",
      "R[write to console]: summarizing counts\n",
      "\n",
      "R[write to console]: summarizing length\n",
      "\n"
     ]
    },
    {
     "name": "stdout",
     "output_type": "stream",
     "text": [
      "forebrain_P0_1\n"
     ]
    },
    {
     "name": "stderr",
     "output_type": "stream",
     "text": [
      "R[write to console]: reading in files with read_tsv\n",
      "\n",
      "R[write to console]: 1 \n",
      "R[write to console]: \n",
      "\n",
      "R[write to console]: summarizing abundance\n",
      "\n",
      "R[write to console]: summarizing counts\n",
      "\n",
      "R[write to console]: summarizing length\n",
      "\n"
     ]
    },
    {
     "name": "stdout",
     "output_type": "stream",
     "text": [
      "forebrain_E13.5_1\n"
     ]
    },
    {
     "name": "stderr",
     "output_type": "stream",
     "text": [
      "R[write to console]: reading in files with read_tsv\n",
      "\n",
      "R[write to console]: 1 \n",
      "R[write to console]: \n",
      "\n",
      "R[write to console]: summarizing abundance\n",
      "\n",
      "R[write to console]: summarizing counts\n",
      "\n",
      "R[write to console]: summarizing length\n",
      "\n"
     ]
    },
    {
     "name": "stdout",
     "output_type": "stream",
     "text": [
      "forebrain_E15.5_1\n"
     ]
    },
    {
     "name": "stderr",
     "output_type": "stream",
     "text": [
      "R[write to console]: reading in files with read_tsv\n",
      "\n",
      "R[write to console]: 1 \n",
      "R[write to console]: \n",
      "\n",
      "R[write to console]: summarizing abundance\n",
      "\n",
      "R[write to console]: summarizing counts\n",
      "\n",
      "R[write to console]: summarizing length\n",
      "\n"
     ]
    },
    {
     "name": "stdout",
     "output_type": "stream",
     "text": [
      "forebrain_E14.5_2\n"
     ]
    },
    {
     "name": "stderr",
     "output_type": "stream",
     "text": [
      "R[write to console]: reading in files with read_tsv\n",
      "\n",
      "R[write to console]: 1 \n",
      "R[write to console]: \n",
      "\n",
      "R[write to console]: summarizing abundance\n",
      "\n",
      "R[write to console]: summarizing counts\n",
      "\n",
      "R[write to console]: summarizing length\n",
      "\n"
     ]
    },
    {
     "name": "stdout",
     "output_type": "stream",
     "text": [
      "forebrain_E10.5_1\n"
     ]
    },
    {
     "name": "stderr",
     "output_type": "stream",
     "text": [
      "R[write to console]: reading in files with read_tsv\n",
      "\n",
      "R[write to console]: 1 \n",
      "R[write to console]: \n",
      "\n",
      "R[write to console]: summarizing abundance\n",
      "\n",
      "R[write to console]: summarizing counts\n",
      "\n",
      "R[write to console]: summarizing length\n",
      "\n"
     ]
    },
    {
     "name": "stdout",
     "output_type": "stream",
     "text": [
      "forebrain_E11.5_2\n"
     ]
    },
    {
     "name": "stderr",
     "output_type": "stream",
     "text": [
      "R[write to console]: reading in files with read_tsv\n",
      "\n",
      "R[write to console]: 1 \n",
      "R[write to console]: \n",
      "\n",
      "R[write to console]: summarizing abundance\n",
      "\n",
      "R[write to console]: summarizing counts\n",
      "\n",
      "R[write to console]: summarizing length\n",
      "\n"
     ]
    },
    {
     "name": "stdout",
     "output_type": "stream",
     "text": [
      "forebrain_E16.5_1\n"
     ]
    },
    {
     "name": "stderr",
     "output_type": "stream",
     "text": [
      "R[write to console]: reading in files with read_tsv\n",
      "\n",
      "R[write to console]: 1 \n",
      "R[write to console]: \n",
      "\n",
      "R[write to console]: summarizing abundance\n",
      "\n",
      "R[write to console]: summarizing counts\n",
      "\n",
      "R[write to console]: summarizing length\n",
      "\n"
     ]
    },
    {
     "name": "stdout",
     "output_type": "stream",
     "text": [
      "forebrain_E11.5_1\n"
     ]
    },
    {
     "name": "stderr",
     "output_type": "stream",
     "text": [
      "R[write to console]: reading in files with read_tsv\n",
      "\n",
      "R[write to console]: 1 \n",
      "R[write to console]: \n",
      "\n",
      "R[write to console]: summarizing abundance\n",
      "\n",
      "R[write to console]: summarizing counts\n",
      "\n",
      "R[write to console]: summarizing length\n",
      "\n"
     ]
    },
    {
     "name": "stdout",
     "output_type": "stream",
     "text": [
      "forebrain_E10.5_2\n"
     ]
    },
    {
     "name": "stderr",
     "output_type": "stream",
     "text": [
      "R[write to console]: reading in files with read_tsv\n",
      "\n",
      "R[write to console]: 1 \n",
      "R[write to console]: \n",
      "\n",
      "R[write to console]: summarizing abundance\n",
      "\n",
      "R[write to console]: summarizing counts\n",
      "\n",
      "R[write to console]: summarizing length\n",
      "\n"
     ]
    },
    {
     "name": "stdout",
     "output_type": "stream",
     "text": [
      "forebrain_E16.5_2\n"
     ]
    },
    {
     "name": "stderr",
     "output_type": "stream",
     "text": [
      "R[write to console]: reading in files with read_tsv\n",
      "\n",
      "R[write to console]: 1 \n",
      "R[write to console]: \n",
      "\n",
      "R[write to console]: summarizing abundance\n",
      "\n",
      "R[write to console]: summarizing counts\n",
      "\n",
      "R[write to console]: summarizing length\n",
      "\n"
     ]
    }
   ],
   "source": [
    "total_quant_list = []\n",
    "for path in quant_list:\n",
    "    sample_name = path.parent.name[:-6]  # get sample name from the path\n",
    "    print(sample_name)\n",
    "    \n",
    "    gene_quant_df = transcript_to_gene_quant(path, tx2gene)\n",
    "    gene_quant_df.columns = sample_name + '.' + gene_quant_df.columns  # add sample name into column names\n",
    "    \n",
    "    total_quant_list.append(gene_quant_df)"
   ]
  },
  {
   "cell_type": "code",
   "execution_count": 16,
   "metadata": {
    "ExecuteTime": {
     "end_time": "2020-05-31T08:29:56.773079Z",
     "start_time": "2020-05-31T08:29:56.646697Z"
    }
   },
   "outputs": [],
   "source": [
    "total_quant = pd.concat(total_quant_list, axis=1)"
   ]
  },
  {
   "cell_type": "code",
   "execution_count": 17,
   "metadata": {
    "ExecuteTime": {
     "end_time": "2020-05-31T08:29:56.824750Z",
     "start_time": "2020-05-31T08:29:56.775458Z"
    },
    "scrolled": false
   },
   "outputs": [
    {
     "data": {
      "text/html": [
       "<div>\n",
       "<style scoped>\n",
       "    .dataframe tbody tr th:only-of-type {\n",
       "        vertical-align: middle;\n",
       "    }\n",
       "\n",
       "    .dataframe tbody tr th {\n",
       "        vertical-align: top;\n",
       "    }\n",
       "\n",
       "    .dataframe thead th {\n",
       "        text-align: right;\n",
       "    }\n",
       "</style>\n",
       "<table border=\"1\" class=\"dataframe\">\n",
       "  <thead>\n",
       "    <tr style=\"text-align: right;\">\n",
       "      <th></th>\n",
       "      <th>forebrain_E13.5_2.TPM</th>\n",
       "      <th>forebrain_E13.5_2.Counts</th>\n",
       "      <th>forebrain_E13.5_2.Length</th>\n",
       "      <th>forebrain_P0_2.TPM</th>\n",
       "      <th>forebrain_P0_2.Counts</th>\n",
       "      <th>forebrain_P0_2.Length</th>\n",
       "      <th>forebrain_E12.5_1.TPM</th>\n",
       "      <th>forebrain_E12.5_1.Counts</th>\n",
       "      <th>forebrain_E12.5_1.Length</th>\n",
       "      <th>forebrain_E14.5_1.TPM</th>\n",
       "      <th>...</th>\n",
       "      <th>forebrain_E16.5_1.Length</th>\n",
       "      <th>forebrain_E11.5_1.TPM</th>\n",
       "      <th>forebrain_E11.5_1.Counts</th>\n",
       "      <th>forebrain_E11.5_1.Length</th>\n",
       "      <th>forebrain_E10.5_2.TPM</th>\n",
       "      <th>forebrain_E10.5_2.Counts</th>\n",
       "      <th>forebrain_E10.5_2.Length</th>\n",
       "      <th>forebrain_E16.5_2.TPM</th>\n",
       "      <th>forebrain_E16.5_2.Counts</th>\n",
       "      <th>forebrain_E16.5_2.Length</th>\n",
       "    </tr>\n",
       "  </thead>\n",
       "  <tbody>\n",
       "    <tr>\n",
       "      <th>ENSMUSG00000000001.4</th>\n",
       "      <td>98.051257</td>\n",
       "      <td>11963.999549</td>\n",
       "      <td>3013.000000</td>\n",
       "      <td>56.339107</td>\n",
       "      <td>8311.999614</td>\n",
       "      <td>3013.000000</td>\n",
       "      <td>134.231784</td>\n",
       "      <td>17287.999636</td>\n",
       "      <td>3013.000000</td>\n",
       "      <td>91.061106</td>\n",
       "      <td>...</td>\n",
       "      <td>3013.000000</td>\n",
       "      <td>139.674917</td>\n",
       "      <td>8477.999884</td>\n",
       "      <td>3013.000000</td>\n",
       "      <td>137.580286</td>\n",
       "      <td>14367.999857</td>\n",
       "      <td>3013.000000</td>\n",
       "      <td>118.966145</td>\n",
       "      <td>8364.999786</td>\n",
       "      <td>3013.000000</td>\n",
       "    </tr>\n",
       "    <tr>\n",
       "      <th>ENSMUSG00000000003.15</th>\n",
       "      <td>0.000000</td>\n",
       "      <td>0.000000</td>\n",
       "      <td>550.500000</td>\n",
       "      <td>0.000000</td>\n",
       "      <td>0.000000</td>\n",
       "      <td>550.500000</td>\n",
       "      <td>0.000000</td>\n",
       "      <td>0.000000</td>\n",
       "      <td>550.500000</td>\n",
       "      <td>0.000000</td>\n",
       "      <td>...</td>\n",
       "      <td>550.500000</td>\n",
       "      <td>0.000000</td>\n",
       "      <td>0.000000</td>\n",
       "      <td>550.500000</td>\n",
       "      <td>0.000000</td>\n",
       "      <td>0.000000</td>\n",
       "      <td>550.500000</td>\n",
       "      <td>0.000000</td>\n",
       "      <td>0.000000</td>\n",
       "      <td>550.500000</td>\n",
       "    </tr>\n",
       "    <tr>\n",
       "      <th>ENSMUSG00000000028.15</th>\n",
       "      <td>28.238953</td>\n",
       "      <td>2043.214448</td>\n",
       "      <td>1786.657347</td>\n",
       "      <td>3.526304</td>\n",
       "      <td>283.999985</td>\n",
       "      <td>1644.758518</td>\n",
       "      <td>39.650689</td>\n",
       "      <td>3024.005822</td>\n",
       "      <td>1784.192189</td>\n",
       "      <td>20.505089</td>\n",
       "      <td>...</td>\n",
       "      <td>1819.274836</td>\n",
       "      <td>55.126178</td>\n",
       "      <td>1944.011126</td>\n",
       "      <td>1750.511670</td>\n",
       "      <td>59.116165</td>\n",
       "      <td>3665.999943</td>\n",
       "      <td>1789.143710</td>\n",
       "      <td>15.232014</td>\n",
       "      <td>620.083455</td>\n",
       "      <td>1744.413344</td>\n",
       "    </tr>\n",
       "    <tr>\n",
       "      <th>ENSMUSG00000000031.16</th>\n",
       "      <td>15.520992</td>\n",
       "      <td>985.999960</td>\n",
       "      <td>1568.676287</td>\n",
       "      <td>7.819190</td>\n",
       "      <td>610.999967</td>\n",
       "      <td>1595.816669</td>\n",
       "      <td>36.678962</td>\n",
       "      <td>2379.999942</td>\n",
       "      <td>1517.992615</td>\n",
       "      <td>18.633953</td>\n",
       "      <td>...</td>\n",
       "      <td>1451.871210</td>\n",
       "      <td>67.601876</td>\n",
       "      <td>1920.999955</td>\n",
       "      <td>1410.563864</td>\n",
       "      <td>76.426513</td>\n",
       "      <td>4204.999975</td>\n",
       "      <td>1587.380266</td>\n",
       "      <td>23.593628</td>\n",
       "      <td>865.999992</td>\n",
       "      <td>1572.822620</td>\n",
       "    </tr>\n",
       "    <tr>\n",
       "      <th>ENSMUSG00000000037.17</th>\n",
       "      <td>1.683454</td>\n",
       "      <td>235.000077</td>\n",
       "      <td>3447.010925</td>\n",
       "      <td>0.818803</td>\n",
       "      <td>142.000137</td>\n",
       "      <td>3541.709324</td>\n",
       "      <td>3.798637</td>\n",
       "      <td>483.000019</td>\n",
       "      <td>2974.603626</td>\n",
       "      <td>2.180449</td>\n",
       "      <td>...</td>\n",
       "      <td>3216.806343</td>\n",
       "      <td>3.374957</td>\n",
       "      <td>212.000003</td>\n",
       "      <td>3118.112431</td>\n",
       "      <td>2.200729</td>\n",
       "      <td>282.999968</td>\n",
       "      <td>3710.042154</td>\n",
       "      <td>1.877517</td>\n",
       "      <td>173.999935</td>\n",
       "      <td>3971.200310</td>\n",
       "    </tr>\n",
       "    <tr>\n",
       "      <th>...</th>\n",
       "      <td>...</td>\n",
       "      <td>...</td>\n",
       "      <td>...</td>\n",
       "      <td>...</td>\n",
       "      <td>...</td>\n",
       "      <td>...</td>\n",
       "      <td>...</td>\n",
       "      <td>...</td>\n",
       "      <td>...</td>\n",
       "      <td>...</td>\n",
       "      <td>...</td>\n",
       "      <td>...</td>\n",
       "      <td>...</td>\n",
       "      <td>...</td>\n",
       "      <td>...</td>\n",
       "      <td>...</td>\n",
       "      <td>...</td>\n",
       "      <td>...</td>\n",
       "      <td>...</td>\n",
       "      <td>...</td>\n",
       "      <td>...</td>\n",
       "    </tr>\n",
       "    <tr>\n",
       "      <th>ENSMUSG00000118636.1</th>\n",
       "      <td>2.891339</td>\n",
       "      <td>2.000029</td>\n",
       "      <td>17.081000</td>\n",
       "      <td>1.195630</td>\n",
       "      <td>1.000015</td>\n",
       "      <td>17.081000</td>\n",
       "      <td>1.369629</td>\n",
       "      <td>1.000015</td>\n",
       "      <td>17.081000</td>\n",
       "      <td>2.988177</td>\n",
       "      <td>...</td>\n",
       "      <td>17.081000</td>\n",
       "      <td>2.906145</td>\n",
       "      <td>1.000015</td>\n",
       "      <td>17.081000</td>\n",
       "      <td>5.067263</td>\n",
       "      <td>3.000045</td>\n",
       "      <td>17.081000</td>\n",
       "      <td>5.017412</td>\n",
       "      <td>2.000030</td>\n",
       "      <td>17.081000</td>\n",
       "    </tr>\n",
       "    <tr>\n",
       "      <th>ENSMUSG00000118637.1</th>\n",
       "      <td>0.000000</td>\n",
       "      <td>0.000000</td>\n",
       "      <td>7.349000</td>\n",
       "      <td>0.000000</td>\n",
       "      <td>0.000000</td>\n",
       "      <td>7.349000</td>\n",
       "      <td>0.000000</td>\n",
       "      <td>0.000000</td>\n",
       "      <td>7.349000</td>\n",
       "      <td>0.000000</td>\n",
       "      <td>...</td>\n",
       "      <td>7.349000</td>\n",
       "      <td>0.000000</td>\n",
       "      <td>0.000000</td>\n",
       "      <td>7.349000</td>\n",
       "      <td>0.000000</td>\n",
       "      <td>0.000000</td>\n",
       "      <td>7.349000</td>\n",
       "      <td>0.000000</td>\n",
       "      <td>0.000000</td>\n",
       "      <td>7.349000</td>\n",
       "    </tr>\n",
       "    <tr>\n",
       "      <th>ENSMUSG00000118638.1</th>\n",
       "      <td>0.000000</td>\n",
       "      <td>0.000000</td>\n",
       "      <td>1768.000000</td>\n",
       "      <td>0.000000</td>\n",
       "      <td>0.000000</td>\n",
       "      <td>1768.000000</td>\n",
       "      <td>0.000000</td>\n",
       "      <td>0.000000</td>\n",
       "      <td>1768.000000</td>\n",
       "      <td>0.000000</td>\n",
       "      <td>...</td>\n",
       "      <td>1768.000000</td>\n",
       "      <td>0.000000</td>\n",
       "      <td>0.000000</td>\n",
       "      <td>1768.000000</td>\n",
       "      <td>0.016318</td>\n",
       "      <td>0.999977</td>\n",
       "      <td>1768.000000</td>\n",
       "      <td>0.000000</td>\n",
       "      <td>0.000000</td>\n",
       "      <td>1768.000000</td>\n",
       "    </tr>\n",
       "    <tr>\n",
       "      <th>ENSMUSG00000118639.1</th>\n",
       "      <td>0.000000</td>\n",
       "      <td>0.000000</td>\n",
       "      <td>6.040000</td>\n",
       "      <td>0.000000</td>\n",
       "      <td>0.000000</td>\n",
       "      <td>6.040000</td>\n",
       "      <td>0.000000</td>\n",
       "      <td>0.000000</td>\n",
       "      <td>6.040000</td>\n",
       "      <td>0.000000</td>\n",
       "      <td>...</td>\n",
       "      <td>6.040000</td>\n",
       "      <td>0.000000</td>\n",
       "      <td>0.000000</td>\n",
       "      <td>6.040000</td>\n",
       "      <td>0.000000</td>\n",
       "      <td>0.000000</td>\n",
       "      <td>6.040000</td>\n",
       "      <td>0.000000</td>\n",
       "      <td>0.000000</td>\n",
       "      <td>6.040000</td>\n",
       "    </tr>\n",
       "    <tr>\n",
       "      <th>ENSMUSG00000118640.1</th>\n",
       "      <td>0.000000</td>\n",
       "      <td>0.000000</td>\n",
       "      <td>642.000000</td>\n",
       "      <td>0.000000</td>\n",
       "      <td>0.000000</td>\n",
       "      <td>642.000000</td>\n",
       "      <td>0.000000</td>\n",
       "      <td>0.000000</td>\n",
       "      <td>642.000000</td>\n",
       "      <td>0.000000</td>\n",
       "      <td>...</td>\n",
       "      <td>642.000000</td>\n",
       "      <td>0.000000</td>\n",
       "      <td>0.000000</td>\n",
       "      <td>642.000000</td>\n",
       "      <td>0.000000</td>\n",
       "      <td>0.000000</td>\n",
       "      <td>642.000000</td>\n",
       "      <td>0.000000</td>\n",
       "      <td>0.000000</td>\n",
       "      <td>642.000000</td>\n",
       "    </tr>\n",
       "  </tbody>\n",
       "</table>\n",
       "<p>54331 rows × 48 columns</p>\n",
       "</div>"
      ],
      "text/plain": [
       "                       forebrain_E13.5_2.TPM  forebrain_E13.5_2.Counts  \\\n",
       "ENSMUSG00000000001.4               98.051257              11963.999549   \n",
       "ENSMUSG00000000003.15               0.000000                  0.000000   \n",
       "ENSMUSG00000000028.15              28.238953               2043.214448   \n",
       "ENSMUSG00000000031.16              15.520992                985.999960   \n",
       "ENSMUSG00000000037.17               1.683454                235.000077   \n",
       "...                                      ...                       ...   \n",
       "ENSMUSG00000118636.1                2.891339                  2.000029   \n",
       "ENSMUSG00000118637.1                0.000000                  0.000000   \n",
       "ENSMUSG00000118638.1                0.000000                  0.000000   \n",
       "ENSMUSG00000118639.1                0.000000                  0.000000   \n",
       "ENSMUSG00000118640.1                0.000000                  0.000000   \n",
       "\n",
       "                       forebrain_E13.5_2.Length  forebrain_P0_2.TPM  \\\n",
       "ENSMUSG00000000001.4                3013.000000           56.339107   \n",
       "ENSMUSG00000000003.15                550.500000            0.000000   \n",
       "ENSMUSG00000000028.15               1786.657347            3.526304   \n",
       "ENSMUSG00000000031.16               1568.676287            7.819190   \n",
       "ENSMUSG00000000037.17               3447.010925            0.818803   \n",
       "...                                         ...                 ...   \n",
       "ENSMUSG00000118636.1                  17.081000            1.195630   \n",
       "ENSMUSG00000118637.1                   7.349000            0.000000   \n",
       "ENSMUSG00000118638.1                1768.000000            0.000000   \n",
       "ENSMUSG00000118639.1                   6.040000            0.000000   \n",
       "ENSMUSG00000118640.1                 642.000000            0.000000   \n",
       "\n",
       "                       forebrain_P0_2.Counts  forebrain_P0_2.Length  \\\n",
       "ENSMUSG00000000001.4             8311.999614            3013.000000   \n",
       "ENSMUSG00000000003.15               0.000000             550.500000   \n",
       "ENSMUSG00000000028.15             283.999985            1644.758518   \n",
       "ENSMUSG00000000031.16             610.999967            1595.816669   \n",
       "ENSMUSG00000000037.17             142.000137            3541.709324   \n",
       "...                                      ...                    ...   \n",
       "ENSMUSG00000118636.1                1.000015              17.081000   \n",
       "ENSMUSG00000118637.1                0.000000               7.349000   \n",
       "ENSMUSG00000118638.1                0.000000            1768.000000   \n",
       "ENSMUSG00000118639.1                0.000000               6.040000   \n",
       "ENSMUSG00000118640.1                0.000000             642.000000   \n",
       "\n",
       "                       forebrain_E12.5_1.TPM  forebrain_E12.5_1.Counts  \\\n",
       "ENSMUSG00000000001.4              134.231784              17287.999636   \n",
       "ENSMUSG00000000003.15               0.000000                  0.000000   \n",
       "ENSMUSG00000000028.15              39.650689               3024.005822   \n",
       "ENSMUSG00000000031.16              36.678962               2379.999942   \n",
       "ENSMUSG00000000037.17               3.798637                483.000019   \n",
       "...                                      ...                       ...   \n",
       "ENSMUSG00000118636.1                1.369629                  1.000015   \n",
       "ENSMUSG00000118637.1                0.000000                  0.000000   \n",
       "ENSMUSG00000118638.1                0.000000                  0.000000   \n",
       "ENSMUSG00000118639.1                0.000000                  0.000000   \n",
       "ENSMUSG00000118640.1                0.000000                  0.000000   \n",
       "\n",
       "                       forebrain_E12.5_1.Length  forebrain_E14.5_1.TPM  ...  \\\n",
       "ENSMUSG00000000001.4                3013.000000              91.061106  ...   \n",
       "ENSMUSG00000000003.15                550.500000               0.000000  ...   \n",
       "ENSMUSG00000000028.15               1784.192189              20.505089  ...   \n",
       "ENSMUSG00000000031.16               1517.992615              18.633953  ...   \n",
       "ENSMUSG00000000037.17               2974.603626               2.180449  ...   \n",
       "...                                         ...                    ...  ...   \n",
       "ENSMUSG00000118636.1                  17.081000               2.988177  ...   \n",
       "ENSMUSG00000118637.1                   7.349000               0.000000  ...   \n",
       "ENSMUSG00000118638.1                1768.000000               0.000000  ...   \n",
       "ENSMUSG00000118639.1                   6.040000               0.000000  ...   \n",
       "ENSMUSG00000118640.1                 642.000000               0.000000  ...   \n",
       "\n",
       "                       forebrain_E16.5_1.Length  forebrain_E11.5_1.TPM  \\\n",
       "ENSMUSG00000000001.4                3013.000000             139.674917   \n",
       "ENSMUSG00000000003.15                550.500000               0.000000   \n",
       "ENSMUSG00000000028.15               1819.274836              55.126178   \n",
       "ENSMUSG00000000031.16               1451.871210              67.601876   \n",
       "ENSMUSG00000000037.17               3216.806343               3.374957   \n",
       "...                                         ...                    ...   \n",
       "ENSMUSG00000118636.1                  17.081000               2.906145   \n",
       "ENSMUSG00000118637.1                   7.349000               0.000000   \n",
       "ENSMUSG00000118638.1                1768.000000               0.000000   \n",
       "ENSMUSG00000118639.1                   6.040000               0.000000   \n",
       "ENSMUSG00000118640.1                 642.000000               0.000000   \n",
       "\n",
       "                       forebrain_E11.5_1.Counts  forebrain_E11.5_1.Length  \\\n",
       "ENSMUSG00000000001.4                8477.999884               3013.000000   \n",
       "ENSMUSG00000000003.15                  0.000000                550.500000   \n",
       "ENSMUSG00000000028.15               1944.011126               1750.511670   \n",
       "ENSMUSG00000000031.16               1920.999955               1410.563864   \n",
       "ENSMUSG00000000037.17                212.000003               3118.112431   \n",
       "...                                         ...                       ...   \n",
       "ENSMUSG00000118636.1                   1.000015                 17.081000   \n",
       "ENSMUSG00000118637.1                   0.000000                  7.349000   \n",
       "ENSMUSG00000118638.1                   0.000000               1768.000000   \n",
       "ENSMUSG00000118639.1                   0.000000                  6.040000   \n",
       "ENSMUSG00000118640.1                   0.000000                642.000000   \n",
       "\n",
       "                       forebrain_E10.5_2.TPM  forebrain_E10.5_2.Counts  \\\n",
       "ENSMUSG00000000001.4              137.580286              14367.999857   \n",
       "ENSMUSG00000000003.15               0.000000                  0.000000   \n",
       "ENSMUSG00000000028.15              59.116165               3665.999943   \n",
       "ENSMUSG00000000031.16              76.426513               4204.999975   \n",
       "ENSMUSG00000000037.17               2.200729                282.999968   \n",
       "...                                      ...                       ...   \n",
       "ENSMUSG00000118636.1                5.067263                  3.000045   \n",
       "ENSMUSG00000118637.1                0.000000                  0.000000   \n",
       "ENSMUSG00000118638.1                0.016318                  0.999977   \n",
       "ENSMUSG00000118639.1                0.000000                  0.000000   \n",
       "ENSMUSG00000118640.1                0.000000                  0.000000   \n",
       "\n",
       "                       forebrain_E10.5_2.Length  forebrain_E16.5_2.TPM  \\\n",
       "ENSMUSG00000000001.4                3013.000000             118.966145   \n",
       "ENSMUSG00000000003.15                550.500000               0.000000   \n",
       "ENSMUSG00000000028.15               1789.143710              15.232014   \n",
       "ENSMUSG00000000031.16               1587.380266              23.593628   \n",
       "ENSMUSG00000000037.17               3710.042154               1.877517   \n",
       "...                                         ...                    ...   \n",
       "ENSMUSG00000118636.1                  17.081000               5.017412   \n",
       "ENSMUSG00000118637.1                   7.349000               0.000000   \n",
       "ENSMUSG00000118638.1                1768.000000               0.000000   \n",
       "ENSMUSG00000118639.1                   6.040000               0.000000   \n",
       "ENSMUSG00000118640.1                 642.000000               0.000000   \n",
       "\n",
       "                       forebrain_E16.5_2.Counts  forebrain_E16.5_2.Length  \n",
       "ENSMUSG00000000001.4                8364.999786               3013.000000  \n",
       "ENSMUSG00000000003.15                  0.000000                550.500000  \n",
       "ENSMUSG00000000028.15                620.083455               1744.413344  \n",
       "ENSMUSG00000000031.16                865.999992               1572.822620  \n",
       "ENSMUSG00000000037.17                173.999935               3971.200310  \n",
       "...                                         ...                       ...  \n",
       "ENSMUSG00000118636.1                   2.000030                 17.081000  \n",
       "ENSMUSG00000118637.1                   0.000000                  7.349000  \n",
       "ENSMUSG00000118638.1                   0.000000               1768.000000  \n",
       "ENSMUSG00000118639.1                   0.000000                  6.040000  \n",
       "ENSMUSG00000118640.1                   0.000000                642.000000  \n",
       "\n",
       "[54331 rows x 48 columns]"
      ]
     },
     "execution_count": 17,
     "metadata": {},
     "output_type": "execute_result"
    }
   ],
   "source": [
    "total_quant"
   ]
  },
  {
   "cell_type": "code",
   "execution_count": 18,
   "metadata": {
    "ExecuteTime": {
     "end_time": "2020-05-31T08:30:02.566840Z",
     "start_time": "2020-05-31T08:29:56.830265Z"
    }
   },
   "outputs": [],
   "source": [
    "total_quant.to_csv('DevFB.16sample.gene_level_quant.csv.gz')"
   ]
  },
  {
   "cell_type": "code",
   "execution_count": null,
   "metadata": {},
   "outputs": [],
   "source": []
  },
  {
   "cell_type": "code",
   "execution_count": null,
   "metadata": {},
   "outputs": [],
   "source": []
  },
  {
   "cell_type": "code",
   "execution_count": null,
   "metadata": {},
   "outputs": [],
   "source": []
  },
  {
   "cell_type": "code",
   "execution_count": null,
   "metadata": {},
   "outputs": [],
   "source": []
  }
 ],
 "metadata": {
  "kernelspec": {
   "display_name": "Python 3",
   "language": "python",
   "name": "python3"
  },
  "language_info": {
   "codemirror_mode": {
    "name": "ipython",
    "version": 3
   },
   "file_extension": ".py",
   "mimetype": "text/x-python",
   "name": "python",
   "nbconvert_exporter": "python",
   "pygments_lexer": "ipython3",
   "version": "3.7.6"
  },
  "toc": {
   "base_numbering": 1,
   "nav_menu": {},
   "number_sections": true,
   "sideBar": true,
   "skip_h1_title": true,
   "title_cell": "Table of Contents",
   "title_sidebar": "Contents",
   "toc_cell": false,
   "toc_position": {},
   "toc_section_display": true,
   "toc_window_display": true
  }
 },
 "nbformat": 4,
 "nbformat_minor": 4
}

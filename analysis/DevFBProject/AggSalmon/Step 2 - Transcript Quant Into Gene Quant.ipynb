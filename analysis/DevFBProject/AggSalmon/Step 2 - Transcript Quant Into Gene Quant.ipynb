{
 "cells": [
  {
   "cell_type": "markdown",
   "metadata": {},
   "source": [
    "# Step 2 - Transcript Quant Into Gene Quant\n",
    "\n",
    "## Introduction\n",
    "\n",
    "\n",
    "## Things I do below\n",
    "1. I used tximport to aggregate transcript-level quantification into gene-level quantification\n",
    "2. I aggregated all gene-level quantification from all 16 samples into a single large table\n",
    "\n",
    "\n",
    "## Use R and Python in the same notebook\n",
    "\n",
    "To achieve this magic, we need a wonderful package called rpy2. Again, we don't need to understand it all! Here I provide you a minimum example, which would be sufficient to use most of the open-box R packages in our further analysis!\n",
    "\n",
    "## Install rpy2 first if you haven't\n",
    "\n",
    "```shell\n",
    "\n",
    "conda install -n genome_book rpy2==3.3.2\n",
    "\n",
    "```\n"
   ]
  },
  {
   "cell_type": "markdown",
   "metadata": {},
   "source": [
    "## Import Packages\n",
    "\n",
    "### Import python package"
   ]
  },
  {
   "cell_type": "code",
   "execution_count": 2,
   "metadata": {
    "ExecuteTime": {
     "end_time": "2020-06-01T07:23:57.992115Z",
     "start_time": "2020-06-01T07:23:55.655731Z"
    }
   },
   "outputs": [],
   "source": [
    "import pandas as pd\n",
    "import pathlib\n",
    "\n",
    "import rpy2.robjects as ro\n",
    "from rpy2.robjects.packages import importr\n",
    "from rpy2.robjects import pandas2ri\n",
    "from rpy2.robjects.conversion import localconverter\n",
    "\n",
    "%load_ext rpy2.ipython"
   ]
  },
  {
   "cell_type": "markdown",
   "metadata": {},
   "source": [
    "### Install tximport if you haven't"
   ]
  },
  {
   "cell_type": "code",
   "execution_count": 3,
   "metadata": {
    "ExecuteTime": {
     "end_time": "2020-06-01T07:24:10.517708Z",
     "start_time": "2020-06-01T07:23:57.995199Z"
    },
    "scrolled": true
   },
   "outputs": [
    {
     "name": "stderr",
     "output_type": "stream",
     "text": [
      "R[write to console]: Bioconductor version 3.10 (BiocManager 1.30.10), R 3.6.3 (2020-02-29)\n",
      "\n",
      "R[write to console]: Installing package(s) 'tximport'\n",
      "\n",
      "R[write to console]: trying URL 'https://bioconductor.org/packages/3.10/bioc/bin/macosx/el-capitan/contrib/3.6/tximport_1.14.2.tgz'\n",
      "\n",
      "R[write to console]: Content type 'application/x-gzip'\n",
      "R[write to console]:  length 338954 bytes (331 KB)\n",
      "\n",
      "R[write to console]: =\n",
      "R[write to console]: =\n",
      "R[write to console]: =\n",
      "R[write to console]: =\n",
      "R[write to console]: =\n",
      "R[write to console]: =\n",
      "R[write to console]: =\n",
      "R[write to console]: =\n",
      "R[write to console]: =\n",
      "R[write to console]: =\n",
      "R[write to console]: =\n",
      "R[write to console]: =\n",
      "R[write to console]: =\n",
      "R[write to console]: =\n",
      "R[write to console]: =\n",
      "R[write to console]: =\n",
      "R[write to console]: =\n",
      "R[write to console]: =\n",
      "R[write to console]: =\n",
      "R[write to console]: =\n",
      "R[write to console]: =\n",
      "R[write to console]: =\n",
      "R[write to console]: =\n",
      "R[write to console]: =\n",
      "R[write to console]: =\n",
      "R[write to console]: =\n",
      "R[write to console]: =\n",
      "R[write to console]: =\n",
      "R[write to console]: =\n",
      "R[write to console]: =\n",
      "R[write to console]: =\n",
      "R[write to console]: =\n",
      "R[write to console]: =\n",
      "R[write to console]: =\n",
      "R[write to console]: =\n",
      "R[write to console]: =\n",
      "R[write to console]: =\n",
      "R[write to console]: =\n",
      "R[write to console]: =\n",
      "R[write to console]: =\n",
      "R[write to console]: =\n",
      "R[write to console]: =\n",
      "R[write to console]: =\n",
      "R[write to console]: =\n",
      "R[write to console]: =\n",
      "R[write to console]: =\n",
      "R[write to console]: =\n",
      "R[write to console]: =\n",
      "R[write to console]: =\n",
      "R[write to console]: =\n",
      "R[write to console]: \n",
      "\n",
      "R[write to console]: downloaded 331 KB\n",
      "\n",
      "\n"
     ]
    },
    {
     "name": "stdout",
     "output_type": "stream",
     "text": [
      "\n",
      "The downloaded binary packages are in\n",
      "\t/var/folders/cz/7q7963t101755yktmcz_v3_h0000gn/T//RtmpxvVJE4/downloaded_packages\n"
     ]
    }
   ],
   "source": [
    "%%R\n",
    "# install the tximport package\n",
    "# this is R code! We are running R and python in the same notebook!\n",
    "if (!requireNamespace(\"BiocManager\", quietly = TRUE))\n",
    "    install.packages(\"BiocManager\")\n",
    "\n",
    "BiocManager::install(\"tximport\")"
   ]
  },
  {
   "cell_type": "markdown",
   "metadata": {},
   "source": [
    "### Import R package"
   ]
  },
  {
   "cell_type": "code",
   "execution_count": 4,
   "metadata": {
    "ExecuteTime": {
     "end_time": "2020-06-01T07:24:10.645350Z",
     "start_time": "2020-06-01T07:24:10.520503Z"
    }
   },
   "outputs": [
    {
     "data": {
      "text/plain": [
       "rpy2.robjects.packages.Package as a <module 'tximport'>"
      ]
     },
     "execution_count": 4,
     "metadata": {},
     "output_type": "execute_result"
    }
   ],
   "source": [
    "# import the tximport\n",
    "importr('tximport')"
   ]
  },
  {
   "cell_type": "markdown",
   "metadata": {},
   "source": [
    "## Calculate one sample as an example"
   ]
  },
  {
   "cell_type": "code",
   "execution_count": 5,
   "metadata": {
    "ExecuteTime": {
     "end_time": "2020-06-01T07:24:10.881836Z",
     "start_time": "2020-06-01T07:24:10.648541Z"
    }
   },
   "outputs": [
    {
     "data": {
      "text/html": [
       "<div>\n",
       "<style scoped>\n",
       "    .dataframe tbody tr th:only-of-type {\n",
       "        vertical-align: middle;\n",
       "    }\n",
       "\n",
       "    .dataframe tbody tr th {\n",
       "        vertical-align: top;\n",
       "    }\n",
       "\n",
       "    .dataframe thead th {\n",
       "        text-align: right;\n",
       "    }\n",
       "</style>\n",
       "<table border=\"1\" class=\"dataframe\">\n",
       "  <thead>\n",
       "    <tr style=\"text-align: right;\">\n",
       "      <th></th>\n",
       "      <th>transcript_id</th>\n",
       "      <th>gene_ids</th>\n",
       "    </tr>\n",
       "  </thead>\n",
       "  <tbody>\n",
       "    <tr>\n",
       "      <th>0</th>\n",
       "      <td>ENSMUST00000193812.1</td>\n",
       "      <td>ENSMUSG00000102693.1</td>\n",
       "    </tr>\n",
       "    <tr>\n",
       "      <th>1</th>\n",
       "      <td>ENSMUST00000082908.1</td>\n",
       "      <td>ENSMUSG00000064842.1</td>\n",
       "    </tr>\n",
       "    <tr>\n",
       "      <th>2</th>\n",
       "      <td>ENSMUST00000162897.1</td>\n",
       "      <td>ENSMUSG00000051951.5</td>\n",
       "    </tr>\n",
       "    <tr>\n",
       "      <th>3</th>\n",
       "      <td>ENSMUST00000159265.1</td>\n",
       "      <td>ENSMUSG00000051951.5</td>\n",
       "    </tr>\n",
       "    <tr>\n",
       "      <th>4</th>\n",
       "      <td>ENSMUST00000070533.4</td>\n",
       "      <td>ENSMUSG00000051951.5</td>\n",
       "    </tr>\n",
       "  </tbody>\n",
       "</table>\n",
       "</div>"
      ],
      "text/plain": [
       "          transcript_id              gene_ids\n",
       "0  ENSMUST00000193812.1  ENSMUSG00000102693.1\n",
       "1  ENSMUST00000082908.1  ENSMUSG00000064842.1\n",
       "2  ENSMUST00000162897.1  ENSMUSG00000051951.5\n",
       "3  ENSMUST00000159265.1  ENSMUSG00000051951.5\n",
       "4  ENSMUST00000070533.4  ENSMUSG00000051951.5"
      ]
     },
     "execution_count": 5,
     "metadata": {},
     "output_type": "execute_result"
    }
   ],
   "source": [
    "# read table use pandas\n",
    "tx2gene = pd.read_csv('tx2gene.csv')\n",
    "tx2gene.head()"
   ]
  },
  {
   "cell_type": "code",
   "execution_count": 6,
   "metadata": {
    "ExecuteTime": {
     "end_time": "2020-06-01T07:24:16.923739Z",
     "start_time": "2020-06-01T07:24:10.884061Z"
    }
   },
   "outputs": [
    {
     "name": "stderr",
     "output_type": "stream",
     "text": [
      "R[write to console]: reading in files with read_tsv\n",
      "\n",
      "R[write to console]: 1 \n",
      "R[write to console]: \n",
      "\n",
      "R[write to console]: summarizing abundance\n",
      "\n",
      "R[write to console]: summarizing counts\n",
      "\n",
      "R[write to console]: summarizing length\n",
      "\n"
     ]
    }
   ],
   "source": [
    "# see rpy2 documentation https://rpy2.github.io/doc/latest/html/pandas.html\n",
    "\n",
    "with localconverter(ro.default_converter + pandas2ri.converter):\n",
    "    tx2gene_in_r = ro.conversion.py2rpy(tx2gene)\n",
    "    gene_quant = ro.r['tximport']('../../../data/DevFB/quant/forebrain_P0_1.quant/quant.sf', \n",
    "                                        type='salmon', \n",
    "                                        tx2gene=tx2gene_in_r, \n",
    "                                        countsFromAbundance='lengthScaledTPM')\n",
    "    "
   ]
  },
  {
   "cell_type": "code",
   "execution_count": 7,
   "metadata": {
    "ExecuteTime": {
     "end_time": "2020-06-01T07:24:16.936084Z",
     "start_time": "2020-06-01T07:24:16.925720Z"
    }
   },
   "outputs": [
    {
     "data": {
      "text/html": [
       "\n",
       "        <span>ListVector with 4 elements.</span>\n",
       "        <table>\n",
       "        <tbody>\n",
       "        \n",
       "          <tr>\n",
       "            <th>\n",
       "            abundance\n",
       "            </th>\n",
       "            <td>\n",
       "            <rpy2.rinterface.FloatSexpVector object at 0x125c88f00> [RTYPES.REALSXP]\n",
       "            </td>\n",
       "          </tr>\n",
       "        \n",
       "          <tr>\n",
       "            <th>\n",
       "            counts\n",
       "            </th>\n",
       "            <td>\n",
       "            <rpy2.rinterface.FloatSexpVector object at 0x125c88190> [RTYPES.REALSXP]\n",
       "            </td>\n",
       "          </tr>\n",
       "        \n",
       "          <tr>\n",
       "            <th>\n",
       "            length\n",
       "            </th>\n",
       "            <td>\n",
       "            <rpy2.rinterface.FloatSexpVector object at 0x125c88c80> [RTYPES.REALSXP]\n",
       "            </td>\n",
       "          </tr>\n",
       "        \n",
       "          <tr>\n",
       "            <th>\n",
       "            countsFromAbundance\n",
       "            </th>\n",
       "            <td>\n",
       "            <rpy2.rinterface_lib.sexp.StrSexpVector object at 0x125c88aa0> [RTYPES.STRSXP]\n",
       "            </td>\n",
       "          </tr>\n",
       "        \n",
       "        </tbody>\n",
       "        </table>\n",
       "        "
      ],
      "text/plain": [
       "R object with classes: ('list',) mapped to:\n",
       "[FloatSexpV..., FloatSexpV..., FloatSexpV..., StrSexpVec...]\n",
       "  abundance: <class 'rpy2.rinterface.FloatSexpVector'>\n",
       "  <rpy2.rinterface.FloatSexpVector object at 0x125c88e60> [RTYPES.REALSXP]\n",
       "  counts: <class 'rpy2.rinterface.FloatSexpVector'>\n",
       "  <rpy2.rinterface.FloatSexpVector object at 0x125c88c80> [RTYPES.REALSXP]\n",
       "  length: <class 'rpy2.rinterface.FloatSexpVector'>\n",
       "  <rpy2.rinterface.FloatSexpVector object at 0x125c88dc0> [RTYPES.REALSXP]\n",
       "  countsFromAbundance: <class 'rpy2.rinterface_lib.sexp.StrSexpVector'>\n",
       "  <rpy2.rinterface_lib.sexp.StrSexpVector object at 0x125c88e60> [RTYPES.STRSXP]"
      ]
     },
     "execution_count": 7,
     "metadata": {},
     "output_type": "execute_result"
    }
   ],
   "source": [
    "# this is a list with four items, we need the counts for further DEG analysis\n",
    "gene_quant"
   ]
  },
  {
   "cell_type": "code",
   "execution_count": 8,
   "metadata": {
    "ExecuteTime": {
     "end_time": "2020-06-01T07:24:17.335733Z",
     "start_time": "2020-06-01T07:24:16.939753Z"
    }
   },
   "outputs": [],
   "source": [
    "# gene_quant[1] is the counts\n",
    "gene_count = pd.Series(gene_quant[1], index=gene_quant[1].rownames)"
   ]
  },
  {
   "cell_type": "code",
   "execution_count": 9,
   "metadata": {
    "ExecuteTime": {
     "end_time": "2020-06-01T07:24:17.362771Z",
     "start_time": "2020-06-01T07:24:17.340287Z"
    }
   },
   "outputs": [
    {
     "data": {
      "text/plain": [
       "ENSMUSG00000000001.4     8660.999877\n",
       "ENSMUSG00000000003.15       0.000000\n",
       "ENSMUSG00000000028.15     230.000066\n",
       "ENSMUSG00000000031.16     578.000018\n",
       "ENSMUSG00000000037.17     181.000134\n",
       "                            ...     \n",
       "ENSMUSG00000118636.1        3.000045\n",
       "ENSMUSG00000118637.1        0.000000\n",
       "ENSMUSG00000118638.1        0.000000\n",
       "ENSMUSG00000118639.1        0.000000\n",
       "ENSMUSG00000118640.1        0.000000\n",
       "Length: 54331, dtype: float64"
      ]
     },
     "execution_count": 9,
     "metadata": {},
     "output_type": "execute_result"
    }
   ],
   "source": [
    "gene_count"
   ]
  },
  {
   "cell_type": "code",
   "execution_count": 10,
   "metadata": {
    "ExecuteTime": {
     "end_time": "2020-06-01T07:24:17.371504Z",
     "start_time": "2020-06-01T07:24:17.366563Z"
    }
   },
   "outputs": [],
   "source": [
    "# also, it doesn't hurt to save other useful quant as well\n",
    "def gene_quant_to_gene_df(gene_quant):\n",
    "    gene_df = pd.DataFrame({\n",
    "        'TPM': pd.Series(gene_quant[0], index=gene_quant[0].rownames),\n",
    "        'Counts': pd.Series(gene_quant[1], index=gene_quant[1].rownames),\n",
    "        'Length': pd.Series(gene_quant[2], index=gene_quant[2].rownames)\n",
    "    })\n",
    "    return gene_df"
   ]
  },
  {
   "cell_type": "code",
   "execution_count": 11,
   "metadata": {
    "ExecuteTime": {
     "end_time": "2020-06-01T07:24:18.445453Z",
     "start_time": "2020-06-01T07:24:17.373924Z"
    }
   },
   "outputs": [
    {
     "data": {
      "text/html": [
       "<div>\n",
       "<style scoped>\n",
       "    .dataframe tbody tr th:only-of-type {\n",
       "        vertical-align: middle;\n",
       "    }\n",
       "\n",
       "    .dataframe tbody tr th {\n",
       "        vertical-align: top;\n",
       "    }\n",
       "\n",
       "    .dataframe thead th {\n",
       "        text-align: right;\n",
       "    }\n",
       "</style>\n",
       "<table border=\"1\" class=\"dataframe\">\n",
       "  <thead>\n",
       "    <tr style=\"text-align: right;\">\n",
       "      <th></th>\n",
       "      <th>TPM</th>\n",
       "      <th>Counts</th>\n",
       "      <th>Length</th>\n",
       "    </tr>\n",
       "  </thead>\n",
       "  <tbody>\n",
       "    <tr>\n",
       "      <th>ENSMUSG00000000001.4</th>\n",
       "      <td>71.066276</td>\n",
       "      <td>8660.999877</td>\n",
       "      <td>3013.000000</td>\n",
       "    </tr>\n",
       "    <tr>\n",
       "      <th>ENSMUSG00000000003.15</th>\n",
       "      <td>0.000000</td>\n",
       "      <td>0.000000</td>\n",
       "      <td>550.500000</td>\n",
       "    </tr>\n",
       "    <tr>\n",
       "      <th>ENSMUSG00000000028.15</th>\n",
       "      <td>3.437285</td>\n",
       "      <td>230.000066</td>\n",
       "      <td>1654.272593</td>\n",
       "    </tr>\n",
       "    <tr>\n",
       "      <th>ENSMUSG00000000031.16</th>\n",
       "      <td>9.216219</td>\n",
       "      <td>578.000018</td>\n",
       "      <td>1550.492691</td>\n",
       "    </tr>\n",
       "    <tr>\n",
       "      <th>ENSMUSG00000000037.17</th>\n",
       "      <td>1.118736</td>\n",
       "      <td>181.000134</td>\n",
       "      <td>3999.870583</td>\n",
       "    </tr>\n",
       "    <tr>\n",
       "      <th>...</th>\n",
       "      <td>...</td>\n",
       "      <td>...</td>\n",
       "      <td>...</td>\n",
       "    </tr>\n",
       "    <tr>\n",
       "      <th>ENSMUSG00000118636.1</th>\n",
       "      <td>4.342193</td>\n",
       "      <td>3.000045</td>\n",
       "      <td>17.081000</td>\n",
       "    </tr>\n",
       "    <tr>\n",
       "      <th>ENSMUSG00000118637.1</th>\n",
       "      <td>0.000000</td>\n",
       "      <td>0.000000</td>\n",
       "      <td>7.349000</td>\n",
       "    </tr>\n",
       "    <tr>\n",
       "      <th>ENSMUSG00000118638.1</th>\n",
       "      <td>0.000000</td>\n",
       "      <td>0.000000</td>\n",
       "      <td>1768.000000</td>\n",
       "    </tr>\n",
       "    <tr>\n",
       "      <th>ENSMUSG00000118639.1</th>\n",
       "      <td>0.000000</td>\n",
       "      <td>0.000000</td>\n",
       "      <td>6.040000</td>\n",
       "    </tr>\n",
       "    <tr>\n",
       "      <th>ENSMUSG00000118640.1</th>\n",
       "      <td>0.000000</td>\n",
       "      <td>0.000000</td>\n",
       "      <td>642.000000</td>\n",
       "    </tr>\n",
       "  </tbody>\n",
       "</table>\n",
       "<p>54331 rows × 3 columns</p>\n",
       "</div>"
      ],
      "text/plain": [
       "                             TPM       Counts       Length\n",
       "ENSMUSG00000000001.4   71.066276  8660.999877  3013.000000\n",
       "ENSMUSG00000000003.15   0.000000     0.000000   550.500000\n",
       "ENSMUSG00000000028.15   3.437285   230.000066  1654.272593\n",
       "ENSMUSG00000000031.16   9.216219   578.000018  1550.492691\n",
       "ENSMUSG00000000037.17   1.118736   181.000134  3999.870583\n",
       "...                          ...          ...          ...\n",
       "ENSMUSG00000118636.1    4.342193     3.000045    17.081000\n",
       "ENSMUSG00000118637.1    0.000000     0.000000     7.349000\n",
       "ENSMUSG00000118638.1    0.000000     0.000000  1768.000000\n",
       "ENSMUSG00000118639.1    0.000000     0.000000     6.040000\n",
       "ENSMUSG00000118640.1    0.000000     0.000000   642.000000\n",
       "\n",
       "[54331 rows x 3 columns]"
      ]
     },
     "execution_count": 11,
     "metadata": {},
     "output_type": "execute_result"
    }
   ],
   "source": [
    "gene_quant_to_gene_df(gene_quant)"
   ]
  },
  {
   "cell_type": "markdown",
   "metadata": {},
   "source": [
    "## Calculate All Samples and Save into one Table"
   ]
  },
  {
   "cell_type": "code",
   "execution_count": 12,
   "metadata": {
    "ExecuteTime": {
     "end_time": "2020-06-01T07:24:18.451692Z",
     "start_time": "2020-06-01T07:24:18.447955Z"
    }
   },
   "outputs": [],
   "source": [
    "salmon_dir = '../../../data/DevFB/quant/'\n",
    "salmon_dir = pathlib.Path(salmon_dir)"
   ]
  },
  {
   "cell_type": "code",
   "execution_count": 13,
   "metadata": {
    "ExecuteTime": {
     "end_time": "2020-06-01T07:24:18.500022Z",
     "start_time": "2020-06-01T07:24:18.454090Z"
    }
   },
   "outputs": [
    {
     "name": "stdout",
     "output_type": "stream",
     "text": [
      "16 quantification tables\n"
     ]
    },
    {
     "data": {
      "text/plain": [
       "PosixPath('../../../data/DevFB/quant/forebrain_E13.5_2.quant/quant.sf')"
      ]
     },
     "execution_count": 13,
     "metadata": {},
     "output_type": "execute_result"
    }
   ],
   "source": [
    "quant_list = list(salmon_dir.glob('*/quant.sf'))\n",
    "print(len(quant_list), 'quantification tables')\n",
    "quant_list[0]"
   ]
  },
  {
   "cell_type": "code",
   "execution_count": 14,
   "metadata": {
    "ExecuteTime": {
     "end_time": "2020-06-01T07:24:18.539467Z",
     "start_time": "2020-06-01T07:24:18.505383Z"
    }
   },
   "outputs": [],
   "source": [
    "def transcript_to_gene_quant(input_path, tx2gene_df):\n",
    "    with localconverter(ro.default_converter + pandas2ri.converter):\n",
    "        tx2gene_in_r = ro.conversion.py2rpy(tx2gene_df)\n",
    "        gene_quant = ro.r['tximport'](\n",
    "            str(input_path),\n",
    "            type='salmon',\n",
    "            tx2gene=tx2gene_in_r,\n",
    "            countsFromAbundance='lengthScaledTPM')\n",
    "        \n",
    "    gene_df = gene_quant_to_gene_df(gene_quant)\n",
    "    return gene_df"
   ]
  },
  {
   "cell_type": "code",
   "execution_count": 15,
   "metadata": {
    "ExecuteTime": {
     "end_time": "2020-06-01T07:24:24.766238Z",
     "start_time": "2020-06-01T07:24:18.542321Z"
    }
   },
   "outputs": [
    {
     "name": "stderr",
     "output_type": "stream",
     "text": [
      "R[write to console]: reading in files with read_tsv\n",
      "\n",
      "R[write to console]: 1 \n",
      "R[write to console]: \n",
      "\n",
      "R[write to console]: summarizing abundance\n",
      "\n",
      "R[write to console]: summarizing counts\n",
      "\n",
      "R[write to console]: summarizing length\n",
      "\n"
     ]
    },
    {
     "data": {
      "text/html": [
       "<div>\n",
       "<style scoped>\n",
       "    .dataframe tbody tr th:only-of-type {\n",
       "        vertical-align: middle;\n",
       "    }\n",
       "\n",
       "    .dataframe tbody tr th {\n",
       "        vertical-align: top;\n",
       "    }\n",
       "\n",
       "    .dataframe thead th {\n",
       "        text-align: right;\n",
       "    }\n",
       "</style>\n",
       "<table border=\"1\" class=\"dataframe\">\n",
       "  <thead>\n",
       "    <tr style=\"text-align: right;\">\n",
       "      <th></th>\n",
       "      <th>TPM</th>\n",
       "      <th>Counts</th>\n",
       "      <th>Length</th>\n",
       "    </tr>\n",
       "  </thead>\n",
       "  <tbody>\n",
       "    <tr>\n",
       "      <th>ENSMUSG00000000001.4</th>\n",
       "      <td>98.051257</td>\n",
       "      <td>11963.999549</td>\n",
       "      <td>3013.000000</td>\n",
       "    </tr>\n",
       "    <tr>\n",
       "      <th>ENSMUSG00000000003.15</th>\n",
       "      <td>0.000000</td>\n",
       "      <td>0.000000</td>\n",
       "      <td>550.500000</td>\n",
       "    </tr>\n",
       "    <tr>\n",
       "      <th>ENSMUSG00000000028.15</th>\n",
       "      <td>28.238953</td>\n",
       "      <td>2043.214448</td>\n",
       "      <td>1786.657347</td>\n",
       "    </tr>\n",
       "    <tr>\n",
       "      <th>ENSMUSG00000000031.16</th>\n",
       "      <td>15.520992</td>\n",
       "      <td>985.999960</td>\n",
       "      <td>1568.676287</td>\n",
       "    </tr>\n",
       "    <tr>\n",
       "      <th>ENSMUSG00000000037.17</th>\n",
       "      <td>1.683454</td>\n",
       "      <td>235.000077</td>\n",
       "      <td>3447.010925</td>\n",
       "    </tr>\n",
       "  </tbody>\n",
       "</table>\n",
       "</div>"
      ],
      "text/plain": [
       "                             TPM        Counts       Length\n",
       "ENSMUSG00000000001.4   98.051257  11963.999549  3013.000000\n",
       "ENSMUSG00000000003.15   0.000000      0.000000   550.500000\n",
       "ENSMUSG00000000028.15  28.238953   2043.214448  1786.657347\n",
       "ENSMUSG00000000031.16  15.520992    985.999960  1568.676287\n",
       "ENSMUSG00000000037.17   1.683454    235.000077  3447.010925"
      ]
     },
     "execution_count": 15,
     "metadata": {},
     "output_type": "execute_result"
    }
   ],
   "source": [
    "gene_quant_df = transcript_to_gene_quant(quant_list[0], tx2gene)\n",
    "gene_quant_df.head()"
   ]
  },
  {
   "cell_type": "markdown",
   "metadata": {},
   "source": [
    "## Generate a single large table\n",
    "- Gene-level quant from all 16 samples in one file"
   ]
  },
  {
   "cell_type": "code",
   "execution_count": 16,
   "metadata": {
    "ExecuteTime": {
     "end_time": "2020-06-01T07:25:56.998294Z",
     "start_time": "2020-06-01T07:24:24.768465Z"
    },
    "scrolled": true
   },
   "outputs": [
    {
     "name": "stdout",
     "output_type": "stream",
     "text": [
      "forebrain_E13.5_2\n"
     ]
    },
    {
     "name": "stderr",
     "output_type": "stream",
     "text": [
      "R[write to console]: reading in files with read_tsv\n",
      "\n",
      "R[write to console]: 1 \n",
      "R[write to console]: \n",
      "\n",
      "R[write to console]: summarizing abundance\n",
      "\n",
      "R[write to console]: summarizing counts\n",
      "\n",
      "R[write to console]: summarizing length\n",
      "\n"
     ]
    },
    {
     "name": "stdout",
     "output_type": "stream",
     "text": [
      "forebrain_P0_2\n"
     ]
    },
    {
     "name": "stderr",
     "output_type": "stream",
     "text": [
      "R[write to console]: reading in files with read_tsv\n",
      "\n",
      "R[write to console]: 1 \n",
      "R[write to console]: \n",
      "\n",
      "R[write to console]: summarizing abundance\n",
      "\n",
      "R[write to console]: summarizing counts\n",
      "\n",
      "R[write to console]: summarizing length\n",
      "\n"
     ]
    },
    {
     "name": "stdout",
     "output_type": "stream",
     "text": [
      "forebrain_E12.5_1\n"
     ]
    },
    {
     "name": "stderr",
     "output_type": "stream",
     "text": [
      "R[write to console]: reading in files with read_tsv\n",
      "\n",
      "R[write to console]: 1 \n",
      "R[write to console]: \n",
      "\n",
      "R[write to console]: summarizing abundance\n",
      "\n",
      "R[write to console]: summarizing counts\n",
      "\n",
      "R[write to console]: summarizing length\n",
      "\n"
     ]
    },
    {
     "name": "stdout",
     "output_type": "stream",
     "text": [
      "forebrain_E14.5_1\n"
     ]
    },
    {
     "name": "stderr",
     "output_type": "stream",
     "text": [
      "R[write to console]: reading in files with read_tsv\n",
      "\n",
      "R[write to console]: 1 \n",
      "R[write to console]: \n",
      "\n",
      "R[write to console]: summarizing abundance\n",
      "\n",
      "R[write to console]: summarizing counts\n",
      "\n",
      "R[write to console]: summarizing length\n",
      "\n"
     ]
    },
    {
     "name": "stdout",
     "output_type": "stream",
     "text": [
      "forebrain_E15.5_2\n"
     ]
    },
    {
     "name": "stderr",
     "output_type": "stream",
     "text": [
      "R[write to console]: reading in files with read_tsv\n",
      "\n",
      "R[write to console]: 1 \n",
      "R[write to console]: \n",
      "\n",
      "R[write to console]: summarizing abundance\n",
      "\n",
      "R[write to console]: summarizing counts\n",
      "\n",
      "R[write to console]: summarizing length\n",
      "\n"
     ]
    },
    {
     "name": "stdout",
     "output_type": "stream",
     "text": [
      "forebrain_E12.5_2\n"
     ]
    },
    {
     "name": "stderr",
     "output_type": "stream",
     "text": [
      "R[write to console]: reading in files with read_tsv\n",
      "\n",
      "R[write to console]: 1 \n",
      "R[write to console]: \n",
      "\n",
      "R[write to console]: summarizing abundance\n",
      "\n",
      "R[write to console]: summarizing counts\n",
      "\n",
      "R[write to console]: summarizing length\n",
      "\n"
     ]
    },
    {
     "name": "stdout",
     "output_type": "stream",
     "text": [
      "forebrain_P0_1\n"
     ]
    },
    {
     "name": "stderr",
     "output_type": "stream",
     "text": [
      "R[write to console]: reading in files with read_tsv\n",
      "\n",
      "R[write to console]: 1 \n",
      "R[write to console]: \n",
      "\n",
      "R[write to console]: summarizing abundance\n",
      "\n",
      "R[write to console]: summarizing counts\n",
      "\n",
      "R[write to console]: summarizing length\n",
      "\n"
     ]
    },
    {
     "name": "stdout",
     "output_type": "stream",
     "text": [
      "forebrain_E13.5_1\n"
     ]
    },
    {
     "name": "stderr",
     "output_type": "stream",
     "text": [
      "R[write to console]: reading in files with read_tsv\n",
      "\n",
      "R[write to console]: 1 \n",
      "R[write to console]: \n",
      "\n",
      "R[write to console]: summarizing abundance\n",
      "\n",
      "R[write to console]: summarizing counts\n",
      "\n",
      "R[write to console]: summarizing length\n",
      "\n"
     ]
    },
    {
     "name": "stdout",
     "output_type": "stream",
     "text": [
      "forebrain_E15.5_1\n"
     ]
    },
    {
     "name": "stderr",
     "output_type": "stream",
     "text": [
      "R[write to console]: reading in files with read_tsv\n",
      "\n",
      "R[write to console]: 1 \n",
      "R[write to console]: \n",
      "\n",
      "R[write to console]: summarizing abundance\n",
      "\n",
      "R[write to console]: summarizing counts\n",
      "\n",
      "R[write to console]: summarizing length\n",
      "\n"
     ]
    },
    {
     "name": "stdout",
     "output_type": "stream",
     "text": [
      "forebrain_E14.5_2\n"
     ]
    },
    {
     "name": "stderr",
     "output_type": "stream",
     "text": [
      "R[write to console]: reading in files with read_tsv\n",
      "\n",
      "R[write to console]: 1 \n",
      "R[write to console]: \n",
      "\n",
      "R[write to console]: summarizing abundance\n",
      "\n",
      "R[write to console]: summarizing counts\n",
      "\n",
      "R[write to console]: summarizing length\n",
      "\n"
     ]
    },
    {
     "name": "stdout",
     "output_type": "stream",
     "text": [
      "forebrain_E10.5_1\n"
     ]
    },
    {
     "name": "stderr",
     "output_type": "stream",
     "text": [
      "R[write to console]: reading in files with read_tsv\n",
      "\n",
      "R[write to console]: 1 \n",
      "R[write to console]: \n",
      "\n",
      "R[write to console]: summarizing abundance\n",
      "\n",
      "R[write to console]: summarizing counts\n",
      "\n",
      "R[write to console]: summarizing length\n",
      "\n"
     ]
    },
    {
     "name": "stdout",
     "output_type": "stream",
     "text": [
      "forebrain_E11.5_2\n"
     ]
    },
    {
     "name": "stderr",
     "output_type": "stream",
     "text": [
      "R[write to console]: reading in files with read_tsv\n",
      "\n",
      "R[write to console]: 1 \n",
      "R[write to console]: \n",
      "\n",
      "R[write to console]: summarizing abundance\n",
      "\n",
      "R[write to console]: summarizing counts\n",
      "\n",
      "R[write to console]: summarizing length\n",
      "\n"
     ]
    },
    {
     "name": "stdout",
     "output_type": "stream",
     "text": [
      "forebrain_E16.5_1\n"
     ]
    },
    {
     "name": "stderr",
     "output_type": "stream",
     "text": [
      "R[write to console]: reading in files with read_tsv\n",
      "\n",
      "R[write to console]: 1 \n",
      "R[write to console]: \n",
      "\n",
      "R[write to console]: summarizing abundance\n",
      "\n",
      "R[write to console]: summarizing counts\n",
      "\n",
      "R[write to console]: summarizing length\n",
      "\n"
     ]
    },
    {
     "name": "stdout",
     "output_type": "stream",
     "text": [
      "forebrain_E11.5_1\n"
     ]
    },
    {
     "name": "stderr",
     "output_type": "stream",
     "text": [
      "R[write to console]: reading in files with read_tsv\n",
      "\n",
      "R[write to console]: 1 \n",
      "R[write to console]: \n",
      "\n",
      "R[write to console]: summarizing abundance\n",
      "\n",
      "R[write to console]: summarizing counts\n",
      "\n",
      "R[write to console]: summarizing length\n",
      "\n"
     ]
    },
    {
     "name": "stdout",
     "output_type": "stream",
     "text": [
      "forebrain_E10.5_2\n"
     ]
    },
    {
     "name": "stderr",
     "output_type": "stream",
     "text": [
      "R[write to console]: reading in files with read_tsv\n",
      "\n",
      "R[write to console]: 1 \n",
      "R[write to console]: \n",
      "\n",
      "R[write to console]: summarizing abundance\n",
      "\n",
      "R[write to console]: summarizing counts\n",
      "\n",
      "R[write to console]: summarizing length\n",
      "\n"
     ]
    },
    {
     "name": "stdout",
     "output_type": "stream",
     "text": [
      "forebrain_E16.5_2\n"
     ]
    },
    {
     "name": "stderr",
     "output_type": "stream",
     "text": [
      "R[write to console]: reading in files with read_tsv\n",
      "\n",
      "R[write to console]: 1 \n",
      "R[write to console]: \n",
      "\n",
      "R[write to console]: summarizing abundance\n",
      "\n",
      "R[write to console]: summarizing counts\n",
      "\n",
      "R[write to console]: summarizing length\n",
      "\n"
     ]
    }
   ],
   "source": [
    "total_quant_list = []\n",
    "for path in quant_list:\n",
    "    sample_name = path.parent.name[:-6]  # get sample name from the path\n",
    "    print(sample_name)\n",
    "    \n",
    "    gene_quant_df = transcript_to_gene_quant(path, tx2gene)\n",
    "    gene_quant_df.columns = sample_name + '.' + gene_quant_df.columns  # add sample name into column names\n",
    "    \n",
    "    total_quant_list.append(gene_quant_df)"
   ]
  },
  {
   "cell_type": "code",
   "execution_count": 20,
   "metadata": {
    "ExecuteTime": {
     "end_time": "2020-06-01T07:27:14.897133Z",
     "start_time": "2020-06-01T07:27:14.703271Z"
    }
   },
   "outputs": [
    {
     "data": {
      "text/html": [
       "<div>\n",
       "<style scoped>\n",
       "    .dataframe tbody tr th:only-of-type {\n",
       "        vertical-align: middle;\n",
       "    }\n",
       "\n",
       "    .dataframe tbody tr th {\n",
       "        vertical-align: top;\n",
       "    }\n",
       "\n",
       "    .dataframe thead th {\n",
       "        text-align: right;\n",
       "    }\n",
       "</style>\n",
       "<table border=\"1\" class=\"dataframe\">\n",
       "  <thead>\n",
       "    <tr style=\"text-align: right;\">\n",
       "      <th></th>\n",
       "      <th>forebrain_E13.5_2.TPM</th>\n",
       "      <th>forebrain_E13.5_2.Counts</th>\n",
       "      <th>forebrain_E13.5_2.Length</th>\n",
       "      <th>forebrain_P0_2.TPM</th>\n",
       "      <th>forebrain_P0_2.Counts</th>\n",
       "      <th>forebrain_P0_2.Length</th>\n",
       "      <th>forebrain_E12.5_1.TPM</th>\n",
       "      <th>forebrain_E12.5_1.Counts</th>\n",
       "      <th>forebrain_E12.5_1.Length</th>\n",
       "      <th>forebrain_E14.5_1.TPM</th>\n",
       "      <th>...</th>\n",
       "      <th>forebrain_E16.5_1.Length</th>\n",
       "      <th>forebrain_E11.5_1.TPM</th>\n",
       "      <th>forebrain_E11.5_1.Counts</th>\n",
       "      <th>forebrain_E11.5_1.Length</th>\n",
       "      <th>forebrain_E10.5_2.TPM</th>\n",
       "      <th>forebrain_E10.5_2.Counts</th>\n",
       "      <th>forebrain_E10.5_2.Length</th>\n",
       "      <th>forebrain_E16.5_2.TPM</th>\n",
       "      <th>forebrain_E16.5_2.Counts</th>\n",
       "      <th>forebrain_E16.5_2.Length</th>\n",
       "    </tr>\n",
       "  </thead>\n",
       "  <tbody>\n",
       "    <tr>\n",
       "      <th>ENSMUSG00000000001.4</th>\n",
       "      <td>98.051257</td>\n",
       "      <td>11963.999549</td>\n",
       "      <td>3013.000000</td>\n",
       "      <td>56.339107</td>\n",
       "      <td>8311.999614</td>\n",
       "      <td>3013.000000</td>\n",
       "      <td>134.231784</td>\n",
       "      <td>17287.999636</td>\n",
       "      <td>3013.000000</td>\n",
       "      <td>91.061106</td>\n",
       "      <td>...</td>\n",
       "      <td>3013.000000</td>\n",
       "      <td>139.674917</td>\n",
       "      <td>8477.999884</td>\n",
       "      <td>3013.000000</td>\n",
       "      <td>137.580286</td>\n",
       "      <td>14367.999857</td>\n",
       "      <td>3013.000000</td>\n",
       "      <td>118.966145</td>\n",
       "      <td>8364.999786</td>\n",
       "      <td>3013.000000</td>\n",
       "    </tr>\n",
       "    <tr>\n",
       "      <th>ENSMUSG00000000003.15</th>\n",
       "      <td>0.000000</td>\n",
       "      <td>0.000000</td>\n",
       "      <td>550.500000</td>\n",
       "      <td>0.000000</td>\n",
       "      <td>0.000000</td>\n",
       "      <td>550.500000</td>\n",
       "      <td>0.000000</td>\n",
       "      <td>0.000000</td>\n",
       "      <td>550.500000</td>\n",
       "      <td>0.000000</td>\n",
       "      <td>...</td>\n",
       "      <td>550.500000</td>\n",
       "      <td>0.000000</td>\n",
       "      <td>0.000000</td>\n",
       "      <td>550.500000</td>\n",
       "      <td>0.000000</td>\n",
       "      <td>0.000000</td>\n",
       "      <td>550.500000</td>\n",
       "      <td>0.000000</td>\n",
       "      <td>0.000000</td>\n",
       "      <td>550.500000</td>\n",
       "    </tr>\n",
       "    <tr>\n",
       "      <th>ENSMUSG00000000028.15</th>\n",
       "      <td>28.238953</td>\n",
       "      <td>2043.214448</td>\n",
       "      <td>1786.657347</td>\n",
       "      <td>3.526304</td>\n",
       "      <td>283.999985</td>\n",
       "      <td>1644.758518</td>\n",
       "      <td>39.650689</td>\n",
       "      <td>3024.005822</td>\n",
       "      <td>1784.192189</td>\n",
       "      <td>20.505089</td>\n",
       "      <td>...</td>\n",
       "      <td>1819.274836</td>\n",
       "      <td>55.126178</td>\n",
       "      <td>1944.011126</td>\n",
       "      <td>1750.511670</td>\n",
       "      <td>59.116165</td>\n",
       "      <td>3665.999943</td>\n",
       "      <td>1789.143710</td>\n",
       "      <td>15.232014</td>\n",
       "      <td>620.083455</td>\n",
       "      <td>1744.413344</td>\n",
       "    </tr>\n",
       "    <tr>\n",
       "      <th>ENSMUSG00000000031.16</th>\n",
       "      <td>15.520992</td>\n",
       "      <td>985.999960</td>\n",
       "      <td>1568.676287</td>\n",
       "      <td>7.819190</td>\n",
       "      <td>610.999967</td>\n",
       "      <td>1595.816669</td>\n",
       "      <td>36.678962</td>\n",
       "      <td>2379.999942</td>\n",
       "      <td>1517.992615</td>\n",
       "      <td>18.633953</td>\n",
       "      <td>...</td>\n",
       "      <td>1451.871210</td>\n",
       "      <td>67.601876</td>\n",
       "      <td>1920.999955</td>\n",
       "      <td>1410.563864</td>\n",
       "      <td>76.426513</td>\n",
       "      <td>4204.999975</td>\n",
       "      <td>1587.380266</td>\n",
       "      <td>23.593628</td>\n",
       "      <td>865.999992</td>\n",
       "      <td>1572.822620</td>\n",
       "    </tr>\n",
       "    <tr>\n",
       "      <th>ENSMUSG00000000037.17</th>\n",
       "      <td>1.683454</td>\n",
       "      <td>235.000077</td>\n",
       "      <td>3447.010925</td>\n",
       "      <td>0.818803</td>\n",
       "      <td>142.000137</td>\n",
       "      <td>3541.709324</td>\n",
       "      <td>3.798637</td>\n",
       "      <td>483.000019</td>\n",
       "      <td>2974.603626</td>\n",
       "      <td>2.180449</td>\n",
       "      <td>...</td>\n",
       "      <td>3216.806343</td>\n",
       "      <td>3.374957</td>\n",
       "      <td>212.000003</td>\n",
       "      <td>3118.112431</td>\n",
       "      <td>2.200729</td>\n",
       "      <td>282.999968</td>\n",
       "      <td>3710.042154</td>\n",
       "      <td>1.877517</td>\n",
       "      <td>173.999935</td>\n",
       "      <td>3971.200310</td>\n",
       "    </tr>\n",
       "    <tr>\n",
       "      <th>...</th>\n",
       "      <td>...</td>\n",
       "      <td>...</td>\n",
       "      <td>...</td>\n",
       "      <td>...</td>\n",
       "      <td>...</td>\n",
       "      <td>...</td>\n",
       "      <td>...</td>\n",
       "      <td>...</td>\n",
       "      <td>...</td>\n",
       "      <td>...</td>\n",
       "      <td>...</td>\n",
       "      <td>...</td>\n",
       "      <td>...</td>\n",
       "      <td>...</td>\n",
       "      <td>...</td>\n",
       "      <td>...</td>\n",
       "      <td>...</td>\n",
       "      <td>...</td>\n",
       "      <td>...</td>\n",
       "      <td>...</td>\n",
       "      <td>...</td>\n",
       "    </tr>\n",
       "    <tr>\n",
       "      <th>ENSMUSG00000118636.1</th>\n",
       "      <td>2.891339</td>\n",
       "      <td>2.000029</td>\n",
       "      <td>17.081000</td>\n",
       "      <td>1.195630</td>\n",
       "      <td>1.000015</td>\n",
       "      <td>17.081000</td>\n",
       "      <td>1.369629</td>\n",
       "      <td>1.000015</td>\n",
       "      <td>17.081000</td>\n",
       "      <td>2.988177</td>\n",
       "      <td>...</td>\n",
       "      <td>17.081000</td>\n",
       "      <td>2.906145</td>\n",
       "      <td>1.000015</td>\n",
       "      <td>17.081000</td>\n",
       "      <td>5.067263</td>\n",
       "      <td>3.000045</td>\n",
       "      <td>17.081000</td>\n",
       "      <td>5.017412</td>\n",
       "      <td>2.000030</td>\n",
       "      <td>17.081000</td>\n",
       "    </tr>\n",
       "    <tr>\n",
       "      <th>ENSMUSG00000118637.1</th>\n",
       "      <td>0.000000</td>\n",
       "      <td>0.000000</td>\n",
       "      <td>7.349000</td>\n",
       "      <td>0.000000</td>\n",
       "      <td>0.000000</td>\n",
       "      <td>7.349000</td>\n",
       "      <td>0.000000</td>\n",
       "      <td>0.000000</td>\n",
       "      <td>7.349000</td>\n",
       "      <td>0.000000</td>\n",
       "      <td>...</td>\n",
       "      <td>7.349000</td>\n",
       "      <td>0.000000</td>\n",
       "      <td>0.000000</td>\n",
       "      <td>7.349000</td>\n",
       "      <td>0.000000</td>\n",
       "      <td>0.000000</td>\n",
       "      <td>7.349000</td>\n",
       "      <td>0.000000</td>\n",
       "      <td>0.000000</td>\n",
       "      <td>7.349000</td>\n",
       "    </tr>\n",
       "    <tr>\n",
       "      <th>ENSMUSG00000118638.1</th>\n",
       "      <td>0.000000</td>\n",
       "      <td>0.000000</td>\n",
       "      <td>1768.000000</td>\n",
       "      <td>0.000000</td>\n",
       "      <td>0.000000</td>\n",
       "      <td>1768.000000</td>\n",
       "      <td>0.000000</td>\n",
       "      <td>0.000000</td>\n",
       "      <td>1768.000000</td>\n",
       "      <td>0.000000</td>\n",
       "      <td>...</td>\n",
       "      <td>1768.000000</td>\n",
       "      <td>0.000000</td>\n",
       "      <td>0.000000</td>\n",
       "      <td>1768.000000</td>\n",
       "      <td>0.016318</td>\n",
       "      <td>0.999977</td>\n",
       "      <td>1768.000000</td>\n",
       "      <td>0.000000</td>\n",
       "      <td>0.000000</td>\n",
       "      <td>1768.000000</td>\n",
       "    </tr>\n",
       "    <tr>\n",
       "      <th>ENSMUSG00000118639.1</th>\n",
       "      <td>0.000000</td>\n",
       "      <td>0.000000</td>\n",
       "      <td>6.040000</td>\n",
       "      <td>0.000000</td>\n",
       "      <td>0.000000</td>\n",
       "      <td>6.040000</td>\n",
       "      <td>0.000000</td>\n",
       "      <td>0.000000</td>\n",
       "      <td>6.040000</td>\n",
       "      <td>0.000000</td>\n",
       "      <td>...</td>\n",
       "      <td>6.040000</td>\n",
       "      <td>0.000000</td>\n",
       "      <td>0.000000</td>\n",
       "      <td>6.040000</td>\n",
       "      <td>0.000000</td>\n",
       "      <td>0.000000</td>\n",
       "      <td>6.040000</td>\n",
       "      <td>0.000000</td>\n",
       "      <td>0.000000</td>\n",
       "      <td>6.040000</td>\n",
       "    </tr>\n",
       "    <tr>\n",
       "      <th>ENSMUSG00000118640.1</th>\n",
       "      <td>0.000000</td>\n",
       "      <td>0.000000</td>\n",
       "      <td>642.000000</td>\n",
       "      <td>0.000000</td>\n",
       "      <td>0.000000</td>\n",
       "      <td>642.000000</td>\n",
       "      <td>0.000000</td>\n",
       "      <td>0.000000</td>\n",
       "      <td>642.000000</td>\n",
       "      <td>0.000000</td>\n",
       "      <td>...</td>\n",
       "      <td>642.000000</td>\n",
       "      <td>0.000000</td>\n",
       "      <td>0.000000</td>\n",
       "      <td>642.000000</td>\n",
       "      <td>0.000000</td>\n",
       "      <td>0.000000</td>\n",
       "      <td>642.000000</td>\n",
       "      <td>0.000000</td>\n",
       "      <td>0.000000</td>\n",
       "      <td>642.000000</td>\n",
       "    </tr>\n",
       "  </tbody>\n",
       "</table>\n",
       "<p>54331 rows × 48 columns</p>\n",
       "</div>"
      ],
      "text/plain": [
       "                       forebrain_E13.5_2.TPM  forebrain_E13.5_2.Counts  \\\n",
       "ENSMUSG00000000001.4               98.051257              11963.999549   \n",
       "ENSMUSG00000000003.15               0.000000                  0.000000   \n",
       "ENSMUSG00000000028.15              28.238953               2043.214448   \n",
       "ENSMUSG00000000031.16              15.520992                985.999960   \n",
       "ENSMUSG00000000037.17               1.683454                235.000077   \n",
       "...                                      ...                       ...   \n",
       "ENSMUSG00000118636.1                2.891339                  2.000029   \n",
       "ENSMUSG00000118637.1                0.000000                  0.000000   \n",
       "ENSMUSG00000118638.1                0.000000                  0.000000   \n",
       "ENSMUSG00000118639.1                0.000000                  0.000000   \n",
       "ENSMUSG00000118640.1                0.000000                  0.000000   \n",
       "\n",
       "                       forebrain_E13.5_2.Length  forebrain_P0_2.TPM  \\\n",
       "ENSMUSG00000000001.4                3013.000000           56.339107   \n",
       "ENSMUSG00000000003.15                550.500000            0.000000   \n",
       "ENSMUSG00000000028.15               1786.657347            3.526304   \n",
       "ENSMUSG00000000031.16               1568.676287            7.819190   \n",
       "ENSMUSG00000000037.17               3447.010925            0.818803   \n",
       "...                                         ...                 ...   \n",
       "ENSMUSG00000118636.1                  17.081000            1.195630   \n",
       "ENSMUSG00000118637.1                   7.349000            0.000000   \n",
       "ENSMUSG00000118638.1                1768.000000            0.000000   \n",
       "ENSMUSG00000118639.1                   6.040000            0.000000   \n",
       "ENSMUSG00000118640.1                 642.000000            0.000000   \n",
       "\n",
       "                       forebrain_P0_2.Counts  forebrain_P0_2.Length  \\\n",
       "ENSMUSG00000000001.4             8311.999614            3013.000000   \n",
       "ENSMUSG00000000003.15               0.000000             550.500000   \n",
       "ENSMUSG00000000028.15             283.999985            1644.758518   \n",
       "ENSMUSG00000000031.16             610.999967            1595.816669   \n",
       "ENSMUSG00000000037.17             142.000137            3541.709324   \n",
       "...                                      ...                    ...   \n",
       "ENSMUSG00000118636.1                1.000015              17.081000   \n",
       "ENSMUSG00000118637.1                0.000000               7.349000   \n",
       "ENSMUSG00000118638.1                0.000000            1768.000000   \n",
       "ENSMUSG00000118639.1                0.000000               6.040000   \n",
       "ENSMUSG00000118640.1                0.000000             642.000000   \n",
       "\n",
       "                       forebrain_E12.5_1.TPM  forebrain_E12.5_1.Counts  \\\n",
       "ENSMUSG00000000001.4              134.231784              17287.999636   \n",
       "ENSMUSG00000000003.15               0.000000                  0.000000   \n",
       "ENSMUSG00000000028.15              39.650689               3024.005822   \n",
       "ENSMUSG00000000031.16              36.678962               2379.999942   \n",
       "ENSMUSG00000000037.17               3.798637                483.000019   \n",
       "...                                      ...                       ...   \n",
       "ENSMUSG00000118636.1                1.369629                  1.000015   \n",
       "ENSMUSG00000118637.1                0.000000                  0.000000   \n",
       "ENSMUSG00000118638.1                0.000000                  0.000000   \n",
       "ENSMUSG00000118639.1                0.000000                  0.000000   \n",
       "ENSMUSG00000118640.1                0.000000                  0.000000   \n",
       "\n",
       "                       forebrain_E12.5_1.Length  forebrain_E14.5_1.TPM  ...  \\\n",
       "ENSMUSG00000000001.4                3013.000000              91.061106  ...   \n",
       "ENSMUSG00000000003.15                550.500000               0.000000  ...   \n",
       "ENSMUSG00000000028.15               1784.192189              20.505089  ...   \n",
       "ENSMUSG00000000031.16               1517.992615              18.633953  ...   \n",
       "ENSMUSG00000000037.17               2974.603626               2.180449  ...   \n",
       "...                                         ...                    ...  ...   \n",
       "ENSMUSG00000118636.1                  17.081000               2.988177  ...   \n",
       "ENSMUSG00000118637.1                   7.349000               0.000000  ...   \n",
       "ENSMUSG00000118638.1                1768.000000               0.000000  ...   \n",
       "ENSMUSG00000118639.1                   6.040000               0.000000  ...   \n",
       "ENSMUSG00000118640.1                 642.000000               0.000000  ...   \n",
       "\n",
       "                       forebrain_E16.5_1.Length  forebrain_E11.5_1.TPM  \\\n",
       "ENSMUSG00000000001.4                3013.000000             139.674917   \n",
       "ENSMUSG00000000003.15                550.500000               0.000000   \n",
       "ENSMUSG00000000028.15               1819.274836              55.126178   \n",
       "ENSMUSG00000000031.16               1451.871210              67.601876   \n",
       "ENSMUSG00000000037.17               3216.806343               3.374957   \n",
       "...                                         ...                    ...   \n",
       "ENSMUSG00000118636.1                  17.081000               2.906145   \n",
       "ENSMUSG00000118637.1                   7.349000               0.000000   \n",
       "ENSMUSG00000118638.1                1768.000000               0.000000   \n",
       "ENSMUSG00000118639.1                   6.040000               0.000000   \n",
       "ENSMUSG00000118640.1                 642.000000               0.000000   \n",
       "\n",
       "                       forebrain_E11.5_1.Counts  forebrain_E11.5_1.Length  \\\n",
       "ENSMUSG00000000001.4                8477.999884               3013.000000   \n",
       "ENSMUSG00000000003.15                  0.000000                550.500000   \n",
       "ENSMUSG00000000028.15               1944.011126               1750.511670   \n",
       "ENSMUSG00000000031.16               1920.999955               1410.563864   \n",
       "ENSMUSG00000000037.17                212.000003               3118.112431   \n",
       "...                                         ...                       ...   \n",
       "ENSMUSG00000118636.1                   1.000015                 17.081000   \n",
       "ENSMUSG00000118637.1                   0.000000                  7.349000   \n",
       "ENSMUSG00000118638.1                   0.000000               1768.000000   \n",
       "ENSMUSG00000118639.1                   0.000000                  6.040000   \n",
       "ENSMUSG00000118640.1                   0.000000                642.000000   \n",
       "\n",
       "                       forebrain_E10.5_2.TPM  forebrain_E10.5_2.Counts  \\\n",
       "ENSMUSG00000000001.4              137.580286              14367.999857   \n",
       "ENSMUSG00000000003.15               0.000000                  0.000000   \n",
       "ENSMUSG00000000028.15              59.116165               3665.999943   \n",
       "ENSMUSG00000000031.16              76.426513               4204.999975   \n",
       "ENSMUSG00000000037.17               2.200729                282.999968   \n",
       "...                                      ...                       ...   \n",
       "ENSMUSG00000118636.1                5.067263                  3.000045   \n",
       "ENSMUSG00000118637.1                0.000000                  0.000000   \n",
       "ENSMUSG00000118638.1                0.016318                  0.999977   \n",
       "ENSMUSG00000118639.1                0.000000                  0.000000   \n",
       "ENSMUSG00000118640.1                0.000000                  0.000000   \n",
       "\n",
       "                       forebrain_E10.5_2.Length  forebrain_E16.5_2.TPM  \\\n",
       "ENSMUSG00000000001.4                3013.000000             118.966145   \n",
       "ENSMUSG00000000003.15                550.500000               0.000000   \n",
       "ENSMUSG00000000028.15               1789.143710              15.232014   \n",
       "ENSMUSG00000000031.16               1587.380266              23.593628   \n",
       "ENSMUSG00000000037.17               3710.042154               1.877517   \n",
       "...                                         ...                    ...   \n",
       "ENSMUSG00000118636.1                  17.081000               5.017412   \n",
       "ENSMUSG00000118637.1                   7.349000               0.000000   \n",
       "ENSMUSG00000118638.1                1768.000000               0.000000   \n",
       "ENSMUSG00000118639.1                   6.040000               0.000000   \n",
       "ENSMUSG00000118640.1                 642.000000               0.000000   \n",
       "\n",
       "                       forebrain_E16.5_2.Counts  forebrain_E16.5_2.Length  \n",
       "ENSMUSG00000000001.4                8364.999786               3013.000000  \n",
       "ENSMUSG00000000003.15                  0.000000                550.500000  \n",
       "ENSMUSG00000000028.15                620.083455               1744.413344  \n",
       "ENSMUSG00000000031.16                865.999992               1572.822620  \n",
       "ENSMUSG00000000037.17                173.999935               3971.200310  \n",
       "...                                         ...                       ...  \n",
       "ENSMUSG00000118636.1                   2.000030                 17.081000  \n",
       "ENSMUSG00000118637.1                   0.000000                  7.349000  \n",
       "ENSMUSG00000118638.1                   0.000000               1768.000000  \n",
       "ENSMUSG00000118639.1                   0.000000                  6.040000  \n",
       "ENSMUSG00000118640.1                   0.000000                642.000000  \n",
       "\n",
       "[54331 rows x 48 columns]"
      ]
     },
     "execution_count": 20,
     "metadata": {},
     "output_type": "execute_result"
    }
   ],
   "source": [
    "total_quant = pd.concat(total_quant_list, axis=1)\n",
    "total_quant"
   ]
  },
  {
   "cell_type": "code",
   "execution_count": 21,
   "metadata": {
    "ExecuteTime": {
     "end_time": "2020-06-01T07:27:22.178004Z",
     "start_time": "2020-06-01T07:27:16.281620Z"
    }
   },
   "outputs": [],
   "source": [
    "total_quant.to_csv('DevFB.16sample.gene_level_quant.csv.gz')"
   ]
  },
  {
   "cell_type": "markdown",
   "metadata": {},
   "source": [
    "Now let's make two additional files for the DEG analysis"
   ]
  },
  {
   "cell_type": "markdown",
   "metadata": {},
   "source": [
    "### Make a table for all counts cols"
   ]
  },
  {
   "cell_type": "code",
   "execution_count": 22,
   "metadata": {
    "ExecuteTime": {
     "end_time": "2020-06-01T07:27:33.507232Z",
     "start_time": "2020-06-01T07:27:33.502375Z"
    }
   },
   "outputs": [
    {
     "data": {
      "text/plain": [
       "array([False,  True, False, False,  True, False, False,  True, False,\n",
       "       False,  True, False, False,  True, False, False,  True, False,\n",
       "       False,  True, False, False,  True, False, False,  True, False,\n",
       "       False,  True, False, False,  True, False, False,  True, False,\n",
       "       False,  True, False, False,  True, False, False,  True, False,\n",
       "       False,  True, False])"
      ]
     },
     "execution_count": 22,
     "metadata": {},
     "output_type": "execute_result"
    }
   ],
   "source": [
    "total_quant.columns.str.endswith('Counts')"
   ]
  },
  {
   "cell_type": "code",
   "execution_count": 25,
   "metadata": {
    "ExecuteTime": {
     "end_time": "2020-06-01T07:28:37.767461Z",
     "start_time": "2020-06-01T07:28:37.740702Z"
    }
   },
   "outputs": [
    {
     "data": {
      "text/html": [
       "<div>\n",
       "<style scoped>\n",
       "    .dataframe tbody tr th:only-of-type {\n",
       "        vertical-align: middle;\n",
       "    }\n",
       "\n",
       "    .dataframe tbody tr th {\n",
       "        vertical-align: top;\n",
       "    }\n",
       "\n",
       "    .dataframe thead th {\n",
       "        text-align: right;\n",
       "    }\n",
       "</style>\n",
       "<table border=\"1\" class=\"dataframe\">\n",
       "  <thead>\n",
       "    <tr style=\"text-align: right;\">\n",
       "      <th></th>\n",
       "      <th>forebrain_E13.5_2</th>\n",
       "      <th>forebrain_P0_2</th>\n",
       "      <th>forebrain_E12.5_1</th>\n",
       "      <th>forebrain_E14.5_1</th>\n",
       "      <th>forebrain_E15.5_2</th>\n",
       "      <th>forebrain_E12.5_2</th>\n",
       "      <th>forebrain_P0_1</th>\n",
       "      <th>forebrain_E13.5_1</th>\n",
       "      <th>forebrain_E15.5_1</th>\n",
       "      <th>forebrain_E14.5_2</th>\n",
       "      <th>forebrain_E10.5_1</th>\n",
       "      <th>forebrain_E11.5_2</th>\n",
       "      <th>forebrain_E16.5_1</th>\n",
       "      <th>forebrain_E11.5_1</th>\n",
       "      <th>forebrain_E10.5_2</th>\n",
       "      <th>forebrain_E16.5_2</th>\n",
       "    </tr>\n",
       "  </thead>\n",
       "  <tbody>\n",
       "    <tr>\n",
       "      <th>ENSMUSG00000000001.4</th>\n",
       "      <td>11963.999549</td>\n",
       "      <td>8311.999614</td>\n",
       "      <td>17287.999636</td>\n",
       "      <td>10750.999694</td>\n",
       "      <td>9958.999556</td>\n",
       "      <td>17480.999687</td>\n",
       "      <td>8660.999877</td>\n",
       "      <td>11523.999548</td>\n",
       "      <td>11127.999598</td>\n",
       "      <td>9458.999830</td>\n",
       "      <td>16155.999859</td>\n",
       "      <td>12384.999835</td>\n",
       "      <td>7995.999807</td>\n",
       "      <td>8477.999884</td>\n",
       "      <td>14367.999857</td>\n",
       "      <td>8364.999786</td>\n",
       "    </tr>\n",
       "    <tr>\n",
       "      <th>ENSMUSG00000000003.15</th>\n",
       "      <td>0.000000</td>\n",
       "      <td>0.000000</td>\n",
       "      <td>0.000000</td>\n",
       "      <td>0.000000</td>\n",
       "      <td>0.000000</td>\n",
       "      <td>0.000000</td>\n",
       "      <td>0.000000</td>\n",
       "      <td>0.000000</td>\n",
       "      <td>0.000000</td>\n",
       "      <td>0.000000</td>\n",
       "      <td>0.000000</td>\n",
       "      <td>0.000000</td>\n",
       "      <td>0.000000</td>\n",
       "      <td>0.000000</td>\n",
       "      <td>0.000000</td>\n",
       "      <td>0.000000</td>\n",
       "    </tr>\n",
       "    <tr>\n",
       "      <th>ENSMUSG00000000028.15</th>\n",
       "      <td>2043.214448</td>\n",
       "      <td>283.999985</td>\n",
       "      <td>3024.005822</td>\n",
       "      <td>1428.142436</td>\n",
       "      <td>974.013277</td>\n",
       "      <td>3026.258085</td>\n",
       "      <td>230.000066</td>\n",
       "      <td>2011.011893</td>\n",
       "      <td>969.055625</td>\n",
       "      <td>1038.034104</td>\n",
       "      <td>3997.351217</td>\n",
       "      <td>2662.011545</td>\n",
       "      <td>653.020094</td>\n",
       "      <td>1944.011126</td>\n",
       "      <td>3665.999943</td>\n",
       "      <td>620.083455</td>\n",
       "    </tr>\n",
       "    <tr>\n",
       "      <th>ENSMUSG00000000031.16</th>\n",
       "      <td>985.999960</td>\n",
       "      <td>610.999967</td>\n",
       "      <td>2379.999942</td>\n",
       "      <td>1058.999957</td>\n",
       "      <td>931.999994</td>\n",
       "      <td>3216.999929</td>\n",
       "      <td>578.000018</td>\n",
       "      <td>919.999919</td>\n",
       "      <td>903.999928</td>\n",
       "      <td>908.999972</td>\n",
       "      <td>4060.999927</td>\n",
       "      <td>2563.000001</td>\n",
       "      <td>653.999991</td>\n",
       "      <td>1920.999955</td>\n",
       "      <td>4204.999975</td>\n",
       "      <td>865.999992</td>\n",
       "    </tr>\n",
       "    <tr>\n",
       "      <th>ENSMUSG00000000037.17</th>\n",
       "      <td>235.000077</td>\n",
       "      <td>142.000137</td>\n",
       "      <td>483.000019</td>\n",
       "      <td>289.000014</td>\n",
       "      <td>211.000080</td>\n",
       "      <td>464.999994</td>\n",
       "      <td>181.000134</td>\n",
       "      <td>266.000021</td>\n",
       "      <td>283.999942</td>\n",
       "      <td>224.999992</td>\n",
       "      <td>355.000000</td>\n",
       "      <td>405.999957</td>\n",
       "      <td>188.000010</td>\n",
       "      <td>212.000003</td>\n",
       "      <td>282.999968</td>\n",
       "      <td>173.999935</td>\n",
       "    </tr>\n",
       "    <tr>\n",
       "      <th>...</th>\n",
       "      <td>...</td>\n",
       "      <td>...</td>\n",
       "      <td>...</td>\n",
       "      <td>...</td>\n",
       "      <td>...</td>\n",
       "      <td>...</td>\n",
       "      <td>...</td>\n",
       "      <td>...</td>\n",
       "      <td>...</td>\n",
       "      <td>...</td>\n",
       "      <td>...</td>\n",
       "      <td>...</td>\n",
       "      <td>...</td>\n",
       "      <td>...</td>\n",
       "      <td>...</td>\n",
       "      <td>...</td>\n",
       "    </tr>\n",
       "    <tr>\n",
       "      <th>ENSMUSG00000118636.1</th>\n",
       "      <td>2.000029</td>\n",
       "      <td>1.000015</td>\n",
       "      <td>1.000015</td>\n",
       "      <td>2.000030</td>\n",
       "      <td>5.000074</td>\n",
       "      <td>3.000044</td>\n",
       "      <td>3.000045</td>\n",
       "      <td>1.000015</td>\n",
       "      <td>3.000044</td>\n",
       "      <td>0.000000</td>\n",
       "      <td>2.000030</td>\n",
       "      <td>4.000060</td>\n",
       "      <td>3.000044</td>\n",
       "      <td>1.000015</td>\n",
       "      <td>3.000045</td>\n",
       "      <td>2.000030</td>\n",
       "    </tr>\n",
       "    <tr>\n",
       "      <th>ENSMUSG00000118637.1</th>\n",
       "      <td>0.000000</td>\n",
       "      <td>0.000000</td>\n",
       "      <td>0.000000</td>\n",
       "      <td>0.000000</td>\n",
       "      <td>0.000000</td>\n",
       "      <td>0.000000</td>\n",
       "      <td>0.000000</td>\n",
       "      <td>0.000000</td>\n",
       "      <td>0.000000</td>\n",
       "      <td>0.000000</td>\n",
       "      <td>0.000000</td>\n",
       "      <td>0.000000</td>\n",
       "      <td>0.000000</td>\n",
       "      <td>0.000000</td>\n",
       "      <td>0.000000</td>\n",
       "      <td>0.000000</td>\n",
       "    </tr>\n",
       "    <tr>\n",
       "      <th>ENSMUSG00000118638.1</th>\n",
       "      <td>0.000000</td>\n",
       "      <td>0.000000</td>\n",
       "      <td>0.000000</td>\n",
       "      <td>0.000000</td>\n",
       "      <td>0.000000</td>\n",
       "      <td>0.000000</td>\n",
       "      <td>0.000000</td>\n",
       "      <td>0.000000</td>\n",
       "      <td>1.000032</td>\n",
       "      <td>0.000000</td>\n",
       "      <td>0.000000</td>\n",
       "      <td>0.000000</td>\n",
       "      <td>0.000000</td>\n",
       "      <td>0.000000</td>\n",
       "      <td>0.999977</td>\n",
       "      <td>0.000000</td>\n",
       "    </tr>\n",
       "    <tr>\n",
       "      <th>ENSMUSG00000118639.1</th>\n",
       "      <td>0.000000</td>\n",
       "      <td>0.000000</td>\n",
       "      <td>0.000000</td>\n",
       "      <td>0.000000</td>\n",
       "      <td>0.000000</td>\n",
       "      <td>0.000000</td>\n",
       "      <td>0.000000</td>\n",
       "      <td>0.000000</td>\n",
       "      <td>0.000000</td>\n",
       "      <td>0.000000</td>\n",
       "      <td>0.000000</td>\n",
       "      <td>0.000000</td>\n",
       "      <td>0.000000</td>\n",
       "      <td>0.000000</td>\n",
       "      <td>0.000000</td>\n",
       "      <td>0.000000</td>\n",
       "    </tr>\n",
       "    <tr>\n",
       "      <th>ENSMUSG00000118640.1</th>\n",
       "      <td>0.000000</td>\n",
       "      <td>0.000000</td>\n",
       "      <td>0.000000</td>\n",
       "      <td>0.000000</td>\n",
       "      <td>0.000000</td>\n",
       "      <td>0.000000</td>\n",
       "      <td>0.000000</td>\n",
       "      <td>0.999990</td>\n",
       "      <td>0.499995</td>\n",
       "      <td>0.000000</td>\n",
       "      <td>0.000000</td>\n",
       "      <td>0.000000</td>\n",
       "      <td>0.000000</td>\n",
       "      <td>0.000000</td>\n",
       "      <td>0.000000</td>\n",
       "      <td>0.000000</td>\n",
       "    </tr>\n",
       "  </tbody>\n",
       "</table>\n",
       "<p>54331 rows × 16 columns</p>\n",
       "</div>"
      ],
      "text/plain": [
       "                       forebrain_E13.5_2  forebrain_P0_2  forebrain_E12.5_1  \\\n",
       "ENSMUSG00000000001.4        11963.999549     8311.999614       17287.999636   \n",
       "ENSMUSG00000000003.15           0.000000        0.000000           0.000000   \n",
       "ENSMUSG00000000028.15        2043.214448      283.999985        3024.005822   \n",
       "ENSMUSG00000000031.16         985.999960      610.999967        2379.999942   \n",
       "ENSMUSG00000000037.17         235.000077      142.000137         483.000019   \n",
       "...                                  ...             ...                ...   \n",
       "ENSMUSG00000118636.1            2.000029        1.000015           1.000015   \n",
       "ENSMUSG00000118637.1            0.000000        0.000000           0.000000   \n",
       "ENSMUSG00000118638.1            0.000000        0.000000           0.000000   \n",
       "ENSMUSG00000118639.1            0.000000        0.000000           0.000000   \n",
       "ENSMUSG00000118640.1            0.000000        0.000000           0.000000   \n",
       "\n",
       "                       forebrain_E14.5_1  forebrain_E15.5_2  \\\n",
       "ENSMUSG00000000001.4        10750.999694        9958.999556   \n",
       "ENSMUSG00000000003.15           0.000000           0.000000   \n",
       "ENSMUSG00000000028.15        1428.142436         974.013277   \n",
       "ENSMUSG00000000031.16        1058.999957         931.999994   \n",
       "ENSMUSG00000000037.17         289.000014         211.000080   \n",
       "...                                  ...                ...   \n",
       "ENSMUSG00000118636.1            2.000030           5.000074   \n",
       "ENSMUSG00000118637.1            0.000000           0.000000   \n",
       "ENSMUSG00000118638.1            0.000000           0.000000   \n",
       "ENSMUSG00000118639.1            0.000000           0.000000   \n",
       "ENSMUSG00000118640.1            0.000000           0.000000   \n",
       "\n",
       "                       forebrain_E12.5_2  forebrain_P0_1  forebrain_E13.5_1  \\\n",
       "ENSMUSG00000000001.4        17480.999687     8660.999877       11523.999548   \n",
       "ENSMUSG00000000003.15           0.000000        0.000000           0.000000   \n",
       "ENSMUSG00000000028.15        3026.258085      230.000066        2011.011893   \n",
       "ENSMUSG00000000031.16        3216.999929      578.000018         919.999919   \n",
       "ENSMUSG00000000037.17         464.999994      181.000134         266.000021   \n",
       "...                                  ...             ...                ...   \n",
       "ENSMUSG00000118636.1            3.000044        3.000045           1.000015   \n",
       "ENSMUSG00000118637.1            0.000000        0.000000           0.000000   \n",
       "ENSMUSG00000118638.1            0.000000        0.000000           0.000000   \n",
       "ENSMUSG00000118639.1            0.000000        0.000000           0.000000   \n",
       "ENSMUSG00000118640.1            0.000000        0.000000           0.999990   \n",
       "\n",
       "                       forebrain_E15.5_1  forebrain_E14.5_2  \\\n",
       "ENSMUSG00000000001.4        11127.999598        9458.999830   \n",
       "ENSMUSG00000000003.15           0.000000           0.000000   \n",
       "ENSMUSG00000000028.15         969.055625        1038.034104   \n",
       "ENSMUSG00000000031.16         903.999928         908.999972   \n",
       "ENSMUSG00000000037.17         283.999942         224.999992   \n",
       "...                                  ...                ...   \n",
       "ENSMUSG00000118636.1            3.000044           0.000000   \n",
       "ENSMUSG00000118637.1            0.000000           0.000000   \n",
       "ENSMUSG00000118638.1            1.000032           0.000000   \n",
       "ENSMUSG00000118639.1            0.000000           0.000000   \n",
       "ENSMUSG00000118640.1            0.499995           0.000000   \n",
       "\n",
       "                       forebrain_E10.5_1  forebrain_E11.5_2  \\\n",
       "ENSMUSG00000000001.4        16155.999859       12384.999835   \n",
       "ENSMUSG00000000003.15           0.000000           0.000000   \n",
       "ENSMUSG00000000028.15        3997.351217        2662.011545   \n",
       "ENSMUSG00000000031.16        4060.999927        2563.000001   \n",
       "ENSMUSG00000000037.17         355.000000         405.999957   \n",
       "...                                  ...                ...   \n",
       "ENSMUSG00000118636.1            2.000030           4.000060   \n",
       "ENSMUSG00000118637.1            0.000000           0.000000   \n",
       "ENSMUSG00000118638.1            0.000000           0.000000   \n",
       "ENSMUSG00000118639.1            0.000000           0.000000   \n",
       "ENSMUSG00000118640.1            0.000000           0.000000   \n",
       "\n",
       "                       forebrain_E16.5_1  forebrain_E11.5_1  \\\n",
       "ENSMUSG00000000001.4         7995.999807        8477.999884   \n",
       "ENSMUSG00000000003.15           0.000000           0.000000   \n",
       "ENSMUSG00000000028.15         653.020094        1944.011126   \n",
       "ENSMUSG00000000031.16         653.999991        1920.999955   \n",
       "ENSMUSG00000000037.17         188.000010         212.000003   \n",
       "...                                  ...                ...   \n",
       "ENSMUSG00000118636.1            3.000044           1.000015   \n",
       "ENSMUSG00000118637.1            0.000000           0.000000   \n",
       "ENSMUSG00000118638.1            0.000000           0.000000   \n",
       "ENSMUSG00000118639.1            0.000000           0.000000   \n",
       "ENSMUSG00000118640.1            0.000000           0.000000   \n",
       "\n",
       "                       forebrain_E10.5_2  forebrain_E16.5_2  \n",
       "ENSMUSG00000000001.4        14367.999857        8364.999786  \n",
       "ENSMUSG00000000003.15           0.000000           0.000000  \n",
       "ENSMUSG00000000028.15        3665.999943         620.083455  \n",
       "ENSMUSG00000000031.16        4204.999975         865.999992  \n",
       "ENSMUSG00000000037.17         282.999968         173.999935  \n",
       "...                                  ...                ...  \n",
       "ENSMUSG00000118636.1            3.000045           2.000030  \n",
       "ENSMUSG00000118637.1            0.000000           0.000000  \n",
       "ENSMUSG00000118638.1            0.999977           0.000000  \n",
       "ENSMUSG00000118639.1            0.000000           0.000000  \n",
       "ENSMUSG00000118640.1            0.000000           0.000000  \n",
       "\n",
       "[54331 rows x 16 columns]"
      ]
     },
     "execution_count": 25,
     "metadata": {},
     "output_type": "execute_result"
    }
   ],
   "source": [
    "counts_df = total_quant.loc[:, total_quant.columns.str.endswith('Counts')]\n",
    "counts_df.columns = counts_df.columns.str[:-7]\n",
    "counts_df"
   ]
  },
  {
   "cell_type": "code",
   "execution_count": 26,
   "metadata": {
    "ExecuteTime": {
     "end_time": "2020-06-01T07:29:08.200163Z",
     "start_time": "2020-06-01T07:29:05.728013Z"
    }
   },
   "outputs": [],
   "source": [
    "counts_df.to_csv('DevFB.16sample.counts_for_DEG.csv.gz')"
   ]
  },
  {
   "cell_type": "markdown",
   "metadata": {},
   "source": [
    "### Make a sample table for experiment design"
   ]
  },
  {
   "cell_type": "code",
   "execution_count": 31,
   "metadata": {
    "ExecuteTime": {
     "end_time": "2020-06-01T07:31:23.181724Z",
     "start_time": "2020-06-01T07:31:23.169988Z"
    }
   },
   "outputs": [
    {
     "data": {
      "text/html": [
       "<div>\n",
       "<style scoped>\n",
       "    .dataframe tbody tr th:only-of-type {\n",
       "        vertical-align: middle;\n",
       "    }\n",
       "\n",
       "    .dataframe tbody tr th {\n",
       "        vertical-align: top;\n",
       "    }\n",
       "\n",
       "    .dataframe thead th {\n",
       "        text-align: right;\n",
       "    }\n",
       "</style>\n",
       "<table border=\"1\" class=\"dataframe\">\n",
       "  <thead>\n",
       "    <tr style=\"text-align: right;\">\n",
       "      <th></th>\n",
       "      <th>Tissue</th>\n",
       "      <th>Time</th>\n",
       "      <th>Replicate</th>\n",
       "    </tr>\n",
       "  </thead>\n",
       "  <tbody>\n",
       "    <tr>\n",
       "      <th>forebrain_E13.5_2</th>\n",
       "      <td>forebrain</td>\n",
       "      <td>E13.5</td>\n",
       "      <td>2</td>\n",
       "    </tr>\n",
       "    <tr>\n",
       "      <th>forebrain_P0_2</th>\n",
       "      <td>forebrain</td>\n",
       "      <td>P0</td>\n",
       "      <td>2</td>\n",
       "    </tr>\n",
       "    <tr>\n",
       "      <th>forebrain_E12.5_1</th>\n",
       "      <td>forebrain</td>\n",
       "      <td>E12.5</td>\n",
       "      <td>1</td>\n",
       "    </tr>\n",
       "    <tr>\n",
       "      <th>forebrain_E14.5_1</th>\n",
       "      <td>forebrain</td>\n",
       "      <td>E14.5</td>\n",
       "      <td>1</td>\n",
       "    </tr>\n",
       "    <tr>\n",
       "      <th>forebrain_E15.5_2</th>\n",
       "      <td>forebrain</td>\n",
       "      <td>E15.5</td>\n",
       "      <td>2</td>\n",
       "    </tr>\n",
       "    <tr>\n",
       "      <th>forebrain_E12.5_2</th>\n",
       "      <td>forebrain</td>\n",
       "      <td>E12.5</td>\n",
       "      <td>2</td>\n",
       "    </tr>\n",
       "    <tr>\n",
       "      <th>forebrain_P0_1</th>\n",
       "      <td>forebrain</td>\n",
       "      <td>P0</td>\n",
       "      <td>1</td>\n",
       "    </tr>\n",
       "    <tr>\n",
       "      <th>forebrain_E13.5_1</th>\n",
       "      <td>forebrain</td>\n",
       "      <td>E13.5</td>\n",
       "      <td>1</td>\n",
       "    </tr>\n",
       "    <tr>\n",
       "      <th>forebrain_E15.5_1</th>\n",
       "      <td>forebrain</td>\n",
       "      <td>E15.5</td>\n",
       "      <td>1</td>\n",
       "    </tr>\n",
       "    <tr>\n",
       "      <th>forebrain_E14.5_2</th>\n",
       "      <td>forebrain</td>\n",
       "      <td>E14.5</td>\n",
       "      <td>2</td>\n",
       "    </tr>\n",
       "    <tr>\n",
       "      <th>forebrain_E10.5_1</th>\n",
       "      <td>forebrain</td>\n",
       "      <td>E10.5</td>\n",
       "      <td>1</td>\n",
       "    </tr>\n",
       "    <tr>\n",
       "      <th>forebrain_E11.5_2</th>\n",
       "      <td>forebrain</td>\n",
       "      <td>E11.5</td>\n",
       "      <td>2</td>\n",
       "    </tr>\n",
       "    <tr>\n",
       "      <th>forebrain_E16.5_1</th>\n",
       "      <td>forebrain</td>\n",
       "      <td>E16.5</td>\n",
       "      <td>1</td>\n",
       "    </tr>\n",
       "    <tr>\n",
       "      <th>forebrain_E11.5_1</th>\n",
       "      <td>forebrain</td>\n",
       "      <td>E11.5</td>\n",
       "      <td>1</td>\n",
       "    </tr>\n",
       "    <tr>\n",
       "      <th>forebrain_E10.5_2</th>\n",
       "      <td>forebrain</td>\n",
       "      <td>E10.5</td>\n",
       "      <td>2</td>\n",
       "    </tr>\n",
       "    <tr>\n",
       "      <th>forebrain_E16.5_2</th>\n",
       "      <td>forebrain</td>\n",
       "      <td>E16.5</td>\n",
       "      <td>2</td>\n",
       "    </tr>\n",
       "  </tbody>\n",
       "</table>\n",
       "</div>"
      ],
      "text/plain": [
       "                      Tissue   Time Replicate\n",
       "forebrain_E13.5_2  forebrain  E13.5         2\n",
       "forebrain_P0_2     forebrain     P0         2\n",
       "forebrain_E12.5_1  forebrain  E12.5         1\n",
       "forebrain_E14.5_1  forebrain  E14.5         1\n",
       "forebrain_E15.5_2  forebrain  E15.5         2\n",
       "forebrain_E12.5_2  forebrain  E12.5         2\n",
       "forebrain_P0_1     forebrain     P0         1\n",
       "forebrain_E13.5_1  forebrain  E13.5         1\n",
       "forebrain_E15.5_1  forebrain  E15.5         1\n",
       "forebrain_E14.5_2  forebrain  E14.5         2\n",
       "forebrain_E10.5_1  forebrain  E10.5         1\n",
       "forebrain_E11.5_2  forebrain  E11.5         2\n",
       "forebrain_E16.5_1  forebrain  E16.5         1\n",
       "forebrain_E11.5_1  forebrain  E11.5         1\n",
       "forebrain_E10.5_2  forebrain  E10.5         2\n",
       "forebrain_E16.5_2  forebrain  E16.5         2"
      ]
     },
     "execution_count": 31,
     "metadata": {},
     "output_type": "execute_result"
    }
   ],
   "source": [
    "sample_table = pd.DataFrame([i.split('_') for i in counts_df.columns],\n",
    "                            index=counts_df.columns,\n",
    "                            columns=['Tissue', 'Time', 'Replicate'])\n",
    "sample_table"
   ]
  },
  {
   "cell_type": "code",
   "execution_count": 32,
   "metadata": {
    "ExecuteTime": {
     "end_time": "2020-06-01T07:31:38.473155Z",
     "start_time": "2020-06-01T07:31:38.453459Z"
    }
   },
   "outputs": [],
   "source": [
    "sample_table.to_csv('DevFB.16sample.design.csv.gz')"
   ]
  },
  {
   "cell_type": "code",
   "execution_count": null,
   "metadata": {},
   "outputs": [],
   "source": []
  }
 ],
 "metadata": {
  "kernelspec": {
   "display_name": "Python 3",
   "language": "python",
   "name": "python3"
  },
  "language_info": {
   "codemirror_mode": {
    "name": "ipython",
    "version": 3
   },
   "file_extension": ".py",
   "mimetype": "text/x-python",
   "name": "python",
   "nbconvert_exporter": "python",
   "pygments_lexer": "ipython3",
   "version": "3.7.6"
  },
  "toc": {
   "base_numbering": 1,
   "nav_menu": {},
   "number_sections": true,
   "sideBar": true,
   "skip_h1_title": true,
   "title_cell": "Table of Contents",
   "title_sidebar": "Contents",
   "toc_cell": false,
   "toc_position": {},
   "toc_section_display": true,
   "toc_window_display": true
  }
 },
 "nbformat": 4,
 "nbformat_minor": 4
}

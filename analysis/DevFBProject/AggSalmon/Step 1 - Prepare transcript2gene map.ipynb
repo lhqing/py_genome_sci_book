{
 "cells": [
  {
   "cell_type": "markdown",
   "metadata": {},
   "source": [
    "# Step 1 - Prepare transcript2gene map\n",
    "\n",
    "## Introduction\n",
    "The developmental forebrain dataset contain 16 samples, in our data preparation step, we used salmon to quantify transcript counts and the results were in 16 separate directories. The salmon quant results are in transcript level, however, for further DEG analysis, we would merge the result into gene level .\n",
    "\n",
    "## Things I do below\n",
    "1. I checked the content of one sample, to know the structure of the data\n",
    "2. I checked the content of our GENCODE vm24 GTF file, the same gene annotation file used in salmon index. We will keep use this file throughout the analysis. In a separate notebook, I will display more way of manipulating and extract informations from the GTF.\n",
    "3. I created a transcript to gene map csv file, which is needed in next notebook"
   ]
  },
  {
   "cell_type": "markdown",
   "metadata": {},
   "source": [
    "## Load Package"
   ]
  },
  {
   "cell_type": "code",
   "execution_count": 3,
   "metadata": {
    "ExecuteTime": {
     "end_time": "2020-05-31T06:06:54.438287Z",
     "start_time": "2020-05-31T06:06:51.726712Z"
    }
   },
   "outputs": [],
   "source": [
    "import pandas as pd\n",
    "import pathlib  # deal with file paths"
   ]
  },
  {
   "cell_type": "markdown",
   "metadata": {},
   "source": [
    "## Check out one sample first\n",
    "\n",
    "### Load one sample quant table"
   ]
  },
  {
   "cell_type": "code",
   "execution_count": 3,
   "metadata": {
    "ExecuteTime": {
     "end_time": "2020-05-31T05:00:12.986340Z",
     "start_time": "2020-05-31T05:00:12.977623Z"
    }
   },
   "outputs": [
    {
     "data": {
      "text/plain": [
       "PosixPath('../../../data/DevFB/quant')"
      ]
     },
     "execution_count": 3,
     "metadata": {},
     "output_type": "execute_result"
    }
   ],
   "source": [
    "# use relative path to navigate to the salmon quants dir\n",
    "# if this do not work, change to wherever you saved th salmon quants dirs.\n",
    "data_dir = '../../../data/DevFB/quant/'\n",
    "\n",
    "data_dir = pathlib.Path(data_dir)\n",
    "data_dir  # now data_dir is an Path obj, it has convenient functions to support path management"
   ]
  },
  {
   "cell_type": "code",
   "execution_count": 8,
   "metadata": {
    "ExecuteTime": {
     "end_time": "2020-05-31T05:01:12.009671Z",
     "start_time": "2020-05-31T05:01:12.006925Z"
    }
   },
   "outputs": [],
   "source": [
    "# Let's check out this sample first\n",
    "sample_id = 'forebrain_P0_1.quant'\n",
    "\n",
    "sample_quant_path = data_dir / f'{sample_id}/quant.sf'"
   ]
  },
  {
   "cell_type": "code",
   "execution_count": 13,
   "metadata": {
    "ExecuteTime": {
     "end_time": "2020-05-31T05:03:19.268590Z",
     "start_time": "2020-05-31T05:03:19.077405Z"
    }
   },
   "outputs": [
    {
     "name": "stdout",
     "output_type": "stream",
     "text": [
      "(140948, 4)\n"
     ]
    },
    {
     "data": {
      "text/html": [
       "<div>\n",
       "<style scoped>\n",
       "    .dataframe tbody tr th:only-of-type {\n",
       "        vertical-align: middle;\n",
       "    }\n",
       "\n",
       "    .dataframe tbody tr th {\n",
       "        vertical-align: top;\n",
       "    }\n",
       "\n",
       "    .dataframe thead th {\n",
       "        text-align: right;\n",
       "    }\n",
       "</style>\n",
       "<table border=\"1\" class=\"dataframe\">\n",
       "  <thead>\n",
       "    <tr style=\"text-align: right;\">\n",
       "      <th></th>\n",
       "      <th>Length</th>\n",
       "      <th>EffectiveLength</th>\n",
       "      <th>TPM</th>\n",
       "      <th>NumReads</th>\n",
       "    </tr>\n",
       "    <tr>\n",
       "      <th>Name</th>\n",
       "      <th></th>\n",
       "      <th></th>\n",
       "      <th></th>\n",
       "      <th></th>\n",
       "    </tr>\n",
       "  </thead>\n",
       "  <tbody>\n",
       "    <tr>\n",
       "      <th>ENSMUST00000193812.1</th>\n",
       "      <td>1070</td>\n",
       "      <td>821.000</td>\n",
       "      <td>0.150564</td>\n",
       "      <td>5.000</td>\n",
       "    </tr>\n",
       "    <tr>\n",
       "      <th>ENSMUST00000082908.1</th>\n",
       "      <td>110</td>\n",
       "      <td>4.749</td>\n",
       "      <td>0.000000</td>\n",
       "      <td>0.000</td>\n",
       "    </tr>\n",
       "    <tr>\n",
       "      <th>ENSMUST00000162897.1</th>\n",
       "      <td>4153</td>\n",
       "      <td>3904.000</td>\n",
       "      <td>0.748282</td>\n",
       "      <td>118.163</td>\n",
       "    </tr>\n",
       "    <tr>\n",
       "      <th>ENSMUST00000159265.1</th>\n",
       "      <td>2989</td>\n",
       "      <td>2740.000</td>\n",
       "      <td>0.583525</td>\n",
       "      <td>64.672</td>\n",
       "    </tr>\n",
       "    <tr>\n",
       "      <th>ENSMUST00000070533.4</th>\n",
       "      <td>3634</td>\n",
       "      <td>3385.000</td>\n",
       "      <td>2.060818</td>\n",
       "      <td>282.165</td>\n",
       "    </tr>\n",
       "  </tbody>\n",
       "</table>\n",
       "</div>"
      ],
      "text/plain": [
       "                      Length  EffectiveLength       TPM  NumReads\n",
       "Name                                                             \n",
       "ENSMUST00000193812.1    1070          821.000  0.150564     5.000\n",
       "ENSMUST00000082908.1     110            4.749  0.000000     0.000\n",
       "ENSMUST00000162897.1    4153         3904.000  0.748282   118.163\n",
       "ENSMUST00000159265.1    2989         2740.000  0.583525    64.672\n",
       "ENSMUST00000070533.4    3634         3385.000  2.060818   282.165"
      ]
     },
     "execution_count": 13,
     "metadata": {},
     "output_type": "execute_result"
    }
   ],
   "source": [
    "quant_df = pd.read_csv(sample_quant_path, sep='\\t', \n",
    "                       index_col='Name')\n",
    "# read_csv() can read tsv too, just use sep='\\t'\n",
    "# index_col tell the function which column can be row names. \n",
    "# If index_col=None, the index will be default int index, you can try it yourself\n",
    "\n",
    "print(quant_df.shape)  # this table has (N_rows, N_columns)\n",
    "quant_df.head()"
   ]
  },
  {
   "cell_type": "markdown",
   "metadata": {},
   "source": [
    "### Stop and read salmon's documentation\n",
    "\n",
    "Now that we have salmon's output table, we saw several columns. Although the name is kind of friendly, it's always good to fully understand what are they before we proceed. \n",
    "\n",
    "[Here](https://salmon.readthedocs.io/en/latest/file_formats.html) is salmon's documentation about their output format. I copied the column explaination here:\n",
    "- Name — This is the name of the target transcript provided in the input transcript database (FASTA file).\n",
    "- Length — This is the length of the target transcript in nucleotides.\n",
    "- EffectiveLength — This is the computed effective length of the target transcript. It takes into account all factors being modeled that will effect the probability of sampling fragments from this transcript, including the fragment length distribution and sequence-specific and gc-fragment bias (if they are being modeled).\n",
    "- TPM — This is salmon’s estimate of the relative abundance of this transcript in units of Transcripts Per Million (TPM). TPM is the recommended relative abundance measure to use for downstream analysis.\n",
    "- NumReads — This is salmon’s estimate of the number of reads mapping to each transcript that was quantified. It is an “estimate” insofar as it is the expected number of reads that have originated from each transcript given the structure of the uniquely mapping and multi-mapping reads and the relative abundance estimates for each transcript.\n",
    "\n",
    "Note: **TPM is an important term in RNA-seq**, everyone needs to know how it's calculated. If you don't, [check out this page and the video](https://www.rna-seqblog.com/rpkm-fpkm-and-tpm-clearly-explained/)\n"
   ]
  },
  {
   "cell_type": "markdown",
   "metadata": {},
   "source": [
    "## Now let's focus on the index\n",
    "\n",
    "### Important Note\n",
    "Salmon generate transcript-level quantification, the index of the above quant dataframe are transcript ids of mouse genes, we need to create a dict to annotate their corresponding gene ids. To do so, we need the gtf file we used in creating salmon index.\n",
    "\n",
    "### More about IDs\n",
    "\n",
    "In database like GENCODE/ensembl or NCBI, gene, transcripts and protein all has different IDs.\n",
    "\n",
    "GENCODE and ensembl share the same ID pattern, which is also recommend to use in RNA-seq analysis for human and mouse. But you will also see NCBI RefSeq ID a lot.\n",
    "\n",
    "Use mouse ensembl/GENCODE as example:\n",
    "- ENSMUST... is transcript ID\n",
    "- ENSMUSG... is gene ID\n",
    "\n",
    "For human ensembl/GENCODE:\n",
    "- ENST... is transcript ID\n",
    "- ENSG... is gene ID"
   ]
  },
  {
   "cell_type": "markdown",
   "metadata": {},
   "source": [
    "## Create transcript2gene dict using GTF file"
   ]
  },
  {
   "cell_type": "code",
   "execution_count": 18,
   "metadata": {
    "ExecuteTime": {
     "end_time": "2020-05-31T06:23:13.996983Z",
     "start_time": "2020-05-31T06:23:04.009476Z"
    }
   },
   "outputs": [
    {
     "data": {
      "text/html": [
       "<div>\n",
       "<style scoped>\n",
       "    .dataframe tbody tr th:only-of-type {\n",
       "        vertical-align: middle;\n",
       "    }\n",
       "\n",
       "    .dataframe tbody tr th {\n",
       "        vertical-align: top;\n",
       "    }\n",
       "\n",
       "    .dataframe thead th {\n",
       "        text-align: right;\n",
       "    }\n",
       "</style>\n",
       "<table border=\"1\" class=\"dataframe\">\n",
       "  <thead>\n",
       "    <tr style=\"text-align: right;\">\n",
       "      <th></th>\n",
       "      <th>chrom</th>\n",
       "      <th>source</th>\n",
       "      <th>feature</th>\n",
       "      <th>start</th>\n",
       "      <th>end</th>\n",
       "      <th>na1</th>\n",
       "      <th>strand</th>\n",
       "      <th>na2</th>\n",
       "      <th>annotation</th>\n",
       "    </tr>\n",
       "  </thead>\n",
       "  <tbody>\n",
       "    <tr>\n",
       "      <th>0</th>\n",
       "      <td>chr1</td>\n",
       "      <td>HAVANA</td>\n",
       "      <td>gene</td>\n",
       "      <td>3073253</td>\n",
       "      <td>3074322</td>\n",
       "      <td>.</td>\n",
       "      <td>+</td>\n",
       "      <td>.</td>\n",
       "      <td>gene_id \"ENSMUSG00000102693.1\"; gene_type \"TEC...</td>\n",
       "    </tr>\n",
       "    <tr>\n",
       "      <th>1</th>\n",
       "      <td>chr1</td>\n",
       "      <td>HAVANA</td>\n",
       "      <td>transcript</td>\n",
       "      <td>3073253</td>\n",
       "      <td>3074322</td>\n",
       "      <td>.</td>\n",
       "      <td>+</td>\n",
       "      <td>.</td>\n",
       "      <td>gene_id \"ENSMUSG00000102693.1\"; transcript_id ...</td>\n",
       "    </tr>\n",
       "    <tr>\n",
       "      <th>2</th>\n",
       "      <td>chr1</td>\n",
       "      <td>HAVANA</td>\n",
       "      <td>exon</td>\n",
       "      <td>3073253</td>\n",
       "      <td>3074322</td>\n",
       "      <td>.</td>\n",
       "      <td>+</td>\n",
       "      <td>.</td>\n",
       "      <td>gene_id \"ENSMUSG00000102693.1\"; transcript_id ...</td>\n",
       "    </tr>\n",
       "    <tr>\n",
       "      <th>3</th>\n",
       "      <td>chr1</td>\n",
       "      <td>ENSEMBL</td>\n",
       "      <td>gene</td>\n",
       "      <td>3102016</td>\n",
       "      <td>3102125</td>\n",
       "      <td>.</td>\n",
       "      <td>+</td>\n",
       "      <td>.</td>\n",
       "      <td>gene_id \"ENSMUSG00000064842.1\"; gene_type \"snR...</td>\n",
       "    </tr>\n",
       "    <tr>\n",
       "      <th>4</th>\n",
       "      <td>chr1</td>\n",
       "      <td>ENSEMBL</td>\n",
       "      <td>transcript</td>\n",
       "      <td>3102016</td>\n",
       "      <td>3102125</td>\n",
       "      <td>.</td>\n",
       "      <td>+</td>\n",
       "      <td>.</td>\n",
       "      <td>gene_id \"ENSMUSG00000064842.1\"; transcript_id ...</td>\n",
       "    </tr>\n",
       "  </tbody>\n",
       "</table>\n",
       "</div>"
      ],
      "text/plain": [
       "  chrom   source     feature    start      end na1 strand na2  \\\n",
       "0  chr1   HAVANA        gene  3073253  3074322   .      +   .   \n",
       "1  chr1   HAVANA  transcript  3073253  3074322   .      +   .   \n",
       "2  chr1   HAVANA        exon  3073253  3074322   .      +   .   \n",
       "3  chr1  ENSEMBL        gene  3102016  3102125   .      +   .   \n",
       "4  chr1  ENSEMBL  transcript  3102016  3102125   .      +   .   \n",
       "\n",
       "                                          annotation  \n",
       "0  gene_id \"ENSMUSG00000102693.1\"; gene_type \"TEC...  \n",
       "1  gene_id \"ENSMUSG00000102693.1\"; transcript_id ...  \n",
       "2  gene_id \"ENSMUSG00000102693.1\"; transcript_id ...  \n",
       "3  gene_id \"ENSMUSG00000064842.1\"; gene_type \"snR...  \n",
       "4  gene_id \"ENSMUSG00000064842.1\"; transcript_id ...  "
      ]
     },
     "execution_count": 18,
     "metadata": {},
     "output_type": "execute_result"
    }
   ],
   "source": [
    "# gtf table has some spetial formats, we need to set more parameters when read it in,\n",
    "# here I just provide you the answer, you can search pandas.read_csv() documentation for more information\n",
    "gtf = pd.read_csv(\n",
    "    '../../../data/ref/GENCODEvM24/gencode.vM24.annotation.gtf.gz',\n",
    "    comment='#',\n",
    "    sep='\\t',\n",
    "    header=None,\n",
    "    names=[\n",
    "        'chrom', 'source', 'feature', 'start', 'end', 'na1', 'strand', 'na2',\n",
    "        'annotation'\n",
    "    ])\n",
    "gtf.head()"
   ]
  },
  {
   "cell_type": "code",
   "execution_count": 19,
   "metadata": {
    "ExecuteTime": {
     "end_time": "2020-05-31T06:26:27.564071Z",
     "start_time": "2020-05-31T06:26:27.343005Z"
    }
   },
   "outputs": [
    {
     "data": {
      "text/plain": [
       "exon              842873\n",
       "CDS               528267\n",
       "UTR               185941\n",
       "transcript        142552\n",
       "start_codon        59973\n",
       "stop_codon         55713\n",
       "gene               55385\n",
       "Selenocysteine        65\n",
       "Name: feature, dtype: int64"
      ]
     },
     "execution_count": 19,
     "metadata": {},
     "output_type": "execute_result"
    }
   ],
   "source": [
    "# gtf contain different type of features\n",
    "gtf['feature'].value_counts()"
   ]
  },
  {
   "cell_type": "code",
   "execution_count": 39,
   "metadata": {
    "ExecuteTime": {
     "end_time": "2020-05-31T06:42:40.194965Z",
     "start_time": "2020-05-31T06:42:40.023904Z"
    }
   },
   "outputs": [
    {
     "name": "stdout",
     "output_type": "stream",
     "text": [
      "(142552, 9)\n"
     ]
    },
    {
     "data": {
      "text/html": [
       "<div>\n",
       "<style scoped>\n",
       "    .dataframe tbody tr th:only-of-type {\n",
       "        vertical-align: middle;\n",
       "    }\n",
       "\n",
       "    .dataframe tbody tr th {\n",
       "        vertical-align: top;\n",
       "    }\n",
       "\n",
       "    .dataframe thead th {\n",
       "        text-align: right;\n",
       "    }\n",
       "</style>\n",
       "<table border=\"1\" class=\"dataframe\">\n",
       "  <thead>\n",
       "    <tr style=\"text-align: right;\">\n",
       "      <th></th>\n",
       "      <th>chrom</th>\n",
       "      <th>source</th>\n",
       "      <th>feature</th>\n",
       "      <th>start</th>\n",
       "      <th>end</th>\n",
       "      <th>na1</th>\n",
       "      <th>strand</th>\n",
       "      <th>na2</th>\n",
       "      <th>annotation</th>\n",
       "    </tr>\n",
       "  </thead>\n",
       "  <tbody>\n",
       "    <tr>\n",
       "      <th>1</th>\n",
       "      <td>chr1</td>\n",
       "      <td>HAVANA</td>\n",
       "      <td>transcript</td>\n",
       "      <td>3073253</td>\n",
       "      <td>3074322</td>\n",
       "      <td>.</td>\n",
       "      <td>+</td>\n",
       "      <td>.</td>\n",
       "      <td>gene_id \"ENSMUSG00000102693.1\"; transcript_id ...</td>\n",
       "    </tr>\n",
       "    <tr>\n",
       "      <th>4</th>\n",
       "      <td>chr1</td>\n",
       "      <td>ENSEMBL</td>\n",
       "      <td>transcript</td>\n",
       "      <td>3102016</td>\n",
       "      <td>3102125</td>\n",
       "      <td>.</td>\n",
       "      <td>+</td>\n",
       "      <td>.</td>\n",
       "      <td>gene_id \"ENSMUSG00000064842.1\"; transcript_id ...</td>\n",
       "    </tr>\n",
       "    <tr>\n",
       "      <th>7</th>\n",
       "      <td>chr1</td>\n",
       "      <td>HAVANA</td>\n",
       "      <td>transcript</td>\n",
       "      <td>3205901</td>\n",
       "      <td>3216344</td>\n",
       "      <td>.</td>\n",
       "      <td>-</td>\n",
       "      <td>.</td>\n",
       "      <td>gene_id \"ENSMUSG00000051951.5\"; transcript_id ...</td>\n",
       "    </tr>\n",
       "    <tr>\n",
       "      <th>10</th>\n",
       "      <td>chr1</td>\n",
       "      <td>HAVANA</td>\n",
       "      <td>transcript</td>\n",
       "      <td>3206523</td>\n",
       "      <td>3215632</td>\n",
       "      <td>.</td>\n",
       "      <td>-</td>\n",
       "      <td>.</td>\n",
       "      <td>gene_id \"ENSMUSG00000051951.5\"; transcript_id ...</td>\n",
       "    </tr>\n",
       "    <tr>\n",
       "      <th>13</th>\n",
       "      <td>chr1</td>\n",
       "      <td>HAVANA</td>\n",
       "      <td>transcript</td>\n",
       "      <td>3214482</td>\n",
       "      <td>3671498</td>\n",
       "      <td>.</td>\n",
       "      <td>-</td>\n",
       "      <td>.</td>\n",
       "      <td>gene_id \"ENSMUSG00000051951.5\"; transcript_id ...</td>\n",
       "    </tr>\n",
       "  </tbody>\n",
       "</table>\n",
       "</div>"
      ],
      "text/plain": [
       "   chrom   source     feature    start      end na1 strand na2  \\\n",
       "1   chr1   HAVANA  transcript  3073253  3074322   .      +   .   \n",
       "4   chr1  ENSEMBL  transcript  3102016  3102125   .      +   .   \n",
       "7   chr1   HAVANA  transcript  3205901  3216344   .      -   .   \n",
       "10  chr1   HAVANA  transcript  3206523  3215632   .      -   .   \n",
       "13  chr1   HAVANA  transcript  3214482  3671498   .      -   .   \n",
       "\n",
       "                                           annotation  \n",
       "1   gene_id \"ENSMUSG00000102693.1\"; transcript_id ...  \n",
       "4   gene_id \"ENSMUSG00000064842.1\"; transcript_id ...  \n",
       "7   gene_id \"ENSMUSG00000051951.5\"; transcript_id ...  \n",
       "10  gene_id \"ENSMUSG00000051951.5\"; transcript_id ...  \n",
       "13  gene_id \"ENSMUSG00000051951.5\"; transcript_id ...  "
      ]
     },
     "execution_count": 39,
     "metadata": {},
     "output_type": "execute_result"
    }
   ],
   "source": [
    "# here we only need those transcript rows, so we do a filter here\n",
    "# the transcript_gtf has 142552, its similar to our salmon quant table, which is a little bit less, \n",
    "# probably some transcripts are unmappable by salmon.\n",
    "transcript_gtf = gtf[gtf['feature'] == 'transcript'].copy()\n",
    "print(transcript_gtf.shape)\n",
    "transcript_gtf.head()"
   ]
  },
  {
   "cell_type": "markdown",
   "metadata": {},
   "source": [
    "### Extract gene_id from annotation column"
   ]
  },
  {
   "cell_type": "code",
   "execution_count": 40,
   "metadata": {
    "ExecuteTime": {
     "end_time": "2020-05-31T06:42:41.273736Z",
     "start_time": "2020-05-31T06:42:41.264896Z"
    }
   },
   "outputs": [
    {
     "data": {
      "text/plain": [
       "'gene_id \"ENSMUSG00000102693.1\"; transcript_id \"ENSMUST00000193812.1\"; gene_type \"TEC\"; gene_name \"4933401J01Rik\"; transcript_type \"TEC\"; transcript_name \"4933401J01Rik-201\"; level 2; transcript_support_level \"NA\"; mgi_id \"MGI:1918292\"; tag \"basic\"; havana_gene \"OTTMUSG00000049935.1\"; havana_transcript \"OTTMUST00000127109.1\";'"
      ]
     },
     "execution_count": 40,
     "metadata": {},
     "output_type": "execute_result"
    }
   ],
   "source": [
    "# the last column contains long annotation string, which you can see the gene_id is there\n",
    "example_annotation = transcript_gtf.iloc[0, -1]\n",
    "example_annotation"
   ]
  },
  {
   "cell_type": "code",
   "execution_count": 49,
   "metadata": {
    "ExecuteTime": {
     "end_time": "2020-05-31T06:45:33.184324Z",
     "start_time": "2020-05-31T06:45:33.178211Z"
    }
   },
   "outputs": [
    {
     "data": {
      "text/plain": [
       "'ENSMUSG00000102693.1'"
      ]
     },
     "execution_count": 49,
     "metadata": {},
     "output_type": "execute_result"
    }
   ],
   "source": [
    "# we need to extract the gene_id from this string. here is how I do this with a function\n",
    "\n",
    "def extract_gene_id(annotation):\n",
    "    kv_pairs = annotation.split(';')  # split into key-value pairs\n",
    "    for kv_pair in kv_pairs:  # iterate the key-value pairs\n",
    "        kv_pair = kv_pair.strip(' ')  # strip removed the space\n",
    "        if kv_pair.startswith('gene_id'):\n",
    "            _, gene_id = kv_pair.split(' ')\n",
    "            gene_id = gene_id.strip('\"')  # strip removed the \"\"\n",
    "            break\n",
    "    return gene_id\n",
    "\n",
    "extract_gene_id(example_annotation)"
   ]
  },
  {
   "cell_type": "code",
   "execution_count": 42,
   "metadata": {
    "ExecuteTime": {
     "end_time": "2020-05-31T06:42:42.182697Z",
     "start_time": "2020-05-31T06:42:41.942762Z"
    }
   },
   "outputs": [
    {
     "data": {
      "text/plain": [
       "1          ENSMUSG00000102693.1\n",
       "4          ENSMUSG00000064842.1\n",
       "7          ENSMUSG00000051951.5\n",
       "10         ENSMUSG00000051951.5\n",
       "13         ENSMUSG00000051951.5\n",
       "                   ...         \n",
       "1870749    ENSMUSG00000064368.1\n",
       "1870756    ENSMUSG00000064369.1\n",
       "1870759    ENSMUSG00000064370.1\n",
       "1870764    ENSMUSG00000064371.1\n",
       "1870767    ENSMUSG00000064372.1\n",
       "Name: annotation, Length: 142552, dtype: object"
      ]
     },
     "execution_count": 42,
     "metadata": {},
     "output_type": "execute_result"
    }
   ],
   "source": [
    "# now we need to apply this function on to each row of the transcript_gtf\n",
    "# there are two way to do this, I first show you the fast (i.e. correct) way:\n",
    "gene_ids = transcript_gtf['annotation'].apply(extract_gene_id)\n",
    "# it take ~250ms in my computer\n",
    "# search pandas.Dataframe.apply() see more about this function\n",
    "gene_ids"
   ]
  },
  {
   "cell_type": "code",
   "execution_count": 36,
   "metadata": {
    "ExecuteTime": {
     "end_time": "2020-05-31T06:41:40.269054Z",
     "start_time": "2020-05-31T06:41:39.937394Z"
    },
    "deletable": false,
    "editable": false,
    "run_control": {
     "frozen": true
    }
   },
   "outputs": [
    {
     "data": {
      "text/plain": [
       "1          ENSMUSG00000102693.1\n",
       "4          ENSMUSG00000064842.1\n",
       "7          ENSMUSG00000051951.5\n",
       "10         ENSMUSG00000051951.5\n",
       "13         ENSMUSG00000051951.5\n",
       "                   ...         \n",
       "1870749    ENSMUSG00000064368.1\n",
       "1870756    ENSMUSG00000064369.1\n",
       "1870759    ENSMUSG00000064370.1\n",
       "1870764    ENSMUSG00000064371.1\n",
       "1870767    ENSMUSG00000064372.1\n",
       "Length: 142552, dtype: object"
      ]
     },
     "execution_count": 36,
     "metadata": {},
     "output_type": "execute_result"
    }
   ],
   "source": [
    "# this is the slow way to achieve the same purpose,\n",
    "# I just want to demo that using correct pandas functions/methods can simplify your code, \n",
    "# and sometimes even make it faster\n",
    "# DO NOT USE THIS, USE THE ABOVE ONE\n",
    "\n",
    "# this is iterate the table and take the ann\n",
    "_gene_ids = []\n",
    "for annotation in transcript_gtf['annotation']:\n",
    "    _gene_ids.append(extract_gene_id(annotation))\n",
    "_gene_ids = pd.Series(_gene_ids, index=transcript_gtf.index)\n",
    "\n",
    "_gene_ids\n",
    "\n",
    "# the result is the same, but here we need to write more"
   ]
  },
  {
   "cell_type": "code",
   "execution_count": 45,
   "metadata": {
    "ExecuteTime": {
     "end_time": "2020-05-31T06:42:56.726578Z",
     "start_time": "2020-05-31T06:42:56.706330Z"
    }
   },
   "outputs": [
    {
     "name": "stdout",
     "output_type": "stream",
     "text": [
      "(142552, 10)\n"
     ]
    },
    {
     "data": {
      "text/html": [
       "<div>\n",
       "<style scoped>\n",
       "    .dataframe tbody tr th:only-of-type {\n",
       "        vertical-align: middle;\n",
       "    }\n",
       "\n",
       "    .dataframe tbody tr th {\n",
       "        vertical-align: top;\n",
       "    }\n",
       "\n",
       "    .dataframe thead th {\n",
       "        text-align: right;\n",
       "    }\n",
       "</style>\n",
       "<table border=\"1\" class=\"dataframe\">\n",
       "  <thead>\n",
       "    <tr style=\"text-align: right;\">\n",
       "      <th></th>\n",
       "      <th>chrom</th>\n",
       "      <th>source</th>\n",
       "      <th>feature</th>\n",
       "      <th>start</th>\n",
       "      <th>end</th>\n",
       "      <th>na1</th>\n",
       "      <th>strand</th>\n",
       "      <th>na2</th>\n",
       "      <th>annotation</th>\n",
       "      <th>gene_ids</th>\n",
       "    </tr>\n",
       "  </thead>\n",
       "  <tbody>\n",
       "    <tr>\n",
       "      <th>1</th>\n",
       "      <td>chr1</td>\n",
       "      <td>HAVANA</td>\n",
       "      <td>transcript</td>\n",
       "      <td>3073253</td>\n",
       "      <td>3074322</td>\n",
       "      <td>.</td>\n",
       "      <td>+</td>\n",
       "      <td>.</td>\n",
       "      <td>gene_id \"ENSMUSG00000102693.1\"; transcript_id ...</td>\n",
       "      <td>ENSMUSG00000102693.1</td>\n",
       "    </tr>\n",
       "    <tr>\n",
       "      <th>4</th>\n",
       "      <td>chr1</td>\n",
       "      <td>ENSEMBL</td>\n",
       "      <td>transcript</td>\n",
       "      <td>3102016</td>\n",
       "      <td>3102125</td>\n",
       "      <td>.</td>\n",
       "      <td>+</td>\n",
       "      <td>.</td>\n",
       "      <td>gene_id \"ENSMUSG00000064842.1\"; transcript_id ...</td>\n",
       "      <td>ENSMUSG00000064842.1</td>\n",
       "    </tr>\n",
       "    <tr>\n",
       "      <th>7</th>\n",
       "      <td>chr1</td>\n",
       "      <td>HAVANA</td>\n",
       "      <td>transcript</td>\n",
       "      <td>3205901</td>\n",
       "      <td>3216344</td>\n",
       "      <td>.</td>\n",
       "      <td>-</td>\n",
       "      <td>.</td>\n",
       "      <td>gene_id \"ENSMUSG00000051951.5\"; transcript_id ...</td>\n",
       "      <td>ENSMUSG00000051951.5</td>\n",
       "    </tr>\n",
       "    <tr>\n",
       "      <th>10</th>\n",
       "      <td>chr1</td>\n",
       "      <td>HAVANA</td>\n",
       "      <td>transcript</td>\n",
       "      <td>3206523</td>\n",
       "      <td>3215632</td>\n",
       "      <td>.</td>\n",
       "      <td>-</td>\n",
       "      <td>.</td>\n",
       "      <td>gene_id \"ENSMUSG00000051951.5\"; transcript_id ...</td>\n",
       "      <td>ENSMUSG00000051951.5</td>\n",
       "    </tr>\n",
       "    <tr>\n",
       "      <th>13</th>\n",
       "      <td>chr1</td>\n",
       "      <td>HAVANA</td>\n",
       "      <td>transcript</td>\n",
       "      <td>3214482</td>\n",
       "      <td>3671498</td>\n",
       "      <td>.</td>\n",
       "      <td>-</td>\n",
       "      <td>.</td>\n",
       "      <td>gene_id \"ENSMUSG00000051951.5\"; transcript_id ...</td>\n",
       "      <td>ENSMUSG00000051951.5</td>\n",
       "    </tr>\n",
       "  </tbody>\n",
       "</table>\n",
       "</div>"
      ],
      "text/plain": [
       "   chrom   source     feature    start      end na1 strand na2  \\\n",
       "1   chr1   HAVANA  transcript  3073253  3074322   .      +   .   \n",
       "4   chr1  ENSEMBL  transcript  3102016  3102125   .      +   .   \n",
       "7   chr1   HAVANA  transcript  3205901  3216344   .      -   .   \n",
       "10  chr1   HAVANA  transcript  3206523  3215632   .      -   .   \n",
       "13  chr1   HAVANA  transcript  3214482  3671498   .      -   .   \n",
       "\n",
       "                                           annotation              gene_ids  \n",
       "1   gene_id \"ENSMUSG00000102693.1\"; transcript_id ...  ENSMUSG00000102693.1  \n",
       "4   gene_id \"ENSMUSG00000064842.1\"; transcript_id ...  ENSMUSG00000064842.1  \n",
       "7   gene_id \"ENSMUSG00000051951.5\"; transcript_id ...  ENSMUSG00000051951.5  \n",
       "10  gene_id \"ENSMUSG00000051951.5\"; transcript_id ...  ENSMUSG00000051951.5  \n",
       "13  gene_id \"ENSMUSG00000051951.5\"; transcript_id ...  ENSMUSG00000051951.5  "
      ]
     },
     "execution_count": 45,
     "metadata": {},
     "output_type": "execute_result"
    }
   ],
   "source": [
    "# Now lets add gene_ids back to transcript_gtf\n",
    "transcript_gtf['gene_ids'] = gene_ids\n",
    "print(transcript_gtf.shape)\n",
    "transcript_gtf.head()"
   ]
  },
  {
   "cell_type": "markdown",
   "metadata": {},
   "source": [
    "### Extract transcript_id from annotation column"
   ]
  },
  {
   "cell_type": "code",
   "execution_count": 52,
   "metadata": {
    "ExecuteTime": {
     "end_time": "2020-05-31T06:46:30.864739Z",
     "start_time": "2020-05-31T06:46:30.858510Z"
    }
   },
   "outputs": [
    {
     "data": {
      "text/plain": [
       "'ENSMUST00000193812.1'"
      ]
     },
     "execution_count": 52,
     "metadata": {},
     "output_type": "execute_result"
    }
   ],
   "source": [
    "## similarly we need to extract transcript_id from annotation too\n",
    "# this time I will write a new function\n",
    "\n",
    "def extract_transcript_id(annotation):\n",
    "    kv_pairs = annotation.split(';')  # split into key-value pairs\n",
    "    for kv_pair in kv_pairs:  # iterate the key-value pairs\n",
    "        kv_pair = kv_pair.strip(' ')  # strip removed the space\n",
    "        if kv_pair.startswith('transcript_id'):\n",
    "            _, transcript_id = kv_pair.split(' ')\n",
    "            transcript_id = transcript_id.strip('\"')  # strip removed the \"\"\n",
    "            break\n",
    "    return transcript_id\n",
    "\n",
    "extract_transcript_id(example_annotation)"
   ]
  },
  {
   "cell_type": "code",
   "execution_count": 53,
   "metadata": {
    "ExecuteTime": {
     "end_time": "2020-05-31T06:46:31.490673Z",
     "start_time": "2020-05-31T06:46:31.141596Z"
    }
   },
   "outputs": [
    {
     "name": "stdout",
     "output_type": "stream",
     "text": [
      "(142552, 11)\n"
     ]
    },
    {
     "data": {
      "text/html": [
       "<div>\n",
       "<style scoped>\n",
       "    .dataframe tbody tr th:only-of-type {\n",
       "        vertical-align: middle;\n",
       "    }\n",
       "\n",
       "    .dataframe tbody tr th {\n",
       "        vertical-align: top;\n",
       "    }\n",
       "\n",
       "    .dataframe thead th {\n",
       "        text-align: right;\n",
       "    }\n",
       "</style>\n",
       "<table border=\"1\" class=\"dataframe\">\n",
       "  <thead>\n",
       "    <tr style=\"text-align: right;\">\n",
       "      <th></th>\n",
       "      <th>chrom</th>\n",
       "      <th>source</th>\n",
       "      <th>feature</th>\n",
       "      <th>start</th>\n",
       "      <th>end</th>\n",
       "      <th>na1</th>\n",
       "      <th>strand</th>\n",
       "      <th>na2</th>\n",
       "      <th>annotation</th>\n",
       "      <th>gene_ids</th>\n",
       "      <th>transcript_id</th>\n",
       "    </tr>\n",
       "  </thead>\n",
       "  <tbody>\n",
       "    <tr>\n",
       "      <th>1</th>\n",
       "      <td>chr1</td>\n",
       "      <td>HAVANA</td>\n",
       "      <td>transcript</td>\n",
       "      <td>3073253</td>\n",
       "      <td>3074322</td>\n",
       "      <td>.</td>\n",
       "      <td>+</td>\n",
       "      <td>.</td>\n",
       "      <td>gene_id \"ENSMUSG00000102693.1\"; transcript_id ...</td>\n",
       "      <td>ENSMUSG00000102693.1</td>\n",
       "      <td>ENSMUST00000193812.1</td>\n",
       "    </tr>\n",
       "    <tr>\n",
       "      <th>4</th>\n",
       "      <td>chr1</td>\n",
       "      <td>ENSEMBL</td>\n",
       "      <td>transcript</td>\n",
       "      <td>3102016</td>\n",
       "      <td>3102125</td>\n",
       "      <td>.</td>\n",
       "      <td>+</td>\n",
       "      <td>.</td>\n",
       "      <td>gene_id \"ENSMUSG00000064842.1\"; transcript_id ...</td>\n",
       "      <td>ENSMUSG00000064842.1</td>\n",
       "      <td>ENSMUST00000082908.1</td>\n",
       "    </tr>\n",
       "    <tr>\n",
       "      <th>7</th>\n",
       "      <td>chr1</td>\n",
       "      <td>HAVANA</td>\n",
       "      <td>transcript</td>\n",
       "      <td>3205901</td>\n",
       "      <td>3216344</td>\n",
       "      <td>.</td>\n",
       "      <td>-</td>\n",
       "      <td>.</td>\n",
       "      <td>gene_id \"ENSMUSG00000051951.5\"; transcript_id ...</td>\n",
       "      <td>ENSMUSG00000051951.5</td>\n",
       "      <td>ENSMUST00000162897.1</td>\n",
       "    </tr>\n",
       "    <tr>\n",
       "      <th>10</th>\n",
       "      <td>chr1</td>\n",
       "      <td>HAVANA</td>\n",
       "      <td>transcript</td>\n",
       "      <td>3206523</td>\n",
       "      <td>3215632</td>\n",
       "      <td>.</td>\n",
       "      <td>-</td>\n",
       "      <td>.</td>\n",
       "      <td>gene_id \"ENSMUSG00000051951.5\"; transcript_id ...</td>\n",
       "      <td>ENSMUSG00000051951.5</td>\n",
       "      <td>ENSMUST00000159265.1</td>\n",
       "    </tr>\n",
       "    <tr>\n",
       "      <th>13</th>\n",
       "      <td>chr1</td>\n",
       "      <td>HAVANA</td>\n",
       "      <td>transcript</td>\n",
       "      <td>3214482</td>\n",
       "      <td>3671498</td>\n",
       "      <td>.</td>\n",
       "      <td>-</td>\n",
       "      <td>.</td>\n",
       "      <td>gene_id \"ENSMUSG00000051951.5\"; transcript_id ...</td>\n",
       "      <td>ENSMUSG00000051951.5</td>\n",
       "      <td>ENSMUST00000070533.4</td>\n",
       "    </tr>\n",
       "  </tbody>\n",
       "</table>\n",
       "</div>"
      ],
      "text/plain": [
       "   chrom   source     feature    start      end na1 strand na2  \\\n",
       "1   chr1   HAVANA  transcript  3073253  3074322   .      +   .   \n",
       "4   chr1  ENSEMBL  transcript  3102016  3102125   .      +   .   \n",
       "7   chr1   HAVANA  transcript  3205901  3216344   .      -   .   \n",
       "10  chr1   HAVANA  transcript  3206523  3215632   .      -   .   \n",
       "13  chr1   HAVANA  transcript  3214482  3671498   .      -   .   \n",
       "\n",
       "                                           annotation              gene_ids  \\\n",
       "1   gene_id \"ENSMUSG00000102693.1\"; transcript_id ...  ENSMUSG00000102693.1   \n",
       "4   gene_id \"ENSMUSG00000064842.1\"; transcript_id ...  ENSMUSG00000064842.1   \n",
       "7   gene_id \"ENSMUSG00000051951.5\"; transcript_id ...  ENSMUSG00000051951.5   \n",
       "10  gene_id \"ENSMUSG00000051951.5\"; transcript_id ...  ENSMUSG00000051951.5   \n",
       "13  gene_id \"ENSMUSG00000051951.5\"; transcript_id ...  ENSMUSG00000051951.5   \n",
       "\n",
       "           transcript_id  \n",
       "1   ENSMUST00000193812.1  \n",
       "4   ENSMUST00000082908.1  \n",
       "7   ENSMUST00000162897.1  \n",
       "10  ENSMUST00000159265.1  \n",
       "13  ENSMUST00000070533.4  "
      ]
     },
     "execution_count": 53,
     "metadata": {},
     "output_type": "execute_result"
    }
   ],
   "source": [
    "transcript_ids = transcript_gtf['annotation'].apply(extract_transcript_id)\n",
    "transcript_gtf['transcript_id'] = transcript_ids\n",
    "print(transcript_gtf.shape)\n",
    "transcript_gtf.head()"
   ]
  },
  {
   "cell_type": "markdown",
   "metadata": {},
   "source": [
    "### Save transcript2gene.csv"
   ]
  },
  {
   "cell_type": "code",
   "execution_count": 55,
   "metadata": {
    "ExecuteTime": {
     "end_time": "2020-05-31T06:49:27.163745Z",
     "start_time": "2020-05-31T06:49:27.149387Z"
    }
   },
   "outputs": [
    {
     "data": {
      "text/html": [
       "<div>\n",
       "<style scoped>\n",
       "    .dataframe tbody tr th:only-of-type {\n",
       "        vertical-align: middle;\n",
       "    }\n",
       "\n",
       "    .dataframe tbody tr th {\n",
       "        vertical-align: top;\n",
       "    }\n",
       "\n",
       "    .dataframe thead th {\n",
       "        text-align: right;\n",
       "    }\n",
       "</style>\n",
       "<table border=\"1\" class=\"dataframe\">\n",
       "  <thead>\n",
       "    <tr style=\"text-align: right;\">\n",
       "      <th></th>\n",
       "      <th>transcript_id</th>\n",
       "      <th>gene_ids</th>\n",
       "    </tr>\n",
       "  </thead>\n",
       "  <tbody>\n",
       "    <tr>\n",
       "      <th>1</th>\n",
       "      <td>ENSMUST00000193812.1</td>\n",
       "      <td>ENSMUSG00000102693.1</td>\n",
       "    </tr>\n",
       "    <tr>\n",
       "      <th>4</th>\n",
       "      <td>ENSMUST00000082908.1</td>\n",
       "      <td>ENSMUSG00000064842.1</td>\n",
       "    </tr>\n",
       "    <tr>\n",
       "      <th>7</th>\n",
       "      <td>ENSMUST00000162897.1</td>\n",
       "      <td>ENSMUSG00000051951.5</td>\n",
       "    </tr>\n",
       "    <tr>\n",
       "      <th>10</th>\n",
       "      <td>ENSMUST00000159265.1</td>\n",
       "      <td>ENSMUSG00000051951.5</td>\n",
       "    </tr>\n",
       "    <tr>\n",
       "      <th>13</th>\n",
       "      <td>ENSMUST00000070533.4</td>\n",
       "      <td>ENSMUSG00000051951.5</td>\n",
       "    </tr>\n",
       "    <tr>\n",
       "      <th>...</th>\n",
       "      <td>...</td>\n",
       "      <td>...</td>\n",
       "    </tr>\n",
       "    <tr>\n",
       "      <th>1870749</th>\n",
       "      <td>ENSMUST00000082419.1</td>\n",
       "      <td>ENSMUSG00000064368.1</td>\n",
       "    </tr>\n",
       "    <tr>\n",
       "      <th>1870756</th>\n",
       "      <td>ENSMUST00000082420.1</td>\n",
       "      <td>ENSMUSG00000064369.1</td>\n",
       "    </tr>\n",
       "    <tr>\n",
       "      <th>1870759</th>\n",
       "      <td>ENSMUST00000082421.1</td>\n",
       "      <td>ENSMUSG00000064370.1</td>\n",
       "    </tr>\n",
       "    <tr>\n",
       "      <th>1870764</th>\n",
       "      <td>ENSMUST00000082422.1</td>\n",
       "      <td>ENSMUSG00000064371.1</td>\n",
       "    </tr>\n",
       "    <tr>\n",
       "      <th>1870767</th>\n",
       "      <td>ENSMUST00000082423.1</td>\n",
       "      <td>ENSMUSG00000064372.1</td>\n",
       "    </tr>\n",
       "  </tbody>\n",
       "</table>\n",
       "<p>142552 rows × 2 columns</p>\n",
       "</div>"
      ],
      "text/plain": [
       "                transcript_id              gene_ids\n",
       "1        ENSMUST00000193812.1  ENSMUSG00000102693.1\n",
       "4        ENSMUST00000082908.1  ENSMUSG00000064842.1\n",
       "7        ENSMUST00000162897.1  ENSMUSG00000051951.5\n",
       "10       ENSMUST00000159265.1  ENSMUSG00000051951.5\n",
       "13       ENSMUST00000070533.4  ENSMUSG00000051951.5\n",
       "...                       ...                   ...\n",
       "1870749  ENSMUST00000082419.1  ENSMUSG00000064368.1\n",
       "1870756  ENSMUST00000082420.1  ENSMUSG00000064369.1\n",
       "1870759  ENSMUST00000082421.1  ENSMUSG00000064370.1\n",
       "1870764  ENSMUST00000082422.1  ENSMUSG00000064371.1\n",
       "1870767  ENSMUST00000082423.1  ENSMUSG00000064372.1\n",
       "\n",
       "[142552 rows x 2 columns]"
      ]
     },
     "execution_count": 55,
     "metadata": {},
     "output_type": "execute_result"
    }
   ],
   "source": [
    "# subset the table give us the transcript to gene map needed in next notebook\n",
    "tx2gene = transcript_gtf[['transcript_id', 'gene_ids']]\n",
    "tx2gene"
   ]
  },
  {
   "cell_type": "code",
   "execution_count": 56,
   "metadata": {
    "ExecuteTime": {
     "end_time": "2020-05-31T06:50:41.414123Z",
     "start_time": "2020-05-31T06:50:41.101366Z"
    }
   },
   "outputs": [],
   "source": [
    "tx2gene.to_csv('tx2gene.csv', index=None) \n",
    "# set index=None, which means do not export the index into csv, so the output file only has 2 columns"
   ]
  },
  {
   "cell_type": "code",
   "execution_count": 57,
   "metadata": {
    "ExecuteTime": {
     "end_time": "2020-05-31T06:50:46.540610Z",
     "start_time": "2020-05-31T06:50:46.312885Z"
    }
   },
   "outputs": [
    {
     "name": "stdout",
     "output_type": "stream",
     "text": [
      "transcript_id,gene_ids\r\n",
      "ENSMUST00000193812.1,ENSMUSG00000102693.1\r\n",
      "ENSMUST00000082908.1,ENSMUSG00000064842.1\r\n",
      "ENSMUST00000162897.1,ENSMUSG00000051951.5\r\n",
      "ENSMUST00000159265.1,ENSMUSG00000051951.5\r\n",
      "ENSMUST00000070533.4,ENSMUSG00000051951.5\r\n",
      "ENSMUST00000192857.1,ENSMUSG00000102851.1\r\n",
      "ENSMUST00000195335.1,ENSMUSG00000103377.1\r\n",
      "ENSMUST00000192336.1,ENSMUSG00000104017.1\r\n",
      "ENSMUST00000194099.1,ENSMUSG00000103025.1\r\n"
     ]
    }
   ],
   "source": [
    "!head tx2gene.csv"
   ]
  },
  {
   "cell_type": "code",
   "execution_count": null,
   "metadata": {},
   "outputs": [],
   "source": []
  },
  {
   "cell_type": "code",
   "execution_count": null,
   "metadata": {},
   "outputs": [],
   "source": []
  }
 ],
 "metadata": {
  "kernelspec": {
   "display_name": "Python 3",
   "language": "python",
   "name": "python3"
  },
  "language_info": {
   "codemirror_mode": {
    "name": "ipython",
    "version": 3
   },
   "file_extension": ".py",
   "mimetype": "text/x-python",
   "name": "python",
   "nbconvert_exporter": "python",
   "pygments_lexer": "ipython3",
   "version": "3.7.6"
  },
  "toc": {
   "base_numbering": 1,
   "nav_menu": {},
   "number_sections": true,
   "sideBar": true,
   "skip_h1_title": true,
   "title_cell": "Table of Contents",
   "title_sidebar": "Contents",
   "toc_cell": false,
   "toc_position": {},
   "toc_section_display": true,
   "toc_window_display": true
  }
 },
 "nbformat": 4,
 "nbformat_minor": 4
}

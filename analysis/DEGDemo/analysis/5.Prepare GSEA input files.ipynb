{
 "cells": [
  {
   "cell_type": "markdown",
   "metadata": {},
   "source": [
    "# Prepare GSEA\n",
    "\n",
    "## Content\n",
    "- GSEA needs two files as input, one is expression dataset in TXT format, the other is phenotype dataset in CLS format\n",
    "- See the explaination of TXT and CLS format in GSEA doc: http://software.broadinstitute.org/cancer/software/gsea/wiki/index.php/Data_formats\n",
    "- This is just some spetial format needed by GSEA, so we prepare based on their requirment...\n",
    "\n",
    "**NOTE: GSEA is mainly designed for human data, so I will not perform this with mouse data... But one the files are prepared, its pretty straight forward to run it...**"
   ]
  },
  {
   "cell_type": "code",
   "execution_count": 1,
   "metadata": {
    "ExecuteTime": {
     "end_time": "2020-06-18T14:42:57.087853Z",
     "start_time": "2020-06-18T14:42:56.659557Z"
    }
   },
   "outputs": [],
   "source": [
    "import pandas as pd\n",
    "import pathlib"
   ]
  },
  {
   "cell_type": "code",
   "execution_count": 2,
   "metadata": {
    "ExecuteTime": {
     "end_time": "2020-06-18T14:42:57.482825Z",
     "start_time": "2020-06-18T14:42:57.480121Z"
    }
   },
   "outputs": [],
   "source": [
    "# make a sub dir called GSEA for new files\n",
    "pathlib.Path('GSEA').mkdir(exist_ok=True)"
   ]
  },
  {
   "cell_type": "markdown",
   "metadata": {},
   "source": [
    "## Load data"
   ]
  },
  {
   "cell_type": "code",
   "execution_count": 3,
   "metadata": {
    "ExecuteTime": {
     "end_time": "2020-06-18T14:42:58.603706Z",
     "start_time": "2020-06-18T14:42:58.404658Z"
    }
   },
   "outputs": [],
   "source": [
    "gene_meta = pd.read_csv('gene_metadata.csv.gz', index_col='gene_id')"
   ]
  },
  {
   "cell_type": "markdown",
   "metadata": {},
   "source": [
    "## Prepare GSEA files"
   ]
  },
  {
   "cell_type": "code",
   "execution_count": 4,
   "metadata": {
    "ExecuteTime": {
     "end_time": "2020-06-18T14:42:59.412653Z",
     "start_time": "2020-06-18T14:42:59.409465Z"
    }
   },
   "outputs": [],
   "source": [
    "deg_result_paths = list(pathlib.Path().glob('*vs*.deg_results.csv.gz'))"
   ]
  },
  {
   "cell_type": "code",
   "execution_count": 5,
   "metadata": {
    "ExecuteTime": {
     "end_time": "2020-06-18T14:43:00.848118Z",
     "start_time": "2020-06-18T14:43:00.072851Z"
    }
   },
   "outputs": [],
   "source": [
    "for path in deg_result_paths:\n",
    "    pair_name = '.'.join(path.name.split('.')[:-3])\n",
    "    \"\"\"\n",
    "    Prepare expression data\n",
    "    \"\"\"\n",
    "    \n",
    "    # load the original DESeq2 output to get the normalized counts\n",
    "    deg_with_norm_count = pd.read_csv(path, index_col=0)\n",
    "    \n",
    "    # take the last four columns, which are nrom counts\n",
    "    nrom_count_df = deg_with_norm_count.iloc[:, -4:].copy()\n",
    "    \n",
    "    # change the index into gene names\n",
    "    nrom_count_df.index = nrom_count_df.index.map(gene_meta['gene_name'])\n",
    "    \n",
    "    # Add modifications to match the TXT format as requied by GSEA\n",
    "    # See here: http://software.broadinstitute.org/cancer/software/gsea/wiki/index.php/Data_formats#CLS:_Categorical_.28e.g_tumor_vs_normal.29_class_file_format_.28.2A.cls.29\n",
    "    nrom_count_df.index.name = 'NAME'\n",
    "    nrom_count_df['DESCRIPTION'] = 'na' # add a DESCRIPTION col\n",
    "    \n",
    "    # move DESCRIPTION col into the first\n",
    "    col_names = list(nrom_count_df.columns)\n",
    "    reordered_col_names = ['DESCRIPTION'] + col_names[:-1]\n",
    "    nrom_count_df = nrom_count_df[reordered_col_names]\n",
    "    \n",
    "    nrom_count_df.to_csv(f'GSEA/{pair_name}.expression_data.txt', sep='\\t')\n",
    "    \n",
    "    \"\"\"\n",
    "    Prepare phenotype data\n",
    "    \"\"\"\n",
    "    # prepare the CLS format as required by GSEA\n",
    "    # see here: http://software.broadinstitute.org/cancer/software/gsea/wiki/index.php/Data_formats#CLS:_Categorical_.28e.g_tumor_vs_normal.29_class_file_format_.28.2A.cls.29\n",
    "    \n",
    "    # get sample names and their class number (0 for time 1, 1 for time 2)\n",
    "    time1, time2 = pair_name.split('_vs_')\n",
    "    sample_names = nrom_count_df.columns[1:]\n",
    "    sample_dev_times = sample_names.str.split('_').str[1]\n",
    "\n",
    "    cls_format_str = f\"\"\"\n",
    "4 2 1\n",
    "# {time1} {time2}\n",
    "{' '.join(sample_dev_times)}\n",
    "\"\"\"\n",
    "    # the above cls_format_str create a string like this:\n",
    "    \"\"\"    \n",
    "4 2 1\n",
    "# E10.5 E14.5\n",
    "E10.5 E14.5 E14.5 E10.5\n",
    "\"\"\"\n",
    "    with open(f'GSEA/{pair_name}.phenotype_data.cls', 'w') as f:\n",
    "        f.write(cls_format_str)\n"
   ]
  },
  {
   "cell_type": "code",
   "execution_count": 6,
   "metadata": {
    "ExecuteTime": {
     "end_time": "2020-06-18T14:43:01.223746Z",
     "start_time": "2020-06-18T14:43:01.221005Z"
    }
   },
   "outputs": [
    {
     "name": "stdout",
     "output_type": "stream",
     "text": [
      "\n",
      "4 2 1\n",
      "# E10.5 P0\n",
      "P0 E10.5 P0 E10.5\n",
      "\n"
     ]
    }
   ],
   "source": [
    "print(cls_format_str)"
   ]
  },
  {
   "cell_type": "code",
   "execution_count": 7,
   "metadata": {
    "ExecuteTime": {
     "end_time": "2020-06-18T14:43:01.604827Z",
     "start_time": "2020-06-18T14:43:01.589096Z"
    }
   },
   "outputs": [
    {
     "data": {
      "text/html": [
       "<div>\n",
       "<style scoped>\n",
       "    .dataframe tbody tr th:only-of-type {\n",
       "        vertical-align: middle;\n",
       "    }\n",
       "\n",
       "    .dataframe tbody tr th {\n",
       "        vertical-align: top;\n",
       "    }\n",
       "\n",
       "    .dataframe thead th {\n",
       "        text-align: right;\n",
       "    }\n",
       "</style>\n",
       "<table border=\"1\" class=\"dataframe\">\n",
       "  <thead>\n",
       "    <tr style=\"text-align: right;\">\n",
       "      <th></th>\n",
       "      <th>DESCRIPTION</th>\n",
       "      <th>forebrain_P0_2</th>\n",
       "      <th>forebrain_E10.5_1</th>\n",
       "      <th>forebrain_P0_1</th>\n",
       "      <th>forebrain_E10.5_2</th>\n",
       "    </tr>\n",
       "    <tr>\n",
       "      <th>NAME</th>\n",
       "      <th></th>\n",
       "      <th></th>\n",
       "      <th></th>\n",
       "      <th></th>\n",
       "      <th></th>\n",
       "    </tr>\n",
       "  </thead>\n",
       "  <tbody>\n",
       "    <tr>\n",
       "      <td>Gnai3</td>\n",
       "      <td>na</td>\n",
       "      <td>9202.231171</td>\n",
       "      <td>14212.226704</td>\n",
       "      <td>8662.583742</td>\n",
       "      <td>14009.861823</td>\n",
       "    </tr>\n",
       "    <tr>\n",
       "      <td>Cdc45</td>\n",
       "      <td>na</td>\n",
       "      <td>314.416946</td>\n",
       "      <td>3516.109813</td>\n",
       "      <td>230.042058</td>\n",
       "      <td>3574.620925</td>\n",
       "    </tr>\n",
       "    <tr>\n",
       "      <td>H19</td>\n",
       "      <td>na</td>\n",
       "      <td>676.439274</td>\n",
       "      <td>3572.409795</td>\n",
       "      <td>578.105693</td>\n",
       "      <td>4100.185758</td>\n",
       "    </tr>\n",
       "    <tr>\n",
       "      <td>Scml2</td>\n",
       "      <td>na</td>\n",
       "      <td>157.208473</td>\n",
       "      <td>312.288963</td>\n",
       "      <td>181.033097</td>\n",
       "      <td>275.945914</td>\n",
       "    </tr>\n",
       "    <tr>\n",
       "      <td>Apoh</td>\n",
       "      <td>na</td>\n",
       "      <td>6.642612</td>\n",
       "      <td>0.000000</td>\n",
       "      <td>6.001097</td>\n",
       "      <td>0.000000</td>\n",
       "    </tr>\n",
       "    <tr>\n",
       "      <td>...</td>\n",
       "      <td>...</td>\n",
       "      <td>...</td>\n",
       "      <td>...</td>\n",
       "      <td>...</td>\n",
       "      <td>...</td>\n",
       "    </tr>\n",
       "    <tr>\n",
       "      <td>AC093451.1</td>\n",
       "      <td>na</td>\n",
       "      <td>4.428408</td>\n",
       "      <td>0.000000</td>\n",
       "      <td>0.000000</td>\n",
       "      <td>0.000000</td>\n",
       "    </tr>\n",
       "    <tr>\n",
       "      <td>AC154013.1</td>\n",
       "      <td>na</td>\n",
       "      <td>0.000000</td>\n",
       "      <td>1.759374</td>\n",
       "      <td>0.000000</td>\n",
       "      <td>3.900296</td>\n",
       "    </tr>\n",
       "    <tr>\n",
       "      <td>AC127285.1</td>\n",
       "      <td>na</td>\n",
       "      <td>2.214204</td>\n",
       "      <td>6.157811</td>\n",
       "      <td>1.000183</td>\n",
       "      <td>20.476552</td>\n",
       "    </tr>\n",
       "    <tr>\n",
       "      <td>CT868690.1</td>\n",
       "      <td>na</td>\n",
       "      <td>7.749713</td>\n",
       "      <td>0.879687</td>\n",
       "      <td>2.000366</td>\n",
       "      <td>0.000000</td>\n",
       "    </tr>\n",
       "    <tr>\n",
       "      <td>AC117663.3</td>\n",
       "      <td>na</td>\n",
       "      <td>1.107102</td>\n",
       "      <td>1.759374</td>\n",
       "      <td>3.000549</td>\n",
       "      <td>2.925222</td>\n",
       "    </tr>\n",
       "  </tbody>\n",
       "</table>\n",
       "<p>26782 rows × 5 columns</p>\n",
       "</div>"
      ],
      "text/plain": [
       "           DESCRIPTION  forebrain_P0_2  forebrain_E10.5_1  forebrain_P0_1  \\\n",
       "NAME                                                                        \n",
       "Gnai3               na     9202.231171       14212.226704     8662.583742   \n",
       "Cdc45               na      314.416946        3516.109813      230.042058   \n",
       "H19                 na      676.439274        3572.409795      578.105693   \n",
       "Scml2               na      157.208473         312.288963      181.033097   \n",
       "Apoh                na        6.642612           0.000000        6.001097   \n",
       "...                ...             ...                ...             ...   \n",
       "AC093451.1          na        4.428408           0.000000        0.000000   \n",
       "AC154013.1          na        0.000000           1.759374        0.000000   \n",
       "AC127285.1          na        2.214204           6.157811        1.000183   \n",
       "CT868690.1          na        7.749713           0.879687        2.000366   \n",
       "AC117663.3          na        1.107102           1.759374        3.000549   \n",
       "\n",
       "            forebrain_E10.5_2  \n",
       "NAME                           \n",
       "Gnai3            14009.861823  \n",
       "Cdc45             3574.620925  \n",
       "H19               4100.185758  \n",
       "Scml2              275.945914  \n",
       "Apoh                 0.000000  \n",
       "...                       ...  \n",
       "AC093451.1           0.000000  \n",
       "AC154013.1           3.900296  \n",
       "AC127285.1          20.476552  \n",
       "CT868690.1           0.000000  \n",
       "AC117663.3           2.925222  \n",
       "\n",
       "[26782 rows x 5 columns]"
      ]
     },
     "execution_count": 7,
     "metadata": {},
     "output_type": "execute_result"
    }
   ],
   "source": [
    "nrom_count_df"
   ]
  },
  {
   "cell_type": "code",
   "execution_count": null,
   "metadata": {},
   "outputs": [],
   "source": []
  },
  {
   "cell_type": "code",
   "execution_count": null,
   "metadata": {},
   "outputs": [],
   "source": []
  },
  {
   "cell_type": "code",
   "execution_count": null,
   "metadata": {},
   "outputs": [],
   "source": []
  },
  {
   "cell_type": "code",
   "execution_count": null,
   "metadata": {},
   "outputs": [],
   "source": []
  },
  {
   "cell_type": "code",
   "execution_count": null,
   "metadata": {},
   "outputs": [],
   "source": []
  },
  {
   "cell_type": "code",
   "execution_count": null,
   "metadata": {},
   "outputs": [],
   "source": []
  }
 ],
 "metadata": {
  "kernelspec": {
   "display_name": "Python 3",
   "language": "python",
   "name": "python3"
  },
  "language_info": {
   "codemirror_mode": {
    "name": "ipython",
    "version": 3
   },
   "file_extension": ".py",
   "mimetype": "text/x-python",
   "name": "python",
   "nbconvert_exporter": "python",
   "pygments_lexer": "ipython3",
   "version": "3.7.4"
  },
  "toc": {
   "base_numbering": 1,
   "nav_menu": {},
   "number_sections": true,
   "sideBar": true,
   "skip_h1_title": true,
   "title_cell": "Table of Contents",
   "title_sidebar": "Contents",
   "toc_cell": false,
   "toc_position": {},
   "toc_section_display": true,
   "toc_window_display": true
  }
 },
 "nbformat": 4,
 "nbformat_minor": 4
}

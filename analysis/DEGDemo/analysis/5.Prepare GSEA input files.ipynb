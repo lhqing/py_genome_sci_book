{
 "cells": [
  {
   "cell_type": "markdown",
   "metadata": {},
   "source": [
    "# Prepare GSEA\n",
    "\n",
    "## Content\n",
    "- GSEA needs two files as input, one is expression dataset in TXT format, the other is phenotype dataset in CLS format\n",
    "- See the explaination of TXT and CLS format in GSEA doc: http://software.broadinstitute.org/cancer/software/gsea/wiki/index.php/Data_formats\n",
    "- This is just some spetial format needed by GSEA, so we prepare based on their requirment...\n",
    "\n",
    "**NOTE: GSEA is mainly designed for human data, so I will not perform this with mouse data... But one the files are prepared, its pretty straight forward to run it...**"
   ]
  },
  {
   "cell_type": "code",
   "execution_count": 12,
   "metadata": {
    "ExecuteTime": {
     "end_time": "2020-06-11T18:39:59.188285Z",
     "start_time": "2020-06-11T18:39:59.185619Z"
    }
   },
   "outputs": [],
   "source": [
    "import pandas as pd\n",
    "import pathlib"
   ]
  },
  {
   "cell_type": "code",
   "execution_count": 13,
   "metadata": {
    "ExecuteTime": {
     "end_time": "2020-06-11T18:40:25.043550Z",
     "start_time": "2020-06-11T18:40:25.040558Z"
    }
   },
   "outputs": [],
   "source": [
    "# make a sub dir called GSEA for new files\n",
    "pathlib.Path('GSEA').mkdir(exist_ok=True)"
   ]
  },
  {
   "cell_type": "markdown",
   "metadata": {},
   "source": [
    "## Load data"
   ]
  },
  {
   "cell_type": "code",
   "execution_count": 23,
   "metadata": {
    "ExecuteTime": {
     "end_time": "2020-06-11T18:44:30.570713Z",
     "start_time": "2020-06-11T18:44:30.334272Z"
    }
   },
   "outputs": [],
   "source": [
    "gene_meta = pd.read_csv('gene_metadata.csv.gz', index_col='gene_id')"
   ]
  },
  {
   "cell_type": "markdown",
   "metadata": {},
   "source": [
    "## Prepare GSEA files"
   ]
  },
  {
   "cell_type": "code",
   "execution_count": 63,
   "metadata": {
    "ExecuteTime": {
     "end_time": "2020-06-11T20:12:39.174717Z",
     "start_time": "2020-06-11T20:12:39.171325Z"
    }
   },
   "outputs": [],
   "source": [
    "deg_result_paths = list(pathlib.Path().glob('*vs*.deg_results.csv.gz'))"
   ]
  },
  {
   "cell_type": "code",
   "execution_count": 71,
   "metadata": {
    "ExecuteTime": {
     "end_time": "2020-06-11T20:14:42.946282Z",
     "start_time": "2020-06-11T20:14:42.480862Z"
    }
   },
   "outputs": [],
   "source": [
    "for path in deg_result_paths:\n",
    "    pair_name = '.'.join(path.name.split('.')[:-3])\n",
    "    \"\"\"\n",
    "    Prepare expression data\n",
    "    \"\"\"\n",
    "    \n",
    "    # load the original DESeq2 output to get the normalized counts\n",
    "    deg_with_norm_count = pd.read_csv(path, index_col=0)\n",
    "    \n",
    "    # take the last four columns, which are nrom counts\n",
    "    # use reindex to select only DEGs\n",
    "    nrom_count_df = deg_with_norm_count.iloc[:, -4:].reindex(deg_for_this_pair.index)\n",
    "    \n",
    "    # change the index into gene names\n",
    "    nrom_count_df.index = nrom_count_df.index.map(gene_meta['gene_name'])\n",
    "    \n",
    "    # Add modifications to match the TXT format as requied by GSEA\n",
    "    # See here: http://software.broadinstitute.org/cancer/software/gsea/wiki/index.php/Data_formats#CLS:_Categorical_.28e.g_tumor_vs_normal.29_class_file_format_.28.2A.cls.29\n",
    "    nrom_count_df.index.name = 'NAME'\n",
    "    nrom_count_df['DESCRIPTION'] = 'na' # add a DESCRIPTION col\n",
    "    \n",
    "    # move DESCRIPTION col into the first\n",
    "    col_names = list(nrom_count_df.columns)\n",
    "    reordered_col_names = ['DESCRIPTION'] + col_names[:-1]\n",
    "    nrom_count_df = nrom_count_df[reordered_col_names]\n",
    "    \n",
    "    nrom_count_df.to_csv(f'GSEA/{pair_name}.expression_data.txt', sep='\\t')\n",
    "    \n",
    "    \"\"\"\n",
    "    Prepare phenotype data\n",
    "    \"\"\"\n",
    "    # prepare the CLS format as required by GSEA\n",
    "    # see here: http://software.broadinstitute.org/cancer/software/gsea/wiki/index.php/Data_formats#CLS:_Categorical_.28e.g_tumor_vs_normal.29_class_file_format_.28.2A.cls.29\n",
    "    \n",
    "    # get sample names and their class number (0 for time 1, 1 for time 2)\n",
    "    time1, time2 = pair_name.split('_vs_')\n",
    "    sample_names = nrom_count_df.columns[1:]\n",
    "    sample_dev_times = sample_names.str.split('_').str[1]\n",
    "\n",
    "    cls_format_str = f\"\"\"\n",
    "4 2 1\n",
    "# {time1} {time2}\n",
    "{' '.join(sample_dev_times)}\n",
    "\"\"\"\n",
    "    # the above cls_format_str create a string like this:\n",
    "    \"\"\"    \n",
    "4 2 1\n",
    "# E10.5 E14.5\n",
    "E10.5 E14.5 E14.5 E10.5\n",
    "\"\"\"\n",
    "    with open(f'GSEA/{pair_name}.phenotype_data.cls', 'w') as f:\n",
    "        f.write(cls_format_str)\n"
   ]
  },
  {
   "cell_type": "code",
   "execution_count": 72,
   "metadata": {
    "ExecuteTime": {
     "end_time": "2020-06-11T20:14:42.955189Z",
     "start_time": "2020-06-11T20:14:42.949015Z"
    }
   },
   "outputs": [
    {
     "name": "stdout",
     "output_type": "stream",
     "text": [
      "\n",
      "4 2 1\n",
      "# E10.5 P0\n",
      "P0 E10.5 P0 E10.5\n",
      "\n"
     ]
    }
   ],
   "source": [
    "print(cls_format_str)"
   ]
  },
  {
   "cell_type": "code",
   "execution_count": 73,
   "metadata": {
    "ExecuteTime": {
     "end_time": "2020-06-11T20:14:42.990343Z",
     "start_time": "2020-06-11T20:14:42.964045Z"
    }
   },
   "outputs": [
    {
     "data": {
      "text/html": [
       "<div>\n",
       "<style scoped>\n",
       "    .dataframe tbody tr th:only-of-type {\n",
       "        vertical-align: middle;\n",
       "    }\n",
       "\n",
       "    .dataframe tbody tr th {\n",
       "        vertical-align: top;\n",
       "    }\n",
       "\n",
       "    .dataframe thead th {\n",
       "        text-align: right;\n",
       "    }\n",
       "</style>\n",
       "<table border=\"1\" class=\"dataframe\">\n",
       "  <thead>\n",
       "    <tr style=\"text-align: right;\">\n",
       "      <th></th>\n",
       "      <th>DESCRIPTION</th>\n",
       "      <th>forebrain_P0_2</th>\n",
       "      <th>forebrain_E10.5_1</th>\n",
       "      <th>forebrain_P0_1</th>\n",
       "      <th>forebrain_E10.5_2</th>\n",
       "    </tr>\n",
       "    <tr>\n",
       "      <th>NAME</th>\n",
       "      <th></th>\n",
       "      <th></th>\n",
       "      <th></th>\n",
       "      <th></th>\n",
       "      <th></th>\n",
       "    </tr>\n",
       "  </thead>\n",
       "  <tbody>\n",
       "    <tr>\n",
       "      <th>Cdc45</th>\n",
       "      <td>na</td>\n",
       "      <td>314.416946</td>\n",
       "      <td>3516.109813</td>\n",
       "      <td>230.042058</td>\n",
       "      <td>3574.620925</td>\n",
       "    </tr>\n",
       "    <tr>\n",
       "      <th>Dlg3</th>\n",
       "      <td>na</td>\n",
       "      <td>244.669525</td>\n",
       "      <td>1009.880927</td>\n",
       "      <td>242.044252</td>\n",
       "      <td>1113.534396</td>\n",
       "    </tr>\n",
       "    <tr>\n",
       "      <th>Uhrf1</th>\n",
       "      <td>na</td>\n",
       "      <td>859.111091</td>\n",
       "      <td>23704.051793</td>\n",
       "      <td>759.138790</td>\n",
       "      <td>24678.145384</td>\n",
       "    </tr>\n",
       "    <tr>\n",
       "      <th>Fndc5</th>\n",
       "      <td>na</td>\n",
       "      <td>453.911788</td>\n",
       "      <td>32.548427</td>\n",
       "      <td>528.096550</td>\n",
       "      <td>54.604139</td>\n",
       "    </tr>\n",
       "    <tr>\n",
       "      <th>Ube2c</th>\n",
       "      <td>na</td>\n",
       "      <td>774.971345</td>\n",
       "      <td>12599.760032</td>\n",
       "      <td>812.148482</td>\n",
       "      <td>12513.123384</td>\n",
       "    </tr>\n",
       "    <tr>\n",
       "      <th>...</th>\n",
       "      <td>...</td>\n",
       "      <td>...</td>\n",
       "      <td>...</td>\n",
       "      <td>...</td>\n",
       "      <td>...</td>\n",
       "    </tr>\n",
       "    <tr>\n",
       "      <th>Gm49325</th>\n",
       "      <td>na</td>\n",
       "      <td>498.195865</td>\n",
       "      <td>524.293582</td>\n",
       "      <td>435.079544</td>\n",
       "      <td>585.044341</td>\n",
       "    </tr>\n",
       "    <tr>\n",
       "      <th>Sfta3-ps</th>\n",
       "      <td>na</td>\n",
       "      <td>63.104810</td>\n",
       "      <td>449.520169</td>\n",
       "      <td>106.019383</td>\n",
       "      <td>511.913799</td>\n",
       "    </tr>\n",
       "    <tr>\n",
       "      <th>Bc1</th>\n",
       "      <td>na</td>\n",
       "      <td>13236.510573</td>\n",
       "      <td>540.127952</td>\n",
       "      <td>7083.295007</td>\n",
       "      <td>584.069267</td>\n",
       "    </tr>\n",
       "    <tr>\n",
       "      <th>Gm50241</th>\n",
       "      <td>na</td>\n",
       "      <td>21.034937</td>\n",
       "      <td>1599.271363</td>\n",
       "      <td>188.034377</td>\n",
       "      <td>1500.638735</td>\n",
       "    </tr>\n",
       "    <tr>\n",
       "      <th>Gm29695</th>\n",
       "      <td>na</td>\n",
       "      <td>40.962771</td>\n",
       "      <td>336.920205</td>\n",
       "      <td>55.010057</td>\n",
       "      <td>195.014780</td>\n",
       "    </tr>\n",
       "  </tbody>\n",
       "</table>\n",
       "<p>487 rows × 5 columns</p>\n",
       "</div>"
      ],
      "text/plain": [
       "         DESCRIPTION  forebrain_P0_2  forebrain_E10.5_1  forebrain_P0_1  \\\n",
       "NAME                                                                      \n",
       "Cdc45             na      314.416946        3516.109813      230.042058   \n",
       "Dlg3              na      244.669525        1009.880927      242.044252   \n",
       "Uhrf1             na      859.111091       23704.051793      759.138790   \n",
       "Fndc5             na      453.911788          32.548427      528.096550   \n",
       "Ube2c             na      774.971345       12599.760032      812.148482   \n",
       "...              ...             ...                ...             ...   \n",
       "Gm49325           na      498.195865         524.293582      435.079544   \n",
       "Sfta3-ps          na       63.104810         449.520169      106.019383   \n",
       "Bc1               na    13236.510573         540.127952     7083.295007   \n",
       "Gm50241           na       21.034937        1599.271363      188.034377   \n",
       "Gm29695           na       40.962771         336.920205       55.010057   \n",
       "\n",
       "          forebrain_E10.5_2  \n",
       "NAME                         \n",
       "Cdc45           3574.620925  \n",
       "Dlg3            1113.534396  \n",
       "Uhrf1          24678.145384  \n",
       "Fndc5             54.604139  \n",
       "Ube2c          12513.123384  \n",
       "...                     ...  \n",
       "Gm49325          585.044341  \n",
       "Sfta3-ps         511.913799  \n",
       "Bc1              584.069267  \n",
       "Gm50241         1500.638735  \n",
       "Gm29695          195.014780  \n",
       "\n",
       "[487 rows x 5 columns]"
      ]
     },
     "execution_count": 73,
     "metadata": {},
     "output_type": "execute_result"
    }
   ],
   "source": [
    "nrom_count_df"
   ]
  },
  {
   "cell_type": "code",
   "execution_count": null,
   "metadata": {},
   "outputs": [],
   "source": []
  },
  {
   "cell_type": "code",
   "execution_count": null,
   "metadata": {},
   "outputs": [],
   "source": []
  },
  {
   "cell_type": "code",
   "execution_count": null,
   "metadata": {},
   "outputs": [],
   "source": []
  },
  {
   "cell_type": "code",
   "execution_count": null,
   "metadata": {},
   "outputs": [],
   "source": []
  },
  {
   "cell_type": "code",
   "execution_count": null,
   "metadata": {},
   "outputs": [],
   "source": []
  },
  {
   "cell_type": "code",
   "execution_count": null,
   "metadata": {},
   "outputs": [],
   "source": []
  }
 ],
 "metadata": {
  "kernelspec": {
   "display_name": "Python 3",
   "language": "python",
   "name": "python3"
  },
  "language_info": {
   "codemirror_mode": {
    "name": "ipython",
    "version": 3
   },
   "file_extension": ".py",
   "mimetype": "text/x-python",
   "name": "python",
   "nbconvert_exporter": "python",
   "pygments_lexer": "ipython3",
   "version": "3.7.6"
  },
  "toc": {
   "base_numbering": 1,
   "nav_menu": {},
   "number_sections": true,
   "sideBar": true,
   "skip_h1_title": true,
   "title_cell": "Table of Contents",
   "title_sidebar": "Contents",
   "toc_cell": false,
   "toc_position": {},
   "toc_section_display": true,
   "toc_window_display": true
  }
 },
 "nbformat": 4,
 "nbformat_minor": 4
}

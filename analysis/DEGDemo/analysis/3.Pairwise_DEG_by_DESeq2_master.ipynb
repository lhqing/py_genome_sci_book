{
 "cells": [
  {
   "cell_type": "markdown",
   "metadata": {
    "ExecuteTime": {
     "end_time": "2020-06-10T08:22:18.098502Z",
     "start_time": "2020-06-10T08:21:30.575384Z"
    }
   },
   "source": [
    "# DEG analysis using DESeq2 Master\n",
    "\n",
    "## Parameterize your notebook\n",
    "Here I show you how to use papermill package to execute notebook template automatically with different parameter\n",
    "\n",
    "```shell\n",
    "conda install papermill\n",
    "```\n",
    "\n",
    "See papermill doc: https://papermill.readthedocs.io/en/latest/\n",
    "\n",
    "## Input Output\n",
    "- This notebook take the '3.Pairwise_DEG_by_DESeq2_template.ipynb' as template, run pairwise DEG on each pair\n",
    "- The output notebook are renamed by pair, and executed automatically, together with the DEG results tables"
   ]
  },
  {
   "cell_type": "code",
   "execution_count": 1,
   "metadata": {
    "ExecuteTime": {
     "end_time": "2020-06-11T18:35:51.855448Z",
     "start_time": "2020-06-11T18:35:50.414703Z"
    }
   },
   "outputs": [],
   "source": [
    "from papermill import execute_notebook\n",
    "import itertools\n",
    "import pathlib"
   ]
  },
  {
   "cell_type": "code",
   "execution_count": 2,
   "metadata": {
    "ExecuteTime": {
     "end_time": "2020-06-11T18:35:51.868623Z",
     "start_time": "2020-06-11T18:35:51.858077Z"
    }
   },
   "outputs": [
    {
     "data": {
      "text/plain": [
       "[('E10.5', 'E14.5'), ('E10.5', 'P0'), ('E14.5', 'P0')]"
      ]
     },
     "execution_count": 2,
     "metadata": {},
     "output_type": "execute_result"
    }
   ],
   "source": [
    "dev_times = ['E10.5', 'E14.5', 'P0']\n",
    "\n",
    "pairs = list(itertools.combinations(dev_times, 2))\n",
    "pairs"
   ]
  },
  {
   "cell_type": "code",
   "execution_count": 3,
   "metadata": {
    "ExecuteTime": {
     "end_time": "2020-06-11T18:37:02.716343Z",
     "start_time": "2020-06-11T18:35:52.436106Z"
    }
   },
   "outputs": [
    {
     "name": "stdout",
     "output_type": "stream",
     "text": [
      "Run ('E10.5', 'E14.5')\n"
     ]
    },
    {
     "data": {
      "application/vnd.jupyter.widget-view+json": {
       "model_id": "0ceb08d1fc6f48e681b46ee1629ded9d",
       "version_major": 2,
       "version_minor": 0
      },
      "text/plain": [
       "HBox(children=(FloatProgress(value=0.0, description='Executing', max=29.0, style=ProgressStyle(description_wid…"
      ]
     },
     "metadata": {},
     "output_type": "display_data"
    },
    {
     "name": "stdout",
     "output_type": "stream",
     "text": [
      "\n",
      "Run ('E10.5', 'P0')\n"
     ]
    },
    {
     "data": {
      "application/vnd.jupyter.widget-view+json": {
       "model_id": "6c3c018002304dd58bb2810ba55380ae",
       "version_major": 2,
       "version_minor": 0
      },
      "text/plain": [
       "HBox(children=(FloatProgress(value=0.0, description='Executing', max=29.0, style=ProgressStyle(description_wid…"
      ]
     },
     "metadata": {},
     "output_type": "display_data"
    },
    {
     "name": "stdout",
     "output_type": "stream",
     "text": [
      "\n",
      "Run ('E14.5', 'P0')\n"
     ]
    },
    {
     "data": {
      "application/vnd.jupyter.widget-view+json": {
       "model_id": "619d1970834f46f7babc94edfd3df1c5",
       "version_major": 2,
       "version_minor": 0
      },
      "text/plain": [
       "HBox(children=(FloatProgress(value=0.0, description='Executing', max=29.0, style=ProgressStyle(description_wid…"
      ]
     },
     "metadata": {},
     "output_type": "display_data"
    },
    {
     "name": "stdout",
     "output_type": "stream",
     "text": [
      "\n"
     ]
    }
   ],
   "source": [
    "for pair in pairs:\n",
    "    print('Run', pair)\n",
    "    if pathlib.Path(f'{pair[0]}_vs_{pair[1]}.deg_results.csv').exists():\n",
    "        print('Skip. DEG table already exists.')\n",
    "        continue\n",
    "    execute_notebook(\n",
    "        input_path='3.Pairwise_DEG_by_DESeq2_template.ipynb',\n",
    "        output_path=f'3.Pairwise_DEG_by_DESeq2.{pair[0]}_vs_{pair[1]}.ipynb',\n",
    "        parameters={'sample_pair': list(pair)},\n",
    "        nest_asyncio=True\n",
    "    )"
   ]
  },
  {
   "cell_type": "code",
   "execution_count": null,
   "metadata": {},
   "outputs": [],
   "source": []
  },
  {
   "cell_type": "code",
   "execution_count": null,
   "metadata": {},
   "outputs": [],
   "source": []
  }
 ],
 "metadata": {
  "kernelspec": {
   "display_name": "Python 3",
   "language": "python",
   "name": "python3"
  },
  "language_info": {
   "codemirror_mode": {
    "name": "ipython",
    "version": 3
   },
   "file_extension": ".py",
   "mimetype": "text/x-python",
   "name": "python",
   "nbconvert_exporter": "python",
   "pygments_lexer": "ipython3",
   "version": "3.7.6"
  },
  "toc": {
   "base_numbering": 1,
   "nav_menu": {},
   "number_sections": true,
   "sideBar": true,
   "skip_h1_title": true,
   "title_cell": "Table of Contents",
   "title_sidebar": "Contents",
   "toc_cell": false,
   "toc_position": {},
   "toc_section_display": true,
   "toc_window_display": true
  }
 },
 "nbformat": 4,
 "nbformat_minor": 4
}

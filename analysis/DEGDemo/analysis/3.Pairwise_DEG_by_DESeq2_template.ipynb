{
 "cells": [
  {
   "cell_type": "markdown",
   "metadata": {},
   "source": [
    "# DEG analysis using DESeq2\n",
    "\n",
    "\n",
    "## Suggested reading\n",
    "- Deseq2 tutorial video part 1: https://www.youtube.com/watch?v=UFB993xufUU&t=38s\n",
    "- Deseq2 tutorial video part 2: https://www.youtube.com/watch?v=Gi0JdrxRq5s\n",
    "- [optional] DESeq2 documentation: http://bioconductor.org/packages/devel/bioc/vignettes/DESeq2/inst/doc/DESeq2.html\n",
    "\n",
    "## Things I do here\n",
    "1. I load R packages using rpy2, make sure you installed those packages in R\n",
    "2. I load gene_count_df and make a sample_df, both needed for DESeq2\n",
    "3. I selected a pair of sample to run DESeq2, and the result is saved into a CSV file\n",
    "\n",
    "## Note\n",
    "- This notebook is also a demo of how we can use python and R in the same notebook\n",
    "- This notebook can be run on other sample pairs, all you need to change is the parameter cell below. Try to do this with papermill automatically (either use command line interface of papermill or use papermill's `execute_notebook` function in a separate notebook)\n",
    "- I usually call this parameterized notebook \"template\" and use it in another \"master\" notebook with the `execute_notebook` functions"
   ]
  },
  {
   "cell_type": "code",
   "execution_count": 1,
   "metadata": {
    "ExecuteTime": {
     "end_time": "2020-06-11T18:28:29.944977Z",
     "start_time": "2020-06-11T18:28:26.966929Z"
    }
   },
   "outputs": [],
   "source": [
    "import pandas as pd\n",
    "\n",
    "import rpy2.robjects as ro\n",
    "from rpy2.robjects.packages import importr\n",
    "\n",
    "# this line is important, its called ipython magic, \n",
    "# and rpy2.ipython has spetial magic \"%%R\" that allows me to execute R directly later in this python notebook!\n",
    "%load_ext rpy2.ipython"
   ]
  },
  {
   "cell_type": "code",
   "execution_count": 2,
   "metadata": {
    "ExecuteTime": {
     "end_time": "2020-06-11T18:28:30.079933Z",
     "start_time": "2020-06-11T18:28:29.947765Z"
    }
   },
   "outputs": [
    {
     "name": "stdout",
     "output_type": "stream",
     "text": [
      "/usr/local/bin/R\r\n"
     ]
    }
   ],
   "source": [
    "!which R"
   ]
  },
  {
   "cell_type": "markdown",
   "metadata": {},
   "source": [
    "**You need to install DESeq2 in R. Make sure you are using same R version as the one printed above.**\n",
    "\n",
    "```R\n",
    "if (!requireNamespace(\"BiocManager\", quietly = TRUE))\n",
    "    install.packages(\"BiocManager\")\n",
    "\n",
    "BiocManager::install(\"DESeq2\")\n",
    "BiocManager::install(\"apeglm\")\n",
    "BiocManager::install(\"IHW\")\n",
    "```"
   ]
  },
  {
   "cell_type": "code",
   "execution_count": 3,
   "metadata": {
    "ExecuteTime": {
     "end_time": "2020-06-11T18:28:38.733532Z",
     "start_time": "2020-06-11T18:28:30.083873Z"
    }
   },
   "outputs": [
    {
     "data": {
      "text/plain": [
       "rpy2.robjects.packages.Package as a <module 'IHW'>"
      ]
     },
     "execution_count": 3,
     "metadata": {},
     "output_type": "execute_result"
    }
   ],
   "source": [
    "# import R packages using ryp2\n",
    "importr('DESeq2')\n",
    "importr('apeglm')\n",
    "importr('IHW')"
   ]
  },
  {
   "cell_type": "markdown",
   "metadata": {},
   "source": [
    "## Parameter\n",
    "\n",
    "This is the key parameter cell of this notebook, you can parameterize this notebook with papermill"
   ]
  },
  {
   "cell_type": "code",
   "execution_count": 4,
   "metadata": {
    "ExecuteTime": {
     "end_time": "2020-06-11T18:28:38.739711Z",
     "start_time": "2020-06-11T18:28:38.736119Z"
    },
    "tags": [
     "parameters"
    ]
   },
   "outputs": [],
   "source": [
    "# here is the default value, will be replaced if this notebook is executed by papermill. Why?\n",
    "sample_pair = ['E10.5', 'E14.5']"
   ]
  },
  {
   "cell_type": "markdown",
   "metadata": {},
   "source": [
    "## Load data and prepare"
   ]
  },
  {
   "cell_type": "code",
   "execution_count": 5,
   "metadata": {
    "ExecuteTime": {
     "end_time": "2020-06-11T18:28:38.819849Z",
     "start_time": "2020-06-11T18:28:38.741973Z"
    }
   },
   "outputs": [
    {
     "data": {
      "text/html": [
       "<div>\n",
       "<style scoped>\n",
       "    .dataframe tbody tr th:only-of-type {\n",
       "        vertical-align: middle;\n",
       "    }\n",
       "\n",
       "    .dataframe tbody tr th {\n",
       "        vertical-align: top;\n",
       "    }\n",
       "\n",
       "    .dataframe thead th {\n",
       "        text-align: right;\n",
       "    }\n",
       "</style>\n",
       "<table border=\"1\" class=\"dataframe\">\n",
       "  <thead>\n",
       "    <tr style=\"text-align: right;\">\n",
       "      <th></th>\n",
       "      <th>forebrain_P0_2</th>\n",
       "      <th>forebrain_E10.5_1</th>\n",
       "      <th>forebrain_E14.5_2</th>\n",
       "      <th>forebrain_P0_1</th>\n",
       "      <th>forebrain_E14.5_1</th>\n",
       "      <th>forebrain_E10.5_2</th>\n",
       "    </tr>\n",
       "    <tr>\n",
       "      <th>gene_id</th>\n",
       "      <th></th>\n",
       "      <th></th>\n",
       "      <th></th>\n",
       "      <th></th>\n",
       "      <th></th>\n",
       "      <th></th>\n",
       "    </tr>\n",
       "  </thead>\n",
       "  <tbody>\n",
       "    <tr>\n",
       "      <th>ENSMUSG00000000001.4</th>\n",
       "      <td>8312</td>\n",
       "      <td>16156</td>\n",
       "      <td>9459</td>\n",
       "      <td>8661</td>\n",
       "      <td>10751</td>\n",
       "      <td>14368</td>\n",
       "    </tr>\n",
       "    <tr>\n",
       "      <th>ENSMUSG00000000003.15</th>\n",
       "      <td>0</td>\n",
       "      <td>0</td>\n",
       "      <td>0</td>\n",
       "      <td>0</td>\n",
       "      <td>0</td>\n",
       "      <td>0</td>\n",
       "    </tr>\n",
       "    <tr>\n",
       "      <th>ENSMUSG00000000028.15</th>\n",
       "      <td>284</td>\n",
       "      <td>3997</td>\n",
       "      <td>1038</td>\n",
       "      <td>230</td>\n",
       "      <td>1428</td>\n",
       "      <td>3666</td>\n",
       "    </tr>\n",
       "    <tr>\n",
       "      <th>ENSMUSG00000000031.16</th>\n",
       "      <td>611</td>\n",
       "      <td>4061</td>\n",
       "      <td>909</td>\n",
       "      <td>578</td>\n",
       "      <td>1059</td>\n",
       "      <td>4205</td>\n",
       "    </tr>\n",
       "    <tr>\n",
       "      <th>ENSMUSG00000000037.17</th>\n",
       "      <td>142</td>\n",
       "      <td>355</td>\n",
       "      <td>225</td>\n",
       "      <td>181</td>\n",
       "      <td>289</td>\n",
       "      <td>283</td>\n",
       "    </tr>\n",
       "  </tbody>\n",
       "</table>\n",
       "</div>"
      ],
      "text/plain": [
       "                       forebrain_P0_2  forebrain_E10.5_1  forebrain_E14.5_2  \\\n",
       "gene_id                                                                       \n",
       "ENSMUSG00000000001.4             8312              16156               9459   \n",
       "ENSMUSG00000000003.15               0                  0                  0   \n",
       "ENSMUSG00000000028.15             284               3997               1038   \n",
       "ENSMUSG00000000031.16             611               4061                909   \n",
       "ENSMUSG00000000037.17             142                355                225   \n",
       "\n",
       "                       forebrain_P0_1  forebrain_E14.5_1  forebrain_E10.5_2  \n",
       "gene_id                                                                      \n",
       "ENSMUSG00000000001.4             8661              10751              14368  \n",
       "ENSMUSG00000000003.15               0                  0                  0  \n",
       "ENSMUSG00000000028.15             230               1428               3666  \n",
       "ENSMUSG00000000031.16             578               1059               4205  \n",
       "ENSMUSG00000000037.17             181                289                283  "
      ]
     },
     "execution_count": 5,
     "metadata": {},
     "output_type": "execute_result"
    }
   ],
   "source": [
    "gene_count_df = pd.read_csv('./gene_raw_count_table.csv.gz', index_col=0)\n",
    "gene_count_df.head()"
   ]
  },
  {
   "cell_type": "markdown",
   "metadata": {},
   "source": [
    "### Basic filter to remove low exp gene\n",
    "\n",
    "If a gene expression is too low, it is not meaningful to report that. DESeq2 will filter genes automatically, but prefiltering will make it run faster, as suggested by the DESeq2 doc."
   ]
  },
  {
   "cell_type": "code",
   "execution_count": 6,
   "metadata": {
    "ExecuteTime": {
     "end_time": "2020-06-11T18:29:32.210573Z",
     "start_time": "2020-06-11T18:29:32.200665Z"
    }
   },
   "outputs": [
    {
     "name": "stdout",
     "output_type": "stream",
     "text": [
      "Before 54331\n",
      "After 26782\n"
     ]
    }
   ],
   "source": [
    "sample_mean_cutoff = 1\n",
    "\n",
    "print('Before', gene_count_df.shape[0])\n",
    "\n",
    "gene_count_df = gene_count_df[gene_count_df.mean(axis=1) > sample_mean_cutoff].copy()\n",
    "\n",
    "print('After', gene_count_df.shape[0])"
   ]
  },
  {
   "cell_type": "markdown",
   "metadata": {
    "ExecuteTime": {
     "end_time": "2020-06-10T07:01:47.099889Z",
     "start_time": "2020-06-10T07:01:47.083966Z"
    }
   },
   "source": [
    "### make sample metadata based on gene_count_df.columns"
   ]
  },
  {
   "cell_type": "code",
   "execution_count": 7,
   "metadata": {
    "ExecuteTime": {
     "end_time": "2020-06-11T18:29:33.114615Z",
     "start_time": "2020-06-11T18:29:33.103727Z"
    }
   },
   "outputs": [
    {
     "data": {
      "text/html": [
       "<div>\n",
       "<style scoped>\n",
       "    .dataframe tbody tr th:only-of-type {\n",
       "        vertical-align: middle;\n",
       "    }\n",
       "\n",
       "    .dataframe tbody tr th {\n",
       "        vertical-align: top;\n",
       "    }\n",
       "\n",
       "    .dataframe thead th {\n",
       "        text-align: right;\n",
       "    }\n",
       "</style>\n",
       "<table border=\"1\" class=\"dataframe\">\n",
       "  <thead>\n",
       "    <tr style=\"text-align: right;\">\n",
       "      <th></th>\n",
       "      <th>devTime</th>\n",
       "      <th>rep</th>\n",
       "    </tr>\n",
       "  </thead>\n",
       "  <tbody>\n",
       "    <tr>\n",
       "      <th>forebrain_P0_2</th>\n",
       "      <td>P0</td>\n",
       "      <td>2</td>\n",
       "    </tr>\n",
       "    <tr>\n",
       "      <th>forebrain_E10.5_1</th>\n",
       "      <td>E10.5</td>\n",
       "      <td>1</td>\n",
       "    </tr>\n",
       "    <tr>\n",
       "      <th>forebrain_E14.5_2</th>\n",
       "      <td>E14.5</td>\n",
       "      <td>2</td>\n",
       "    </tr>\n",
       "    <tr>\n",
       "      <th>forebrain_P0_1</th>\n",
       "      <td>P0</td>\n",
       "      <td>1</td>\n",
       "    </tr>\n",
       "    <tr>\n",
       "      <th>forebrain_E14.5_1</th>\n",
       "      <td>E14.5</td>\n",
       "      <td>1</td>\n",
       "    </tr>\n",
       "    <tr>\n",
       "      <th>forebrain_E10.5_2</th>\n",
       "      <td>E10.5</td>\n",
       "      <td>2</td>\n",
       "    </tr>\n",
       "  </tbody>\n",
       "</table>\n",
       "</div>"
      ],
      "text/plain": [
       "                  devTime rep\n",
       "forebrain_P0_2         P0   2\n",
       "forebrain_E10.5_1   E10.5   1\n",
       "forebrain_E14.5_2   E14.5   2\n",
       "forebrain_P0_1         P0   1\n",
       "forebrain_E14.5_1   E14.5   1\n",
       "forebrain_E10.5_2   E10.5   2"
      ]
     },
     "execution_count": 7,
     "metadata": {},
     "output_type": "execute_result"
    }
   ],
   "source": [
    "sample_meta = {}\n",
    "for sample in gene_count_df.columns:\n",
    "    _, time, rep = sample.split('_')\n",
    "    sample_meta[sample] = {'devTime': time, 'rep': rep}\n",
    "sample_df = pd.DataFrame(sample_meta).T.reindex(gene_count_df.columns) # make sure order\n",
    "\n",
    "sample_df"
   ]
  },
  {
   "cell_type": "markdown",
   "metadata": {},
   "source": [
    "## Select Pair"
   ]
  },
  {
   "cell_type": "code",
   "execution_count": 8,
   "metadata": {
    "ExecuteTime": {
     "end_time": "2020-06-11T18:29:36.477696Z",
     "start_time": "2020-06-11T18:29:36.474515Z"
    }
   },
   "outputs": [],
   "source": [
    "time1, time2 = sample_pair"
   ]
  },
  {
   "cell_type": "code",
   "execution_count": 9,
   "metadata": {
    "ExecuteTime": {
     "end_time": "2020-06-11T18:29:37.504095Z",
     "start_time": "2020-06-11T18:29:37.495338Z"
    }
   },
   "outputs": [
    {
     "data": {
      "text/html": [
       "<div>\n",
       "<style scoped>\n",
       "    .dataframe tbody tr th:only-of-type {\n",
       "        vertical-align: middle;\n",
       "    }\n",
       "\n",
       "    .dataframe tbody tr th {\n",
       "        vertical-align: top;\n",
       "    }\n",
       "\n",
       "    .dataframe thead th {\n",
       "        text-align: right;\n",
       "    }\n",
       "</style>\n",
       "<table border=\"1\" class=\"dataframe\">\n",
       "  <thead>\n",
       "    <tr style=\"text-align: right;\">\n",
       "      <th></th>\n",
       "      <th>devTime</th>\n",
       "      <th>rep</th>\n",
       "    </tr>\n",
       "  </thead>\n",
       "  <tbody>\n",
       "    <tr>\n",
       "      <th>forebrain_E10.5_1</th>\n",
       "      <td>E10.5</td>\n",
       "      <td>1</td>\n",
       "    </tr>\n",
       "    <tr>\n",
       "      <th>forebrain_E14.5_2</th>\n",
       "      <td>E14.5</td>\n",
       "      <td>2</td>\n",
       "    </tr>\n",
       "    <tr>\n",
       "      <th>forebrain_E14.5_1</th>\n",
       "      <td>E14.5</td>\n",
       "      <td>1</td>\n",
       "    </tr>\n",
       "    <tr>\n",
       "      <th>forebrain_E10.5_2</th>\n",
       "      <td>E10.5</td>\n",
       "      <td>2</td>\n",
       "    </tr>\n",
       "  </tbody>\n",
       "</table>\n",
       "</div>"
      ],
      "text/plain": [
       "                  devTime rep\n",
       "forebrain_E10.5_1   E10.5   1\n",
       "forebrain_E14.5_2   E14.5   2\n",
       "forebrain_E14.5_1   E14.5   1\n",
       "forebrain_E10.5_2   E10.5   2"
      ]
     },
     "execution_count": 9,
     "metadata": {},
     "output_type": "execute_result"
    }
   ],
   "source": [
    "sample_to_use = sample_df[sample_df['devTime'].isin(sample_pair)]\n",
    "gene_count_to_use = gene_count_df[sample_to_use.index]\n",
    "\n",
    "sample_to_use"
   ]
  },
  {
   "cell_type": "code",
   "execution_count": 10,
   "metadata": {
    "ExecuteTime": {
     "end_time": "2020-06-11T18:29:38.447395Z",
     "start_time": "2020-06-11T18:29:38.439734Z"
    }
   },
   "outputs": [
    {
     "data": {
      "text/html": [
       "<div>\n",
       "<style scoped>\n",
       "    .dataframe tbody tr th:only-of-type {\n",
       "        vertical-align: middle;\n",
       "    }\n",
       "\n",
       "    .dataframe tbody tr th {\n",
       "        vertical-align: top;\n",
       "    }\n",
       "\n",
       "    .dataframe thead th {\n",
       "        text-align: right;\n",
       "    }\n",
       "</style>\n",
       "<table border=\"1\" class=\"dataframe\">\n",
       "  <thead>\n",
       "    <tr style=\"text-align: right;\">\n",
       "      <th></th>\n",
       "      <th>forebrain_E10.5_1</th>\n",
       "      <th>forebrain_E14.5_2</th>\n",
       "      <th>forebrain_E14.5_1</th>\n",
       "      <th>forebrain_E10.5_2</th>\n",
       "    </tr>\n",
       "    <tr>\n",
       "      <th>gene_id</th>\n",
       "      <th></th>\n",
       "      <th></th>\n",
       "      <th></th>\n",
       "      <th></th>\n",
       "    </tr>\n",
       "  </thead>\n",
       "  <tbody>\n",
       "    <tr>\n",
       "      <th>ENSMUSG00000000001.4</th>\n",
       "      <td>16156</td>\n",
       "      <td>9459</td>\n",
       "      <td>10751</td>\n",
       "      <td>14368</td>\n",
       "    </tr>\n",
       "    <tr>\n",
       "      <th>ENSMUSG00000000028.15</th>\n",
       "      <td>3997</td>\n",
       "      <td>1038</td>\n",
       "      <td>1428</td>\n",
       "      <td>3666</td>\n",
       "    </tr>\n",
       "    <tr>\n",
       "      <th>ENSMUSG00000000031.16</th>\n",
       "      <td>4061</td>\n",
       "      <td>909</td>\n",
       "      <td>1059</td>\n",
       "      <td>4205</td>\n",
       "    </tr>\n",
       "    <tr>\n",
       "      <th>ENSMUSG00000000037.17</th>\n",
       "      <td>355</td>\n",
       "      <td>225</td>\n",
       "      <td>289</td>\n",
       "      <td>283</td>\n",
       "    </tr>\n",
       "    <tr>\n",
       "      <th>ENSMUSG00000000049.11</th>\n",
       "      <td>0</td>\n",
       "      <td>4</td>\n",
       "      <td>0</td>\n",
       "      <td>0</td>\n",
       "    </tr>\n",
       "  </tbody>\n",
       "</table>\n",
       "</div>"
      ],
      "text/plain": [
       "                       forebrain_E10.5_1  forebrain_E14.5_2  \\\n",
       "gene_id                                                       \n",
       "ENSMUSG00000000001.4               16156               9459   \n",
       "ENSMUSG00000000028.15               3997               1038   \n",
       "ENSMUSG00000000031.16               4061                909   \n",
       "ENSMUSG00000000037.17                355                225   \n",
       "ENSMUSG00000000049.11                  0                  4   \n",
       "\n",
       "                       forebrain_E14.5_1  forebrain_E10.5_2  \n",
       "gene_id                                                      \n",
       "ENSMUSG00000000001.4               10751              14368  \n",
       "ENSMUSG00000000028.15               1428               3666  \n",
       "ENSMUSG00000000031.16               1059               4205  \n",
       "ENSMUSG00000000037.17                289                283  \n",
       "ENSMUSG00000000049.11                  0                  0  "
      ]
     },
     "execution_count": 10,
     "metadata": {},
     "output_type": "execute_result"
    }
   ],
   "source": [
    "gene_count_to_use.head()"
   ]
  },
  {
   "cell_type": "markdown",
   "metadata": {},
   "source": [
    "## Run DESeq2, this is very simple R code!\n",
    "\n",
    "the DESeq2 code is very simple, but it does a lot of work behind! See the above suggested reading for more details"
   ]
  },
  {
   "cell_type": "code",
   "execution_count": 19,
   "metadata": {
    "ExecuteTime": {
     "end_time": "2020-06-11T18:33:52.095036Z",
     "start_time": "2020-06-11T18:33:40.272672Z"
    }
   },
   "outputs": [
    {
     "name": "stderr",
     "output_type": "stream",
     "text": [
      "R[write to console]: estimating size factors\n",
      "\n",
      "R[write to console]: estimating dispersions\n",
      "\n",
      "R[write to console]: gene-wise dispersion estimates\n",
      "\n",
      "R[write to console]: mean-dispersion relationship\n",
      "\n",
      "R[write to console]: final dispersion estimates\n",
      "\n",
      "R[write to console]: fitting model and testing\n",
      "\n"
     ]
    }
   ],
   "source": [
    "%%R -i gene_count_to_use -i sample_to_use -i time1 -i time2 -o deg -o counts\n",
    "# this \"%%R\" line must be the first line of this cell, because it tells jupyter this is a R cell\n",
    "# -i means import python variable into R\n",
    "# python and R environment is separate! E.g., dds object will not be avaliable outside this cell, because its in R\n",
    "# search rpy2 ipython magic if you want to learn more\n",
    "\n",
    "\n",
    "dds <- DESeqDataSetFromMatrix(countData = gene_count_to_use,\n",
    "                              colData = sample_to_use,\n",
    "                              design = ~ rep + devTime)\n",
    "dds <- DESeq(dds)\n",
    "\n",
    "resultsNames(dds)\n",
    "\n",
    "res <- results(dds, contrast=c('devTime', time1, time2), filterFun=ihw)\n",
    "\n",
    "# get the DEG results as a dataframe\n",
    "deg <- as.data.frame(res)\n",
    "# get the normalized counts as a dataframe\n",
    "counts <- as.data.frame(counts(dds, normalized=TRUE))"
   ]
  },
  {
   "cell_type": "code",
   "execution_count": 21,
   "metadata": {
    "ExecuteTime": {
     "end_time": "2020-06-11T18:34:22.682652Z",
     "start_time": "2020-06-11T18:34:22.672122Z"
    }
   },
   "outputs": [
    {
     "data": {
      "text/html": [
       "<div>\n",
       "<style scoped>\n",
       "    .dataframe tbody tr th:only-of-type {\n",
       "        vertical-align: middle;\n",
       "    }\n",
       "\n",
       "    .dataframe tbody tr th {\n",
       "        vertical-align: top;\n",
       "    }\n",
       "\n",
       "    .dataframe thead th {\n",
       "        text-align: right;\n",
       "    }\n",
       "</style>\n",
       "<table border=\"1\" class=\"dataframe\">\n",
       "  <thead>\n",
       "    <tr style=\"text-align: right;\">\n",
       "      <th></th>\n",
       "      <th>baseMean</th>\n",
       "      <th>log2FoldChange</th>\n",
       "      <th>lfcSE</th>\n",
       "      <th>stat</th>\n",
       "      <th>pvalue</th>\n",
       "      <th>padj</th>\n",
       "      <th>weight</th>\n",
       "    </tr>\n",
       "  </thead>\n",
       "  <tbody>\n",
       "    <tr>\n",
       "      <th>ENSMUSG00000000001.4</th>\n",
       "      <td>12317.642241</td>\n",
       "      <td>0.297103</td>\n",
       "      <td>0.126877</td>\n",
       "      <td>2.341665</td>\n",
       "      <td>1.919793e-02</td>\n",
       "      <td>4.375757e-02</td>\n",
       "      <td>1.147604</td>\n",
       "    </tr>\n",
       "    <tr>\n",
       "      <th>ENSMUSG00000000028.15</th>\n",
       "      <td>2376.622873</td>\n",
       "      <td>1.353595</td>\n",
       "      <td>0.166360</td>\n",
       "      <td>8.136550</td>\n",
       "      <td>4.067019e-16</td>\n",
       "      <td>3.960103e-15</td>\n",
       "      <td>1.147604</td>\n",
       "    </tr>\n",
       "    <tr>\n",
       "      <th>ENSMUSG00000000031.16</th>\n",
       "      <td>2383.991337</td>\n",
       "      <td>1.775855</td>\n",
       "      <td>0.163946</td>\n",
       "      <td>10.831967</td>\n",
       "      <td>2.428815e-27</td>\n",
       "      <td>4.404670e-26</td>\n",
       "      <td>1.151647</td>\n",
       "    </tr>\n",
       "    <tr>\n",
       "      <th>ENSMUSG00000000037.17</th>\n",
       "      <td>281.576119</td>\n",
       "      <td>0.015541</td>\n",
       "      <td>0.324316</td>\n",
       "      <td>0.047918</td>\n",
       "      <td>9.617817e-01</td>\n",
       "      <td>9.854592e-01</td>\n",
       "      <td>1.302372</td>\n",
       "    </tr>\n",
       "    <tr>\n",
       "      <th>ENSMUSG00000000049.11</th>\n",
       "      <td>1.165938</td>\n",
       "      <td>-2.733085</td>\n",
       "      <td>4.912529</td>\n",
       "      <td>-0.556350</td>\n",
       "      <td>5.779717e-01</td>\n",
       "      <td>1.000000e+00</td>\n",
       "      <td>0.000000</td>\n",
       "    </tr>\n",
       "  </tbody>\n",
       "</table>\n",
       "</div>"
      ],
      "text/plain": [
       "                           baseMean  log2FoldChange     lfcSE       stat  \\\n",
       "ENSMUSG00000000001.4   12317.642241        0.297103  0.126877   2.341665   \n",
       "ENSMUSG00000000028.15   2376.622873        1.353595  0.166360   8.136550   \n",
       "ENSMUSG00000000031.16   2383.991337        1.775855  0.163946  10.831967   \n",
       "ENSMUSG00000000037.17    281.576119        0.015541  0.324316   0.047918   \n",
       "ENSMUSG00000000049.11      1.165938       -2.733085  4.912529  -0.556350   \n",
       "\n",
       "                             pvalue          padj    weight  \n",
       "ENSMUSG00000000001.4   1.919793e-02  4.375757e-02  1.147604  \n",
       "ENSMUSG00000000028.15  4.067019e-16  3.960103e-15  1.147604  \n",
       "ENSMUSG00000000031.16  2.428815e-27  4.404670e-26  1.151647  \n",
       "ENSMUSG00000000037.17  9.617817e-01  9.854592e-01  1.302372  \n",
       "ENSMUSG00000000049.11  5.779717e-01  1.000000e+00  0.000000  "
      ]
     },
     "execution_count": 21,
     "metadata": {},
     "output_type": "execute_result"
    }
   ],
   "source": [
    "deg.head()"
   ]
  },
  {
   "cell_type": "code",
   "execution_count": 22,
   "metadata": {
    "ExecuteTime": {
     "end_time": "2020-06-11T18:34:27.593821Z",
     "start_time": "2020-06-11T18:34:27.585792Z"
    }
   },
   "outputs": [
    {
     "data": {
      "text/html": [
       "<div>\n",
       "<style scoped>\n",
       "    .dataframe tbody tr th:only-of-type {\n",
       "        vertical-align: middle;\n",
       "    }\n",
       "\n",
       "    .dataframe tbody tr th {\n",
       "        vertical-align: top;\n",
       "    }\n",
       "\n",
       "    .dataframe thead th {\n",
       "        text-align: right;\n",
       "    }\n",
       "</style>\n",
       "<table border=\"1\" class=\"dataframe\">\n",
       "  <thead>\n",
       "    <tr style=\"text-align: right;\">\n",
       "      <th></th>\n",
       "      <th>forebrain_E10.5_1</th>\n",
       "      <th>forebrain_E14.5_2</th>\n",
       "      <th>forebrain_E14.5_1</th>\n",
       "      <th>forebrain_E10.5_2</th>\n",
       "    </tr>\n",
       "  </thead>\n",
       "  <tbody>\n",
       "    <tr>\n",
       "      <th>ENSMUSG00000000001.4</th>\n",
       "      <td>13676.188563</td>\n",
       "      <td>11028.608425</td>\n",
       "      <td>11078.729961</td>\n",
       "      <td>13487.042016</td>\n",
       "    </tr>\n",
       "    <tr>\n",
       "      <th>ENSMUSG00000000028.15</th>\n",
       "      <td>3383.493791</td>\n",
       "      <td>1210.243741</td>\n",
       "      <td>1471.530684</td>\n",
       "      <td>3441.223276</td>\n",
       "    </tr>\n",
       "    <tr>\n",
       "      <th>ENSMUSG00000000031.16</th>\n",
       "      <td>3437.670324</td>\n",
       "      <td>1059.837727</td>\n",
       "      <td>1091.282209</td>\n",
       "      <td>3947.175089</td>\n",
       "    </tr>\n",
       "    <tr>\n",
       "      <th>ENSMUSG00000000037.17</th>\n",
       "      <td>300.510457</td>\n",
       "      <td>262.336071</td>\n",
       "      <td>297.809781</td>\n",
       "      <td>265.648169</td>\n",
       "    </tr>\n",
       "    <tr>\n",
       "      <th>ENSMUSG00000000049.11</th>\n",
       "      <td>0.000000</td>\n",
       "      <td>4.663752</td>\n",
       "      <td>0.000000</td>\n",
       "      <td>0.000000</td>\n",
       "    </tr>\n",
       "  </tbody>\n",
       "</table>\n",
       "</div>"
      ],
      "text/plain": [
       "                       forebrain_E10.5_1  forebrain_E14.5_2  \\\n",
       "ENSMUSG00000000001.4        13676.188563       11028.608425   \n",
       "ENSMUSG00000000028.15        3383.493791        1210.243741   \n",
       "ENSMUSG00000000031.16        3437.670324        1059.837727   \n",
       "ENSMUSG00000000037.17         300.510457         262.336071   \n",
       "ENSMUSG00000000049.11           0.000000           4.663752   \n",
       "\n",
       "                       forebrain_E14.5_1  forebrain_E10.5_2  \n",
       "ENSMUSG00000000001.4        11078.729961       13487.042016  \n",
       "ENSMUSG00000000028.15        1471.530684        3441.223276  \n",
       "ENSMUSG00000000031.16        1091.282209        3947.175089  \n",
       "ENSMUSG00000000037.17         297.809781         265.648169  \n",
       "ENSMUSG00000000049.11           0.000000           0.000000  "
      ]
     },
     "execution_count": 22,
     "metadata": {},
     "output_type": "execute_result"
    }
   ],
   "source": [
    "counts.head()"
   ]
  },
  {
   "cell_type": "code",
   "execution_count": 25,
   "metadata": {
    "ExecuteTime": {
     "end_time": "2020-06-11T18:34:57.485229Z",
     "start_time": "2020-06-11T18:34:56.549556Z"
    }
   },
   "outputs": [],
   "source": [
    "# concatenate these two tables and save it into a file\n",
    "deg_with_counts = pd.concat([deg, counts], axis=1)\n",
    "deg_with_counts.to_csv(f'{time1}_vs_{time2}.deg_results.csv.gz')"
   ]
  },
  {
   "cell_type": "code",
   "execution_count": 26,
   "metadata": {
    "ExecuteTime": {
     "end_time": "2020-06-11T18:34:58.814092Z",
     "start_time": "2020-06-11T18:34:58.795745Z"
    }
   },
   "outputs": [
    {
     "data": {
      "text/html": [
       "<div>\n",
       "<style scoped>\n",
       "    .dataframe tbody tr th:only-of-type {\n",
       "        vertical-align: middle;\n",
       "    }\n",
       "\n",
       "    .dataframe tbody tr th {\n",
       "        vertical-align: top;\n",
       "    }\n",
       "\n",
       "    .dataframe thead th {\n",
       "        text-align: right;\n",
       "    }\n",
       "</style>\n",
       "<table border=\"1\" class=\"dataframe\">\n",
       "  <thead>\n",
       "    <tr style=\"text-align: right;\">\n",
       "      <th></th>\n",
       "      <th>baseMean</th>\n",
       "      <th>log2FoldChange</th>\n",
       "      <th>lfcSE</th>\n",
       "      <th>stat</th>\n",
       "      <th>pvalue</th>\n",
       "      <th>padj</th>\n",
       "      <th>weight</th>\n",
       "      <th>forebrain_E10.5_1</th>\n",
       "      <th>forebrain_E14.5_2</th>\n",
       "      <th>forebrain_E14.5_1</th>\n",
       "      <th>forebrain_E10.5_2</th>\n",
       "    </tr>\n",
       "  </thead>\n",
       "  <tbody>\n",
       "    <tr>\n",
       "      <th>ENSMUSG00000000001.4</th>\n",
       "      <td>12317.642241</td>\n",
       "      <td>0.297103</td>\n",
       "      <td>0.126877</td>\n",
       "      <td>2.341665</td>\n",
       "      <td>1.919793e-02</td>\n",
       "      <td>4.375757e-02</td>\n",
       "      <td>1.147604</td>\n",
       "      <td>13676.188563</td>\n",
       "      <td>11028.608425</td>\n",
       "      <td>11078.729961</td>\n",
       "      <td>13487.042016</td>\n",
       "    </tr>\n",
       "    <tr>\n",
       "      <th>ENSMUSG00000000028.15</th>\n",
       "      <td>2376.622873</td>\n",
       "      <td>1.353595</td>\n",
       "      <td>0.166360</td>\n",
       "      <td>8.136550</td>\n",
       "      <td>4.067019e-16</td>\n",
       "      <td>3.960103e-15</td>\n",
       "      <td>1.147604</td>\n",
       "      <td>3383.493791</td>\n",
       "      <td>1210.243741</td>\n",
       "      <td>1471.530684</td>\n",
       "      <td>3441.223276</td>\n",
       "    </tr>\n",
       "    <tr>\n",
       "      <th>ENSMUSG00000000031.16</th>\n",
       "      <td>2383.991337</td>\n",
       "      <td>1.775855</td>\n",
       "      <td>0.163946</td>\n",
       "      <td>10.831967</td>\n",
       "      <td>2.428815e-27</td>\n",
       "      <td>4.404670e-26</td>\n",
       "      <td>1.151647</td>\n",
       "      <td>3437.670324</td>\n",
       "      <td>1059.837727</td>\n",
       "      <td>1091.282209</td>\n",
       "      <td>3947.175089</td>\n",
       "    </tr>\n",
       "    <tr>\n",
       "      <th>ENSMUSG00000000037.17</th>\n",
       "      <td>281.576119</td>\n",
       "      <td>0.015541</td>\n",
       "      <td>0.324316</td>\n",
       "      <td>0.047918</td>\n",
       "      <td>9.617817e-01</td>\n",
       "      <td>9.854592e-01</td>\n",
       "      <td>1.302372</td>\n",
       "      <td>300.510457</td>\n",
       "      <td>262.336071</td>\n",
       "      <td>297.809781</td>\n",
       "      <td>265.648169</td>\n",
       "    </tr>\n",
       "    <tr>\n",
       "      <th>ENSMUSG00000000049.11</th>\n",
       "      <td>1.165938</td>\n",
       "      <td>-2.733085</td>\n",
       "      <td>4.912529</td>\n",
       "      <td>-0.556350</td>\n",
       "      <td>5.779717e-01</td>\n",
       "      <td>1.000000e+00</td>\n",
       "      <td>0.000000</td>\n",
       "      <td>0.000000</td>\n",
       "      <td>4.663752</td>\n",
       "      <td>0.000000</td>\n",
       "      <td>0.000000</td>\n",
       "    </tr>\n",
       "    <tr>\n",
       "      <th>...</th>\n",
       "      <td>...</td>\n",
       "      <td>...</td>\n",
       "      <td>...</td>\n",
       "      <td>...</td>\n",
       "      <td>...</td>\n",
       "      <td>...</td>\n",
       "      <td>...</td>\n",
       "      <td>...</td>\n",
       "      <td>...</td>\n",
       "      <td>...</td>\n",
       "      <td>...</td>\n",
       "    </tr>\n",
       "    <tr>\n",
       "      <th>ENSMUSG00000118613.1</th>\n",
       "      <td>1.647316</td>\n",
       "      <td>-4.325815</td>\n",
       "      <td>4.307961</td>\n",
       "      <td>-1.004144</td>\n",
       "      <td>3.153090e-01</td>\n",
       "      <td>1.000000e+00</td>\n",
       "      <td>0.000000</td>\n",
       "      <td>0.000000</td>\n",
       "      <td>3.497814</td>\n",
       "      <td>3.091451</td>\n",
       "      <td>0.000000</td>\n",
       "    </tr>\n",
       "    <tr>\n",
       "      <th>ENSMUSG00000118619.1</th>\n",
       "      <td>2.460151</td>\n",
       "      <td>0.209040</td>\n",
       "      <td>2.970134</td>\n",
       "      <td>0.070381</td>\n",
       "      <td>9.438906e-01</td>\n",
       "      <td>1.000000e+00</td>\n",
       "      <td>0.000000</td>\n",
       "      <td>1.693017</td>\n",
       "      <td>2.331876</td>\n",
       "      <td>2.060967</td>\n",
       "      <td>3.754744</td>\n",
       "    </tr>\n",
       "    <tr>\n",
       "      <th>ENSMUSG00000118626.1</th>\n",
       "      <td>7.283945</td>\n",
       "      <td>3.532301</td>\n",
       "      <td>2.148490</td>\n",
       "      <td>1.644085</td>\n",
       "      <td>1.001586e-01</td>\n",
       "      <td>1.646480e-01</td>\n",
       "      <td>1.300747</td>\n",
       "      <td>5.925558</td>\n",
       "      <td>3.497814</td>\n",
       "      <td>0.000000</td>\n",
       "      <td>19.712408</td>\n",
       "    </tr>\n",
       "    <tr>\n",
       "      <th>ENSMUSG00000118633.1</th>\n",
       "      <td>0.469248</td>\n",
       "      <td>-0.297609</td>\n",
       "      <td>4.887647</td>\n",
       "      <td>-0.060890</td>\n",
       "      <td>9.514467e-01</td>\n",
       "      <td>1.000000e+00</td>\n",
       "      <td>0.000000</td>\n",
       "      <td>0.846508</td>\n",
       "      <td>0.000000</td>\n",
       "      <td>1.030484</td>\n",
       "      <td>0.000000</td>\n",
       "    </tr>\n",
       "    <tr>\n",
       "      <th>ENSMUSG00000118636.1</th>\n",
       "      <td>1.642511</td>\n",
       "      <td>1.858301</td>\n",
       "      <td>3.948154</td>\n",
       "      <td>0.470676</td>\n",
       "      <td>6.378721e-01</td>\n",
       "      <td>1.000000e+00</td>\n",
       "      <td>0.000000</td>\n",
       "      <td>1.693017</td>\n",
       "      <td>0.000000</td>\n",
       "      <td>2.060967</td>\n",
       "      <td>2.816058</td>\n",
       "    </tr>\n",
       "  </tbody>\n",
       "</table>\n",
       "<p>26782 rows × 11 columns</p>\n",
       "</div>"
      ],
      "text/plain": [
       "                           baseMean  log2FoldChange     lfcSE       stat  \\\n",
       "ENSMUSG00000000001.4   12317.642241        0.297103  0.126877   2.341665   \n",
       "ENSMUSG00000000028.15   2376.622873        1.353595  0.166360   8.136550   \n",
       "ENSMUSG00000000031.16   2383.991337        1.775855  0.163946  10.831967   \n",
       "ENSMUSG00000000037.17    281.576119        0.015541  0.324316   0.047918   \n",
       "ENSMUSG00000000049.11      1.165938       -2.733085  4.912529  -0.556350   \n",
       "...                             ...             ...       ...        ...   \n",
       "ENSMUSG00000118613.1       1.647316       -4.325815  4.307961  -1.004144   \n",
       "ENSMUSG00000118619.1       2.460151        0.209040  2.970134   0.070381   \n",
       "ENSMUSG00000118626.1       7.283945        3.532301  2.148490   1.644085   \n",
       "ENSMUSG00000118633.1       0.469248       -0.297609  4.887647  -0.060890   \n",
       "ENSMUSG00000118636.1       1.642511        1.858301  3.948154   0.470676   \n",
       "\n",
       "                             pvalue          padj    weight  \\\n",
       "ENSMUSG00000000001.4   1.919793e-02  4.375757e-02  1.147604   \n",
       "ENSMUSG00000000028.15  4.067019e-16  3.960103e-15  1.147604   \n",
       "ENSMUSG00000000031.16  2.428815e-27  4.404670e-26  1.151647   \n",
       "ENSMUSG00000000037.17  9.617817e-01  9.854592e-01  1.302372   \n",
       "ENSMUSG00000000049.11  5.779717e-01  1.000000e+00  0.000000   \n",
       "...                             ...           ...       ...   \n",
       "ENSMUSG00000118613.1   3.153090e-01  1.000000e+00  0.000000   \n",
       "ENSMUSG00000118619.1   9.438906e-01  1.000000e+00  0.000000   \n",
       "ENSMUSG00000118626.1   1.001586e-01  1.646480e-01  1.300747   \n",
       "ENSMUSG00000118633.1   9.514467e-01  1.000000e+00  0.000000   \n",
       "ENSMUSG00000118636.1   6.378721e-01  1.000000e+00  0.000000   \n",
       "\n",
       "                       forebrain_E10.5_1  forebrain_E14.5_2  \\\n",
       "ENSMUSG00000000001.4        13676.188563       11028.608425   \n",
       "ENSMUSG00000000028.15        3383.493791        1210.243741   \n",
       "ENSMUSG00000000031.16        3437.670324        1059.837727   \n",
       "ENSMUSG00000000037.17         300.510457         262.336071   \n",
       "ENSMUSG00000000049.11           0.000000           4.663752   \n",
       "...                                  ...                ...   \n",
       "ENSMUSG00000118613.1            0.000000           3.497814   \n",
       "ENSMUSG00000118619.1            1.693017           2.331876   \n",
       "ENSMUSG00000118626.1            5.925558           3.497814   \n",
       "ENSMUSG00000118633.1            0.846508           0.000000   \n",
       "ENSMUSG00000118636.1            1.693017           0.000000   \n",
       "\n",
       "                       forebrain_E14.5_1  forebrain_E10.5_2  \n",
       "ENSMUSG00000000001.4        11078.729961       13487.042016  \n",
       "ENSMUSG00000000028.15        1471.530684        3441.223276  \n",
       "ENSMUSG00000000031.16        1091.282209        3947.175089  \n",
       "ENSMUSG00000000037.17         297.809781         265.648169  \n",
       "ENSMUSG00000000049.11           0.000000           0.000000  \n",
       "...                                  ...                ...  \n",
       "ENSMUSG00000118613.1            3.091451           0.000000  \n",
       "ENSMUSG00000118619.1            2.060967           3.754744  \n",
       "ENSMUSG00000118626.1            0.000000          19.712408  \n",
       "ENSMUSG00000118633.1            1.030484           0.000000  \n",
       "ENSMUSG00000118636.1            2.060967           2.816058  \n",
       "\n",
       "[26782 rows x 11 columns]"
      ]
     },
     "execution_count": 26,
     "metadata": {},
     "output_type": "execute_result"
    }
   ],
   "source": [
    "deg_with_counts"
   ]
  },
  {
   "cell_type": "code",
   "execution_count": null,
   "metadata": {},
   "outputs": [],
   "source": []
  },
  {
   "cell_type": "code",
   "execution_count": null,
   "metadata": {},
   "outputs": [],
   "source": []
  },
  {
   "cell_type": "code",
   "execution_count": null,
   "metadata": {},
   "outputs": [],
   "source": []
  },
  {
   "cell_type": "code",
   "execution_count": null,
   "metadata": {},
   "outputs": [],
   "source": []
  },
  {
   "cell_type": "code",
   "execution_count": null,
   "metadata": {},
   "outputs": [],
   "source": []
  }
 ],
 "metadata": {
  "kernelspec": {
   "display_name": "Python 3",
   "language": "python",
   "name": "python3"
  },
  "language_info": {
   "codemirror_mode": {
    "name": "ipython",
    "version": 3
   },
   "file_extension": ".py",
   "mimetype": "text/x-python",
   "name": "python",
   "nbconvert_exporter": "python",
   "pygments_lexer": "ipython3",
   "version": "3.7.6"
  },
  "toc": {
   "base_numbering": 1,
   "nav_menu": {},
   "number_sections": true,
   "sideBar": true,
   "skip_h1_title": true,
   "title_cell": "Table of Contents",
   "title_sidebar": "Contents",
   "toc_cell": false,
   "toc_position": {},
   "toc_section_display": true,
   "toc_window_display": true
  }
 },
 "nbformat": 4,
 "nbformat_minor": 4
}

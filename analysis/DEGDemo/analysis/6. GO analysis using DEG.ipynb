{
 "cells": [
  {
   "cell_type": "markdown",
   "metadata": {},
   "source": [
    "# GO analysis\n",
    "\n",
    "## GO\n",
    "The [Gene Ontology database](http://geneontology.org/) contains many hierarchical annotation terms related to three kinds of biological informations:\n",
    "1. BP: Biological process\n",
    "2. MF: Molecular function\n",
    "3. CC: Cellular component\n",
    "Each term is associated with a gene set, the gene sets have the same hierarchy as the annotation set.\n",
    "\n",
    "## GO analysis input\n",
    "To perform GO enrichment analysis, you need \n",
    "1. The GO database (in obo format, but you don't really need to know what it is, it's just a file), which contains all the terms and their associated gene sets\n",
    "2. Your gene set of interests, e.g. a list of DEG identified from a pairwise comparison\n",
    "3. Background gene set, usually, use all protein coding genes\n",
    "\n",
    "GO analysis is just performing Fisher's exact test on each GO term, asking whether this GO term's gene set has more overlap with your GOI set than with the background gene set.\n",
    "\n",
    "## The most simple way to run GO analysis\n",
    "- Use the STRING database (https://string-db.org/), it not only do GO for you, but also run many other analysis\n",
    "- Try some other gene set annotation tool, such as [phenolyzer](http://phenolyzer.wglab.org/)\n",
    "- This notebook is just showing you some more details of GO analysis using python package GOATools"
   ]
  },
  {
   "cell_type": "markdown",
   "metadata": {},
   "source": [
    "## Install goatools first\n",
    "\n",
    "```shell\n",
    "conda install goatools\n",
    "```"
   ]
  },
  {
   "cell_type": "code",
   "execution_count": 1,
   "metadata": {
    "ExecuteTime": {
     "end_time": "2020-06-19T00:06:56.578636Z",
     "start_time": "2020-06-19T00:06:53.689672Z"
    }
   },
   "outputs": [],
   "source": [
    "import pandas as pd\n",
    "from goatools.base import download_go_basic_obo\n",
    "from goatools.base import download_ncbi_associations\n",
    "from goatools.obo_parser import GODag\n",
    "from goatools.anno.genetogo_reader import Gene2GoReader\n",
    "from goatools.test_data.genes_NCBI_10090_ProteinCoding import GENEID2NT as GeneID2nt_mus\n",
    "from goatools.test_data.genes_NCBI_9606_ProteinCoding import GENEID2NT as GeneID2nt_human\n",
    "from goatools.goea.go_enrichment_ns import GOEnrichmentStudyNS\n",
    "from goatools.godag_plot import plot_gos, plot_results, plot_goid2goobj"
   ]
  },
  {
   "cell_type": "markdown",
   "metadata": {},
   "source": [
    "## Load Gene Meta"
   ]
  },
  {
   "cell_type": "code",
   "execution_count": 2,
   "metadata": {
    "ExecuteTime": {
     "end_time": "2020-06-19T00:06:56.935766Z",
     "start_time": "2020-06-19T00:06:56.581128Z"
    }
   },
   "outputs": [
    {
     "data": {
      "text/html": [
       "<div>\n",
       "<style scoped>\n",
       "    .dataframe tbody tr th:only-of-type {\n",
       "        vertical-align: middle;\n",
       "    }\n",
       "\n",
       "    .dataframe tbody tr th {\n",
       "        vertical-align: top;\n",
       "    }\n",
       "\n",
       "    .dataframe thead th {\n",
       "        text-align: right;\n",
       "    }\n",
       "</style>\n",
       "<table border=\"1\" class=\"dataframe\">\n",
       "  <thead>\n",
       "    <tr style=\"text-align: right;\">\n",
       "      <th></th>\n",
       "      <th>chrom</th>\n",
       "      <th>source</th>\n",
       "      <th>feature</th>\n",
       "      <th>start</th>\n",
       "      <th>end</th>\n",
       "      <th>strand</th>\n",
       "      <th>gene_type</th>\n",
       "      <th>gene_name</th>\n",
       "      <th>level</th>\n",
       "      <th>mgi_id</th>\n",
       "      <th>havana_gene</th>\n",
       "      <th>tag</th>\n",
       "    </tr>\n",
       "    <tr>\n",
       "      <th>gene_id</th>\n",
       "      <th></th>\n",
       "      <th></th>\n",
       "      <th></th>\n",
       "      <th></th>\n",
       "      <th></th>\n",
       "      <th></th>\n",
       "      <th></th>\n",
       "      <th></th>\n",
       "      <th></th>\n",
       "      <th></th>\n",
       "      <th></th>\n",
       "      <th></th>\n",
       "    </tr>\n",
       "  </thead>\n",
       "  <tbody>\n",
       "    <tr>\n",
       "      <th>ENSMUSG00000102693.1</th>\n",
       "      <td>chr1</td>\n",
       "      <td>HAVANA</td>\n",
       "      <td>gene</td>\n",
       "      <td>3073253</td>\n",
       "      <td>3074322</td>\n",
       "      <td>+</td>\n",
       "      <td>TEC</td>\n",
       "      <td>4933401J01Rik</td>\n",
       "      <td>2</td>\n",
       "      <td>MGI:1918292</td>\n",
       "      <td>OTTMUSG00000049935.1</td>\n",
       "      <td>NaN</td>\n",
       "    </tr>\n",
       "    <tr>\n",
       "      <th>ENSMUSG00000064842.1</th>\n",
       "      <td>chr1</td>\n",
       "      <td>ENSEMBL</td>\n",
       "      <td>gene</td>\n",
       "      <td>3102016</td>\n",
       "      <td>3102125</td>\n",
       "      <td>+</td>\n",
       "      <td>snRNA</td>\n",
       "      <td>Gm26206</td>\n",
       "      <td>3</td>\n",
       "      <td>MGI:5455983</td>\n",
       "      <td>NaN</td>\n",
       "      <td>NaN</td>\n",
       "    </tr>\n",
       "    <tr>\n",
       "      <th>ENSMUSG00000051951.5</th>\n",
       "      <td>chr1</td>\n",
       "      <td>HAVANA</td>\n",
       "      <td>gene</td>\n",
       "      <td>3205901</td>\n",
       "      <td>3671498</td>\n",
       "      <td>-</td>\n",
       "      <td>protein_coding</td>\n",
       "      <td>Xkr4</td>\n",
       "      <td>2</td>\n",
       "      <td>MGI:3528744</td>\n",
       "      <td>OTTMUSG00000026353.2</td>\n",
       "      <td>NaN</td>\n",
       "    </tr>\n",
       "    <tr>\n",
       "      <th>ENSMUSG00000102851.1</th>\n",
       "      <td>chr1</td>\n",
       "      <td>HAVANA</td>\n",
       "      <td>gene</td>\n",
       "      <td>3252757</td>\n",
       "      <td>3253236</td>\n",
       "      <td>+</td>\n",
       "      <td>processed_pseudogene</td>\n",
       "      <td>Gm18956</td>\n",
       "      <td>1</td>\n",
       "      <td>MGI:5011141</td>\n",
       "      <td>OTTMUSG00000049958.1</td>\n",
       "      <td>pseudo_consens</td>\n",
       "    </tr>\n",
       "    <tr>\n",
       "      <th>ENSMUSG00000103377.1</th>\n",
       "      <td>chr1</td>\n",
       "      <td>HAVANA</td>\n",
       "      <td>gene</td>\n",
       "      <td>3365731</td>\n",
       "      <td>3368549</td>\n",
       "      <td>-</td>\n",
       "      <td>TEC</td>\n",
       "      <td>Gm37180</td>\n",
       "      <td>2</td>\n",
       "      <td>MGI:5610408</td>\n",
       "      <td>OTTMUSG00000049960.1</td>\n",
       "      <td>NaN</td>\n",
       "    </tr>\n",
       "  </tbody>\n",
       "</table>\n",
       "</div>"
      ],
      "text/plain": [
       "                     chrom   source feature    start      end strand  \\\n",
       "gene_id                                                                \n",
       "ENSMUSG00000102693.1  chr1   HAVANA    gene  3073253  3074322      +   \n",
       "ENSMUSG00000064842.1  chr1  ENSEMBL    gene  3102016  3102125      +   \n",
       "ENSMUSG00000051951.5  chr1   HAVANA    gene  3205901  3671498      -   \n",
       "ENSMUSG00000102851.1  chr1   HAVANA    gene  3252757  3253236      +   \n",
       "ENSMUSG00000103377.1  chr1   HAVANA    gene  3365731  3368549      -   \n",
       "\n",
       "                                 gene_type      gene_name  level       mgi_id  \\\n",
       "gene_id                                                                         \n",
       "ENSMUSG00000102693.1                   TEC  4933401J01Rik      2  MGI:1918292   \n",
       "ENSMUSG00000064842.1                 snRNA        Gm26206      3  MGI:5455983   \n",
       "ENSMUSG00000051951.5        protein_coding           Xkr4      2  MGI:3528744   \n",
       "ENSMUSG00000102851.1  processed_pseudogene        Gm18956      1  MGI:5011141   \n",
       "ENSMUSG00000103377.1                   TEC        Gm37180      2  MGI:5610408   \n",
       "\n",
       "                               havana_gene             tag  \n",
       "gene_id                                                     \n",
       "ENSMUSG00000102693.1  OTTMUSG00000049935.1             NaN  \n",
       "ENSMUSG00000064842.1                   NaN             NaN  \n",
       "ENSMUSG00000051951.5  OTTMUSG00000026353.2             NaN  \n",
       "ENSMUSG00000102851.1  OTTMUSG00000049958.1  pseudo_consens  \n",
       "ENSMUSG00000103377.1  OTTMUSG00000049960.1             NaN  "
      ]
     },
     "execution_count": 2,
     "metadata": {},
     "output_type": "execute_result"
    }
   ],
   "source": [
    "gene_meta = pd.read_csv('./gene_metadata.csv.gz', index_col='gene_id')\n",
    "\n",
    "# get a dict for later annotating gene name\n",
    "gene_id_base_to_name = {gene_id.split('.')[0]: gene_name for gene_id, gene_name in gene_meta['gene_name'].items()}\n",
    "\n",
    "gene_meta.head()"
   ]
  },
  {
   "cell_type": "markdown",
   "metadata": {},
   "source": [
    "### ID map between entrez and ensembl\n",
    "The GO dataset we used here using NCBI Entrez gene id, while GENCODE uses ENSEMBL ID, they are two different id systems, but we can use the file below to match them. Note that not all the gene ID in GENCODE can be found in Entrez, this is fine, because usually those genes are relatively novel so not all database has record for that. Most important protein coding genes should be able to be included in both\n",
    "\n",
    "This file is downloaded from here, but I only took rows related to human and mouse so its much smaller for you to download: ftp://ftp.ncbi.nlm.nih.gov/gene/DATA/"
   ]
  },
  {
   "cell_type": "code",
   "execution_count": 3,
   "metadata": {
    "ExecuteTime": {
     "end_time": "2020-06-19T00:07:01.356693Z",
     "start_time": "2020-06-19T00:07:00.989283Z"
    }
   },
   "outputs": [],
   "source": [
    "entrez_ensembl_idmap_df = pd.read_csv(\n",
    "    'EntrezID_ENSEMBL_ID.human_and_mouse.csv.gz')\n",
    "ensembl_to_entrez_id_dict = entrez_ensembl_idmap_df.set_index(\n",
    "    'Ensembl_gene_identifier')['GeneID'].to_dict()\n",
    "entrez_to_ensembl_id_dict = {\n",
    "    v: k\n",
    "    for k, v in ensembl_to_entrez_id_dict.items()\n",
    "}"
   ]
  },
  {
   "cell_type": "code",
   "execution_count": 4,
   "metadata": {
    "ExecuteTime": {
     "end_time": "2020-06-19T00:07:01.765455Z",
     "start_time": "2020-06-19T00:07:01.484727Z"
    }
   },
   "outputs": [
    {
     "name": "stdout",
     "output_type": "stream",
     "text": [
      "55385 input genes\n",
      "31242 genes have Entrez ID, we will only use these genes for GO analysis\n"
     ]
    }
   ],
   "source": [
    "gene_meta['EntrezID'] = gene_meta.index.str.split('.').str[0].map(ensembl_to_entrez_id_dict)\n",
    "print(f'{gene_meta.shape[0]} input genes')\n",
    "gene_meta = gene_meta[~gene_meta['EntrezID'].isna()].copy()\n",
    "print(f'{gene_meta.shape[0]} genes have Entrez ID, we will only use these genes for GO analysis')"
   ]
  },
  {
   "cell_type": "code",
   "execution_count": null,
   "metadata": {
    "ExecuteTime": {
     "end_time": "2020-06-19T00:06:24.550343Z",
     "start_time": "2020-06-19T00:06:24.528351Z"
    }
   },
   "outputs": [],
   "source": []
  },
  {
   "cell_type": "markdown",
   "metadata": {
    "ExecuteTime": {
     "end_time": "2020-06-18T23:45:32.579124Z",
     "start_time": "2020-06-18T23:45:32.569048Z"
    }
   },
   "source": [
    "## Set up GO\n",
    "\n",
    "**IMPORTANT: Remember to change taxids into 9606 for human. 10090 is mouse tax id.**\n",
    "\n",
    "This cell will download GO database automatically, it will take sometime"
   ]
  },
  {
   "cell_type": "code",
   "execution_count": 5,
   "metadata": {
    "ExecuteTime": {
     "end_time": "2020-06-19T00:07:09.501344Z",
     "start_time": "2020-06-19T00:07:03.249747Z"
    }
   },
   "outputs": [
    {
     "name": "stdout",
     "output_type": "stream",
     "text": [
      "  EXISTS: go-basic.obo\n",
      "  EXISTS: gene2go\n",
      "go-basic.obo: fmt(1.2) rel(2020-06-01) 47,233 GO Terms\n",
      "HMS:0:00:04.551457 378,417 annotations, 24,283 genes, 18,403 GOs, 1 taxids READ: gene2go \n",
      "MF 16,873 annotated mouse genes\n",
      "CC 19,029 annotated mouse genes\n",
      "BP 18,173 annotated mouse genes\n"
     ]
    }
   ],
   "source": [
    "obo_fname = download_go_basic_obo()\n",
    "fin_gene2go = download_ncbi_associations()\n",
    "\n",
    "# this is the whole GO database loaded into memory\n",
    "obodag = GODag(\"go-basic.obo\")\n",
    "\n",
    "# Read NCBI's gene2go. Store annotations in a list of namedtuples\n",
    "objanno = Gene2GoReader(fin_gene2go, taxids=[10090])  # change to 9606 for human\n",
    "# Get namespace2association where: \n",
    "#    namespace is:\n",
    "#        BP: biological_process               \n",
    "#        MF: molecular_function\n",
    "#        CC: cellular_component\n",
    "#    assocation is a dict:\n",
    "#        key: NCBI GeneID\n",
    "#        value: A set of GO IDs associated with that gene\n",
    "ns2assoc = objanno.get_ns2assc()\n",
    "\n",
    "for nspc, id2gos in ns2assoc.items():\n",
    "    print(\"{NS} {N:,} annotated mouse genes\".format(NS=nspc, N=len(id2gos)))"
   ]
  },
  {
   "cell_type": "markdown",
   "metadata": {},
   "source": [
    "## create GO analysis object"
   ]
  },
  {
   "cell_type": "code",
   "execution_count": 6,
   "metadata": {
    "ExecuteTime": {
     "end_time": "2020-06-19T00:07:09.507247Z",
     "start_time": "2020-06-19T00:07:09.504182Z"
    }
   },
   "outputs": [],
   "source": [
    "# background genes, use all protein coding genes\n",
    "\n",
    "bg_genes = list(GeneID2nt_mus.keys())\n",
    "\n",
    "#IMPORTANT: use this for HUMAN\n",
    "# bg_genes = list(GeneID2nt_human.keys())"
   ]
  },
  {
   "cell_type": "code",
   "execution_count": 7,
   "metadata": {
    "ExecuteTime": {
     "end_time": "2020-06-19T00:07:10.410412Z",
     "start_time": "2020-06-19T00:07:09.510592Z"
    }
   },
   "outputs": [
    {
     "name": "stdout",
     "output_type": "stream",
     "text": [
      "\n",
      "Load BP Gene Ontology Analysis ...\n",
      "fisher module not installed.  Falling back on scipy.stats.fisher_exact\n",
      " 61% 17,108 of 28,212 population items found in association\n",
      "\n",
      "Load CC Gene Ontology Analysis ...\n",
      "fisher module not installed.  Falling back on scipy.stats.fisher_exact\n",
      " 65% 18,353 of 28,212 population items found in association\n",
      "\n",
      "Load MF Gene Ontology Analysis ...\n",
      "fisher module not installed.  Falling back on scipy.stats.fisher_exact\n",
      " 58% 16,497 of 28,212 population items found in association\n"
     ]
    }
   ],
   "source": [
    "goeaobj = GOEnrichmentStudyNS(\n",
    "        bg_genes, # List of mouse protein-coding genes\n",
    "        ns2assoc, # geneid/GO associations\n",
    "        obodag, # Ontologies\n",
    "        propagate_counts = False,\n",
    "        alpha = 0.05, # default significance cut-off\n",
    "        methods = ['fdr_bh']) # defult multipletest correction method"
   ]
  },
  {
   "cell_type": "markdown",
   "metadata": {},
   "source": [
    "## Run GO analysis for each DEG results"
   ]
  },
  {
   "cell_type": "code",
   "execution_count": 8,
   "metadata": {
    "ExecuteTime": {
     "end_time": "2020-06-19T00:07:10.501372Z",
     "start_time": "2020-06-19T00:07:10.461929Z"
    }
   },
   "outputs": [],
   "source": [
    "deg_results = pd.read_csv('./TotalDEG.csv.gz')\n",
    "\n",
    "# add a column indicating log2FC sign\n",
    "deg_results['log2fc_direction'] = deg_results['log2FoldChange'] > 0"
   ]
  },
  {
   "cell_type": "code",
   "execution_count": 9,
   "metadata": {
    "ExecuteTime": {
     "end_time": "2020-06-19T00:07:11.342667Z",
     "start_time": "2020-06-19T00:07:11.301321Z"
    }
   },
   "outputs": [
    {
     "name": "stdout",
     "output_type": "stream",
     "text": [
      "E14.5 high - E10.5 low\n",
      "1504 total DEG from DESeq2.\n",
      "1444 DEGs have entrez id.\n",
      "\n",
      "P0 high - E10.5 low\n",
      "2351 total DEG from DESeq2.\n",
      "2251 DEGs have entrez id.\n",
      "\n",
      "P0 high - E14.5 low\n",
      "265 total DEG from DESeq2.\n",
      "258 DEGs have entrez id.\n",
      "\n",
      "E10.5 high - E14.5 low\n",
      "605 total DEG from DESeq2.\n",
      "529 DEGs have entrez id.\n",
      "\n",
      "E10.5 high - P0 low\n",
      "1169 total DEG from DESeq2.\n",
      "1043 DEGs have entrez id.\n",
      "\n",
      "E14.5 high - P0 low\n",
      "222 total DEG from DESeq2.\n",
      "210 DEGs have entrez id.\n",
      "\n"
     ]
    }
   ],
   "source": [
    "deg_dict = {}\n",
    "\n",
    "for (lg2fc_direction, cluster_a, cluster_b), sub_df in deg_results.groupby(['log2fc_direction', 'cluster_a', 'cluster_b']):\n",
    "    if lg2fc_direction:\n",
    "        # log2fc > 0, cluster_a > cluster_b\n",
    "        name = f'{cluster_a} high - {cluster_b} low'\n",
    "    else:\n",
    "        name = f'{cluster_b} high - {cluster_a} low'\n",
    "    \n",
    "    print(name)\n",
    "    # sub_df contain all DEGs, I select those that have entrez_id\n",
    "    print(f'{sub_df.shape[0]} total DEG from DESeq2.')\n",
    "    select_genes = gene_meta.reindex(sub_df['gene_id'].values)['EntrezID'].dropna().astype(int).tolist()\n",
    "    print(f'{len(select_genes)} DEGs have entrez id.')\n",
    "    print()\n",
    "    \n",
    "    deg_dict[name] = select_genes"
   ]
  },
  {
   "cell_type": "markdown",
   "metadata": {},
   "source": [
    "## Run GO"
   ]
  },
  {
   "cell_type": "code",
   "execution_count": 11,
   "metadata": {
    "ExecuteTime": {
     "end_time": "2020-06-19T00:09:42.044713Z",
     "start_time": "2020-06-19T00:07:44.404158Z"
    }
   },
   "outputs": [
    {
     "name": "stdout",
     "output_type": "stream",
     "text": [
      "E14.5 high - E10.5 low\n",
      "\n",
      "Run BP Gene Ontology Analysis: current study set of 1444 IDs ... 87%  1,213 of  1,387 study items found in association\n",
      " 96%  1,387 of  1,444 study items found in population(28212)\n",
      "Calculating 12,420 uncorrected p-values using fisher_scipy_stats\n",
      "  12,420 GO terms are associated with 17,108 of 28,212 population items\n",
      "   3,699 GO terms are associated with  1,213 of  1,444 study items\n",
      "  METHOD fdr_bh:\n",
      "     323 GO terms found significant (< 0.05=alpha) (317 enriched +   6 purified): statsmodels fdr_bh\n",
      "     891 study items associated with significant GO IDs (enriched)\n",
      "      22 study items associated with significant GO IDs (purified)\n",
      "\n",
      "Run CC Gene Ontology Analysis: current study set of 1444 IDs ... 93%  1,287 of  1,387 study items found in association\n",
      " 96%  1,387 of  1,444 study items found in population(28212)\n",
      "Calculating 1,751 uncorrected p-values using fisher_scipy_stats\n",
      "   1,751 GO terms are associated with 18,353 of 28,212 population items\n",
      "     607 GO terms are associated with  1,287 of  1,444 study items\n",
      "  METHOD fdr_bh:\n",
      "     167 GO terms found significant (< 0.05=alpha) (162 enriched +   5 purified): statsmodels fdr_bh\n",
      "   1,181 study items associated with significant GO IDs (enriched)\n",
      "     127 study items associated with significant GO IDs (purified)\n",
      "\n",
      "Run MF Gene Ontology Analysis: current study set of 1444 IDs ... 84%  1,165 of  1,387 study items found in association\n",
      " 96%  1,387 of  1,444 study items found in population(28212)\n",
      "Calculating 4,179 uncorrected p-values using fisher_scipy_stats\n",
      "   4,179 GO terms are associated with 16,497 of 28,212 population items\n",
      "   1,131 GO terms are associated with  1,165 of  1,444 study items\n",
      "  METHOD fdr_bh:\n",
      "     118 GO terms found significant (< 0.05=alpha) (115 enriched +   3 purified): statsmodels fdr_bh\n",
      "     926 study items associated with significant GO IDs (enriched)\n",
      "       0 study items associated with significant GO IDs (purified)\n",
      "    608 items WROTE: GO/E14.5 high - E10.5 low.GO.tsv\n",
      "  323 usr 1040 GOs  WROTE: GO/E14.5 high - E10.5 low.GOBP.png\n",
      "  167 usr 253 GOs  WROTE: GO/E14.5 high - E10.5 low.GOCC.png\n",
      "  118 usr 252 GOs  WROTE: GO/E14.5 high - E10.5 low.GOMF.png\n",
      "P0 high - E10.5 low\n",
      "\n",
      "Run BP Gene Ontology Analysis: current study set of 2251 IDs ... 86%  1,869 of  2,174 study items found in association\n",
      " 97%  2,174 of  2,251 study items found in population(28212)\n",
      "Calculating 12,420 uncorrected p-values using fisher_scipy_stats\n",
      "  12,420 GO terms are associated with 17,108 of 28,212 population items\n",
      "   4,978 GO terms are associated with  1,869 of  2,251 study items\n",
      "  METHOD fdr_bh:\n",
      "     441 GO terms found significant (< 0.05=alpha) (434 enriched +   7 purified): statsmodels fdr_bh\n",
      "   1,335 study items associated with significant GO IDs (enriched)\n",
      "      39 study items associated with significant GO IDs (purified)\n",
      "\n",
      "Run CC Gene Ontology Analysis: current study set of 2251 IDs ... 92%  1,997 of  2,174 study items found in association\n",
      " 97%  2,174 of  2,251 study items found in population(28212)\n",
      "Calculating 1,751 uncorrected p-values using fisher_scipy_stats\n",
      "   1,751 GO terms are associated with 18,353 of 28,212 population items\n",
      "     727 GO terms are associated with  1,997 of  2,251 study items\n",
      "  METHOD fdr_bh:\n",
      "     212 GO terms found significant (< 0.05=alpha) (205 enriched +   7 purified): statsmodels fdr_bh\n",
      "   1,867 study items associated with significant GO IDs (enriched)\n",
      "     208 study items associated with significant GO IDs (purified)\n",
      "\n",
      "Run MF Gene Ontology Analysis: current study set of 2251 IDs ... 82%  1,793 of  2,174 study items found in association\n",
      " 97%  2,174 of  2,251 study items found in population(28212)\n",
      "Calculating 4,179 uncorrected p-values using fisher_scipy_stats\n",
      "   4,179 GO terms are associated with 16,497 of 28,212 population items\n",
      "   1,477 GO terms are associated with  1,793 of  2,251 study items\n",
      "  METHOD fdr_bh:\n",
      "     166 GO terms found significant (< 0.05=alpha) (159 enriched +   7 purified): statsmodels fdr_bh\n",
      "   1,525 study items associated with significant GO IDs (enriched)\n",
      "     121 study items associated with significant GO IDs (purified)\n",
      "    819 items WROTE: GO/P0 high - E10.5 low.GO.tsv\n",
      "  441 usr 1274 GOs  WROTE: GO/P0 high - E10.5 low.GOBP.png\n",
      "  212 usr 311 GOs  WROTE: GO/P0 high - E10.5 low.GOCC.png\n",
      "  166 usr 321 GOs  WROTE: GO/P0 high - E10.5 low.GOMF.png\n",
      "P0 high - E14.5 low\n",
      "\n",
      "Run BP Gene Ontology Analysis: current study set of 258 IDs ... 87%    217 of    250 study items found in association\n",
      " 97%    250 of    258 study items found in population(28212)\n",
      "Calculating 12,420 uncorrected p-values using fisher_scipy_stats\n",
      "  12,420 GO terms are associated with 17,108 of 28,212 population items\n",
      "   1,473 GO terms are associated with    217 of    258 study items\n",
      "  METHOD fdr_bh:\n",
      "      16 GO terms found significant (< 0.05=alpha) ( 15 enriched +   1 purified): statsmodels fdr_bh\n",
      "      72 study items associated with significant GO IDs (enriched)\n",
      "       0 study items associated with significant GO IDs (purified)\n",
      "\n",
      "Run CC Gene Ontology Analysis: current study set of 258 IDs ... 96%    240 of    250 study items found in association\n",
      " 97%    250 of    258 study items found in population(28212)\n",
      "Calculating 1,751 uncorrected p-values using fisher_scipy_stats\n",
      "   1,751 GO terms are associated with 18,353 of 28,212 population items\n",
      "     290 GO terms are associated with    240 of    258 study items\n",
      "  METHOD fdr_bh:\n",
      "      44 GO terms found significant (< 0.05=alpha) ( 44 enriched +   0 purified): statsmodels fdr_bh\n",
      "     228 study items associated with significant GO IDs (enriched)\n",
      "       0 study items associated with significant GO IDs (purified)\n",
      "\n",
      "Run MF Gene Ontology Analysis: current study set of 258 IDs ... 87%    217 of    250 study items found in association\n",
      " 97%    250 of    258 study items found in population(28212)\n",
      "Calculating 4,179 uncorrected p-values using fisher_scipy_stats\n",
      "   4,179 GO terms are associated with 16,497 of 28,212 population items\n",
      "     481 GO terms are associated with    217 of    258 study items\n",
      "  METHOD fdr_bh:\n",
      "      12 GO terms found significant (< 0.05=alpha) ( 11 enriched +   1 purified): statsmodels fdr_bh\n",
      "     121 study items associated with significant GO IDs (enriched)\n",
      "       0 study items associated with significant GO IDs (purified)\n",
      "     72 items WROTE: GO/P0 high - E14.5 low.GO.tsv\n",
      "   16 usr 116 GOs  WROTE: GO/P0 high - E14.5 low.GOBP.png\n",
      "   44 usr  80 GOs  WROTE: GO/P0 high - E14.5 low.GOCC.png\n",
      "   12 usr  52 GOs  WROTE: GO/P0 high - E14.5 low.GOMF.png\n",
      "E10.5 high - E14.5 low\n",
      "\n",
      "Run BP Gene Ontology Analysis: current study set of 529 IDs ... 94%    479 of    510 study items found in association\n",
      " 96%    510 of    529 study items found in population(28212)\n",
      "Calculating 12,420 uncorrected p-values using fisher_scipy_stats\n",
      "  12,420 GO terms are associated with 17,108 of 28,212 population items\n",
      "   2,749 GO terms are associated with    479 of    529 study items\n",
      "  METHOD fdr_bh:\n",
      "     177 GO terms found significant (< 0.05=alpha) (175 enriched +   2 purified): statsmodels fdr_bh\n",
      "     332 study items associated with significant GO IDs (enriched)\n",
      "      11 study items associated with significant GO IDs (purified)\n",
      "\n",
      "Run CC Gene Ontology Analysis: current study set of 529 IDs ... 97%    497 of    510 study items found in association\n",
      " 96%    510 of    529 study items found in population(28212)\n",
      "Calculating 1,751 uncorrected p-values using fisher_scipy_stats\n",
      "   1,751 GO terms are associated with 18,353 of 28,212 population items\n",
      "     387 GO terms are associated with    497 of    529 study items\n",
      "  METHOD fdr_bh:\n",
      "      24 GO terms found significant (< 0.05=alpha) ( 24 enriched +   0 purified): statsmodels fdr_bh\n",
      "     477 study items associated with significant GO IDs (enriched)\n",
      "       0 study items associated with significant GO IDs (purified)\n",
      "\n",
      "Run MF Gene Ontology Analysis: current study set of 529 IDs ... 90%    457 of    510 study items found in association\n",
      " 96%    510 of    529 study items found in population(28212)\n",
      "Calculating 4,179 uncorrected p-values using fisher_scipy_stats\n",
      "   4,179 GO terms are associated with 16,497 of 28,212 population items\n",
      "     721 GO terms are associated with    457 of    529 study items\n",
      "  METHOD fdr_bh:\n",
      "      34 GO terms found significant (< 0.05=alpha) ( 33 enriched +   1 purified): statsmodels fdr_bh\n",
      "     339 study items associated with significant GO IDs (enriched)\n",
      "       1 study items associated with significant GO IDs (purified)\n",
      "    235 items WROTE: GO/E10.5 high - E14.5 low.GO.tsv\n"
     ]
    },
    {
     "name": "stdout",
     "output_type": "stream",
     "text": [
      "  177 usr 612 GOs  WROTE: GO/E10.5 high - E14.5 low.GOBP.png\n",
      "   24 usr  39 GOs  WROTE: GO/E10.5 high - E14.5 low.GOCC.png\n",
      "   34 usr  85 GOs  WROTE: GO/E10.5 high - E14.5 low.GOMF.png\n",
      "E10.5 high - P0 low\n",
      "\n",
      "Run BP Gene Ontology Analysis: current study set of 1043 IDs ... 93%    943 of  1,009 study items found in association\n",
      " 97%  1,009 of  1,043 study items found in population(28212)\n",
      "Calculating 12,420 uncorrected p-values using fisher_scipy_stats\n",
      "  12,420 GO terms are associated with 17,108 of 28,212 population items\n",
      "   3,633 GO terms are associated with    943 of  1,043 study items\n",
      "  METHOD fdr_bh:\n",
      "     373 GO terms found significant (< 0.05=alpha) (371 enriched +   2 purified): statsmodels fdr_bh\n",
      "     744 study items associated with significant GO IDs (enriched)\n",
      "      15 study items associated with significant GO IDs (purified)\n",
      "\n",
      "Run CC Gene Ontology Analysis: current study set of 1043 IDs ... 96%    969 of  1,009 study items found in association\n",
      " 97%  1,009 of  1,043 study items found in population(28212)\n",
      "Calculating 1,751 uncorrected p-values using fisher_scipy_stats\n",
      "   1,751 GO terms are associated with 18,353 of 28,212 population items\n",
      "     571 GO terms are associated with    969 of  1,043 study items\n",
      "  METHOD fdr_bh:\n",
      "     121 GO terms found significant (< 0.05=alpha) (120 enriched +   1 purified): statsmodels fdr_bh\n",
      "     885 study items associated with significant GO IDs (enriched)\n",
      "       0 study items associated with significant GO IDs (purified)\n",
      "\n",
      "Run MF Gene Ontology Analysis: current study set of 1043 IDs ... 86%    864 of  1,009 study items found in association\n",
      " 97%  1,009 of  1,043 study items found in population(28212)\n",
      "Calculating 4,179 uncorrected p-values using fisher_scipy_stats\n",
      "   4,179 GO terms are associated with 16,497 of 28,212 population items\n",
      "     950 GO terms are associated with    864 of  1,043 study items\n",
      "  METHOD fdr_bh:\n",
      "      86 GO terms found significant (< 0.05=alpha) ( 85 enriched +   1 purified): statsmodels fdr_bh\n",
      "     764 study items associated with significant GO IDs (enriched)\n",
      "       1 study items associated with significant GO IDs (purified)\n",
      "    580 items WROTE: GO/E10.5 high - P0 low.GO.tsv\n",
      "  373 usr 1077 GOs  WROTE: GO/E10.5 high - P0 low.GOBP.png\n",
      "  121 usr 181 GOs  WROTE: GO/E10.5 high - P0 low.GOCC.png\n",
      "   86 usr 152 GOs  WROTE: GO/E10.5 high - P0 low.GOMF.png\n",
      "E14.5 high - P0 low\n",
      "\n",
      "Run BP Gene Ontology Analysis: current study set of 210 IDs ... 94%    188 of    201 study items found in association\n",
      " 96%    201 of    210 study items found in population(28212)\n",
      "Calculating 12,420 uncorrected p-values using fisher_scipy_stats\n",
      "  12,420 GO terms are associated with 17,108 of 28,212 population items\n",
      "   1,124 GO terms are associated with    188 of    210 study items\n",
      "  METHOD fdr_bh:\n",
      "      96 GO terms found significant (< 0.05=alpha) ( 96 enriched +   0 purified): statsmodels fdr_bh\n",
      "     157 study items associated with significant GO IDs (enriched)\n",
      "       0 study items associated with significant GO IDs (purified)\n",
      "\n",
      "Run CC Gene Ontology Analysis: current study set of 210 IDs ... 95%    191 of    201 study items found in association\n",
      " 96%    201 of    210 study items found in population(28212)\n",
      "Calculating 1,751 uncorrected p-values using fisher_scipy_stats\n",
      "   1,751 GO terms are associated with 18,353 of 28,212 population items\n",
      "     225 GO terms are associated with    191 of    210 study items\n",
      "  METHOD fdr_bh:\n",
      "      59 GO terms found significant (< 0.05=alpha) ( 57 enriched +   2 purified): statsmodels fdr_bh\n",
      "     182 study items associated with significant GO IDs (enriched)\n",
      "      20 study items associated with significant GO IDs (purified)\n",
      "\n",
      "Run MF Gene Ontology Analysis: current study set of 210 IDs ... 86%    172 of    201 study items found in association\n",
      " 96%    201 of    210 study items found in population(28212)\n",
      "Calculating 4,179 uncorrected p-values using fisher_scipy_stats\n",
      "   4,179 GO terms are associated with 16,497 of 28,212 population items\n",
      "     259 GO terms are associated with    172 of    210 study items\n",
      "  METHOD fdr_bh:\n",
      "      30 GO terms found significant (< 0.05=alpha) ( 30 enriched +   0 purified): statsmodels fdr_bh\n",
      "     139 study items associated with significant GO IDs (enriched)\n",
      "       0 study items associated with significant GO IDs (purified)\n",
      "    185 items WROTE: GO/E14.5 high - P0 low.GO.tsv\n",
      "   96 usr 399 GOs  WROTE: GO/E14.5 high - P0 low.GOBP.png\n",
      "   59 usr  88 GOs  WROTE: GO/E14.5 high - P0 low.GOCC.png\n",
      "   30 usr  82 GOs  WROTE: GO/E14.5 high - P0 low.GOMF.png\n"
     ]
    }
   ],
   "source": [
    "# 'p_' means \"pvalue\". 'fdr_bh' is the multipletest method we are currently using.\n",
    "for name, genes in deg_dict.items():\n",
    "    print(name)\n",
    "    goea_results_all = goeaobj.run_study(list(genes))\n",
    "    goea_results_sig = [r for r in goea_results_all if r.p_fdr_bh < 0.05]\n",
    "    goeaobj.wr_tsv(f\"GO/{name}.GO.tsv\", goea_results_sig)\n",
    "    plot_results(f\"GO/{name}.GO{{NS}}.png\", goea_results_sig)\n",
    "    \n",
    "    # add more gene info\n",
    "    sig_go_df = pd.read_csv(f\"GO/{name}.GO.tsv\", sep='\\t', index_col=0)\n",
    "    sig_go_df['study_items'] = sig_go_df['study_items'].fillna('')\n",
    "    sig_go_df['gene_ids'] = sig_go_df['study_items'].apply(lambda i: ','.join(\n",
    "        [entrez_to_ensembl_id_dict[int(g)] for g in i.split(',') if g != '']))\n",
    "    sig_go_df['gene_names'] = sig_go_df['gene_ids'].apply(lambda i: ','.join(\n",
    "        [gene_id_base_to_name[g] for g in i.split(',') if g != '']))\n",
    "    sig_go_df.to_csv(f\"GO/{name}.GO.tsv\", sep='\\t')"
   ]
  },
  {
   "cell_type": "markdown",
   "metadata": {},
   "source": [
    "## Plot (example)"
   ]
  },
  {
   "cell_type": "code",
   "execution_count": 12,
   "metadata": {
    "ExecuteTime": {
     "end_time": "2020-06-19T00:11:27.183025Z",
     "start_time": "2020-06-19T00:11:25.692731Z"
    }
   },
   "outputs": [],
   "source": [
    "import seaborn as sns\n",
    "import matplotlib.pyplot as plt\n",
    "import pandas as pd\n",
    "import numpy as np"
   ]
  },
  {
   "cell_type": "code",
   "execution_count": 13,
   "metadata": {
    "ExecuteTime": {
     "end_time": "2020-06-19T00:13:30.765141Z",
     "start_time": "2020-06-19T00:13:30.685908Z"
    }
   },
   "outputs": [],
   "source": [
    "dec_go = pd.read_csv('GO/E10.5 high - P0 low.GO.tsv', sep='\\t', index_col=0)\n",
    "dec_go['-lgp'] = -np.log10(dec_go['p_fdr_bh'])\n",
    "dec_go.sort_values('-lgp', ascending=False, inplace=True)\n",
    "\n",
    "inc_go = pd.read_csv('GO/P0 high - E10.5 low.GO.tsv', sep='\\t', index_col=0)\n",
    "inc_go['-lgp'] = -np.log10(inc_go['p_fdr_bh'])\n",
    "inc_go.sort_values('-lgp', ascending=False, inplace=True)\n"
   ]
  },
  {
   "cell_type": "code",
   "execution_count": 16,
   "metadata": {
    "ExecuteTime": {
     "end_time": "2020-06-19T00:14:08.440867Z",
     "start_time": "2020-06-19T00:14:08.425503Z"
    }
   },
   "outputs": [
    {
     "data": {
      "text/html": [
       "<div>\n",
       "<style scoped>\n",
       "    .dataframe tbody tr th:only-of-type {\n",
       "        vertical-align: middle;\n",
       "    }\n",
       "\n",
       "    .dataframe tbody tr th {\n",
       "        vertical-align: top;\n",
       "    }\n",
       "\n",
       "    .dataframe thead th {\n",
       "        text-align: right;\n",
       "    }\n",
       "</style>\n",
       "<table border=\"1\" class=\"dataframe\">\n",
       "  <thead>\n",
       "    <tr style=\"text-align: right;\">\n",
       "      <th></th>\n",
       "      <th>NS</th>\n",
       "      <th>enrichment</th>\n",
       "      <th>name</th>\n",
       "      <th>ratio_in_study</th>\n",
       "      <th>ratio_in_pop</th>\n",
       "      <th>p_uncorrected</th>\n",
       "      <th>depth</th>\n",
       "      <th>study_count</th>\n",
       "      <th>p_fdr_bh</th>\n",
       "      <th>study_items</th>\n",
       "      <th>gene_ids</th>\n",
       "      <th>gene_names</th>\n",
       "      <th>-lgp</th>\n",
       "    </tr>\n",
       "    <tr>\n",
       "      <th># GO</th>\n",
       "      <th></th>\n",
       "      <th></th>\n",
       "      <th></th>\n",
       "      <th></th>\n",
       "      <th></th>\n",
       "      <th></th>\n",
       "      <th></th>\n",
       "      <th></th>\n",
       "      <th></th>\n",
       "      <th></th>\n",
       "      <th></th>\n",
       "      <th></th>\n",
       "      <th></th>\n",
       "    </tr>\n",
       "  </thead>\n",
       "  <tbody>\n",
       "    <tr>\n",
       "      <th>GO:0005634</th>\n",
       "      <td>CC</td>\n",
       "      <td>e</td>\n",
       "      <td>nucleus</td>\n",
       "      <td>544/1009</td>\n",
       "      <td>5818/28212</td>\n",
       "      <td>4.866616e-125</td>\n",
       "      <td>5</td>\n",
       "      <td>544</td>\n",
       "      <td>8.521445e-122</td>\n",
       "      <td>11545, 11694, 11695, 11799, 11863, 11908, 1192...</td>\n",
       "      <td>ENSMUSG00000026496,ENSMUSG00000014603,ENSMUSG0...</td>\n",
       "      <td>Parp1,Alx3,Alx4,Birc5,Arnt,Atf1,Atm,Neurog2,Ba...</td>\n",
       "      <td>121.069487</td>\n",
       "    </tr>\n",
       "    <tr>\n",
       "      <th>GO:0007049</th>\n",
       "      <td>BP</td>\n",
       "      <td>e</td>\n",
       "      <td>cell cycle</td>\n",
       "      <td>164/1009</td>\n",
       "      <td>620/28212</td>\n",
       "      <td>8.572576e-96</td>\n",
       "      <td>2</td>\n",
       "      <td>164</td>\n",
       "      <td>1.064714e-91</td>\n",
       "      <td>11799, 11920, 12189, 12190, 12235, 12236, 1231...</td>\n",
       "      <td>ENSMUSG00000017716,ENSMUSG00000034218,ENSMUSG0...</td>\n",
       "      <td>Birc5,Atm,Brca1,Brca2,Bub1,Bub1b,Aspm,Ccna2,Cc...</td>\n",
       "      <td>90.972767</td>\n",
       "    </tr>\n",
       "    <tr>\n",
       "      <th>GO:0005654</th>\n",
       "      <td>CC</td>\n",
       "      <td>e</td>\n",
       "      <td>nucleoplasm</td>\n",
       "      <td>324/1009</td>\n",
       "      <td>2950/28212</td>\n",
       "      <td>7.660975e-82</td>\n",
       "      <td>2</td>\n",
       "      <td>324</td>\n",
       "      <td>6.707183e-79</td>\n",
       "      <td>11409, 11545, 11695, 11828, 11863, 11908, 1192...</td>\n",
       "      <td>ENSMUSG00000029545,ENSMUSG00000026496,ENSMUSG0...</td>\n",
       "      <td>Acads,Parp1,Alx4,Aqp3,Arnt,Atf1,Atm,Blm,Bnc1,B...</td>\n",
       "      <td>78.173460</td>\n",
       "    </tr>\n",
       "    <tr>\n",
       "      <th>GO:0051301</th>\n",
       "      <td>BP</td>\n",
       "      <td>e</td>\n",
       "      <td>cell division</td>\n",
       "      <td>112/1009</td>\n",
       "      <td>378/28212</td>\n",
       "      <td>9.680026e-71</td>\n",
       "      <td>2</td>\n",
       "      <td>112</td>\n",
       "      <td>6.011296e-67</td>\n",
       "      <td>11799, 12235, 12236, 12316, 12428, 12442, 1244...</td>\n",
       "      <td>ENSMUSG00000017716,ENSMUSG00000027379,ENSMUSG0...</td>\n",
       "      <td>Birc5,Bub1,Bub1b,Aspm,Ccna2,Ccnb2,Ccnd1,Ccnd3,...</td>\n",
       "      <td>66.221032</td>\n",
       "    </tr>\n",
       "    <tr>\n",
       "      <th>GO:0003677</th>\n",
       "      <td>MF</td>\n",
       "      <td>e</td>\n",
       "      <td>DNA binding</td>\n",
       "      <td>218/1009</td>\n",
       "      <td>1732/28212</td>\n",
       "      <td>7.381387e-63</td>\n",
       "      <td>4</td>\n",
       "      <td>218</td>\n",
       "      <td>3.084682e-59</td>\n",
       "      <td>11545, 11694, 11695, 11863, 11908, 11920, 1192...</td>\n",
       "      <td>ENSMUSG00000026496,ENSMUSG00000014603,ENSMUSG0...</td>\n",
       "      <td>Parp1,Alx3,Alx4,Arnt,Atf1,Atm,Neurog2,Blm,Bnc1...</td>\n",
       "      <td>58.510790</td>\n",
       "    </tr>\n",
       "  </tbody>\n",
       "</table>\n",
       "</div>"
      ],
      "text/plain": [
       "            NS enrichment           name ratio_in_study ratio_in_pop  \\\n",
       "# GO                                                                   \n",
       "GO:0005634  CC          e        nucleus       544/1009   5818/28212   \n",
       "GO:0007049  BP          e     cell cycle       164/1009    620/28212   \n",
       "GO:0005654  CC          e    nucleoplasm       324/1009   2950/28212   \n",
       "GO:0051301  BP          e  cell division       112/1009    378/28212   \n",
       "GO:0003677  MF          e    DNA binding       218/1009   1732/28212   \n",
       "\n",
       "            p_uncorrected  depth  study_count       p_fdr_bh  \\\n",
       "# GO                                                           \n",
       "GO:0005634  4.866616e-125      5          544  8.521445e-122   \n",
       "GO:0007049   8.572576e-96      2          164   1.064714e-91   \n",
       "GO:0005654   7.660975e-82      2          324   6.707183e-79   \n",
       "GO:0051301   9.680026e-71      2          112   6.011296e-67   \n",
       "GO:0003677   7.381387e-63      4          218   3.084682e-59   \n",
       "\n",
       "                                                  study_items  \\\n",
       "# GO                                                            \n",
       "GO:0005634  11545, 11694, 11695, 11799, 11863, 11908, 1192...   \n",
       "GO:0007049  11799, 11920, 12189, 12190, 12235, 12236, 1231...   \n",
       "GO:0005654  11409, 11545, 11695, 11828, 11863, 11908, 1192...   \n",
       "GO:0051301  11799, 12235, 12236, 12316, 12428, 12442, 1244...   \n",
       "GO:0003677  11545, 11694, 11695, 11863, 11908, 11920, 1192...   \n",
       "\n",
       "                                                     gene_ids  \\\n",
       "# GO                                                            \n",
       "GO:0005634  ENSMUSG00000026496,ENSMUSG00000014603,ENSMUSG0...   \n",
       "GO:0007049  ENSMUSG00000017716,ENSMUSG00000034218,ENSMUSG0...   \n",
       "GO:0005654  ENSMUSG00000029545,ENSMUSG00000026496,ENSMUSG0...   \n",
       "GO:0051301  ENSMUSG00000017716,ENSMUSG00000027379,ENSMUSG0...   \n",
       "GO:0003677  ENSMUSG00000026496,ENSMUSG00000014603,ENSMUSG0...   \n",
       "\n",
       "                                                   gene_names        -lgp  \n",
       "# GO                                                                       \n",
       "GO:0005634  Parp1,Alx3,Alx4,Birc5,Arnt,Atf1,Atm,Neurog2,Ba...  121.069487  \n",
       "GO:0007049  Birc5,Atm,Brca1,Brca2,Bub1,Bub1b,Aspm,Ccna2,Cc...   90.972767  \n",
       "GO:0005654  Acads,Parp1,Alx4,Aqp3,Arnt,Atf1,Atm,Blm,Bnc1,B...   78.173460  \n",
       "GO:0051301  Birc5,Bub1,Bub1b,Aspm,Ccna2,Ccnb2,Ccnd1,Ccnd3,...   66.221032  \n",
       "GO:0003677  Parp1,Alx3,Alx4,Arnt,Atf1,Atm,Neurog2,Blm,Bnc1...   58.510790  "
      ]
     },
     "execution_count": 16,
     "metadata": {},
     "output_type": "execute_result"
    }
   ],
   "source": [
    "# the result table not only contain GO terms, but also individual genes\n",
    "dec_go.head()"
   ]
  },
  {
   "cell_type": "code",
   "execution_count": 22,
   "metadata": {
    "ExecuteTime": {
     "end_time": "2020-06-19T00:15:55.140133Z",
     "start_time": "2020-06-19T00:15:54.919285Z"
    }
   },
   "outputs": [
    {
     "data": {
      "image/png": "[encoded data removed]",
      "text/plain": [
       "<Figure size 300x600 with 1 Axes>"
      ]
     },
     "metadata": {
      "needs_background": "light"
     },
     "output_type": "display_data"
    }
   ],
   "source": [
    "fig, ax = plt.subplots(figsize=(1, 2), dpi=300)\n",
    "sns.barplot(data=inc_go.iloc[:15], x='-lgp', y='name', color='red')\n",
    "\n",
    "ax.axvline(-np.log10(0.01), color='lightgray', linestyle='--')\n",
    "sns.despine(ax=ax)\n",
    "ax.set(xlabel='-log10(FDR)', ylabel='')\n",
    "ax.xaxis.set_tick_params(labelsize=8)\n",
    "ax.yaxis.set_tick_params(labelsize=8)\n",
    "# fig.savefig('IncGO.pdf')"
   ]
  },
  {
   "cell_type": "markdown",
   "metadata": {},
   "source": [
    "## Suggestions on plotting GO results\n",
    "- If your GO terms are too broad, you can manually select any specific terms to make it more meaningful. For example, the GO term membrane contains thousands of genes related to cell membrane, its probably meaningless to say your GOI is relate to membrane... its too broad. Postsynaptic membrane is much better than mambrane, since its a more specific term.\n",
    "- GO terms do not tell you too much detail biology information, let along being the gold standard as biological evidence. It just give you a weak information that potentially help you guess what biological process is involved. Eventually, you neet to focus on specific genes. Therefore, if a GO term is significant, it's always good to check which exact gene(s) in this term are overlapping with your DEG results, does that gene has particular interesting story related to your experiment. You can also add several gene names to this barplot, to make it more meaningful.\n",
    "- The gene information can be found in the go results table"
   ]
  },
  {
   "cell_type": "code",
   "execution_count": 23,
   "metadata": {
    "ExecuteTime": {
     "end_time": "2020-06-19T00:16:28.685530Z",
     "start_time": "2020-06-19T00:16:28.469547Z"
    }
   },
   "outputs": [
    {
     "data": {
      "image/png": "[encoded data removed]",
      "text/plain": [
       "<Figure size 300x600 with 1 Axes>"
      ]
     },
     "metadata": {
      "needs_background": "light"
     },
     "output_type": "display_data"
    }
   ],
   "source": [
    "fig, ax = plt.subplots(figsize=(1, 2), dpi=300)\n",
    "sns.barplot(data=dec_go.iloc[:15], x='-lgp', y='name', color='red')\n",
    "\n",
    "ax.axvline(-np.log10(0.01), color='lightgray', linestyle='--')\n",
    "sns.despine(ax=ax)\n",
    "ax.set(xlabel='-log10(FDR)', ylabel='')\n",
    "ax.xaxis.set_tick_params(labelsize=8)\n",
    "ax.yaxis.set_tick_params(labelsize=8)\n",
    "# fig.savefig('IncGO.pdf')"
   ]
  },
  {
   "cell_type": "code",
   "execution_count": null,
   "metadata": {},
   "outputs": [],
   "source": []
  },
  {
   "cell_type": "code",
   "execution_count": null,
   "metadata": {},
   "outputs": [],
   "source": []
  },
  {
   "cell_type": "code",
   "execution_count": null,
   "metadata": {},
   "outputs": [],
   "source": []
  },
  {
   "cell_type": "code",
   "execution_count": null,
   "metadata": {},
   "outputs": [],
   "source": []
  },
  {
   "cell_type": "code",
   "execution_count": null,
   "metadata": {},
   "outputs": [],
   "source": []
  },
  {
   "cell_type": "code",
   "execution_count": null,
   "metadata": {},
   "outputs": [],
   "source": []
  },
  {
   "cell_type": "code",
   "execution_count": null,
   "metadata": {},
   "outputs": [],
   "source": []
  },
  {
   "cell_type": "code",
   "execution_count": null,
   "metadata": {},
   "outputs": [],
   "source": []
  }
 ],
 "metadata": {
  "kernelspec": {
   "display_name": "Python 3",
   "language": "python",
   "name": "python3"
  },
  "language_info": {
   "codemirror_mode": {
    "name": "ipython",
    "version": 3
   },
   "file_extension": ".py",
   "mimetype": "text/x-python",
   "name": "python",
   "nbconvert_exporter": "python",
   "pygments_lexer": "ipython3",
   "version": "3.7.6"
  },
  "toc": {
   "base_numbering": 1,
   "nav_menu": {},
   "number_sections": true,
   "sideBar": true,
   "skip_h1_title": true,
   "title_cell": "Table of Contents",
   "title_sidebar": "Contents",
   "toc_cell": false,
   "toc_position": {},
   "toc_section_display": true,
   "toc_window_display": true
  }
 },
 "nbformat": 4,
 "nbformat_minor": 4
}

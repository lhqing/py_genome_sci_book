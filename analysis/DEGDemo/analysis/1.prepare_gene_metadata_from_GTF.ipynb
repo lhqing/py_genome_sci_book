{
 "cells": [
  {
   "cell_type": "markdown",
   "metadata": {},
   "source": [
    "# Prepare Gene Metadata\n",
    "\n",
    "## Content\n",
    "- GTF store all kinds of gene annotation information in a special format, especially the last column of GTF file contain lots of information in a string.\n",
    "- Here we want to create a plain table, to extract all informations for each gene, and save it into a gene metadata\n",
    "\n",
    "## Important pandas functions\n",
    "- pd.read_csv\n",
    "- pd.DataFrame.to_csv\n",
    "- pd.DataFrame.apply\n",
    "- pd.concat"
   ]
  },
  {
   "cell_type": "markdown",
   "metadata": {},
   "source": [
    "## Load GTF"
   ]
  },
  {
   "cell_type": "code",
   "execution_count": 1,
   "metadata": {
    "ExecuteTime": {
     "end_time": "2020-06-08T03:38:30.032307Z",
     "start_time": "2020-06-08T03:38:27.958683Z"
    }
   },
   "outputs": [],
   "source": [
    "import pandas as pd"
   ]
  },
  {
   "cell_type": "code",
   "execution_count": 2,
   "metadata": {
    "ExecuteTime": {
     "end_time": "2020-06-08T03:38:40.410365Z",
     "start_time": "2020-06-08T03:38:30.035287Z"
    }
   },
   "outputs": [
    {
     "data": {
      "text/html": [
       "<div>\n",
       "<style scoped>\n",
       "    .dataframe tbody tr th:only-of-type {\n",
       "        vertical-align: middle;\n",
       "    }\n",
       "\n",
       "    .dataframe tbody tr th {\n",
       "        vertical-align: top;\n",
       "    }\n",
       "\n",
       "    .dataframe thead th {\n",
       "        text-align: right;\n",
       "    }\n",
       "</style>\n",
       "<table border=\"1\" class=\"dataframe\">\n",
       "  <thead>\n",
       "    <tr style=\"text-align: right;\">\n",
       "      <th></th>\n",
       "      <th>chrom</th>\n",
       "      <th>source</th>\n",
       "      <th>feature</th>\n",
       "      <th>start</th>\n",
       "      <th>end</th>\n",
       "      <th>na1</th>\n",
       "      <th>strand</th>\n",
       "      <th>na2</th>\n",
       "      <th>annotation</th>\n",
       "    </tr>\n",
       "  </thead>\n",
       "  <tbody>\n",
       "    <tr>\n",
       "      <th>0</th>\n",
       "      <td>chr1</td>\n",
       "      <td>HAVANA</td>\n",
       "      <td>gene</td>\n",
       "      <td>3073253</td>\n",
       "      <td>3074322</td>\n",
       "      <td>.</td>\n",
       "      <td>+</td>\n",
       "      <td>.</td>\n",
       "      <td>gene_id \"ENSMUSG00000102693.1\"; gene_type \"TEC...</td>\n",
       "    </tr>\n",
       "    <tr>\n",
       "      <th>1</th>\n",
       "      <td>chr1</td>\n",
       "      <td>HAVANA</td>\n",
       "      <td>transcript</td>\n",
       "      <td>3073253</td>\n",
       "      <td>3074322</td>\n",
       "      <td>.</td>\n",
       "      <td>+</td>\n",
       "      <td>.</td>\n",
       "      <td>gene_id \"ENSMUSG00000102693.1\"; transcript_id ...</td>\n",
       "    </tr>\n",
       "    <tr>\n",
       "      <th>2</th>\n",
       "      <td>chr1</td>\n",
       "      <td>HAVANA</td>\n",
       "      <td>exon</td>\n",
       "      <td>3073253</td>\n",
       "      <td>3074322</td>\n",
       "      <td>.</td>\n",
       "      <td>+</td>\n",
       "      <td>.</td>\n",
       "      <td>gene_id \"ENSMUSG00000102693.1\"; transcript_id ...</td>\n",
       "    </tr>\n",
       "    <tr>\n",
       "      <th>3</th>\n",
       "      <td>chr1</td>\n",
       "      <td>ENSEMBL</td>\n",
       "      <td>gene</td>\n",
       "      <td>3102016</td>\n",
       "      <td>3102125</td>\n",
       "      <td>.</td>\n",
       "      <td>+</td>\n",
       "      <td>.</td>\n",
       "      <td>gene_id \"ENSMUSG00000064842.1\"; gene_type \"snR...</td>\n",
       "    </tr>\n",
       "    <tr>\n",
       "      <th>4</th>\n",
       "      <td>chr1</td>\n",
       "      <td>ENSEMBL</td>\n",
       "      <td>transcript</td>\n",
       "      <td>3102016</td>\n",
       "      <td>3102125</td>\n",
       "      <td>.</td>\n",
       "      <td>+</td>\n",
       "      <td>.</td>\n",
       "      <td>gene_id \"ENSMUSG00000064842.1\"; transcript_id ...</td>\n",
       "    </tr>\n",
       "  </tbody>\n",
       "</table>\n",
       "</div>"
      ],
      "text/plain": [
       "  chrom   source     feature    start      end na1 strand na2  \\\n",
       "0  chr1   HAVANA        gene  3073253  3074322   .      +   .   \n",
       "1  chr1   HAVANA  transcript  3073253  3074322   .      +   .   \n",
       "2  chr1   HAVANA        exon  3073253  3074322   .      +   .   \n",
       "3  chr1  ENSEMBL        gene  3102016  3102125   .      +   .   \n",
       "4  chr1  ENSEMBL  transcript  3102016  3102125   .      +   .   \n",
       "\n",
       "                                          annotation  \n",
       "0  gene_id \"ENSMUSG00000102693.1\"; gene_type \"TEC...  \n",
       "1  gene_id \"ENSMUSG00000102693.1\"; transcript_id ...  \n",
       "2  gene_id \"ENSMUSG00000102693.1\"; transcript_id ...  \n",
       "3  gene_id \"ENSMUSG00000064842.1\"; gene_type \"snR...  \n",
       "4  gene_id \"ENSMUSG00000064842.1\"; transcript_id ...  "
      ]
     },
     "execution_count": 2,
     "metadata": {},
     "output_type": "execute_result"
    }
   ],
   "source": [
    "# change to your gtf location\n",
    "gtf_path = '../../../data/ref/GENCODEvM24/gencode.vM24.annotation.gtf.gz'\n",
    "\n",
    "# gtf table has some spetial formats, we need to set more parameters when read it in,\n",
    "# here I just provide you the answer, you can search pandas.read_csv() documentation for more information\n",
    "gtf = pd.read_csv(\n",
    "    gtf_path,\n",
    "    comment='#', # skip lines start with #\n",
    "    sep='\\t', # gtf col is sep by \\t\n",
    "    header=None, # no header, we will provide col names manually\n",
    "    names=[\n",
    "        'chrom', 'source', 'feature', 'start', 'end', \n",
    "        'na1', 'strand', 'na2', 'annotation'\n",
    "    ])\n",
    "gtf.head()"
   ]
  },
  {
   "cell_type": "code",
   "execution_count": 3,
   "metadata": {
    "ExecuteTime": {
     "end_time": "2020-06-08T03:38:40.526007Z",
     "start_time": "2020-06-08T03:38:40.412610Z"
    }
   },
   "outputs": [],
   "source": [
    "# this will show you documentation of the function, but search google for more examples!\n",
    "?pd.read_csv"
   ]
  },
  {
   "cell_type": "markdown",
   "metadata": {},
   "source": [
    "## Explore GTF content"
   ]
  },
  {
   "cell_type": "code",
   "execution_count": 4,
   "metadata": {
    "ExecuteTime": {
     "end_time": "2020-06-08T03:38:40.826289Z",
     "start_time": "2020-06-08T03:38:40.532339Z"
    }
   },
   "outputs": [
    {
     "data": {
      "text/plain": [
       "exon              842873\n",
       "CDS               528267\n",
       "UTR               185941\n",
       "transcript        142552\n",
       "start_codon        59973\n",
       "stop_codon         55713\n",
       "gene               55385\n",
       "Selenocysteine        65\n",
       "Name: feature, dtype: int64"
      ]
     },
     "execution_count": 4,
     "metadata": {},
     "output_type": "execute_result"
    }
   ],
   "source": [
    "# gtf contain different type of features\n",
    "gtf['feature'].value_counts()"
   ]
  },
  {
   "cell_type": "code",
   "execution_count": 5,
   "metadata": {
    "ExecuteTime": {
     "end_time": "2020-06-08T03:38:41.097567Z",
     "start_time": "2020-06-08T03:38:40.830824Z"
    }
   },
   "outputs": [
    {
     "name": "stdout",
     "output_type": "stream",
     "text": [
      "the gene_gtf has 55385 rows\n"
     ]
    },
    {
     "data": {
      "text/html": [
       "<div>\n",
       "<style scoped>\n",
       "    .dataframe tbody tr th:only-of-type {\n",
       "        vertical-align: middle;\n",
       "    }\n",
       "\n",
       "    .dataframe tbody tr th {\n",
       "        vertical-align: top;\n",
       "    }\n",
       "\n",
       "    .dataframe thead th {\n",
       "        text-align: right;\n",
       "    }\n",
       "</style>\n",
       "<table border=\"1\" class=\"dataframe\">\n",
       "  <thead>\n",
       "    <tr style=\"text-align: right;\">\n",
       "      <th></th>\n",
       "      <th>chrom</th>\n",
       "      <th>source</th>\n",
       "      <th>feature</th>\n",
       "      <th>start</th>\n",
       "      <th>end</th>\n",
       "      <th>na1</th>\n",
       "      <th>strand</th>\n",
       "      <th>na2</th>\n",
       "      <th>annotation</th>\n",
       "    </tr>\n",
       "  </thead>\n",
       "  <tbody>\n",
       "    <tr>\n",
       "      <th>0</th>\n",
       "      <td>chr1</td>\n",
       "      <td>HAVANA</td>\n",
       "      <td>gene</td>\n",
       "      <td>3073253</td>\n",
       "      <td>3074322</td>\n",
       "      <td>.</td>\n",
       "      <td>+</td>\n",
       "      <td>.</td>\n",
       "      <td>gene_id \"ENSMUSG00000102693.1\"; gene_type \"TEC...</td>\n",
       "    </tr>\n",
       "    <tr>\n",
       "      <th>1</th>\n",
       "      <td>chr1</td>\n",
       "      <td>ENSEMBL</td>\n",
       "      <td>gene</td>\n",
       "      <td>3102016</td>\n",
       "      <td>3102125</td>\n",
       "      <td>.</td>\n",
       "      <td>+</td>\n",
       "      <td>.</td>\n",
       "      <td>gene_id \"ENSMUSG00000064842.1\"; gene_type \"snR...</td>\n",
       "    </tr>\n",
       "    <tr>\n",
       "      <th>2</th>\n",
       "      <td>chr1</td>\n",
       "      <td>HAVANA</td>\n",
       "      <td>gene</td>\n",
       "      <td>3205901</td>\n",
       "      <td>3671498</td>\n",
       "      <td>.</td>\n",
       "      <td>-</td>\n",
       "      <td>.</td>\n",
       "      <td>gene_id \"ENSMUSG00000051951.5\"; gene_type \"pro...</td>\n",
       "    </tr>\n",
       "    <tr>\n",
       "      <th>3</th>\n",
       "      <td>chr1</td>\n",
       "      <td>HAVANA</td>\n",
       "      <td>gene</td>\n",
       "      <td>3252757</td>\n",
       "      <td>3253236</td>\n",
       "      <td>.</td>\n",
       "      <td>+</td>\n",
       "      <td>.</td>\n",
       "      <td>gene_id \"ENSMUSG00000102851.1\"; gene_type \"pro...</td>\n",
       "    </tr>\n",
       "    <tr>\n",
       "      <th>4</th>\n",
       "      <td>chr1</td>\n",
       "      <td>HAVANA</td>\n",
       "      <td>gene</td>\n",
       "      <td>3365731</td>\n",
       "      <td>3368549</td>\n",
       "      <td>.</td>\n",
       "      <td>-</td>\n",
       "      <td>.</td>\n",
       "      <td>gene_id \"ENSMUSG00000103377.1\"; gene_type \"TEC...</td>\n",
       "    </tr>\n",
       "  </tbody>\n",
       "</table>\n",
       "</div>"
      ],
      "text/plain": [
       "  chrom   source feature    start      end na1 strand na2  \\\n",
       "0  chr1   HAVANA    gene  3073253  3074322   .      +   .   \n",
       "1  chr1  ENSEMBL    gene  3102016  3102125   .      +   .   \n",
       "2  chr1   HAVANA    gene  3205901  3671498   .      -   .   \n",
       "3  chr1   HAVANA    gene  3252757  3253236   .      +   .   \n",
       "4  chr1   HAVANA    gene  3365731  3368549   .      -   .   \n",
       "\n",
       "                                          annotation  \n",
       "0  gene_id \"ENSMUSG00000102693.1\"; gene_type \"TEC...  \n",
       "1  gene_id \"ENSMUSG00000064842.1\"; gene_type \"snR...  \n",
       "2  gene_id \"ENSMUSG00000051951.5\"; gene_type \"pro...  \n",
       "3  gene_id \"ENSMUSG00000102851.1\"; gene_type \"pro...  \n",
       "4  gene_id \"ENSMUSG00000103377.1\"; gene_type \"TEC...  "
      ]
     },
     "execution_count": 5,
     "metadata": {},
     "output_type": "execute_result"
    }
   ],
   "source": [
    "# here we only need those gene rows, so we do a filter here\n",
    "gene_gtf = gtf[gtf['feature'] == 'gene'].copy().reset_index(drop=True)\n",
    "print(f'the gene_gtf has {gene_gtf.shape[0]} rows')\n",
    "gene_gtf.head()"
   ]
  },
  {
   "cell_type": "code",
   "execution_count": 6,
   "metadata": {
    "ExecuteTime": {
     "end_time": "2020-06-08T03:38:41.108528Z",
     "start_time": "2020-06-08T03:38:41.100851Z"
    }
   },
   "outputs": [
    {
     "data": {
      "text/plain": [
       "'gene_id \"ENSMUSG00000102693.1\"; gene_type \"TEC\"; gene_name \"4933401J01Rik\"; level 2; mgi_id \"MGI:1918292\"; havana_gene \"OTTMUSG00000049935.1\";'"
      ]
     },
     "execution_count": 6,
     "metadata": {},
     "output_type": "execute_result"
    }
   ],
   "source": [
    "# the last column contain lots of information in a string\n",
    "example_annotation = gene_gtf['annotation'][0]\n",
    "example_annotation"
   ]
  },
  {
   "cell_type": "markdown",
   "metadata": {},
   "source": [
    "## Extract gene_id from the annotation column\n",
    "\n",
    "Before prepare a whole gene metadata table, let's first do something simple to start"
   ]
  },
  {
   "cell_type": "code",
   "execution_count": 7,
   "metadata": {
    "ExecuteTime": {
     "end_time": "2020-06-08T03:38:41.121914Z",
     "start_time": "2020-06-08T03:38:41.113753Z"
    }
   },
   "outputs": [
    {
     "data": {
      "text/plain": [
       "'ENSMUSG00000102693.1'"
      ]
     },
     "execution_count": 7,
     "metadata": {},
     "output_type": "execute_result"
    }
   ],
   "source": [
    "# we need to extract the gene_id from this string. here is how I do this with a function\n",
    "\n",
    "def extract_gene_id(annotation):\n",
    "    kv_pairs = annotation.split(';')  # split into key-value pairs\n",
    "    for kv_pair in kv_pairs:  # iterate the key-value pairs\n",
    "        kv_pair = kv_pair.strip(' ')  # strip removed the space\n",
    "        if kv_pair.startswith('gene_id'):\n",
    "            _, gene_id = kv_pair.split(' ')\n",
    "            gene_id = gene_id.strip('\"')  # strip removed the \"\"\n",
    "            break\n",
    "    return gene_id\n",
    "\n",
    "extract_gene_id(example_annotation)"
   ]
  },
  {
   "cell_type": "code",
   "execution_count": 8,
   "metadata": {
    "ExecuteTime": {
     "end_time": "2020-06-08T03:38:41.231641Z",
     "start_time": "2020-06-08T03:38:41.125127Z"
    }
   },
   "outputs": [
    {
     "data": {
      "text/plain": [
       "0        ENSMUSG00000102693.1\n",
       "1        ENSMUSG00000064842.1\n",
       "2        ENSMUSG00000051951.5\n",
       "3        ENSMUSG00000102851.1\n",
       "4        ENSMUSG00000103377.1\n",
       "                 ...         \n",
       "55380    ENSMUSG00000064368.1\n",
       "55381    ENSMUSG00000064369.1\n",
       "55382    ENSMUSG00000064370.1\n",
       "55383    ENSMUSG00000064371.1\n",
       "55384    ENSMUSG00000064372.1\n",
       "Name: annotation, Length: 55385, dtype: object"
      ]
     },
     "execution_count": 8,
     "metadata": {},
     "output_type": "execute_result"
    }
   ],
   "source": [
    "# now we need to apply this function on to each row of the transcript_gtf\n",
    "gene_ids = gene_gtf['annotation'].apply(extract_gene_id)\n",
    "# it take ~250ms in my computer\n",
    "# search pandas.Dataframe.apply see more about this function\n",
    "gene_ids"
   ]
  },
  {
   "cell_type": "code",
   "execution_count": 9,
   "metadata": {
    "ExecuteTime": {
     "end_time": "2020-06-08T03:38:41.241809Z",
     "start_time": "2020-06-08T03:38:41.234786Z"
    }
   },
   "outputs": [],
   "source": [
    "?pd.DataFrame.apply"
   ]
  },
  {
   "cell_type": "markdown",
   "metadata": {},
   "source": [
    "## Extract everything from the annotation column and create metadata"
   ]
  },
  {
   "cell_type": "code",
   "execution_count": 10,
   "metadata": {
    "ExecuteTime": {
     "end_time": "2020-06-08T03:38:41.252293Z",
     "start_time": "2020-06-08T03:38:41.244337Z"
    }
   },
   "outputs": [
    {
     "data": {
      "text/plain": [
       "{'gene_id': '\"ENSMUSG00000102693.1\"',\n",
       " 'gene_type': '\"TEC\"',\n",
       " 'gene_name': '\"4933401J01Rik\"',\n",
       " 'level': '2',\n",
       " 'mgi_id': '\"MGI:1918292\"',\n",
       " 'havana_gene': '\"OTTMUSG00000049935.1\"'}"
      ]
     },
     "execution_count": 10,
     "metadata": {},
     "output_type": "execute_result"
    }
   ],
   "source": [
    "# the annotation string is basically key-value pairs, \n",
    "# we want to turn it into a dict, then create pandas series use the dict\n",
    "\n",
    "# how to split everything into a dict\n",
    "anno_dict = {}\n",
    "for pair in example_annotation.strip(';').split(';'):  # strip and split are common string methods\n",
    "    k, v = pair.strip().split(' ')\n",
    "    anno_dict[k] = v\n",
    "anno_dict"
   ]
  },
  {
   "cell_type": "code",
   "execution_count": 11,
   "metadata": {
    "ExecuteTime": {
     "end_time": "2020-06-08T03:38:41.269934Z",
     "start_time": "2020-06-08T03:38:41.258255Z"
    }
   },
   "outputs": [
    {
     "data": {
      "text/plain": [
       "gene_id        ENSMUSG00000102693.1\n",
       "gene_type                       TEC\n",
       "gene_name             4933401J01Rik\n",
       "level                             2\n",
       "mgi_id                  MGI:1918292\n",
       "havana_gene    OTTMUSG00000049935.1\n",
       "dtype: object"
      ]
     },
     "execution_count": 11,
     "metadata": {},
     "output_type": "execute_result"
    }
   ],
   "source": [
    "# this function take anno str, return pd.Series\n",
    "def anno_to_dict(anno_str):\n",
    "    anno_dict = {}\n",
    "    for pair in anno_str.strip(';').split(';'):\n",
    "        k, v = pair.strip().split(' ')\n",
    "        anno_dict[k] = v.strip('\"')\n",
    "    return pd.Series(anno_dict)\n",
    "\n",
    "anno_to_dict(example_annotation)"
   ]
  },
  {
   "cell_type": "code",
   "execution_count": 12,
   "metadata": {
    "ExecuteTime": {
     "end_time": "2020-06-08T03:39:05.281173Z",
     "start_time": "2020-06-08T03:38:41.273105Z"
    }
   },
   "outputs": [
    {
     "data": {
      "text/html": [
       "<div>\n",
       "<style scoped>\n",
       "    .dataframe tbody tr th:only-of-type {\n",
       "        vertical-align: middle;\n",
       "    }\n",
       "\n",
       "    .dataframe tbody tr th {\n",
       "        vertical-align: top;\n",
       "    }\n",
       "\n",
       "    .dataframe thead th {\n",
       "        text-align: right;\n",
       "    }\n",
       "</style>\n",
       "<table border=\"1\" class=\"dataframe\">\n",
       "  <thead>\n",
       "    <tr style=\"text-align: right;\">\n",
       "      <th></th>\n",
       "      <th>gene_id</th>\n",
       "      <th>gene_type</th>\n",
       "      <th>gene_name</th>\n",
       "      <th>level</th>\n",
       "      <th>mgi_id</th>\n",
       "      <th>havana_gene</th>\n",
       "      <th>tag</th>\n",
       "    </tr>\n",
       "  </thead>\n",
       "  <tbody>\n",
       "    <tr>\n",
       "      <th>0</th>\n",
       "      <td>ENSMUSG00000102693.1</td>\n",
       "      <td>TEC</td>\n",
       "      <td>4933401J01Rik</td>\n",
       "      <td>2</td>\n",
       "      <td>MGI:1918292</td>\n",
       "      <td>OTTMUSG00000049935.1</td>\n",
       "      <td>NaN</td>\n",
       "    </tr>\n",
       "    <tr>\n",
       "      <th>1</th>\n",
       "      <td>ENSMUSG00000064842.1</td>\n",
       "      <td>snRNA</td>\n",
       "      <td>Gm26206</td>\n",
       "      <td>3</td>\n",
       "      <td>MGI:5455983</td>\n",
       "      <td>NaN</td>\n",
       "      <td>NaN</td>\n",
       "    </tr>\n",
       "    <tr>\n",
       "      <th>2</th>\n",
       "      <td>ENSMUSG00000051951.5</td>\n",
       "      <td>protein_coding</td>\n",
       "      <td>Xkr4</td>\n",
       "      <td>2</td>\n",
       "      <td>MGI:3528744</td>\n",
       "      <td>OTTMUSG00000026353.2</td>\n",
       "      <td>NaN</td>\n",
       "    </tr>\n",
       "    <tr>\n",
       "      <th>3</th>\n",
       "      <td>ENSMUSG00000102851.1</td>\n",
       "      <td>processed_pseudogene</td>\n",
       "      <td>Gm18956</td>\n",
       "      <td>1</td>\n",
       "      <td>MGI:5011141</td>\n",
       "      <td>OTTMUSG00000049958.1</td>\n",
       "      <td>pseudo_consens</td>\n",
       "    </tr>\n",
       "    <tr>\n",
       "      <th>4</th>\n",
       "      <td>ENSMUSG00000103377.1</td>\n",
       "      <td>TEC</td>\n",
       "      <td>Gm37180</td>\n",
       "      <td>2</td>\n",
       "      <td>MGI:5610408</td>\n",
       "      <td>OTTMUSG00000049960.1</td>\n",
       "      <td>NaN</td>\n",
       "    </tr>\n",
       "  </tbody>\n",
       "</table>\n",
       "</div>"
      ],
      "text/plain": [
       "                gene_id             gene_type      gene_name level  \\\n",
       "0  ENSMUSG00000102693.1                   TEC  4933401J01Rik     2   \n",
       "1  ENSMUSG00000064842.1                 snRNA        Gm26206     3   \n",
       "2  ENSMUSG00000051951.5        protein_coding           Xkr4     2   \n",
       "3  ENSMUSG00000102851.1  processed_pseudogene        Gm18956     1   \n",
       "4  ENSMUSG00000103377.1                   TEC        Gm37180     2   \n",
       "\n",
       "        mgi_id           havana_gene             tag  \n",
       "0  MGI:1918292  OTTMUSG00000049935.1             NaN  \n",
       "1  MGI:5455983                   NaN             NaN  \n",
       "2  MGI:3528744  OTTMUSG00000026353.2             NaN  \n",
       "3  MGI:5011141  OTTMUSG00000049958.1  pseudo_consens  \n",
       "4  MGI:5610408  OTTMUSG00000049960.1             NaN  "
      ]
     },
     "execution_count": 12,
     "metadata": {},
     "output_type": "execute_result"
    }
   ],
   "source": [
    "# now we can apply it into every row in the gtf\n",
    "gene_anno_df = gene_gtf['annotation'].apply(anno_to_dict)\n",
    "gene_anno_df.head()\n",
    "\n",
    "# human table can be different from this"
   ]
  },
  {
   "cell_type": "code",
   "execution_count": 13,
   "metadata": {
    "ExecuteTime": {
     "end_time": "2020-06-08T03:39:05.318652Z",
     "start_time": "2020-06-08T03:39:05.283575Z"
    }
   },
   "outputs": [
    {
     "data": {
      "text/html": [
       "<div>\n",
       "<style scoped>\n",
       "    .dataframe tbody tr th:only-of-type {\n",
       "        vertical-align: middle;\n",
       "    }\n",
       "\n",
       "    .dataframe tbody tr th {\n",
       "        vertical-align: top;\n",
       "    }\n",
       "\n",
       "    .dataframe thead th {\n",
       "        text-align: right;\n",
       "    }\n",
       "</style>\n",
       "<table border=\"1\" class=\"dataframe\">\n",
       "  <thead>\n",
       "    <tr style=\"text-align: right;\">\n",
       "      <th></th>\n",
       "      <th>chrom</th>\n",
       "      <th>source</th>\n",
       "      <th>feature</th>\n",
       "      <th>start</th>\n",
       "      <th>end</th>\n",
       "      <th>strand</th>\n",
       "      <th>gene_id</th>\n",
       "      <th>gene_type</th>\n",
       "      <th>gene_name</th>\n",
       "      <th>level</th>\n",
       "      <th>mgi_id</th>\n",
       "      <th>havana_gene</th>\n",
       "      <th>tag</th>\n",
       "    </tr>\n",
       "  </thead>\n",
       "  <tbody>\n",
       "    <tr>\n",
       "      <th>0</th>\n",
       "      <td>chr1</td>\n",
       "      <td>HAVANA</td>\n",
       "      <td>gene</td>\n",
       "      <td>3073253</td>\n",
       "      <td>3074322</td>\n",
       "      <td>+</td>\n",
       "      <td>ENSMUSG00000102693.1</td>\n",
       "      <td>TEC</td>\n",
       "      <td>4933401J01Rik</td>\n",
       "      <td>2</td>\n",
       "      <td>MGI:1918292</td>\n",
       "      <td>OTTMUSG00000049935.1</td>\n",
       "      <td>NaN</td>\n",
       "    </tr>\n",
       "    <tr>\n",
       "      <th>1</th>\n",
       "      <td>chr1</td>\n",
       "      <td>ENSEMBL</td>\n",
       "      <td>gene</td>\n",
       "      <td>3102016</td>\n",
       "      <td>3102125</td>\n",
       "      <td>+</td>\n",
       "      <td>ENSMUSG00000064842.1</td>\n",
       "      <td>snRNA</td>\n",
       "      <td>Gm26206</td>\n",
       "      <td>3</td>\n",
       "      <td>MGI:5455983</td>\n",
       "      <td>NaN</td>\n",
       "      <td>NaN</td>\n",
       "    </tr>\n",
       "    <tr>\n",
       "      <th>2</th>\n",
       "      <td>chr1</td>\n",
       "      <td>HAVANA</td>\n",
       "      <td>gene</td>\n",
       "      <td>3205901</td>\n",
       "      <td>3671498</td>\n",
       "      <td>-</td>\n",
       "      <td>ENSMUSG00000051951.5</td>\n",
       "      <td>protein_coding</td>\n",
       "      <td>Xkr4</td>\n",
       "      <td>2</td>\n",
       "      <td>MGI:3528744</td>\n",
       "      <td>OTTMUSG00000026353.2</td>\n",
       "      <td>NaN</td>\n",
       "    </tr>\n",
       "    <tr>\n",
       "      <th>3</th>\n",
       "      <td>chr1</td>\n",
       "      <td>HAVANA</td>\n",
       "      <td>gene</td>\n",
       "      <td>3252757</td>\n",
       "      <td>3253236</td>\n",
       "      <td>+</td>\n",
       "      <td>ENSMUSG00000102851.1</td>\n",
       "      <td>processed_pseudogene</td>\n",
       "      <td>Gm18956</td>\n",
       "      <td>1</td>\n",
       "      <td>MGI:5011141</td>\n",
       "      <td>OTTMUSG00000049958.1</td>\n",
       "      <td>pseudo_consens</td>\n",
       "    </tr>\n",
       "    <tr>\n",
       "      <th>4</th>\n",
       "      <td>chr1</td>\n",
       "      <td>HAVANA</td>\n",
       "      <td>gene</td>\n",
       "      <td>3365731</td>\n",
       "      <td>3368549</td>\n",
       "      <td>-</td>\n",
       "      <td>ENSMUSG00000103377.1</td>\n",
       "      <td>TEC</td>\n",
       "      <td>Gm37180</td>\n",
       "      <td>2</td>\n",
       "      <td>MGI:5610408</td>\n",
       "      <td>OTTMUSG00000049960.1</td>\n",
       "      <td>NaN</td>\n",
       "    </tr>\n",
       "  </tbody>\n",
       "</table>\n",
       "</div>"
      ],
      "text/plain": [
       "  chrom   source feature    start      end strand               gene_id  \\\n",
       "0  chr1   HAVANA    gene  3073253  3074322      +  ENSMUSG00000102693.1   \n",
       "1  chr1  ENSEMBL    gene  3102016  3102125      +  ENSMUSG00000064842.1   \n",
       "2  chr1   HAVANA    gene  3205901  3671498      -  ENSMUSG00000051951.5   \n",
       "3  chr1   HAVANA    gene  3252757  3253236      +  ENSMUSG00000102851.1   \n",
       "4  chr1   HAVANA    gene  3365731  3368549      -  ENSMUSG00000103377.1   \n",
       "\n",
       "              gene_type      gene_name level       mgi_id  \\\n",
       "0                   TEC  4933401J01Rik     2  MGI:1918292   \n",
       "1                 snRNA        Gm26206     3  MGI:5455983   \n",
       "2        protein_coding           Xkr4     2  MGI:3528744   \n",
       "3  processed_pseudogene        Gm18956     1  MGI:5011141   \n",
       "4                   TEC        Gm37180     2  MGI:5610408   \n",
       "\n",
       "            havana_gene             tag  \n",
       "0  OTTMUSG00000049935.1             NaN  \n",
       "1                   NaN             NaN  \n",
       "2  OTTMUSG00000026353.2             NaN  \n",
       "3  OTTMUSG00000049958.1  pseudo_consens  \n",
       "4  OTTMUSG00000049960.1             NaN  "
      ]
     },
     "execution_count": 13,
     "metadata": {},
     "output_type": "execute_result"
    }
   ],
   "source": [
    "# last step, we concatenate the gene_gtf with the gene_anno_df\n",
    "gene_flat_table = pd.concat([gene_gtf, gene_anno_df], axis=1)\n",
    "\n",
    "# delete some redundent or not used cols\n",
    "del gene_flat_table['annotation']\n",
    "del gene_flat_table['na1']\n",
    "del gene_flat_table['na2']\n",
    "\n",
    "gene_flat_table.head()"
   ]
  },
  {
   "cell_type": "code",
   "execution_count": null,
   "metadata": {},
   "outputs": [],
   "source": [
    "?pd.concat"
   ]
  },
  {
   "cell_type": "code",
   "execution_count": 14,
   "metadata": {
    "ExecuteTime": {
     "end_time": "2020-06-08T03:39:05.358289Z",
     "start_time": "2020-06-08T03:39:05.329093Z"
    }
   },
   "outputs": [
    {
     "data": {
      "text/html": [
       "<div>\n",
       "<style scoped>\n",
       "    .dataframe tbody tr th:only-of-type {\n",
       "        vertical-align: middle;\n",
       "    }\n",
       "\n",
       "    .dataframe tbody tr th {\n",
       "        vertical-align: top;\n",
       "    }\n",
       "\n",
       "    .dataframe thead th {\n",
       "        text-align: right;\n",
       "    }\n",
       "</style>\n",
       "<table border=\"1\" class=\"dataframe\">\n",
       "  <thead>\n",
       "    <tr style=\"text-align: right;\">\n",
       "      <th></th>\n",
       "      <th>chrom</th>\n",
       "      <th>source</th>\n",
       "      <th>feature</th>\n",
       "      <th>start</th>\n",
       "      <th>end</th>\n",
       "      <th>strand</th>\n",
       "      <th>gene_type</th>\n",
       "      <th>gene_name</th>\n",
       "      <th>level</th>\n",
       "      <th>mgi_id</th>\n",
       "      <th>havana_gene</th>\n",
       "      <th>tag</th>\n",
       "    </tr>\n",
       "    <tr>\n",
       "      <th>gene_id</th>\n",
       "      <th></th>\n",
       "      <th></th>\n",
       "      <th></th>\n",
       "      <th></th>\n",
       "      <th></th>\n",
       "      <th></th>\n",
       "      <th></th>\n",
       "      <th></th>\n",
       "      <th></th>\n",
       "      <th></th>\n",
       "      <th></th>\n",
       "      <th></th>\n",
       "    </tr>\n",
       "  </thead>\n",
       "  <tbody>\n",
       "    <tr>\n",
       "      <th>ENSMUSG00000102693.1</th>\n",
       "      <td>chr1</td>\n",
       "      <td>HAVANA</td>\n",
       "      <td>gene</td>\n",
       "      <td>3073253</td>\n",
       "      <td>3074322</td>\n",
       "      <td>+</td>\n",
       "      <td>TEC</td>\n",
       "      <td>4933401J01Rik</td>\n",
       "      <td>2</td>\n",
       "      <td>MGI:1918292</td>\n",
       "      <td>OTTMUSG00000049935.1</td>\n",
       "      <td>NaN</td>\n",
       "    </tr>\n",
       "    <tr>\n",
       "      <th>ENSMUSG00000064842.1</th>\n",
       "      <td>chr1</td>\n",
       "      <td>ENSEMBL</td>\n",
       "      <td>gene</td>\n",
       "      <td>3102016</td>\n",
       "      <td>3102125</td>\n",
       "      <td>+</td>\n",
       "      <td>snRNA</td>\n",
       "      <td>Gm26206</td>\n",
       "      <td>3</td>\n",
       "      <td>MGI:5455983</td>\n",
       "      <td>NaN</td>\n",
       "      <td>NaN</td>\n",
       "    </tr>\n",
       "    <tr>\n",
       "      <th>ENSMUSG00000051951.5</th>\n",
       "      <td>chr1</td>\n",
       "      <td>HAVANA</td>\n",
       "      <td>gene</td>\n",
       "      <td>3205901</td>\n",
       "      <td>3671498</td>\n",
       "      <td>-</td>\n",
       "      <td>protein_coding</td>\n",
       "      <td>Xkr4</td>\n",
       "      <td>2</td>\n",
       "      <td>MGI:3528744</td>\n",
       "      <td>OTTMUSG00000026353.2</td>\n",
       "      <td>NaN</td>\n",
       "    </tr>\n",
       "    <tr>\n",
       "      <th>ENSMUSG00000102851.1</th>\n",
       "      <td>chr1</td>\n",
       "      <td>HAVANA</td>\n",
       "      <td>gene</td>\n",
       "      <td>3252757</td>\n",
       "      <td>3253236</td>\n",
       "      <td>+</td>\n",
       "      <td>processed_pseudogene</td>\n",
       "      <td>Gm18956</td>\n",
       "      <td>1</td>\n",
       "      <td>MGI:5011141</td>\n",
       "      <td>OTTMUSG00000049958.1</td>\n",
       "      <td>pseudo_consens</td>\n",
       "    </tr>\n",
       "    <tr>\n",
       "      <th>ENSMUSG00000103377.1</th>\n",
       "      <td>chr1</td>\n",
       "      <td>HAVANA</td>\n",
       "      <td>gene</td>\n",
       "      <td>3365731</td>\n",
       "      <td>3368549</td>\n",
       "      <td>-</td>\n",
       "      <td>TEC</td>\n",
       "      <td>Gm37180</td>\n",
       "      <td>2</td>\n",
       "      <td>MGI:5610408</td>\n",
       "      <td>OTTMUSG00000049960.1</td>\n",
       "      <td>NaN</td>\n",
       "    </tr>\n",
       "  </tbody>\n",
       "</table>\n",
       "</div>"
      ],
      "text/plain": [
       "                     chrom   source feature    start      end strand  \\\n",
       "gene_id                                                                \n",
       "ENSMUSG00000102693.1  chr1   HAVANA    gene  3073253  3074322      +   \n",
       "ENSMUSG00000064842.1  chr1  ENSEMBL    gene  3102016  3102125      +   \n",
       "ENSMUSG00000051951.5  chr1   HAVANA    gene  3205901  3671498      -   \n",
       "ENSMUSG00000102851.1  chr1   HAVANA    gene  3252757  3253236      +   \n",
       "ENSMUSG00000103377.1  chr1   HAVANA    gene  3365731  3368549      -   \n",
       "\n",
       "                                 gene_type      gene_name level       mgi_id  \\\n",
       "gene_id                                                                        \n",
       "ENSMUSG00000102693.1                   TEC  4933401J01Rik     2  MGI:1918292   \n",
       "ENSMUSG00000064842.1                 snRNA        Gm26206     3  MGI:5455983   \n",
       "ENSMUSG00000051951.5        protein_coding           Xkr4     2  MGI:3528744   \n",
       "ENSMUSG00000102851.1  processed_pseudogene        Gm18956     1  MGI:5011141   \n",
       "ENSMUSG00000103377.1                   TEC        Gm37180     2  MGI:5610408   \n",
       "\n",
       "                               havana_gene             tag  \n",
       "gene_id                                                     \n",
       "ENSMUSG00000102693.1  OTTMUSG00000049935.1             NaN  \n",
       "ENSMUSG00000064842.1                   NaN             NaN  \n",
       "ENSMUSG00000051951.5  OTTMUSG00000026353.2             NaN  \n",
       "ENSMUSG00000102851.1  OTTMUSG00000049958.1  pseudo_consens  \n",
       "ENSMUSG00000103377.1  OTTMUSG00000049960.1             NaN  "
      ]
     },
     "execution_count": 14,
     "metadata": {},
     "output_type": "execute_result"
    }
   ],
   "source": [
    "# and we set gene_id as the index, which is unique and more meaningful\n",
    "gene_flat_table.set_index('gene_id', inplace=True)  # inplace must be true, why? Homework\n",
    "gene_flat_table.head()"
   ]
  },
  {
   "cell_type": "markdown",
   "metadata": {},
   "source": [
    "## Save gene metadata"
   ]
  },
  {
   "cell_type": "code",
   "execution_count": 15,
   "metadata": {
    "ExecuteTime": {
     "end_time": "2020-06-08T03:39:06.205658Z",
     "start_time": "2020-06-08T03:39:05.360664Z"
    }
   },
   "outputs": [],
   "source": [
    "gene_flat_table.to_csv('gene_metadata.csv.gz')"
   ]
  },
  {
   "cell_type": "code",
   "execution_count": 17,
   "metadata": {
    "ExecuteTime": {
     "end_time": "2020-06-08T03:40:08.705696Z",
     "start_time": "2020-06-08T03:40:08.693676Z"
    }
   },
   "outputs": [],
   "source": [
    "?pd.DataFrame.to_csv"
   ]
  },
  {
   "cell_type": "code",
   "execution_count": null,
   "metadata": {},
   "outputs": [],
   "source": []
  },
  {
   "cell_type": "code",
   "execution_count": null,
   "metadata": {},
   "outputs": [],
   "source": []
  },
  {
   "cell_type": "code",
   "execution_count": null,
   "metadata": {},
   "outputs": [],
   "source": []
  }
 ],
 "metadata": {
  "kernelspec": {
   "display_name": "Python 3",
   "language": "python",
   "name": "python3"
  },
  "language_info": {
   "codemirror_mode": {
    "name": "ipython",
    "version": 3
   },
   "file_extension": ".py",
   "mimetype": "text/x-python",
   "name": "python",
   "nbconvert_exporter": "python",
   "pygments_lexer": "ipython3",
   "version": "3.7.6"
  },
  "toc": {
   "base_numbering": 1,
   "nav_menu": {},
   "number_sections": true,
   "sideBar": true,
   "skip_h1_title": true,
   "title_cell": "Table of Contents",
   "title_sidebar": "Contents",
   "toc_cell": false,
   "toc_position": {},
   "toc_section_display": true,
   "toc_window_display": true
  }
 },
 "nbformat": 4,
 "nbformat_minor": 4
}

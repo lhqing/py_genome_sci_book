{
 "cells": [
  {
   "cell_type": "markdown",
   "metadata": {},
   "source": [
    "# Jupter Notebook\n",
    "\n",
    "In this notebook, I will show you some details about the jupyter notebook environment, helping you understand what happened when you start a jupyter notebook for analysis, and how is this different from other ways to run python."
   ]
  },
  {
   "cell_type": "markdown",
   "metadata": {},
   "source": [
    "## A Python Jupyter Notebook rely on the original python interpreter\n",
    "\n",
    "- Whenever you run python code, you gonna need a python interpreter. Jupyter Notebook is a user friendly environment for python data analysis, but its still python, so it use the same python interpreter just like running python in other ways"
   ]
  },
  {
   "cell_type": "code",
   "execution_count": 1,
   "metadata": {
    "ExecuteTime": {
     "end_time": "2020-04-23T18:08:17.779260Z",
     "start_time": "2020-04-23T18:08:17.774218Z"
    }
   },
   "outputs": [
    {
     "name": "stdout",
     "output_type": "stream",
     "text": [
      "/Users/hq/miniconda3/envs/genome_book/bin/python\n"
     ]
    }
   ],
   "source": [
    "import sys\n",
    "print(sys.executable)\n",
    "\n",
    "# You can see my python location below, from this book's conda environment"
   ]
  },
  {
   "cell_type": "code",
   "execution_count": 2,
   "metadata": {
    "ExecuteTime": {
     "end_time": "2020-04-23T18:08:18.480474Z",
     "start_time": "2020-04-23T18:08:18.464445Z"
    }
   },
   "outputs": [
    {
     "name": "stdout",
     "output_type": "stream",
     "text": [
      "/Users/hq/miniconda3/envs/genome_book/bin/python\n"
     ]
    }
   ],
   "source": [
    "%%bash\n",
    "# the %%bash means code in this cell need to be run in bash, but not python code\n",
    "\n",
    "# Now if I execute python from the shell, its the same thing!\n",
    "which python"
   ]
  },
  {
   "cell_type": "markdown",
   "metadata": {},
   "source": [
    "## A live Jupyter Notebook is a python process"
   ]
  },
  {
   "cell_type": "code",
   "execution_count": 3,
   "metadata": {
    "ExecuteTime": {
     "end_time": "2020-04-23T18:08:19.383663Z",
     "start_time": "2020-04-23T18:08:19.363508Z"
    }
   },
   "outputs": [
    {
     "data": {
      "text/plain": [
       "psutil.Process(pid=2252, name='python3.7', started='11:08:16')"
      ]
     },
     "execution_count": 3,
     "metadata": {},
     "output_type": "execute_result"
    }
   ],
   "source": [
    "import os\n",
    "pid = os.getpid() # this return the process id of my current python process for this jupyter notebook\n",
    "\n",
    "import psutil  \n",
    "# this package help me get the process name, \n",
    "# but its OK not to install this in your envrionment, I won't use it for analysis\n",
    "process = psutil.Process(pid)\n",
    "process"
   ]
  },
  {
   "cell_type": "markdown",
   "metadata": {},
   "source": [
    "## A live Jupyter Notebook contains lots of variables\n",
    "\n",
    "- When you start a jupyter notebook, you also start a python process, which will keep alive until you kill it or quit the jupyter notebook server.\n",
    "- All code you have executed creates some variables that's been recorded in the background, so you can get variable values \n",
    "- Jupyter also maintain some other vairables that's needed for describing the whole notebook\n",
    "- Here is a way to confirm"
   ]
  },
  {
   "cell_type": "code",
   "execution_count": 4,
   "metadata": {
    "ExecuteTime": {
     "end_time": "2020-04-23T18:08:20.342573Z",
     "start_time": "2020-04-23T18:08:20.336631Z"
    },
    "scrolled": true
   },
   "outputs": [
    {
     "data": {
      "text/plain": [
       "{'__name__': '__main__',\n",
       " '__doc__': 'Automatically created module for IPython interactive environment',\n",
       " '__package__': None,\n",
       " '__loader__': None,\n",
       " '__spec__': None,\n",
       " '__builtin__': <module 'builtins' (built-in)>,\n",
       " '__builtins__': <module 'builtins' (built-in)>,\n",
       " '_ih': ['',\n",
       "  \"# This stackoverflow tell me how to check the location of my current python interpreter\\n\\nimport sys\\nprint(sys.executable)\\n\\n# You can see my python location below, from this book's conda environment\",\n",
       "  \"get_ipython().run_cell_magic('bash', '', '# the %%bash means code in this cell need to be run in bash, but not python code\\\\n\\\\n# Now if I execute python from the shell, its the same thing!\\\\nwhich python\\\\n')\",\n",
       "  \"import os\\npid = os.getpid() # this return the process id of my current python process for this jupyter notebook\\n\\nimport psutil  \\n# this package help me get the process name, \\n# but its OK not to install this in your envrionment, I won't use it for analysis\\nprocess = psutil.Process(pid)\\nprocess\",\n",
       "  '# locals() function print out all loc\\nlocals()'],\n",
       " '_oh': {3: psutil.Process(pid=2252, name='python3.7', started='11:08:16')},\n",
       " '_dh': ['/Users/hq/Documents/pkg/py_genome_sci_book/analysis/python_basic'],\n",
       " 'In': ['',\n",
       "  \"# This stackoverflow tell me how to check the location of my current python interpreter\\n\\nimport sys\\nprint(sys.executable)\\n\\n# You can see my python location below, from this book's conda environment\",\n",
       "  \"get_ipython().run_cell_magic('bash', '', '# the %%bash means code in this cell need to be run in bash, but not python code\\\\n\\\\n# Now if I execute python from the shell, its the same thing!\\\\nwhich python\\\\n')\",\n",
       "  \"import os\\npid = os.getpid() # this return the process id of my current python process for this jupyter notebook\\n\\nimport psutil  \\n# this package help me get the process name, \\n# but its OK not to install this in your envrionment, I won't use it for analysis\\nprocess = psutil.Process(pid)\\nprocess\",\n",
       "  '# locals() function print out all loc\\nlocals()'],\n",
       " 'Out': {3: psutil.Process(pid=2252, name='python3.7', started='11:08:16')},\n",
       " 'get_ipython': <bound method InteractiveShell.get_ipython of <ipykernel.zmqshell.ZMQInteractiveShell object at 0x10e9a3990>>,\n",
       " 'exit': <IPython.core.autocall.ZMQExitAutocall at 0x10e991a50>,\n",
       " 'quit': <IPython.core.autocall.ZMQExitAutocall at 0x10e991a50>,\n",
       " '_': psutil.Process(pid=2252, name='python3.7', started='11:08:16'),\n",
       " '__': '',\n",
       " '___': '',\n",
       " 'json': <module 'json' from '/Users/hq/miniconda3/envs/genome_book/lib/python3.7/json/__init__.py'>,\n",
       " 'yapf_reformat': <function __main__.yapf_reformat(cell_text)>,\n",
       " '_i': \"import os\\npid = os.getpid() # this return the process id of my current python process for this jupyter notebook\\n\\nimport psutil  \\n# this package help me get the process name, \\n# but its OK not to install this in your envrionment, I won't use it for analysis\\nprocess = psutil.Process(pid)\\nprocess\",\n",
       " '_ii': '%%bash\\n# the %%bash means code in this cell need to be run in bash, but not python code\\n\\n# Now if I execute python from the shell, its the same thing!\\nwhich python',\n",
       " '_iii': \"# This stackoverflow tell me how to check the location of my current python interpreter\\n\\nimport sys\\nprint(sys.executable)\\n\\n# You can see my python location below, from this book's conda environment\",\n",
       " '_i1': \"# This stackoverflow tell me how to check the location of my current python interpreter\\n\\nimport sys\\nprint(sys.executable)\\n\\n# You can see my python location below, from this book's conda environment\",\n",
       " 'sys': <module 'sys' (built-in)>,\n",
       " '_i2': '%%bash\\n# the %%bash means code in this cell need to be run in bash, but not python code\\n\\n# Now if I execute python from the shell, its the same thing!\\nwhich python',\n",
       " '_i3': \"import os\\npid = os.getpid() # this return the process id of my current python process for this jupyter notebook\\n\\nimport psutil  \\n# this package help me get the process name, \\n# but its OK not to install this in your envrionment, I won't use it for analysis\\nprocess = psutil.Process(pid)\\nprocess\",\n",
       " 'os': <module 'os' from '/Users/hq/miniconda3/envs/genome_book/lib/python3.7/os.py'>,\n",
       " 'pid': 2252,\n",
       " 'psutil': <module 'psutil' from '/Users/hq/miniconda3/envs/genome_book/lib/python3.7/site-packages/psutil/__init__.py'>,\n",
       " 'process': psutil.Process(pid=2252, name='python3.7', started='11:08:16'),\n",
       " '_3': psutil.Process(pid=2252, name='python3.7', started='11:08:16'),\n",
       " '_i4': '# locals() function print out all loc\\nlocals()'}"
      ]
     },
     "execution_count": 4,
     "metadata": {},
     "output_type": "execute_result"
    }
   ],
   "source": [
    "# locals() function print out all local variables\n",
    "locals()"
   ]
  },
  {
   "cell_type": "code",
   "execution_count": 5,
   "metadata": {
    "ExecuteTime": {
     "end_time": "2020-04-23T18:08:20.888176Z",
     "start_time": "2020-04-23T18:08:20.884147Z"
    }
   },
   "outputs": [
    {
     "data": {
      "text/plain": [
       "<module 'sys' (built-in)>"
      ]
     },
     "execution_count": 5,
     "metadata": {},
     "output_type": "execute_result"
    }
   ],
   "source": [
    "# What locals() returned is actually a dict that contain all local variables for this notebook, \n",
    "# let's take a look at something we just imported\n",
    "\n",
    "local_dict = locals()\n",
    "local_dict['sys']\n",
    "\n",
    "# you see, the name \"sys\" coresponding to a python module that we have imported from the cell above"
   ]
  },
  {
   "cell_type": "code",
   "execution_count": 6,
   "metadata": {
    "ExecuteTime": {
     "end_time": "2020-04-23T18:08:21.334604Z",
     "start_time": "2020-04-23T18:08:21.331886Z"
    }
   },
   "outputs": [],
   "source": [
    "# now I create some other variables\n",
    "a = 1\n",
    "b = 2\n",
    "c = 3"
   ]
  },
  {
   "cell_type": "code",
   "execution_count": 7,
   "metadata": {
    "ExecuteTime": {
     "end_time": "2020-04-23T18:08:21.739084Z",
     "start_time": "2020-04-23T18:08:21.735261Z"
    }
   },
   "outputs": [
    {
     "name": "stdout",
     "output_type": "stream",
     "text": [
      "1\n",
      "2\n",
      "3\n"
     ]
    }
   ],
   "source": [
    "# they are all in the locals, we can get variable from the environment\n",
    "local_dict = locals()\n",
    "print(local_dict['a'])\n",
    "print(local_dict['b'])\n",
    "print(local_dict['c'])"
   ]
  },
  {
   "cell_type": "code",
   "execution_count": 8,
   "metadata": {
    "ExecuteTime": {
     "end_time": "2020-04-23T18:08:22.201353Z",
     "start_time": "2020-04-23T18:08:22.197843Z"
    }
   },
   "outputs": [
    {
     "name": "stdout",
     "output_type": "stream",
     "text": [
      "1\n",
      "2\n",
      "3\n"
     ]
    }
   ],
   "source": [
    "# of course, you don't need locals() to get them, I was just telling you the background details\n",
    "# the actual way is\n",
    "print(a)\n",
    "print(b)\n",
    "print(c)"
   ]
  },
  {
   "cell_type": "markdown",
   "metadata": {},
   "source": [
    "## Here is a magic command to list all variables\n",
    "\n",
    "- When you see something start with % in the first line of a cell, this is called ipython magic command\n",
    "- Jupter Notebook rely on a package called ipython, which implemented all these magic command to increase your coding efficiency\n",
    "- [This page](https://ipython.readthedocs.io/en/stable/interactive/magics.html) listed all supported magic commands, we will use some of them in the future"
   ]
  },
  {
   "cell_type": "code",
   "execution_count": 9,
   "metadata": {
    "ExecuteTime": {
     "end_time": "2020-04-23T18:08:23.045405Z",
     "start_time": "2020-04-23T18:08:23.037570Z"
    }
   },
   "outputs": [
    {
     "name": "stdout",
     "output_type": "stream",
     "text": [
      "Variable        Type        Data/Info\n",
      "-------------------------------------\n",
      "a               int         1\n",
      "b               int         2\n",
      "c               int         3\n",
      "json            module      <module 'json' from '/Use<...>hon3.7/json/__init__.py'>\n",
      "local_dict      dict        n=44\n",
      "os              module      <module 'os' from '/Users<...>ook/lib/python3.7/os.py'>\n",
      "pid             int         2252\n",
      "process         Process     psutil.Process(pid=2252, <...>3.7', started='11:08:16')\n",
      "psutil          module      <module 'psutil' from '/U<...>ages/psutil/__init__.py'>\n",
      "sys             module      <module 'sys' (built-in)>\n",
      "yapf_reformat   function    <function yapf_reformat at 0x10eafaa70>\n"
     ]
    }
   ],
   "source": [
    "%whos\n",
    "\n",
    "# it's OK if yours are not exactly the same as mine, but you should at least see the a, b, c, local_dict, and sys"
   ]
  },
  {
   "cell_type": "code",
   "execution_count": 10,
   "metadata": {
    "ExecuteTime": {
     "end_time": "2020-04-23T18:08:24.051754Z",
     "start_time": "2020-04-23T18:08:23.538836Z"
    }
   },
   "outputs": [],
   "source": [
    "# Now let's import pandas as pd, pd become the alias of pandas\n",
    "import pandas as pd"
   ]
  },
  {
   "cell_type": "code",
   "execution_count": 11,
   "metadata": {
    "ExecuteTime": {
     "end_time": "2020-04-23T18:08:24.073545Z",
     "start_time": "2020-04-23T18:08:24.054353Z"
    }
   },
   "outputs": [
    {
     "name": "stdout",
     "output_type": "stream",
     "text": [
      "Variable        Type        Data/Info\n",
      "-------------------------------------\n",
      "a               int         1\n",
      "b               int         2\n",
      "c               int         3\n",
      "json            module      <module 'json' from '/Use<...>hon3.7/json/__init__.py'>\n",
      "local_dict      dict        n=47\n",
      "os              module      <module 'os' from '/Users<...>ook/lib/python3.7/os.py'>\n",
      "pd              module      <module 'pandas' from '/U<...>ages/pandas/__init__.py'>\n",
      "pid             int         2252\n",
      "process         Process     psutil.Process(pid=2252, <...>3.7', started='11:08:16')\n",
      "psutil          module      <module 'psutil' from '/U<...>ages/psutil/__init__.py'>\n",
      "sys             module      <module 'sys' (built-in)>\n",
      "yapf_reformat   function    <function yapf_reformat at 0x10eafaa70>\n"
     ]
    }
   ],
   "source": [
    "%whos\n",
    "\n",
    "# The module pd is added into local variables, \n",
    "# we can use pd.DataFrame to create data frame or pd.read_csv to read csv files\n",
    "\n",
    "# whos help you hide many jupyter defalut variables, here it only shows all the variables defined by me"
   ]
  },
  {
   "cell_type": "code",
   "execution_count": 12,
   "metadata": {
    "ExecuteTime": {
     "end_time": "2020-04-23T18:08:26.716404Z",
     "start_time": "2020-04-23T18:08:26.674914Z"
    }
   },
   "outputs": [],
   "source": [
    "# use functions from the pd module\n",
    "sample_df = pd.read_csv('../file_io/sample_table.csv')"
   ]
  },
  {
   "cell_type": "code",
   "execution_count": 13,
   "metadata": {
    "ExecuteTime": {
     "end_time": "2020-04-23T18:08:27.630922Z",
     "start_time": "2020-04-23T18:08:27.464838Z"
    }
   },
   "outputs": [
    {
     "ename": "NameError",
     "evalue": "name 'pandas' is not defined",
     "output_type": "error",
     "traceback": [
      "\u001b[0;31m---------------------------------------------------------------------------\u001b[0m",
      "\u001b[0;31mNameError\u001b[0m                                 Traceback (most recent call last)",
      "\u001b[0;32m<ipython-input-13-5213aee8f781>\u001b[0m in \u001b[0;36m<module>\u001b[0;34m\u001b[0m\n\u001b[1;32m      1\u001b[0m \u001b[0;31m# name pandas will not work, because its not in the local variable\u001b[0m\u001b[0;34m\u001b[0m\u001b[0;34m\u001b[0m\u001b[0;34m\u001b[0m\u001b[0m\n\u001b[0;32m----> 2\u001b[0;31m \u001b[0msample_df\u001b[0m \u001b[0;34m=\u001b[0m \u001b[0mpandas\u001b[0m\u001b[0;34m.\u001b[0m\u001b[0mread_csv\u001b[0m\u001b[0;34m(\u001b[0m\u001b[0;34m'../file_io/sample_table.csv'\u001b[0m\u001b[0;34m)\u001b[0m\u001b[0;34m\u001b[0m\u001b[0;34m\u001b[0m\u001b[0m\n\u001b[0m",
      "\u001b[0;31mNameError\u001b[0m: name 'pandas' is not defined"
     ]
    }
   ],
   "source": [
    "# name pandas will not work, because its not in the local variable\n",
    "sample_df = pandas.read_csv('../file_io/sample_table.csv')"
   ]
  },
  {
   "cell_type": "code",
   "execution_count": 14,
   "metadata": {
    "ExecuteTime": {
     "end_time": "2020-04-23T18:08:28.819661Z",
     "start_time": "2020-04-23T18:08:28.811128Z"
    }
   },
   "outputs": [
    {
     "ename": "NameError",
     "evalue": "name 'read_csv' is not defined",
     "output_type": "error",
     "traceback": [
      "\u001b[0;31m---------------------------------------------------------------------------\u001b[0m",
      "\u001b[0;31mNameError\u001b[0m                                 Traceback (most recent call last)",
      "\u001b[0;32m<ipython-input-14-b046eb7c09a0>\u001b[0m in \u001b[0;36m<module>\u001b[0;34m\u001b[0m\n\u001b[1;32m      1\u001b[0m \u001b[0;31m# directly use the function name also won't work, because its not in the local variable\u001b[0m\u001b[0;34m\u001b[0m\u001b[0;34m\u001b[0m\u001b[0;34m\u001b[0m\u001b[0m\n\u001b[0;32m----> 2\u001b[0;31m \u001b[0msample_df\u001b[0m \u001b[0;34m=\u001b[0m \u001b[0mread_csv\u001b[0m\u001b[0;34m(\u001b[0m\u001b[0;34m'../file_io/sample_table.csv'\u001b[0m\u001b[0;34m)\u001b[0m\u001b[0;34m\u001b[0m\u001b[0;34m\u001b[0m\u001b[0m\n\u001b[0m",
      "\u001b[0;31mNameError\u001b[0m: name 'read_csv' is not defined"
     ]
    }
   ],
   "source": [
    "# directly use the function name also won't work, because its not in the local variable\n",
    "sample_df = read_csv('../file_io/sample_table.csv')"
   ]
  },
  {
   "cell_type": "code",
   "execution_count": 15,
   "metadata": {
    "ExecuteTime": {
     "end_time": "2020-04-23T18:08:29.468946Z",
     "start_time": "2020-04-23T18:08:29.463150Z"
    }
   },
   "outputs": [],
   "source": [
    "# But we can import them like this, so it will work\n",
    "from pandas import read_csv  # this means I took this function from the module, import into my local variables\n",
    "\n",
    "sample_df = read_csv('../file_io/sample_table.csv')"
   ]
  },
  {
   "cell_type": "code",
   "execution_count": 16,
   "metadata": {
    "ExecuteTime": {
     "end_time": "2020-04-23T18:08:30.048792Z",
     "start_time": "2020-04-23T18:08:30.036959Z"
    }
   },
   "outputs": [
    {
     "name": "stdout",
     "output_type": "stream",
     "text": [
      "Variable        Type         Data/Info\n",
      "--------------------------------------\n",
      "a               int          1\n",
      "b               int          2\n",
      "c               int          3\n",
      "json            module       <module 'json' from '/Use<...>hon3.7/json/__init__.py'>\n",
      "local_dict      dict         n=54\n",
      "os              module       <module 'os' from '/Users<...>ook/lib/python3.7/os.py'>\n",
      "pd              module       <module 'pandas' from '/U<...>ages/pandas/__init__.py'>\n",
      "pid             int          2252\n",
      "process         Process      psutil.Process(pid=2252, <...>3.7', started='11:08:16')\n",
      "psutil          module       <module 'psutil' from '/U<...>ages/psutil/__init__.py'>\n",
      "read_csv        function     <function _make_parser_fu<...>.parser_f at 0x11d663dd0>\n",
      "sample_df       DataFrame         Unnamed: 0  sepal_le<...>n\\n[150 rows x 6 columns]\n",
      "sys             module       <module 'sys' (built-in)>\n",
      "yapf_reformat   function     <function yapf_reformat at 0x10eafaa70>\n"
     ]
    }
   ],
   "source": [
    "%whos\n",
    "\n",
    "# see whats in the local variables now, read_csv is added!"
   ]
  },
  {
   "cell_type": "markdown",
   "metadata": {},
   "source": [
    "## One last thing - What's in a python module\n",
    "\n",
    "- When you import pandas as pd, you open the pandas module and use the pd name as a entry point\n",
    "- And when you say pd.read_csv(), python interpreter go into pd module to look for a function named read_csv\n",
    "- The dir() function allows you check all avaliable methods within a python module"
   ]
  },
  {
   "cell_type": "code",
   "execution_count": 17,
   "metadata": {
    "ExecuteTime": {
     "end_time": "2020-04-23T18:08:31.456567Z",
     "start_time": "2020-04-23T18:08:31.450629Z"
    }
   },
   "outputs": [
    {
     "data": {
      "text/plain": [
       "['BooleanDtype',\n",
       " 'Categorical',\n",
       " 'CategoricalDtype',\n",
       " 'CategoricalIndex',\n",
       " 'DataFrame',\n",
       " 'DateOffset',\n",
       " 'DatetimeIndex',\n",
       " 'DatetimeTZDtype',\n",
       " 'ExcelFile',\n",
       " 'ExcelWriter',\n",
       " 'Float64Index',\n",
       " 'Grouper',\n",
       " 'HDFStore',\n",
       " 'Index',\n",
       " 'IndexSlice',\n",
       " 'Int16Dtype',\n",
       " 'Int32Dtype',\n",
       " 'Int64Dtype',\n",
       " 'Int64Index',\n",
       " 'Int8Dtype',\n",
       " 'Interval',\n",
       " 'IntervalDtype',\n",
       " 'IntervalIndex',\n",
       " 'MultiIndex',\n",
       " 'NA',\n",
       " 'NaT',\n",
       " 'NamedAgg',\n",
       " 'Period',\n",
       " 'PeriodDtype',\n",
       " 'PeriodIndex',\n",
       " 'RangeIndex',\n",
       " 'Series',\n",
       " 'SparseDtype',\n",
       " 'StringDtype',\n",
       " 'Timedelta',\n",
       " 'TimedeltaIndex',\n",
       " 'Timestamp',\n",
       " 'UInt16Dtype',\n",
       " 'UInt32Dtype',\n",
       " 'UInt64Dtype',\n",
       " 'UInt64Index',\n",
       " 'UInt8Dtype',\n",
       " '__builtins__',\n",
       " '__cached__',\n",
       " '__doc__',\n",
       " '__docformat__',\n",
       " '__file__',\n",
       " '__getattr__',\n",
       " '__git_version__',\n",
       " '__loader__',\n",
       " '__name__',\n",
       " '__package__',\n",
       " '__path__',\n",
       " '__spec__',\n",
       " '__version__',\n",
       " '_config',\n",
       " '_hashtable',\n",
       " '_is_numpy_dev',\n",
       " '_lib',\n",
       " '_libs',\n",
       " '_np_version_under1p14',\n",
       " '_np_version_under1p15',\n",
       " '_np_version_under1p16',\n",
       " '_np_version_under1p17',\n",
       " '_np_version_under1p18',\n",
       " '_testing',\n",
       " '_tslib',\n",
       " '_typing',\n",
       " '_version',\n",
       " 'api',\n",
       " 'array',\n",
       " 'arrays',\n",
       " 'bdate_range',\n",
       " 'compat',\n",
       " 'concat',\n",
       " 'core',\n",
       " 'crosstab',\n",
       " 'cut',\n",
       " 'date_range',\n",
       " 'describe_option',\n",
       " 'errors',\n",
       " 'eval',\n",
       " 'factorize',\n",
       " 'get_dummies',\n",
       " 'get_option',\n",
       " 'infer_freq',\n",
       " 'interval_range',\n",
       " 'io',\n",
       " 'isna',\n",
       " 'isnull',\n",
       " 'json_normalize',\n",
       " 'lreshape',\n",
       " 'melt',\n",
       " 'merge',\n",
       " 'merge_asof',\n",
       " 'merge_ordered',\n",
       " 'notna',\n",
       " 'notnull',\n",
       " 'offsets',\n",
       " 'option_context',\n",
       " 'options',\n",
       " 'pandas',\n",
       " 'period_range',\n",
       " 'pivot',\n",
       " 'pivot_table',\n",
       " 'plotting',\n",
       " 'qcut',\n",
       " 'read_clipboard',\n",
       " 'read_csv',\n",
       " 'read_excel',\n",
       " 'read_feather',\n",
       " 'read_fwf',\n",
       " 'read_gbq',\n",
       " 'read_hdf',\n",
       " 'read_html',\n",
       " 'read_json',\n",
       " 'read_orc',\n",
       " 'read_parquet',\n",
       " 'read_pickle',\n",
       " 'read_sas',\n",
       " 'read_spss',\n",
       " 'read_sql',\n",
       " 'read_sql_query',\n",
       " 'read_sql_table',\n",
       " 'read_stata',\n",
       " 'read_table',\n",
       " 'reset_option',\n",
       " 'set_eng_float_format',\n",
       " 'set_option',\n",
       " 'show_versions',\n",
       " 'test',\n",
       " 'testing',\n",
       " 'timedelta_range',\n",
       " 'to_datetime',\n",
       " 'to_numeric',\n",
       " 'to_pickle',\n",
       " 'to_timedelta',\n",
       " 'tseries',\n",
       " 'unique',\n",
       " 'util',\n",
       " 'value_counts',\n",
       " 'wide_to_long']"
      ]
     },
     "execution_count": 17,
     "metadata": {},
     "output_type": "execute_result"
    }
   ],
   "source": [
    "dir(pd)"
   ]
  },
  {
   "cell_type": "markdown",
   "metadata": {},
   "source": [
    "- You don't need to remember the whole list, you won't need many of them also\n",
    "- This is just helping you understand what happened when you import something into python"
   ]
  },
  {
   "cell_type": "markdown",
   "metadata": {},
   "source": [
    "## Take home message\n",
    "\n",
    "- Jupyter Notebook uses python interpreter to run python code, just like other ways to run python\n",
    "- A live Jupyter Notebook is a python process\n",
    "- All python variables and modules you created/imported are in the local variables, you can create from one cell, use them in the other cell"
   ]
  }
 ],
 "metadata": {
  "kernelspec": {
   "display_name": "Python 3",
   "language": "python",
   "name": "python3"
  },
  "language_info": {
   "codemirror_mode": {
    "name": "ipython",
    "version": 3
   },
   "file_extension": ".py",
   "mimetype": "text/x-python",
   "name": "python",
   "nbconvert_exporter": "python",
   "pygments_lexer": "ipython3",
   "version": "3.7.6"
  },
  "toc": {
   "base_numbering": 1,
   "nav_menu": {},
   "number_sections": true,
   "sideBar": true,
   "skip_h1_title": true,
   "title_cell": "Table of Contents",
   "title_sidebar": "Contents",
   "toc_cell": false,
   "toc_position": {},
   "toc_section_display": true,
   "toc_window_display": true
  }
 },
 "nbformat": 4,
 "nbformat_minor": 4
}

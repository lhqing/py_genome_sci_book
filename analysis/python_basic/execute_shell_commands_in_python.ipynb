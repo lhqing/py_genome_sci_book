{
 "cells": [
  {
   "cell_type": "markdown",
   "metadata": {},
   "source": [
    "# Execute Shell Commands In Python\n",
    "\n"
   ]
  },
  {
   "cell_type": "markdown",
   "metadata": {},
   "source": [
    "## Execute Shell Commands with '!'"
   ]
  },
  {
   "cell_type": "code",
   "execution_count": 1,
   "metadata": {
    "ExecuteTime": {
     "end_time": "2020-04-25T06:56:44.222657Z",
     "start_time": "2020-04-25T06:56:44.104691Z"
    }
   },
   "outputs": [
    {
     "name": "stdout",
     "output_type": "stream",
     "text": [
      "This is a shell command\r\n"
     ]
    }
   ],
   "source": [
    "# To directly execute shell command in Jupyter Notebook, put a \"!\" before the command\n",
    "!echo This is a shell command"
   ]
  },
  {
   "cell_type": "code",
   "execution_count": 2,
   "metadata": {
    "ExecuteTime": {
     "end_time": "2020-04-25T06:56:45.254443Z",
     "start_time": "2020-04-25T06:56:45.130375Z"
    }
   },
   "outputs": [
    {
     "name": "stdout",
     "output_type": "stream",
     "text": [
      "total 120\r\n",
      "-rw-r--r--  1 hq  staff    31K Apr 24 23:56 execute_shell_commands_in_python.ipynb\r\n",
      "-rw-r--r--  1 hq  staff    26K Apr 23 16:26 explor_jupyter_notebook_environment.ipynb\r\n"
     ]
    }
   ],
   "source": [
    "# another example\n",
    "!ls -lh"
   ]
  },
  {
   "cell_type": "markdown",
   "metadata": {},
   "source": [
    "## Use the magic command to turn the cell into shell cell"
   ]
  },
  {
   "cell_type": "code",
   "execution_count": 3,
   "metadata": {
    "ExecuteTime": {
     "end_time": "2020-04-25T06:56:46.383083Z",
     "start_time": "2020-04-25T06:56:46.367152Z"
    }
   },
   "outputs": [
    {
     "name": "stdout",
     "output_type": "stream",
     "text": [
      "All commands in this cell are considered shell commands\n",
      "total 120\n",
      "-rw-r--r--  1 hq  staff    31K Apr 24 23:56 execute_shell_commands_in_python.ipynb\n",
      "-rw-r--r--  1 hq  staff    26K Apr 23 16:26 explor_jupyter_notebook_environment.ipynb\n",
      "/Users/hq/Documents/pkg/py_genome_sci_book/analysis/python_basic\n"
     ]
    }
   ],
   "source": [
    "%%bash\n",
    "\n",
    "echo All commands in this cell are considered shell commands\n",
    "ls -hl\n",
    "pwd"
   ]
  },
  {
   "cell_type": "markdown",
   "metadata": {},
   "source": [
    "## Subprocess package\n",
    "The subprocess package allows you execute shell commands within python. It provides two API to execute command: `subprocess.run` and `subprocess.Popen`. Here I only introduce you `subprocess.run`, `subprocess.Popen` will be introcduced later in a advanced section, since it is a lower level API."
   ]
  },
  {
   "cell_type": "code",
   "execution_count": 4,
   "metadata": {
    "ExecuteTime": {
     "end_time": "2020-04-25T06:56:47.575828Z",
     "start_time": "2020-04-25T06:56:47.573299Z"
    }
   },
   "outputs": [],
   "source": [
    "# import the run function directly and the PIPE\n",
    "from subprocess import run, PIPE"
   ]
  },
  {
   "cell_type": "code",
   "execution_count": 5,
   "metadata": {
    "ExecuteTime": {
     "end_time": "2020-04-25T06:56:49.185385Z",
     "start_time": "2020-04-25T06:56:48.062519Z"
    }
   },
   "outputs": [],
   "source": [
    "# The sleep command will sleep X seconds before return.\n",
    "# We will use it to mimic any other commands, \n",
    "# you can imaging change the sleep command into any other commands like salmon quant\n",
    "!sleep 1"
   ]
  },
  {
   "cell_type": "markdown",
   "metadata": {},
   "source": [
    "### Run a command just like in the shell"
   ]
  },
  {
   "cell_type": "code",
   "execution_count": 6,
   "metadata": {
    "ExecuteTime": {
     "end_time": "2020-04-25T06:56:50.988620Z",
     "start_time": "2020-04-25T06:56:49.968351Z"
    }
   },
   "outputs": [
    {
     "data": {
      "text/plain": [
       "CompletedProcess(args='sleep 1', returncode=0)"
      ]
     },
     "execution_count": 6,
     "metadata": {},
     "output_type": "execute_result"
    }
   ],
   "source": [
    "return_object = run('sleep 1', shell=True)  # I executed a command here\n",
    "return_object"
   ]
  },
  {
   "cell_type": "markdown",
   "metadata": {},
   "source": [
    "Let's take a look what is returned by the run function"
   ]
  },
  {
   "cell_type": "code",
   "execution_count": 7,
   "metadata": {
    "ExecuteTime": {
     "end_time": "2020-04-25T06:56:51.880462Z",
     "start_time": "2020-04-25T06:56:51.877031Z"
    }
   },
   "outputs": [
    {
     "data": {
      "text/plain": [
       "subprocess.CompletedProcess"
      ]
     },
     "execution_count": 7,
     "metadata": {},
     "output_type": "execute_result"
    }
   ],
   "source": [
    "# it is an instance of the subprocess.CompletedProcess class\n",
    "type(return_object)"
   ]
  },
  {
   "cell_type": "markdown",
   "metadata": {},
   "source": [
    "This subprocess.CompletedProcess class has several methods and attributions you need to know"
   ]
  },
  {
   "cell_type": "code",
   "execution_count": 8,
   "metadata": {
    "ExecuteTime": {
     "end_time": "2020-04-25T06:56:53.239694Z",
     "start_time": "2020-04-25T06:56:53.235662Z"
    }
   },
   "outputs": [
    {
     "name": "stdout",
     "output_type": "stream",
     "text": [
      "args\n",
      "check_returncode\n",
      "returncode\n",
      "stderr\n",
      "stdout\n"
     ]
    }
   ],
   "source": [
    "for i in dir(return_object):\n",
    "    if i.startswith('__'):  \n",
    "        # some methods start with __ is skipped, don't need to understand them here\n",
    "        # we will talk about this in later advanced sections.\n",
    "        continue\n",
    "    print(i)"
   ]
  },
  {
   "cell_type": "markdown",
   "metadata": {},
   "source": [
    "Let's write a function to print them out"
   ]
  },
  {
   "cell_type": "code",
   "execution_count": 9,
   "metadata": {
    "ExecuteTime": {
     "end_time": "2020-04-25T06:56:54.220430Z",
     "start_time": "2020-04-25T06:56:54.217115Z"
    }
   },
   "outputs": [],
   "source": [
    "def print_return_obj(return_obj):\n",
    "    print(f\"\"\"The args was: {return_obj.args}\n",
    "The returncode was: {return_obj.returncode}\n",
    "The stderr information was: {return_obj.stderr}\n",
    "The stdout information was: {return_obj.stdout}\"\"\")"
   ]
  },
  {
   "cell_type": "code",
   "execution_count": 10,
   "metadata": {
    "ExecuteTime": {
     "end_time": "2020-04-25T06:56:54.955165Z",
     "start_time": "2020-04-25T06:56:54.952083Z"
    }
   },
   "outputs": [
    {
     "name": "stdout",
     "output_type": "stream",
     "text": [
      "The args was: sleep 1\n",
      "The returncode was: 0\n",
      "The stderr information was: None\n",
      "The stdout information was: None\n"
     ]
    }
   ],
   "source": [
    "print_return_obj(return_object)"
   ]
  },
  {
   "cell_type": "markdown",
   "metadata": {},
   "source": [
    "## Gather the stdout and stderr"
   ]
  },
  {
   "cell_type": "code",
   "execution_count": 11,
   "metadata": {
    "ExecuteTime": {
     "end_time": "2020-04-25T06:56:57.114423Z",
     "start_time": "2020-04-25T06:56:55.993098Z"
    }
   },
   "outputs": [
    {
     "name": "stdout",
     "output_type": "stream",
     "text": [
      "some stdout information\r\n",
      "some stderr information\r\n"
     ]
    }
   ],
   "source": [
    "# now let's use a compound command that print something into stderr and stdout\n",
    "\n",
    "# There are three commands: \n",
    "# 1. sleep 1 sec so you feel it running\n",
    "# 2. echo something into stdout, the \">&1\" redirect information into stdout\n",
    "# 3. echo something into stderr, the \">&2\" redirect information into stderr\n",
    "\n",
    "!sleep 1; echo \"some stdout information\" >&1; echo \"some stderr information\" >&2"
   ]
  },
  {
   "cell_type": "markdown",
   "metadata": {},
   "source": [
    "### By default, stdout and stderr is not captured"
   ]
  },
  {
   "cell_type": "code",
   "execution_count": 12,
   "metadata": {
    "ExecuteTime": {
     "end_time": "2020-04-25T06:56:57.989509Z",
     "start_time": "2020-04-25T06:56:57.986811Z"
    }
   },
   "outputs": [],
   "source": [
    "three_command = 'sleep 1; echo \"some stdout information\" >&1; echo \"some stderr information\" >&2'"
   ]
  },
  {
   "cell_type": "markdown",
   "metadata": {},
   "source": [
    "If you execute the command use run() like this, you will not see any stdout and stderr"
   ]
  },
  {
   "cell_type": "code",
   "execution_count": 13,
   "metadata": {
    "ExecuteTime": {
     "end_time": "2020-04-25T06:57:00.749902Z",
     "start_time": "2020-04-25T06:56:59.734963Z"
    }
   },
   "outputs": [
    {
     "name": "stdout",
     "output_type": "stream",
     "text": [
      "The args was: sleep 1; echo \"some stdout information\" >&1; echo \"some stderr information\" >&2\n",
      "The returncode was: 0\n",
      "The stderr information was: None\n",
      "The stdout information was: None\n"
     ]
    }
   ],
   "source": [
    "return_obj = run(three_command, shell=True)\n",
    "print_return_obj(return_obj)"
   ]
  },
  {
   "cell_type": "markdown",
   "metadata": {},
   "source": [
    "### Capture the stderr or stdout with PIPE"
   ]
  },
  {
   "cell_type": "code",
   "execution_count": 14,
   "metadata": {
    "ExecuteTime": {
     "end_time": "2020-04-25T06:57:03.673913Z",
     "start_time": "2020-04-25T06:57:02.657020Z"
    }
   },
   "outputs": [
    {
     "name": "stdout",
     "output_type": "stream",
     "text": [
      "The args was: sleep 1; echo \"some stdout information\" >&1; echo \"some stderr information\" >&2\n",
      "The returncode was: 0\n",
      "The stderr information was: b'some stderr information\\n'\n",
      "The stdout information was: b'some stdout information\\n'\n"
     ]
    }
   ],
   "source": [
    "return_obj = run(three_command, shell=True, stderr=PIPE, stdout=PIPE)\n",
    "print_return_obj(return_obj)"
   ]
  },
  {
   "cell_type": "markdown",
   "metadata": {},
   "source": [
    "Now you can see the information, but the stdout and stderr are bytes but not string"
   ]
  },
  {
   "cell_type": "code",
   "execution_count": 15,
   "metadata": {
    "ExecuteTime": {
     "end_time": "2020-04-25T06:57:04.772926Z",
     "start_time": "2020-04-25T06:57:04.768735Z"
    }
   },
   "outputs": [
    {
     "data": {
      "text/plain": [
       "bytes"
      ]
     },
     "execution_count": 15,
     "metadata": {},
     "output_type": "execute_result"
    }
   ],
   "source": [
    "type(return_obj.stderr)"
   ]
  },
  {
   "cell_type": "markdown",
   "metadata": {},
   "source": [
    "To get string, you can provide a encode parameter, remember I explained bytes vs string in the [File I/O page](https://hq-1.gitbook.io/essential-python-for-genome-science/data-cleaning/file-i-o)."
   ]
  },
  {
   "cell_type": "code",
   "execution_count": 16,
   "metadata": {
    "ExecuteTime": {
     "end_time": "2020-04-25T06:57:07.119898Z",
     "start_time": "2020-04-25T06:57:06.107235Z"
    }
   },
   "outputs": [
    {
     "name": "stdout",
     "output_type": "stream",
     "text": [
      "The args was: sleep 1; echo \"some stdout information\" >&1; echo \"some stderr information\" >&2\n",
      "The returncode was: 0\n",
      "The stderr information was: some stderr information\n",
      "\n",
      "The stdout information was: some stdout information\n",
      "\n"
     ]
    }
   ],
   "source": [
    "return_obj = run(three_command, shell=True, \n",
    "                 stderr=PIPE, stdout=PIPE, encoding='utf8')\n",
    "print_return_obj(return_obj)"
   ]
  },
  {
   "cell_type": "code",
   "execution_count": 17,
   "metadata": {
    "ExecuteTime": {
     "end_time": "2020-04-25T06:57:07.619851Z",
     "start_time": "2020-04-25T06:57:07.616097Z"
    }
   },
   "outputs": [
    {
     "data": {
      "text/plain": [
       "str"
      ]
     },
     "execution_count": 17,
     "metadata": {},
     "output_type": "execute_result"
    }
   ],
   "source": [
    "type(return_obj.stderr)"
   ]
  },
  {
   "cell_type": "markdown",
   "metadata": {},
   "source": [
    "## Check return code\n",
    "\n",
    "The definition of \"success\" based on return code is very simple, if return code is 0, the command is successfully finished, otherwise, it's failed. \n",
    "\n",
    "By default, subprocess.run will not raise any error if the command has non-zero return code, however, you can change this by set check=True"
   ]
  },
  {
   "cell_type": "code",
   "execution_count": 18,
   "metadata": {
    "ExecuteTime": {
     "end_time": "2020-04-25T06:57:09.710468Z",
     "start_time": "2020-04-25T06:57:08.697408Z"
    }
   },
   "outputs": [
    {
     "name": "stdout",
     "output_type": "stream",
     "text": [
      "The args was: sleep 1; exit 1\n",
      "The returncode was: 1\n",
      "The stderr information was: \n",
      "The stdout information was: \n"
     ]
    }
   ],
   "source": [
    "# In this command, I deliberately return a non-zero return code\n",
    "non_zero_return_code_command = 'sleep 1; exit 1'\n",
    "\n",
    "return_obj = run(non_zero_return_code_command, shell=True, \n",
    "                 stderr=PIPE, stdout=PIPE, encoding='utf8')\n",
    "print_return_obj(return_obj)\n",
    "\n",
    "# there is no error, because check=False by default. But the returncode was 1"
   ]
  },
  {
   "cell_type": "code",
   "execution_count": 19,
   "metadata": {
    "ExecuteTime": {
     "end_time": "2020-04-25T06:57:11.374348Z",
     "start_time": "2020-04-25T06:57:10.258945Z"
    }
   },
   "outputs": [
    {
     "ename": "CalledProcessError",
     "evalue": "Command 'sleep 1; exit 1' returned non-zero exit status 1.",
     "output_type": "error",
     "traceback": [
      "\u001b[0;31m---------------------------------------------------------------------------\u001b[0m",
      "\u001b[0;31mCalledProcessError\u001b[0m                        Traceback (most recent call last)",
      "\u001b[0;32m<ipython-input-19-19f898662288>\u001b[0m in \u001b[0;36m<module>\u001b[0;34m\u001b[0m\n\u001b[1;32m      2\u001b[0m \u001b[0;34m\u001b[0m\u001b[0m\n\u001b[1;32m      3\u001b[0m return_obj = run(non_zero_return_code_command, shell=True, check=True,\n\u001b[0;32m----> 4\u001b[0;31m                  stderr=PIPE, stdout=PIPE, encoding='utf8')\n\u001b[0m\u001b[1;32m      5\u001b[0m \u001b[0mprint_return_obj\u001b[0m\u001b[0;34m(\u001b[0m\u001b[0mreturn_obj\u001b[0m\u001b[0;34m)\u001b[0m\u001b[0;34m\u001b[0m\u001b[0;34m\u001b[0m\u001b[0m\n\u001b[1;32m      6\u001b[0m \u001b[0;34m\u001b[0m\u001b[0m\n",
      "\u001b[0;32m~/miniconda3/envs/genome_book/lib/python3.7/subprocess.py\u001b[0m in \u001b[0;36mrun\u001b[0;34m(input, capture_output, timeout, check, *popenargs, **kwargs)\u001b[0m\n\u001b[1;32m    510\u001b[0m         \u001b[0;32mif\u001b[0m \u001b[0mcheck\u001b[0m \u001b[0;32mand\u001b[0m \u001b[0mretcode\u001b[0m\u001b[0;34m:\u001b[0m\u001b[0;34m\u001b[0m\u001b[0;34m\u001b[0m\u001b[0m\n\u001b[1;32m    511\u001b[0m             raise CalledProcessError(retcode, process.args,\n\u001b[0;32m--> 512\u001b[0;31m                                      output=stdout, stderr=stderr)\n\u001b[0m\u001b[1;32m    513\u001b[0m     \u001b[0;32mreturn\u001b[0m \u001b[0mCompletedProcess\u001b[0m\u001b[0;34m(\u001b[0m\u001b[0mprocess\u001b[0m\u001b[0;34m.\u001b[0m\u001b[0margs\u001b[0m\u001b[0;34m,\u001b[0m \u001b[0mretcode\u001b[0m\u001b[0;34m,\u001b[0m \u001b[0mstdout\u001b[0m\u001b[0;34m,\u001b[0m \u001b[0mstderr\u001b[0m\u001b[0;34m)\u001b[0m\u001b[0;34m\u001b[0m\u001b[0;34m\u001b[0m\u001b[0m\n\u001b[1;32m    514\u001b[0m \u001b[0;34m\u001b[0m\u001b[0m\n",
      "\u001b[0;31mCalledProcessError\u001b[0m: Command 'sleep 1; exit 1' returned non-zero exit status 1."
     ]
    }
   ],
   "source": [
    "# If we add check=True\n",
    "\n",
    "return_obj = run(non_zero_return_code_command, shell=True, check=True,\n",
    "                 stderr=PIPE, stdout=PIPE, encoding='utf8')\n",
    "print_return_obj(return_obj)\n",
    "\n",
    "# we got a CalledProcessError, and you know the command failed."
   ]
  },
  {
   "cell_type": "markdown",
   "metadata": {},
   "source": [
    "### Use try except to catch the error and do something arround it\n",
    "\n",
    "When you got an error, its not the end of the world. You can catch the error and do something to deal with it, for example, try rerun the command automatically, or delete the temporary files to prevent leaving incomplete results"
   ]
  },
  {
   "cell_type": "code",
   "execution_count": 20,
   "metadata": {
    "ExecuteTime": {
     "end_time": "2020-04-25T06:57:15.409253Z",
     "start_time": "2020-04-25T06:57:14.372128Z"
    }
   },
   "outputs": [
    {
     "name": "stdout",
     "output_type": "stream",
     "text": [
      "The command has returncode: 1\n",
      "Now we can do something about this error, like delete temporary files or try rerun it.\n",
      "Once you done the clean up, you can still raise the error to alert users\n"
     ]
    },
    {
     "ename": "CalledProcessError",
     "evalue": "Command 'sleep 1; exit 1' returned non-zero exit status 1.",
     "output_type": "error",
     "traceback": [
      "\u001b[0;31m---------------------------------------------------------------------------\u001b[0m",
      "\u001b[0;31mCalledProcessError\u001b[0m                        Traceback (most recent call last)",
      "\u001b[0;32m<ipython-input-20-509b6062cccc>\u001b[0m in \u001b[0;36m<module>\u001b[0;34m\u001b[0m\n\u001b[1;32m     11\u001b[0m     \u001b[0mprint\u001b[0m\u001b[0;34m(\u001b[0m\u001b[0;34m'Now we can do something about this error, like delete temporary files or try rerun it.'\u001b[0m\u001b[0;34m)\u001b[0m\u001b[0;34m\u001b[0m\u001b[0;34m\u001b[0m\u001b[0m\n\u001b[1;32m     12\u001b[0m     \u001b[0mprint\u001b[0m\u001b[0;34m(\u001b[0m\u001b[0;34m'Once you done the clean up, you can still raise the error to alert users'\u001b[0m\u001b[0;34m)\u001b[0m\u001b[0;34m\u001b[0m\u001b[0;34m\u001b[0m\u001b[0m\n\u001b[0;32m---> 13\u001b[0;31m     \u001b[0;32mraise\u001b[0m \u001b[0merror\u001b[0m\u001b[0;34m\u001b[0m\u001b[0;34m\u001b[0m\u001b[0m\n\u001b[0m",
      "\u001b[0;32m<ipython-input-20-509b6062cccc>\u001b[0m in \u001b[0;36m<module>\u001b[0;34m\u001b[0m\n\u001b[1;32m      4\u001b[0m \u001b[0;32mtry\u001b[0m\u001b[0;34m:\u001b[0m\u001b[0;34m\u001b[0m\u001b[0;34m\u001b[0m\u001b[0m\n\u001b[1;32m      5\u001b[0m     return_obj = run(non_zero_return_code_command, shell=True, check=True,\n\u001b[0;32m----> 6\u001b[0;31m                  stderr=PIPE, stdout=PIPE, encoding='utf8')\n\u001b[0m\u001b[1;32m      7\u001b[0m     \u001b[0mprint_return_obj\u001b[0m\u001b[0;34m(\u001b[0m\u001b[0mreturn_obj\u001b[0m\u001b[0;34m)\u001b[0m\u001b[0;34m\u001b[0m\u001b[0;34m\u001b[0m\u001b[0m\n\u001b[1;32m      8\u001b[0m \u001b[0;32mexcept\u001b[0m \u001b[0mCalledProcessError\u001b[0m \u001b[0;32mas\u001b[0m \u001b[0merror\u001b[0m\u001b[0;34m:\u001b[0m\u001b[0;34m\u001b[0m\u001b[0;34m\u001b[0m\u001b[0m\n",
      "\u001b[0;32m~/miniconda3/envs/genome_book/lib/python3.7/subprocess.py\u001b[0m in \u001b[0;36mrun\u001b[0;34m(input, capture_output, timeout, check, *popenargs, **kwargs)\u001b[0m\n\u001b[1;32m    510\u001b[0m         \u001b[0;32mif\u001b[0m \u001b[0mcheck\u001b[0m \u001b[0;32mand\u001b[0m \u001b[0mretcode\u001b[0m\u001b[0;34m:\u001b[0m\u001b[0;34m\u001b[0m\u001b[0;34m\u001b[0m\u001b[0m\n\u001b[1;32m    511\u001b[0m             raise CalledProcessError(retcode, process.args,\n\u001b[0;32m--> 512\u001b[0;31m                                      output=stdout, stderr=stderr)\n\u001b[0m\u001b[1;32m    513\u001b[0m     \u001b[0;32mreturn\u001b[0m \u001b[0mCompletedProcess\u001b[0m\u001b[0;34m(\u001b[0m\u001b[0mprocess\u001b[0m\u001b[0;34m.\u001b[0m\u001b[0margs\u001b[0m\u001b[0;34m,\u001b[0m \u001b[0mretcode\u001b[0m\u001b[0;34m,\u001b[0m \u001b[0mstdout\u001b[0m\u001b[0;34m,\u001b[0m \u001b[0mstderr\u001b[0m\u001b[0;34m)\u001b[0m\u001b[0;34m\u001b[0m\u001b[0;34m\u001b[0m\u001b[0m\n\u001b[1;32m    514\u001b[0m \u001b[0;34m\u001b[0m\u001b[0m\n",
      "\u001b[0;31mCalledProcessError\u001b[0m: Command 'sleep 1; exit 1' returned non-zero exit status 1."
     ]
    }
   ],
   "source": [
    "# In order to catch this special error defined in the subprocess package, you need to import it first\n",
    "from subprocess import CalledProcessError\n",
    "\n",
    "try:\n",
    "    return_obj = run(non_zero_return_code_command, shell=True, check=True,\n",
    "                 stderr=PIPE, stdout=PIPE, encoding='utf8')\n",
    "    print_return_obj(return_obj)\n",
    "except CalledProcessError as error:\n",
    "    # the error also contain informations about the process\n",
    "    print('The command has returncode:', error.returncode)\n",
    "    print('Now we can do something about this error, like delete temporary files or try rerun it.')\n",
    "    print('Once you done the clean up, you can still raise the error to alert users')\n",
    "    raise error\n"
   ]
  },
  {
   "cell_type": "markdown",
   "metadata": {},
   "source": [
    "## Provide command list when shell=False\n",
    "\n",
    "All the above commands are provided as a string, and I set the shell=True. This is actually not the default way to use run(). The default way to use run() is shell=False, and you have to provide the command as a list but not string"
   ]
  },
  {
   "cell_type": "code",
   "execution_count": 21,
   "metadata": {
    "ExecuteTime": {
     "end_time": "2020-04-25T06:57:17.033411Z",
     "start_time": "2020-04-25T06:57:17.016497Z"
    }
   },
   "outputs": [
    {
     "ename": "FileNotFoundError",
     "evalue": "[Errno 2] No such file or directory: 'sleep 1': 'sleep 1'",
     "output_type": "error",
     "traceback": [
      "\u001b[0;31m---------------------------------------------------------------------------\u001b[0m",
      "\u001b[0;31mFileNotFoundError\u001b[0m                         Traceback (most recent call last)",
      "\u001b[0;32m<ipython-input-21-e47a58e22944>\u001b[0m in \u001b[0;36m<module>\u001b[0;34m\u001b[0m\n\u001b[1;32m      3\u001b[0m \u001b[0;31m# we set shell=False, which is the default\u001b[0m\u001b[0;34m\u001b[0m\u001b[0;34m\u001b[0m\u001b[0;34m\u001b[0m\u001b[0m\n\u001b[1;32m      4\u001b[0m return_obj = run(simple_command, shell=False, check=True,\n\u001b[0;32m----> 5\u001b[0;31m                  stderr=PIPE, stdout=PIPE, encoding='utf8')\n\u001b[0m\u001b[1;32m      6\u001b[0m \u001b[0mprint_return_obj\u001b[0m\u001b[0;34m(\u001b[0m\u001b[0mreturn_obj\u001b[0m\u001b[0;34m)\u001b[0m\u001b[0;34m\u001b[0m\u001b[0;34m\u001b[0m\u001b[0m\n\u001b[1;32m      7\u001b[0m \u001b[0;34m\u001b[0m\u001b[0m\n",
      "\u001b[0;32m~/miniconda3/envs/genome_book/lib/python3.7/subprocess.py\u001b[0m in \u001b[0;36mrun\u001b[0;34m(input, capture_output, timeout, check, *popenargs, **kwargs)\u001b[0m\n\u001b[1;32m    486\u001b[0m         \u001b[0mkwargs\u001b[0m\u001b[0;34m[\u001b[0m\u001b[0;34m'stderr'\u001b[0m\u001b[0;34m]\u001b[0m \u001b[0;34m=\u001b[0m \u001b[0mPIPE\u001b[0m\u001b[0;34m\u001b[0m\u001b[0;34m\u001b[0m\u001b[0m\n\u001b[1;32m    487\u001b[0m \u001b[0;34m\u001b[0m\u001b[0m\n\u001b[0;32m--> 488\u001b[0;31m     \u001b[0;32mwith\u001b[0m \u001b[0mPopen\u001b[0m\u001b[0;34m(\u001b[0m\u001b[0;34m*\u001b[0m\u001b[0mpopenargs\u001b[0m\u001b[0;34m,\u001b[0m \u001b[0;34m**\u001b[0m\u001b[0mkwargs\u001b[0m\u001b[0;34m)\u001b[0m \u001b[0;32mas\u001b[0m \u001b[0mprocess\u001b[0m\u001b[0;34m:\u001b[0m\u001b[0;34m\u001b[0m\u001b[0;34m\u001b[0m\u001b[0m\n\u001b[0m\u001b[1;32m    489\u001b[0m         \u001b[0;32mtry\u001b[0m\u001b[0;34m:\u001b[0m\u001b[0;34m\u001b[0m\u001b[0;34m\u001b[0m\u001b[0m\n\u001b[1;32m    490\u001b[0m             \u001b[0mstdout\u001b[0m\u001b[0;34m,\u001b[0m \u001b[0mstderr\u001b[0m \u001b[0;34m=\u001b[0m \u001b[0mprocess\u001b[0m\u001b[0;34m.\u001b[0m\u001b[0mcommunicate\u001b[0m\u001b[0;34m(\u001b[0m\u001b[0minput\u001b[0m\u001b[0;34m,\u001b[0m \u001b[0mtimeout\u001b[0m\u001b[0;34m=\u001b[0m\u001b[0mtimeout\u001b[0m\u001b[0;34m)\u001b[0m\u001b[0;34m\u001b[0m\u001b[0;34m\u001b[0m\u001b[0m\n",
      "\u001b[0;32m~/miniconda3/envs/genome_book/lib/python3.7/subprocess.py\u001b[0m in \u001b[0;36m__init__\u001b[0;34m(self, args, bufsize, executable, stdin, stdout, stderr, preexec_fn, close_fds, shell, cwd, env, universal_newlines, startupinfo, creationflags, restore_signals, start_new_session, pass_fds, encoding, errors, text)\u001b[0m\n\u001b[1;32m    798\u001b[0m                                 \u001b[0mc2pread\u001b[0m\u001b[0;34m,\u001b[0m \u001b[0mc2pwrite\u001b[0m\u001b[0;34m,\u001b[0m\u001b[0;34m\u001b[0m\u001b[0;34m\u001b[0m\u001b[0m\n\u001b[1;32m    799\u001b[0m                                 \u001b[0merrread\u001b[0m\u001b[0;34m,\u001b[0m \u001b[0merrwrite\u001b[0m\u001b[0;34m,\u001b[0m\u001b[0;34m\u001b[0m\u001b[0;34m\u001b[0m\u001b[0m\n\u001b[0;32m--> 800\u001b[0;31m                                 restore_signals, start_new_session)\n\u001b[0m\u001b[1;32m    801\u001b[0m         \u001b[0;32mexcept\u001b[0m\u001b[0;34m:\u001b[0m\u001b[0;34m\u001b[0m\u001b[0;34m\u001b[0m\u001b[0m\n\u001b[1;32m    802\u001b[0m             \u001b[0;31m# Cleanup if the child failed starting.\u001b[0m\u001b[0;34m\u001b[0m\u001b[0;34m\u001b[0m\u001b[0;34m\u001b[0m\u001b[0m\n",
      "\u001b[0;32m~/miniconda3/envs/genome_book/lib/python3.7/subprocess.py\u001b[0m in \u001b[0;36m_execute_child\u001b[0;34m(self, args, executable, preexec_fn, close_fds, pass_fds, cwd, env, startupinfo, creationflags, shell, p2cread, p2cwrite, c2pread, c2pwrite, errread, errwrite, restore_signals, start_new_session)\u001b[0m\n\u001b[1;32m   1549\u001b[0m                         \u001b[0;32mif\u001b[0m \u001b[0merrno_num\u001b[0m \u001b[0;34m==\u001b[0m \u001b[0merrno\u001b[0m\u001b[0;34m.\u001b[0m\u001b[0mENOENT\u001b[0m\u001b[0;34m:\u001b[0m\u001b[0;34m\u001b[0m\u001b[0;34m\u001b[0m\u001b[0m\n\u001b[1;32m   1550\u001b[0m                             \u001b[0merr_msg\u001b[0m \u001b[0;34m+=\u001b[0m \u001b[0;34m': '\u001b[0m \u001b[0;34m+\u001b[0m \u001b[0mrepr\u001b[0m\u001b[0;34m(\u001b[0m\u001b[0merr_filename\u001b[0m\u001b[0;34m)\u001b[0m\u001b[0;34m\u001b[0m\u001b[0;34m\u001b[0m\u001b[0m\n\u001b[0;32m-> 1551\u001b[0;31m                     \u001b[0;32mraise\u001b[0m \u001b[0mchild_exception_type\u001b[0m\u001b[0;34m(\u001b[0m\u001b[0merrno_num\u001b[0m\u001b[0;34m,\u001b[0m \u001b[0merr_msg\u001b[0m\u001b[0;34m,\u001b[0m \u001b[0merr_filename\u001b[0m\u001b[0;34m)\u001b[0m\u001b[0;34m\u001b[0m\u001b[0;34m\u001b[0m\u001b[0m\n\u001b[0m\u001b[1;32m   1552\u001b[0m                 \u001b[0;32mraise\u001b[0m \u001b[0mchild_exception_type\u001b[0m\u001b[0;34m(\u001b[0m\u001b[0merr_msg\u001b[0m\u001b[0;34m)\u001b[0m\u001b[0;34m\u001b[0m\u001b[0;34m\u001b[0m\u001b[0m\n\u001b[1;32m   1553\u001b[0m \u001b[0;34m\u001b[0m\u001b[0m\n",
      "\u001b[0;31mFileNotFoundError\u001b[0m: [Errno 2] No such file or directory: 'sleep 1': 'sleep 1'"
     ]
    }
   ],
   "source": [
    "simple_command = 'sleep 1'\n",
    "\n",
    "# we set shell=False, which is the default\n",
    "return_obj = run(simple_command, shell=False, check=True,\n",
    "                 stderr=PIPE, stdout=PIPE, encoding='utf8')\n",
    "print_return_obj(return_obj)\n",
    "\n",
    "# This error is not really about \"FileNotFoundError\", but becuase the command was not parsed correctly. \n",
    "# When shell=False, the run() expect command provided as a list"
   ]
  },
  {
   "cell_type": "code",
   "execution_count": 22,
   "metadata": {
    "ExecuteTime": {
     "end_time": "2020-04-25T06:57:18.860194Z",
     "start_time": "2020-04-25T06:57:17.845950Z"
    }
   },
   "outputs": [
    {
     "name": "stdout",
     "output_type": "stream",
     "text": [
      "The args was: ['sleep', '1']\n",
      "The returncode was: 0\n",
      "The stderr information was: \n",
      "The stdout information was: \n"
     ]
    }
   ],
   "source": [
    "simple_command_list = ['sleep', '1']\n",
    "\n",
    "return_obj = run(simple_command_list, shell=False, check=True,\n",
    "                 stderr=PIPE, stdout=PIPE, encoding='utf8')\n",
    "print_return_obj(return_obj)\n",
    "\n",
    "# Now it's OK"
   ]
  },
  {
   "cell_type": "markdown",
   "metadata": {},
   "source": [
    "## OPTIONAL - Why the shell=False is default?"
   ]
  },
  {
   "cell_type": "markdown",
   "metadata": {},
   "source": [
    "The reason shell=False is default is due to some [security considerations](https://docs.python.org/3.8/library/subprocess.html#security-considerations). This is something package developer need to pay attention, however, if you only execute some code that you generated by yourself, it's OK to use shell=True. But following the python official documentation may also be a good choice, it just needs you provide your command as a list."
   ]
  },
  {
   "cell_type": "markdown",
   "metadata": {},
   "source": [
    "Another drawback with shell=False is that you can not use the UNIX pipe or redirect like the example above. In order to use them, you need use the lower level API subprocee.Popen, which will be explained in a later section. \n",
    "\n",
    "Or, you need to set shell=True."
   ]
  },
  {
   "cell_type": "code",
   "execution_count": 27,
   "metadata": {
    "ExecuteTime": {
     "end_time": "2020-04-25T07:01:11.440776Z",
     "start_time": "2020-04-25T07:01:11.430244Z"
    }
   },
   "outputs": [
    {
     "name": "stdout",
     "output_type": "stream",
     "text": [
      "The args was: ['echo', 'some stderr information', '>&2']\n",
      "The returncode was: 0\n",
      "The stderr information was: \n",
      "The stdout information was: some stderr information >&2\n",
      "\n"
     ]
    }
   ],
   "source": [
    "import shlex  # shlex.split is a clever spliter for shell command\n",
    "\n",
    "command_with_redirect = 'echo \"some stderr information\" >&2'\n",
    "return_obj = run(shlex.split(command_with_redirect), shell=False, check=True,\n",
    "                 stderr=PIPE, stdout=PIPE, encoding='utf8')  # shlex.split is a clever spliter for shell command\n",
    "print_return_obj(return_obj)\n",
    "\n",
    "# the output should be in stderr, this is not correct result.\n",
    "# Because run() do not support redirect like this when shell=False"
   ]
  },
  {
   "cell_type": "code",
   "execution_count": 28,
   "metadata": {
    "ExecuteTime": {
     "end_time": "2020-04-25T07:01:11.984036Z",
     "start_time": "2020-04-25T07:01:11.974382Z"
    }
   },
   "outputs": [
    {
     "name": "stdout",
     "output_type": "stream",
     "text": [
      "The args was: echo \"some stderr information\" >&2\n",
      "The returncode was: 0\n",
      "The stderr information was: some stderr information\n",
      "\n",
      "The stdout information was: \n"
     ]
    }
   ],
   "source": [
    "# if shell=True\n",
    "return_obj = run(command_with_redirect, shell=True, check=True,\n",
    "                 stderr=PIPE, stdout=PIPE, encoding='utf8')  # shlex.split is a clever spliter for shell command\n",
    "print_return_obj(return_obj)\n",
    "\n",
    "# see the difference? The information is printed out in stderr but not stdout"
   ]
  },
  {
   "cell_type": "markdown",
   "metadata": {},
   "source": [
    "## Take home message\n",
    "\n",
    "- subprocess.run() is the most common API for running shell command in python.\n",
    "- set stderr=PIPE and stdout=PIPE to capture the information printed in these two system file handles\n",
    "- set encoding='utf8' to make sure you got string but not bytes from stderr and stdout\n",
    "- Returncode == 0 means job succeed, otherwise means failure. If check=True, non-zero return code triggers subprocess.CalledProcessError\n",
    "- Try ... Except ... allows you catch an error and deal with it\n",
    "- By default, shell=False and you need to provide command as a list, redirct and pipe will not work.\n",
    "- When shell=True, you can provide command as a string and any command works just like in shell"
   ]
  },
  {
   "cell_type": "code",
   "execution_count": null,
   "metadata": {},
   "outputs": [],
   "source": []
  },
  {
   "cell_type": "code",
   "execution_count": null,
   "metadata": {},
   "outputs": [],
   "source": []
  },
  {
   "cell_type": "code",
   "execution_count": null,
   "metadata": {},
   "outputs": [],
   "source": []
  },
  {
   "cell_type": "code",
   "execution_count": null,
   "metadata": {},
   "outputs": [],
   "source": []
  },
  {
   "cell_type": "code",
   "execution_count": null,
   "metadata": {},
   "outputs": [],
   "source": []
  }
 ],
 "metadata": {
  "kernelspec": {
   "display_name": "Python 3",
   "language": "python",
   "name": "python3"
  },
  "language_info": {
   "codemirror_mode": {
    "name": "ipython",
    "version": 3
   },
   "file_extension": ".py",
   "mimetype": "text/x-python",
   "name": "python",
   "nbconvert_exporter": "python",
   "pygments_lexer": "ipython3",
   "version": "3.7.6"
  },
  "toc": {
   "base_numbering": 1,
   "nav_menu": {},
   "number_sections": true,
   "sideBar": true,
   "skip_h1_title": true,
   "title_cell": "Table of Contents",
   "title_sidebar": "Contents",
   "toc_cell": false,
   "toc_position": {},
   "toc_section_display": true,
   "toc_window_display": true
  }
 },
 "nbformat": 4,
 "nbformat_minor": 4
}

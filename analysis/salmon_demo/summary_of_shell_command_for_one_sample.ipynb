{
 "cells": [
  {
   "cell_type": "markdown",
   "metadata": {},
   "source": [
    "# Summary of Shell Command For One Sample"
   ]
  },
  {
   "cell_type": "markdown",
   "metadata": {},
   "source": [
    "## Step1\n",
    "\n",
    "```{shell}\n",
    "# Generate Salmon Index\n",
    "\n",
    "wget ftp://ftp.ebi.ac.uk/pub/databases/gencode/Gencode_mouse/release_M25/gencode.vM25.transcripts.fa.gz\n",
    "salmon index -t gencode.vM25.transcripts.fa.gz -p 4 -i ./data/salmon_index --gencode\n",
    "```"
   ]
  },
  {
   "cell_type": "markdown",
   "metadata": {},
   "source": [
    "## Step2\n",
    "\n",
    "```{shell}\n",
    "# create soft link\n",
    "ln -s /Users/hq/Documents/pkg/py_genome_sci_book/analysis/salmon_demo/data/small_fastq/ENCFF114DRT.fastq.gz ./data/fastq/forebrain_E16.5_2_ENCFF114DRT.fastq.gz\n",
    "```"
   ]
  },
  {
   "cell_type": "markdown",
   "metadata": {},
   "source": [
    "## Step3\n",
    "\n",
    "```{shell}\n",
    "# trim fastq\n",
    "/Users/hq/Documents/pkg/TrimGalore-0.6.5/trim_galore /Users/hq/Documents/pkg/py_genome_sci_book/analysis/salmon_demo/data/fastq/forebrain_E16.5_2_ENCFF114DRT.fastq.gz --fastqc -o /Users/hq/Documents/pkg/py_genome_sci_book/analysis/salmon_demo/data/fastq/trimmed\n",
    "```"
   ]
  },
  {
   "cell_type": "markdown",
   "metadata": {},
   "source": [
    "## Step4\n",
    "\n",
    "```{shell}\n",
    "# salmon quant\n",
    "salmon quant -i /Users/hq/Documents/pkg/py_genome_sci_book/analysis/salmon_demo/data/salmon_index -l A -r /Users/hq/Documents/pkg/py_genome_sci_book/analysis/salmon_demo/data/fastq/trimmed/forebrain_E16.5_2_ENCFF114DRT_trimmed.fq.gz --threads 4 --validateMappings -o /Users/hq/Documents/pkg/py_genome_sci_book/analysis/salmon_demo/data/quant/forebrain_E16.5_2.quant\n",
    "```"
   ]
  }
 ],
 "metadata": {
  "kernelspec": {
   "display_name": "Python 3",
   "language": "python",
   "name": "python3"
  },
  "language_info": {
   "codemirror_mode": {
    "name": "ipython",
    "version": 3
   },
   "file_extension": ".py",
   "mimetype": "text/x-python",
   "name": "python",
   "nbconvert_exporter": "python",
   "pygments_lexer": "ipython3",
   "version": "3.7.6"
  },
  "toc": {
   "base_numbering": 1,
   "nav_menu": {},
   "number_sections": true,
   "sideBar": true,
   "skip_h1_title": true,
   "title_cell": "Table of Contents",
   "title_sidebar": "Contents",
   "toc_cell": false,
   "toc_position": {},
   "toc_section_display": true,
   "toc_window_display": true
  }
 },
 "nbformat": 4,
 "nbformat_minor": 4
}

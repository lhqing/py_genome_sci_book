{
 "cells": [
  {
   "cell_type": "markdown",
   "metadata": {},
   "source": [
    "# Build Salmon Index with GENCODE"
   ]
  },
  {
   "cell_type": "markdown",
   "metadata": {},
   "source": [
    "# In salmon documentation, it provided a tutorial for building decoy awared reference index, you should do so in real analysis. But here for the demo purpose, I will simply use the transcripts only to make the indexing process faster\n",
    "\n",
    "See salmon tutorial here: https://combine-lab.github.io/alevin-tutorial/2019/selective-alignment/"
   ]
  },
  {
   "cell_type": "markdown",
   "metadata": {
    "ExecuteTime": {
     "end_time": "2020-05-20T21:36:21.944179Z",
     "start_time": "2020-05-20T21:36:21.918313Z"
    }
   },
   "source": [
    "## Download GENCODE vm25 transcript FASTA file\n",
    "- See this link: https://www.gencodegenes.org/mouse/\n",
    "- The tutorial is about mouse, but you can download Human files here: ftp://ftp.ebi.ac.uk/pub/databases/gencode/Gencode_human/release_34/"
   ]
  },
  {
   "cell_type": "code",
   "execution_count": 1,
   "metadata": {
    "ExecuteTime": {
     "end_time": "2020-05-20T21:36:21.893386Z",
     "start_time": "2020-05-20T21:32:55.364611Z"
    }
   },
   "outputs": [
    {
     "name": "stdout",
     "output_type": "stream",
     "text": [
      "--2020-05-20 14:32:55--  ftp://ftp.ebi.ac.uk/pub/databases/gencode/Gencode_mouse/release_M25/gencode.vM25.transcripts.fa.gz\n",
      "           => ‘gencode.vM25.transcripts.fa.gz’\n",
      "Resolving ftp.ebi.ac.uk (ftp.ebi.ac.uk)... 193.62.193.138\n",
      "Connecting to ftp.ebi.ac.uk (ftp.ebi.ac.uk)|193.62.193.138|:21... connected.\n",
      "Logging in as anonymous ... Logged in!\n",
      "==> SYST ... done.    ==> PWD ... done.\n",
      "==> TYPE I ... done.  ==> CWD (1) /pub/databases/gencode/Gencode_mouse/release_M25 ... done.\n",
      "==> SIZE gencode.vM25.transcripts.fa.gz ... 54587418\n",
      "==> PASV ... done.    ==> RETR gencode.vM25.transcripts.fa.gz ... done.\n",
      "Length: 54587418 (52M) (unauthoritative)\n",
      "\n",
      "gencode.vM25.transc 100%[===================>]  52.06M   308KB/s    in 3m 23s  \n",
      "\n",
      "2020-05-20 14:36:21 (263 KB/s) - ‘gencode.vM25.transcripts.fa.gz’ saved [54587418]\n",
      "\n"
     ]
    }
   ],
   "source": [
    "!wget ftp://ftp.ebi.ac.uk/pub/databases/gencode/Gencode_mouse/release_M25/gencode.vM25.transcripts.fa.gz"
   ]
  },
  {
   "cell_type": "markdown",
   "metadata": {},
   "source": [
    "## Create salmon index"
   ]
  },
  {
   "cell_type": "markdown",
   "metadata": {},
   "source": [
    "### install salmon to your env if you haven't\n",
    "`conda install -n genome_book -c bioconda salmon`\n",
    "\n",
    "### you can also execute this in your command line, but here I will use the subprocess package\n",
    "`salmon index -t gencode.vM25.transcripts.fa.gz -p 4 -i ./data/salmon_index --gencode`"
   ]
  },
  {
   "cell_type": "code",
   "execution_count": 5,
   "metadata": {
    "ExecuteTime": {
     "end_time": "2020-05-20T21:42:01.034106Z",
     "start_time": "2020-05-20T21:42:01.031329Z"
    }
   },
   "outputs": [],
   "source": [
    "import subprocess"
   ]
  },
  {
   "cell_type": "code",
   "execution_count": 6,
   "metadata": {
    "ExecuteTime": {
     "end_time": "2020-05-20T21:56:05.470711Z",
     "start_time": "2020-05-20T21:42:44.131605Z"
    }
   },
   "outputs": [
    {
     "data": {
      "text/plain": [
       "CompletedProcess(args='salmon index -t gencode.vM25.transcripts.fa.gz -p 8 -i ./data/salmon_index --gencode', returncode=0, stdout='Threads = 8\\nVertex length = 31\\nHash functions = 5\\nFilter size = 2147483648\\nCapacity = 2\\nFiles: \\n./data/salmon_index/ref_k31_fixed.fa\\n--------------------------------------------------------------------------------\\nRound 0, 0:2147483648\\nPass\\tFilling\\tFiltering\\n1\\t24\\t44\\t\\n2\\t11\\t0\\nTrue junctions count = 546346\\nFalse junctions count = 1446088\\nHash table size = 1992434\\nCandidate marks count = 7171004\\n--------------------------------------------------------------------------------\\nReallocating bifurcations time: 0\\nTrue marks count: 4147819\\nEdges construction time: 667\\n--------------------------------------------------------------------------------\\nDistinct junctions = 546346\\n\\nfor info, total work write each  : 2.331    total work inram from level 3 : 4.322  total work raw : 25.000 \\nBitarray       632373440  bits (100.00 %)   (array + ranks )\\nfinal hash             0  bits (0.00 %) (nb in final hash 0)\\n')"
      ]
     },
     "execution_count": 6,
     "metadata": {},
     "output_type": "execute_result"
    }
   ],
   "source": [
    "p = subprocess.run('salmon index -t gencode.vM25.transcripts.fa.gz -p 4 -i ./data/salmon_index --gencode',\n",
    "               shell=True, stdout=subprocess.PIPE, stdin=subprocess.PIPE, encoding='utf8')\n",
    "print(p.stdout)"
   ]
  },
  {
   "cell_type": "code",
   "execution_count": null,
   "metadata": {},
   "outputs": [],
   "source": []
  },
  {
   "cell_type": "code",
   "execution_count": null,
   "metadata": {},
   "outputs": [],
   "source": []
  },
  {
   "cell_type": "code",
   "execution_count": null,
   "metadata": {},
   "outputs": [],
   "source": []
  },
  {
   "cell_type": "code",
   "execution_count": null,
   "metadata": {},
   "outputs": [],
   "source": []
  }
 ],
 "metadata": {
  "kernelspec": {
   "display_name": "Python 3",
   "language": "python",
   "name": "python3"
  },
  "language_info": {
   "codemirror_mode": {
    "name": "ipython",
    "version": 3
   },
   "file_extension": ".py",
   "mimetype": "text/x-python",
   "name": "python",
   "nbconvert_exporter": "python",
   "pygments_lexer": "ipython3",
   "version": "3.7.6"
  },
  "toc": {
   "base_numbering": 1,
   "nav_menu": {},
   "number_sections": true,
   "sideBar": true,
   "skip_h1_title": true,
   "title_cell": "Table of Contents",
   "title_sidebar": "Contents",
   "toc_cell": false,
   "toc_position": {},
   "toc_section_display": true,
   "toc_window_display": true
  }
 },
 "nbformat": 4,
 "nbformat_minor": 4
}

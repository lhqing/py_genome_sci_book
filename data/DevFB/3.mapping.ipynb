{
 "cells": [
  {
   "cell_type": "markdown",
   "metadata": {},
   "source": [
    "# Salmon Mapping"
   ]
  },
  {
   "cell_type": "markdown",
   "metadata": {},
   "source": [
    "## Prepare mapping commands\n"
   ]
  },
  {
   "cell_type": "code",
   "execution_count": 1,
   "metadata": {
    "ExecuteTime": {
     "end_time": "2020-04-18T03:12:29.449217Z",
     "start_time": "2020-04-18T03:12:29.322435Z"
    }
   },
   "outputs": [],
   "source": [
    "import pandas as pd\n",
    "import pathlib"
   ]
  },
  {
   "cell_type": "code",
   "execution_count": 2,
   "metadata": {
    "ExecuteTime": {
     "end_time": "2020-04-18T00:08:59.062057Z",
     "start_time": "2020-04-18T00:08:59.032674Z"
    }
   },
   "outputs": [
    {
     "data": {
      "text/html": [
       "<div>\n",
       "<style scoped>\n",
       "    .dataframe tbody tr th:only-of-type {\n",
       "        vertical-align: middle;\n",
       "    }\n",
       "\n",
       "    .dataframe tbody tr th {\n",
       "        vertical-align: top;\n",
       "    }\n",
       "\n",
       "    .dataframe thead th {\n",
       "        text-align: right;\n",
       "    }\n",
       "</style>\n",
       "<table border=\"1\" class=\"dataframe\">\n",
       "  <thead>\n",
       "    <tr style=\"text-align: right;\">\n",
       "      <th></th>\n",
       "      <th>count_type</th>\n",
       "      <th>experiment_id</th>\n",
       "      <th>bio_sample_id</th>\n",
       "      <th>tissue</th>\n",
       "      <th>replicate</th>\n",
       "      <th>dev_time</th>\n",
       "      <th>file_name</th>\n",
       "    </tr>\n",
       "    <tr>\n",
       "      <th>File accession</th>\n",
       "      <th></th>\n",
       "      <th></th>\n",
       "      <th></th>\n",
       "      <th></th>\n",
       "      <th></th>\n",
       "      <th></th>\n",
       "      <th></th>\n",
       "    </tr>\n",
       "  </thead>\n",
       "  <tbody>\n",
       "    <tr>\n",
       "      <th>ENCFF329ACL</th>\n",
       "      <td>reads</td>\n",
       "      <td>ENCSR160IIN</td>\n",
       "      <td>UBERON:0001890</td>\n",
       "      <td>forebrain</td>\n",
       "      <td>1</td>\n",
       "      <td>E11.5</td>\n",
       "      <td>/home/hanliu/project/genome_book/DevFB/fastq/t...</td>\n",
       "    </tr>\n",
       "    <tr>\n",
       "      <th>ENCFF251LNG</th>\n",
       "      <td>reads</td>\n",
       "      <td>ENCSR160IIN</td>\n",
       "      <td>UBERON:0001890</td>\n",
       "      <td>forebrain</td>\n",
       "      <td>2</td>\n",
       "      <td>E11.5</td>\n",
       "      <td>/home/hanliu/project/genome_book/DevFB/fastq/t...</td>\n",
       "    </tr>\n",
       "    <tr>\n",
       "      <th>ENCFF896COV</th>\n",
       "      <td>reads</td>\n",
       "      <td>ENCSR160IIN</td>\n",
       "      <td>UBERON:0001890</td>\n",
       "      <td>forebrain</td>\n",
       "      <td>2</td>\n",
       "      <td>E11.5</td>\n",
       "      <td>/home/hanliu/project/genome_book/DevFB/fastq/t...</td>\n",
       "    </tr>\n",
       "    <tr>\n",
       "      <th>ENCFF959PSX</th>\n",
       "      <td>reads</td>\n",
       "      <td>ENCSR970EWM</td>\n",
       "      <td>UBERON:0001890</td>\n",
       "      <td>forebrain</td>\n",
       "      <td>2</td>\n",
       "      <td>E13.5</td>\n",
       "      <td>/home/hanliu/project/genome_book/DevFB/fastq/t...</td>\n",
       "    </tr>\n",
       "    <tr>\n",
       "      <th>ENCFF235DNM</th>\n",
       "      <td>reads</td>\n",
       "      <td>ENCSR970EWM</td>\n",
       "      <td>UBERON:0001890</td>\n",
       "      <td>forebrain</td>\n",
       "      <td>1</td>\n",
       "      <td>E13.5</td>\n",
       "      <td>/home/hanliu/project/genome_book/DevFB/fastq/t...</td>\n",
       "    </tr>\n",
       "    <tr>\n",
       "      <th>ENCFF270GKY</th>\n",
       "      <td>reads</td>\n",
       "      <td>ENCSR185LWM</td>\n",
       "      <td>UBERON:0001890</td>\n",
       "      <td>forebrain</td>\n",
       "      <td>1</td>\n",
       "      <td>E14.5</td>\n",
       "      <td>/home/hanliu/project/genome_book/DevFB/fastq/t...</td>\n",
       "    </tr>\n",
       "    <tr>\n",
       "      <th>ENCFF460TCF</th>\n",
       "      <td>reads</td>\n",
       "      <td>ENCSR185LWM</td>\n",
       "      <td>UBERON:0001890</td>\n",
       "      <td>forebrain</td>\n",
       "      <td>1</td>\n",
       "      <td>E14.5</td>\n",
       "      <td>/home/hanliu/project/genome_book/DevFB/fastq/t...</td>\n",
       "    </tr>\n",
       "    <tr>\n",
       "      <th>ENCFF126IRS</th>\n",
       "      <td>reads</td>\n",
       "      <td>ENCSR185LWM</td>\n",
       "      <td>UBERON:0001890</td>\n",
       "      <td>forebrain</td>\n",
       "      <td>2</td>\n",
       "      <td>E14.5</td>\n",
       "      <td>/home/hanliu/project/genome_book/DevFB/fastq/t...</td>\n",
       "    </tr>\n",
       "    <tr>\n",
       "      <th>ENCFF748SRJ</th>\n",
       "      <td>reads</td>\n",
       "      <td>ENCSR185LWM</td>\n",
       "      <td>UBERON:0001890</td>\n",
       "      <td>forebrain</td>\n",
       "      <td>2</td>\n",
       "      <td>E14.5</td>\n",
       "      <td>/home/hanliu/project/genome_book/DevFB/fastq/t...</td>\n",
       "    </tr>\n",
       "    <tr>\n",
       "      <th>ENCFF447EXU</th>\n",
       "      <td>reads</td>\n",
       "      <td>ENCSR362AIZ</td>\n",
       "      <td>UBERON:0001890</td>\n",
       "      <td>forebrain</td>\n",
       "      <td>2</td>\n",
       "      <td>P0</td>\n",
       "      <td>/home/hanliu/project/genome_book/DevFB/fastq/t...</td>\n",
       "    </tr>\n",
       "    <tr>\n",
       "      <th>ENCFF037JQC</th>\n",
       "      <td>reads</td>\n",
       "      <td>ENCSR362AIZ</td>\n",
       "      <td>UBERON:0001890</td>\n",
       "      <td>forebrain</td>\n",
       "      <td>1</td>\n",
       "      <td>P0</td>\n",
       "      <td>/home/hanliu/project/genome_book/DevFB/fastq/t...</td>\n",
       "    </tr>\n",
       "    <tr>\n",
       "      <th>ENCFF458NWF</th>\n",
       "      <td>reads</td>\n",
       "      <td>ENCSR362AIZ</td>\n",
       "      <td>UBERON:0001890</td>\n",
       "      <td>forebrain</td>\n",
       "      <td>2</td>\n",
       "      <td>P0</td>\n",
       "      <td>/home/hanliu/project/genome_book/DevFB/fastq/t...</td>\n",
       "    </tr>\n",
       "    <tr>\n",
       "      <th>ENCFF358MFI</th>\n",
       "      <td>reads</td>\n",
       "      <td>ENCSR362AIZ</td>\n",
       "      <td>UBERON:0001890</td>\n",
       "      <td>forebrain</td>\n",
       "      <td>1</td>\n",
       "      <td>P0</td>\n",
       "      <td>/home/hanliu/project/genome_book/DevFB/fastq/t...</td>\n",
       "    </tr>\n",
       "    <tr>\n",
       "      <th>ENCFF891HIX</th>\n",
       "      <td>reads</td>\n",
       "      <td>ENCSR752RGN</td>\n",
       "      <td>UBERON:0001890</td>\n",
       "      <td>forebrain</td>\n",
       "      <td>2</td>\n",
       "      <td>E15.5</td>\n",
       "      <td>/home/hanliu/project/genome_book/DevFB/fastq/t...</td>\n",
       "    </tr>\n",
       "    <tr>\n",
       "      <th>ENCFF179JEC</th>\n",
       "      <td>reads</td>\n",
       "      <td>ENCSR752RGN</td>\n",
       "      <td>UBERON:0001890</td>\n",
       "      <td>forebrain</td>\n",
       "      <td>1</td>\n",
       "      <td>E15.5</td>\n",
       "      <td>/home/hanliu/project/genome_book/DevFB/fastq/t...</td>\n",
       "    </tr>\n",
       "    <tr>\n",
       "      <th>ENCFF203BWA</th>\n",
       "      <td>reads</td>\n",
       "      <td>ENCSR647QBV</td>\n",
       "      <td>UBERON:0001890</td>\n",
       "      <td>forebrain</td>\n",
       "      <td>2</td>\n",
       "      <td>E12.5</td>\n",
       "      <td>/home/hanliu/project/genome_book/DevFB/fastq/t...</td>\n",
       "    </tr>\n",
       "    <tr>\n",
       "      <th>ENCFF920QAY</th>\n",
       "      <td>reads</td>\n",
       "      <td>ENCSR647QBV</td>\n",
       "      <td>UBERON:0001890</td>\n",
       "      <td>forebrain</td>\n",
       "      <td>1</td>\n",
       "      <td>E12.5</td>\n",
       "      <td>/home/hanliu/project/genome_book/DevFB/fastq/t...</td>\n",
       "    </tr>\n",
       "    <tr>\n",
       "      <th>ENCFF294JRP</th>\n",
       "      <td>reads</td>\n",
       "      <td>ENCSR647QBV</td>\n",
       "      <td>UBERON:0001890</td>\n",
       "      <td>forebrain</td>\n",
       "      <td>1</td>\n",
       "      <td>E12.5</td>\n",
       "      <td>/home/hanliu/project/genome_book/DevFB/fastq/t...</td>\n",
       "    </tr>\n",
       "    <tr>\n",
       "      <th>ENCFF700OLU</th>\n",
       "      <td>reads</td>\n",
       "      <td>ENCSR647QBV</td>\n",
       "      <td>UBERON:0001890</td>\n",
       "      <td>forebrain</td>\n",
       "      <td>2</td>\n",
       "      <td>E12.5</td>\n",
       "      <td>/home/hanliu/project/genome_book/DevFB/fastq/t...</td>\n",
       "    </tr>\n",
       "    <tr>\n",
       "      <th>ENCFF920CNZ</th>\n",
       "      <td>reads</td>\n",
       "      <td>ENCSR304RDL</td>\n",
       "      <td>UBERON:0001890</td>\n",
       "      <td>forebrain</td>\n",
       "      <td>1</td>\n",
       "      <td>E10.5</td>\n",
       "      <td>/home/hanliu/project/genome_book/DevFB/fastq/t...</td>\n",
       "    </tr>\n",
       "    <tr>\n",
       "      <th>ENCFF320FJX</th>\n",
       "      <td>reads</td>\n",
       "      <td>ENCSR304RDL</td>\n",
       "      <td>UBERON:0001890</td>\n",
       "      <td>forebrain</td>\n",
       "      <td>1</td>\n",
       "      <td>E10.5</td>\n",
       "      <td>/home/hanliu/project/genome_book/DevFB/fastq/t...</td>\n",
       "    </tr>\n",
       "    <tr>\n",
       "      <th>ENCFF528EVC</th>\n",
       "      <td>reads</td>\n",
       "      <td>ENCSR304RDL</td>\n",
       "      <td>UBERON:0001890</td>\n",
       "      <td>forebrain</td>\n",
       "      <td>2</td>\n",
       "      <td>E10.5</td>\n",
       "      <td>/home/hanliu/project/genome_book/DevFB/fastq/t...</td>\n",
       "    </tr>\n",
       "    <tr>\n",
       "      <th>ENCFF663SNC</th>\n",
       "      <td>reads</td>\n",
       "      <td>ENCSR304RDL</td>\n",
       "      <td>UBERON:0001890</td>\n",
       "      <td>forebrain</td>\n",
       "      <td>2</td>\n",
       "      <td>E10.5</td>\n",
       "      <td>/home/hanliu/project/genome_book/DevFB/fastq/t...</td>\n",
       "    </tr>\n",
       "    <tr>\n",
       "      <th>ENCFF931IVO</th>\n",
       "      <td>reads</td>\n",
       "      <td>ENCSR080EVZ</td>\n",
       "      <td>UBERON:0001890</td>\n",
       "      <td>forebrain</td>\n",
       "      <td>1</td>\n",
       "      <td>E16.5</td>\n",
       "      <td>/home/hanliu/project/genome_book/DevFB/fastq/t...</td>\n",
       "    </tr>\n",
       "    <tr>\n",
       "      <th>ENCFF114DRT</th>\n",
       "      <td>reads</td>\n",
       "      <td>ENCSR080EVZ</td>\n",
       "      <td>UBERON:0001890</td>\n",
       "      <td>forebrain</td>\n",
       "      <td>2</td>\n",
       "      <td>E16.5</td>\n",
       "      <td>/home/hanliu/project/genome_book/DevFB/fastq/t...</td>\n",
       "    </tr>\n",
       "  </tbody>\n",
       "</table>\n",
       "</div>"
      ],
      "text/plain": [
       "               count_type experiment_id   bio_sample_id     tissue  replicate  \\\n",
       "File accession                                                                  \n",
       "ENCFF329ACL         reads   ENCSR160IIN  UBERON:0001890  forebrain          1   \n",
       "ENCFF251LNG         reads   ENCSR160IIN  UBERON:0001890  forebrain          2   \n",
       "ENCFF896COV         reads   ENCSR160IIN  UBERON:0001890  forebrain          2   \n",
       "ENCFF959PSX         reads   ENCSR970EWM  UBERON:0001890  forebrain          2   \n",
       "ENCFF235DNM         reads   ENCSR970EWM  UBERON:0001890  forebrain          1   \n",
       "ENCFF270GKY         reads   ENCSR185LWM  UBERON:0001890  forebrain          1   \n",
       "ENCFF460TCF         reads   ENCSR185LWM  UBERON:0001890  forebrain          1   \n",
       "ENCFF126IRS         reads   ENCSR185LWM  UBERON:0001890  forebrain          2   \n",
       "ENCFF748SRJ         reads   ENCSR185LWM  UBERON:0001890  forebrain          2   \n",
       "ENCFF447EXU         reads   ENCSR362AIZ  UBERON:0001890  forebrain          2   \n",
       "ENCFF037JQC         reads   ENCSR362AIZ  UBERON:0001890  forebrain          1   \n",
       "ENCFF458NWF         reads   ENCSR362AIZ  UBERON:0001890  forebrain          2   \n",
       "ENCFF358MFI         reads   ENCSR362AIZ  UBERON:0001890  forebrain          1   \n",
       "ENCFF891HIX         reads   ENCSR752RGN  UBERON:0001890  forebrain          2   \n",
       "ENCFF179JEC         reads   ENCSR752RGN  UBERON:0001890  forebrain          1   \n",
       "ENCFF203BWA         reads   ENCSR647QBV  UBERON:0001890  forebrain          2   \n",
       "ENCFF920QAY         reads   ENCSR647QBV  UBERON:0001890  forebrain          1   \n",
       "ENCFF294JRP         reads   ENCSR647QBV  UBERON:0001890  forebrain          1   \n",
       "ENCFF700OLU         reads   ENCSR647QBV  UBERON:0001890  forebrain          2   \n",
       "ENCFF920CNZ         reads   ENCSR304RDL  UBERON:0001890  forebrain          1   \n",
       "ENCFF320FJX         reads   ENCSR304RDL  UBERON:0001890  forebrain          1   \n",
       "ENCFF528EVC         reads   ENCSR304RDL  UBERON:0001890  forebrain          2   \n",
       "ENCFF663SNC         reads   ENCSR304RDL  UBERON:0001890  forebrain          2   \n",
       "ENCFF931IVO         reads   ENCSR080EVZ  UBERON:0001890  forebrain          1   \n",
       "ENCFF114DRT         reads   ENCSR080EVZ  UBERON:0001890  forebrain          2   \n",
       "\n",
       "               dev_time                                          file_name  \n",
       "File accession                                                              \n",
       "ENCFF329ACL       E11.5  /home/hanliu/project/genome_book/DevFB/fastq/t...  \n",
       "ENCFF251LNG       E11.5  /home/hanliu/project/genome_book/DevFB/fastq/t...  \n",
       "ENCFF896COV       E11.5  /home/hanliu/project/genome_book/DevFB/fastq/t...  \n",
       "ENCFF959PSX       E13.5  /home/hanliu/project/genome_book/DevFB/fastq/t...  \n",
       "ENCFF235DNM       E13.5  /home/hanliu/project/genome_book/DevFB/fastq/t...  \n",
       "ENCFF270GKY       E14.5  /home/hanliu/project/genome_book/DevFB/fastq/t...  \n",
       "ENCFF460TCF       E14.5  /home/hanliu/project/genome_book/DevFB/fastq/t...  \n",
       "ENCFF126IRS       E14.5  /home/hanliu/project/genome_book/DevFB/fastq/t...  \n",
       "ENCFF748SRJ       E14.5  /home/hanliu/project/genome_book/DevFB/fastq/t...  \n",
       "ENCFF447EXU          P0  /home/hanliu/project/genome_book/DevFB/fastq/t...  \n",
       "ENCFF037JQC          P0  /home/hanliu/project/genome_book/DevFB/fastq/t...  \n",
       "ENCFF458NWF          P0  /home/hanliu/project/genome_book/DevFB/fastq/t...  \n",
       "ENCFF358MFI          P0  /home/hanliu/project/genome_book/DevFB/fastq/t...  \n",
       "ENCFF891HIX       E15.5  /home/hanliu/project/genome_book/DevFB/fastq/t...  \n",
       "ENCFF179JEC       E15.5  /home/hanliu/project/genome_book/DevFB/fastq/t...  \n",
       "ENCFF203BWA       E12.5  /home/hanliu/project/genome_book/DevFB/fastq/t...  \n",
       "ENCFF920QAY       E12.5  /home/hanliu/project/genome_book/DevFB/fastq/t...  \n",
       "ENCFF294JRP       E12.5  /home/hanliu/project/genome_book/DevFB/fastq/t...  \n",
       "ENCFF700OLU       E12.5  /home/hanliu/project/genome_book/DevFB/fastq/t...  \n",
       "ENCFF920CNZ       E10.5  /home/hanliu/project/genome_book/DevFB/fastq/t...  \n",
       "ENCFF320FJX       E10.5  /home/hanliu/project/genome_book/DevFB/fastq/t...  \n",
       "ENCFF528EVC       E10.5  /home/hanliu/project/genome_book/DevFB/fastq/t...  \n",
       "ENCFF663SNC       E10.5  /home/hanliu/project/genome_book/DevFB/fastq/t...  \n",
       "ENCFF931IVO       E16.5  /home/hanliu/project/genome_book/DevFB/fastq/t...  \n",
       "ENCFF114DRT       E16.5  /home/hanliu/project/genome_book/DevFB/fastq/t...  "
      ]
     },
     "execution_count": 2,
     "metadata": {},
     "output_type": "execute_result"
    }
   ],
   "source": [
    "fastq_meta = pd.read_csv('./metadata/trimmed_fastq_metadata.csv', index_col=0)\n",
    "fastq_meta"
   ]
  },
  {
   "cell_type": "markdown",
   "metadata": {
    "ExecuteTime": {
     "end_time": "2020-04-17T20:15:59.867597Z",
     "start_time": "2020-04-17T20:15:59.855106Z"
    }
   },
   "source": [
    "## Prepare salmon command for each sample"
   ]
  },
  {
   "cell_type": "code",
   "execution_count": 3,
   "metadata": {
    "ExecuteTime": {
     "end_time": "2020-04-18T03:12:42.710880Z",
     "start_time": "2020-04-18T03:12:42.708191Z"
    }
   },
   "outputs": [],
   "source": [
    "# output dir\n",
    "output_dir = pathlib.Path('quant/').absolute()\n",
    "output_dir.mkdir(exist_ok=True)\n",
    "\n",
    "# set all the directories\n",
    "index_dir = pathlib.Path('../ref/Salmon/salmon_index/').absolute()"
   ]
  },
  {
   "cell_type": "code",
   "execution_count": 16,
   "metadata": {
    "ExecuteTime": {
     "end_time": "2020-04-18T00:15:31.740259Z",
     "start_time": "2020-04-18T00:15:31.738313Z"
    }
   },
   "outputs": [],
   "source": [
    "# I use my own server, change this number to 4 if using laptop\n",
    "# also, because salmon run in parallel internally, we just run salmon commands one by one\n",
    "threads = 45"
   ]
  },
  {
   "cell_type": "code",
   "execution_count": 20,
   "metadata": {
    "ExecuteTime": {
     "end_time": "2020-04-18T00:19:53.166642Z",
     "start_time": "2020-04-18T00:19:53.156884Z"
    }
   },
   "outputs": [],
   "source": [
    "# make command for each RNA-seq sample based on the metadata\n",
    "commands = {}\n",
    "for (tissue, time, rep), sub_df in fastq_meta.groupby(['tissue', 'dev_time', 'replicate']):\n",
    "    fastq_paths_str = ' '.join(sub_df['file_name'])\n",
    "    output_name = output_dir / f'{tissue}_{time}_{rep}.quant'\n",
    "    \n",
    "    # assemble the final command\n",
    "    command = f'salmon quant -i {index_dir} -l A -r {fastq_paths_str} --threads {threads} --validateMappings -o {output_name}'\n",
    "    commands[f'{tissue}_{time}_{rep}'] = command"
   ]
  },
  {
   "cell_type": "code",
   "execution_count": 21,
   "metadata": {
    "ExecuteTime": {
     "end_time": "2020-04-18T00:19:53.770785Z",
     "start_time": "2020-04-18T00:19:53.767813Z"
    }
   },
   "outputs": [
    {
     "data": {
      "text/plain": [
       "'salmon quant -i /home/hanliu/project/genome_book/DevFB/../ref/Salmon/salmon_index -l A -r /home/hanliu/project/genome_book/DevFB/fastq/trimmed/forebrain_P0_2_ENCFF447EXU_trimmed.fq.gz /home/hanliu/project/genome_book/DevFB/fastq/trimmed/forebrain_P0_2_ENCFF458NWF_trimmed.fq.gz --threads 45 --validateMappings -o /home/hanliu/project/genome_book/DevFB/quant/forebrain_P0_2.quant'"
      ]
     },
     "execution_count": 21,
     "metadata": {},
     "output_type": "execute_result"
    }
   ],
   "source": [
    "# a example command\n",
    "command"
   ]
  },
  {
   "cell_type": "markdown",
   "metadata": {},
   "source": [
    "## Run salmon"
   ]
  },
  {
   "cell_type": "code",
   "execution_count": 23,
   "metadata": {
    "ExecuteTime": {
     "end_time": "2020-04-18T01:03:51.035758Z",
     "start_time": "2020-04-18T00:27:22.437038Z"
    }
   },
   "outputs": [
    {
     "name": "stdout",
     "output_type": "stream",
     "text": [
      "EXISTS forebrain_E10.5_1\n",
      "EXISTS forebrain_E10.5_2\n",
      "FINISH forebrain_E11.5_1\n",
      "FINISH forebrain_E11.5_2\n",
      "FINISH forebrain_E12.5_1\n",
      "FINISH forebrain_E12.5_2\n",
      "FINISH forebrain_E13.5_1\n",
      "FINISH forebrain_E13.5_2\n",
      "FINISH forebrain_E14.5_1\n",
      "FINISH forebrain_E14.5_2\n",
      "FINISH forebrain_E15.5_1\n",
      "FINISH forebrain_E15.5_2\n",
      "FINISH forebrain_E16.5_1\n",
      "FINISH forebrain_E16.5_2\n",
      "FINISH forebrain_P0_1\n",
      "FINISH forebrain_P0_2\n"
     ]
    }
   ],
   "source": [
    "import subprocess\n",
    "for name, command in commands.items():\n",
    "    # once command is finished, you may want to keep a physical record, so you know its finished for sure\n",
    "    # you can also use this physical to prevent rerun the command, if the execution stopped in some place\n",
    "    if pathlib.Path(output_dir / name).exists():\n",
    "        print('EXISTS', name)\n",
    "        continue\n",
    "    \n",
    "    subprocess.run(command, shell=True, check=True, \n",
    "                   stdout=subprocess.PIPE, stderr=subprocess.PIPE, encoding='utf8')\n",
    "    \n",
    "    \n",
    "    print('FINISH', name)\n",
    "    with open(output_dir / name, 'w') as f:\n",
    "        f.write('Oh Yeah')\n",
    "    "
   ]
  },
  {
   "cell_type": "markdown",
   "metadata": {},
   "source": [
    "## Clean up the flag"
   ]
  },
  {
   "cell_type": "code",
   "execution_count": 25,
   "metadata": {
    "ExecuteTime": {
     "end_time": "2020-04-18T01:06:34.248192Z",
     "start_time": "2020-04-18T01:06:34.116806Z"
    }
   },
   "outputs": [],
   "source": [
    "for name in commands.keys():\n",
    "    subprocess.run(f'rm {output_dir / name}', shell=True)"
   ]
  },
  {
   "cell_type": "markdown",
   "metadata": {},
   "source": [
    "## Make a metadata for salmon output"
   ]
  },
  {
   "cell_type": "code",
   "execution_count": 4,
   "metadata": {
    "ExecuteTime": {
     "end_time": "2020-04-18T03:12:45.520139Z",
     "start_time": "2020-04-18T03:12:45.514495Z"
    }
   },
   "outputs": [
    {
     "data": {
      "text/plain": [
       "[PosixPath('/home/hanliu/project/genome_book/DevFB/quant/forebrain_E10.5_1.quant/quant.sf'),\n",
       " PosixPath('/home/hanliu/project/genome_book/DevFB/quant/forebrain_E10.5_2.quant/quant.sf'),\n",
       " PosixPath('/home/hanliu/project/genome_book/DevFB/quant/forebrain_E11.5_1.quant/quant.sf'),\n",
       " PosixPath('/home/hanliu/project/genome_book/DevFB/quant/forebrain_E11.5_2.quant/quant.sf'),\n",
       " PosixPath('/home/hanliu/project/genome_book/DevFB/quant/forebrain_E12.5_1.quant/quant.sf')]"
      ]
     },
     "execution_count": 4,
     "metadata": {},
     "output_type": "execute_result"
    }
   ],
   "source": [
    "# find out all the trimmed fastq, make a dict\n",
    "fastq_list = list(output_dir.glob('**/quant.sf'))\n",
    "fastq_list[:5]"
   ]
  },
  {
   "cell_type": "code",
   "execution_count": 32,
   "metadata": {
    "ExecuteTime": {
     "end_time": "2020-04-18T01:09:42.390058Z",
     "start_time": "2020-04-18T01:09:42.379427Z"
    }
   },
   "outputs": [
    {
     "data": {
      "text/html": [
       "<div>\n",
       "<style scoped>\n",
       "    .dataframe tbody tr th:only-of-type {\n",
       "        vertical-align: middle;\n",
       "    }\n",
       "\n",
       "    .dataframe tbody tr th {\n",
       "        vertical-align: top;\n",
       "    }\n",
       "\n",
       "    .dataframe thead th {\n",
       "        text-align: right;\n",
       "    }\n",
       "</style>\n",
       "<table border=\"1\" class=\"dataframe\">\n",
       "  <thead>\n",
       "    <tr style=\"text-align: right;\">\n",
       "      <th></th>\n",
       "      <th>Length</th>\n",
       "      <th>EffectiveLength</th>\n",
       "      <th>TPM</th>\n",
       "      <th>NumReads</th>\n",
       "    </tr>\n",
       "    <tr>\n",
       "      <th>Name</th>\n",
       "      <th></th>\n",
       "      <th></th>\n",
       "      <th></th>\n",
       "      <th></th>\n",
       "    </tr>\n",
       "  </thead>\n",
       "  <tbody>\n",
       "    <tr>\n",
       "      <th>ENSMUST00000193812.1</th>\n",
       "      <td>1070</td>\n",
       "      <td>821.000</td>\n",
       "      <td>0.000000</td>\n",
       "      <td>0.000</td>\n",
       "    </tr>\n",
       "    <tr>\n",
       "      <th>ENSMUST00000082908.1</th>\n",
       "      <td>110</td>\n",
       "      <td>4.749</td>\n",
       "      <td>0.000000</td>\n",
       "      <td>0.000</td>\n",
       "    </tr>\n",
       "    <tr>\n",
       "      <th>ENSMUST00000162897.1</th>\n",
       "      <td>4153</td>\n",
       "      <td>3904.000</td>\n",
       "      <td>0.038115</td>\n",
       "      <td>5.689</td>\n",
       "    </tr>\n",
       "    <tr>\n",
       "      <th>ENSMUST00000159265.1</th>\n",
       "      <td>2989</td>\n",
       "      <td>2740.000</td>\n",
       "      <td>0.031600</td>\n",
       "      <td>3.311</td>\n",
       "    </tr>\n",
       "    <tr>\n",
       "      <th>ENSMUST00000070533.4</th>\n",
       "      <td>3634</td>\n",
       "      <td>3385.000</td>\n",
       "      <td>0.000000</td>\n",
       "      <td>0.000</td>\n",
       "    </tr>\n",
       "    <tr>\n",
       "      <th>ENSMUST00000192857.1</th>\n",
       "      <td>480</td>\n",
       "      <td>231.000</td>\n",
       "      <td>0.000000</td>\n",
       "      <td>0.000</td>\n",
       "    </tr>\n",
       "    <tr>\n",
       "      <th>ENSMUST00000195335.1</th>\n",
       "      <td>2819</td>\n",
       "      <td>2570.000</td>\n",
       "      <td>0.173002</td>\n",
       "      <td>17.000</td>\n",
       "    </tr>\n",
       "    <tr>\n",
       "      <th>ENSMUST00000192336.1</th>\n",
       "      <td>2233</td>\n",
       "      <td>1984.000</td>\n",
       "      <td>0.448201</td>\n",
       "      <td>34.000</td>\n",
       "    </tr>\n",
       "    <tr>\n",
       "      <th>ENSMUST00000194099.1</th>\n",
       "      <td>2309</td>\n",
       "      <td>2060.000</td>\n",
       "      <td>0.203137</td>\n",
       "      <td>16.000</td>\n",
       "    </tr>\n",
       "    <tr>\n",
       "      <th>ENSMUST00000161581.1</th>\n",
       "      <td>250</td>\n",
       "      <td>20.633</td>\n",
       "      <td>0.000000</td>\n",
       "      <td>0.000</td>\n",
       "    </tr>\n",
       "  </tbody>\n",
       "</table>\n",
       "</div>"
      ],
      "text/plain": [
       "                      Length  EffectiveLength       TPM  NumReads\n",
       "Name                                                             \n",
       "ENSMUST00000193812.1    1070          821.000  0.000000     0.000\n",
       "ENSMUST00000082908.1     110            4.749  0.000000     0.000\n",
       "ENSMUST00000162897.1    4153         3904.000  0.038115     5.689\n",
       "ENSMUST00000159265.1    2989         2740.000  0.031600     3.311\n",
       "ENSMUST00000070533.4    3634         3385.000  0.000000     0.000\n",
       "ENSMUST00000192857.1     480          231.000  0.000000     0.000\n",
       "ENSMUST00000195335.1    2819         2570.000  0.173002    17.000\n",
       "ENSMUST00000192336.1    2233         1984.000  0.448201    34.000\n",
       "ENSMUST00000194099.1    2309         2060.000  0.203137    16.000\n",
       "ENSMUST00000161581.1     250           20.633  0.000000     0.000"
      ]
     },
     "execution_count": 32,
     "metadata": {},
     "output_type": "execute_result"
    }
   ],
   "source": [
    "pd.read_csv(fastq_list[0], nrows=10, sep='\\t', index_col=0)"
   ]
  },
  {
   "cell_type": "code",
   "execution_count": 28,
   "metadata": {
    "ExecuteTime": {
     "end_time": "2020-04-18T01:09:03.015478Z",
     "start_time": "2020-04-18T01:09:03.011555Z"
    }
   },
   "outputs": [],
   "source": [
    "records = []\n",
    "for path in fastq_list:\n",
    "    tissue, time, rep = path.parent.name.split('_')\n",
    "    records.append([tissue, time, rep, str(path)])\n",
    "\n",
    "salmon_metadata = pd.DataFrame(records, columns=['tissue', 'dev_time', 'replicate', 'salmon_count_path'])\n",
    "salmon_metadata.to_csv('metadata/salmon_metadata.csv')"
   ]
  },
  {
   "cell_type": "code",
   "execution_count": null,
   "metadata": {},
   "outputs": [],
   "source": []
  },
  {
   "cell_type": "code",
   "execution_count": null,
   "metadata": {},
   "outputs": [],
   "source": []
  },
  {
   "cell_type": "code",
   "execution_count": null,
   "metadata": {},
   "outputs": [],
   "source": []
  },
  {
   "cell_type": "code",
   "execution_count": null,
   "metadata": {},
   "outputs": [],
   "source": []
  },
  {
   "cell_type": "code",
   "execution_count": null,
   "metadata": {},
   "outputs": [],
   "source": []
  },
  {
   "cell_type": "code",
   "execution_count": null,
   "metadata": {},
   "outputs": [],
   "source": []
  },
  {
   "cell_type": "code",
   "execution_count": null,
   "metadata": {},
   "outputs": [],
   "source": []
  },
  {
   "cell_type": "code",
   "execution_count": null,
   "metadata": {},
   "outputs": [],
   "source": []
  },
  {
   "cell_type": "code",
   "execution_count": null,
   "metadata": {},
   "outputs": [],
   "source": []
  },
  {
   "cell_type": "code",
   "execution_count": null,
   "metadata": {},
   "outputs": [],
   "source": []
  },
  {
   "cell_type": "code",
   "execution_count": null,
   "metadata": {},
   "outputs": [],
   "source": []
  },
  {
   "cell_type": "code",
   "execution_count": null,
   "metadata": {},
   "outputs": [],
   "source": []
  },
  {
   "cell_type": "code",
   "execution_count": null,
   "metadata": {},
   "outputs": [],
   "source": []
  },
  {
   "cell_type": "code",
   "execution_count": null,
   "metadata": {},
   "outputs": [],
   "source": []
  },
  {
   "cell_type": "code",
   "execution_count": null,
   "metadata": {},
   "outputs": [],
   "source": []
  },
  {
   "cell_type": "code",
   "execution_count": null,
   "metadata": {},
   "outputs": [],
   "source": []
  },
  {
   "cell_type": "code",
   "execution_count": null,
   "metadata": {},
   "outputs": [],
   "source": []
  },
  {
   "cell_type": "code",
   "execution_count": null,
   "metadata": {},
   "outputs": [],
   "source": []
  }
 ],
 "metadata": {
  "hide_input": false,
  "kernelspec": {
   "display_name": "Python 3",
   "language": "python",
   "name": "python3"
  },
  "language_info": {
   "codemirror_mode": {
    "name": "ipython",
    "version": 3
   },
   "file_extension": ".py",
   "mimetype": "text/x-python",
   "name": "python",
   "nbconvert_exporter": "python",
   "pygments_lexer": "ipython3",
   "version": "3.7.6"
  },
  "toc": {
   "base_numbering": 1,
   "nav_menu": {},
   "number_sections": true,
   "sideBar": true,
   "skip_h1_title": true,
   "title_cell": "Table of Contents",
   "title_sidebar": "Contents",
   "toc_cell": false,
   "toc_position": {},
   "toc_section_display": true,
   "toc_window_display": true
  }
 },
 "nbformat": 4,
 "nbformat_minor": 4
}

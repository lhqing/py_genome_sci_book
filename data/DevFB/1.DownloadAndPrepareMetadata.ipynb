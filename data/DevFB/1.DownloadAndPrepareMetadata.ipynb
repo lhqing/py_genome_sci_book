{
 "cells": [
  {
   "cell_type": "markdown",
   "metadata": {},
   "source": [
    "# Prepare Developing Forebrain Bulk-seq"
   ]
  },
  {
   "cell_type": "markdown",
   "metadata": {},
   "source": [
    "## Data Source\n",
    "- All the data downloaded from ENCODE project [here](https://www.encodeproject.org/search/?type=Experiment&status=released&lab.title=Barbara+Wold%2C+Caltech&biosample_ontology.term_name=forebrain)\n",
    "- This dataset contains polyA+ RNA-seq for developing forebrain from 8 timepoints \n",
    "    - E10.5\n",
    "    - E11.5\n",
    "    - E12.5\n",
    "    - E13.5\n",
    "    - E14.5\n",
    "    - E15.5\n",
    "    - E16.5\n",
    "    - P0\n",
    "- Each time point has two replicates, a total of 16 RNA-seq\n",
    "- Some experiments are pair-end sequencing, some are single end\n",
    "- We start from a total of 25 fastq files from ENCODE, all experiments are single end sequencing\n",
    "\n",
    "\n",
    "*Note: all fastq file and the salmon index doesn't included in the github, I just provide you the code I used to process it, but you don't need to rerun this on a laptop*"
   ]
  },
  {
   "cell_type": "markdown",
   "metadata": {},
   "source": [
    "## Download FASTQ"
   ]
  },
  {
   "cell_type": "code",
   "execution_count": 5,
   "metadata": {
    "ExecuteTime": {
     "end_time": "2020-04-17T20:10:35.580890Z",
     "start_time": "2020-04-17T20:10:35.465147Z"
    }
   },
   "outputs": [
    {
     "name": "stdout",
     "output_type": "stream",
     "text": [
      "https://www.encodeproject.org/metadata/?type=Experiment&status=released&files.file_type=fastq&lab.title=Barbara+Wold%2C+Caltech&biosample_ontology.term_name=forebrain\r\n",
      "https://www.encodeproject.org/files/ENCFF270GKY/@@download/ENCFF270GKY.fastq.gz\r\n",
      "https://www.encodeproject.org/files/ENCFF460TCF/@@download/ENCFF460TCF.fastq.gz\r\n",
      "https://www.encodeproject.org/files/ENCFF126IRS/@@download/ENCFF126IRS.fastq.gz\r\n",
      "https://www.encodeproject.org/files/ENCFF748SRJ/@@download/ENCFF748SRJ.fastq.gz\r\n",
      "https://www.encodeproject.org/files/ENCFF931IVO/@@download/ENCFF931IVO.fastq.gz\r\n",
      "https://www.encodeproject.org/files/ENCFF114DRT/@@download/ENCFF114DRT.fastq.gz\r\n",
      "https://www.encodeproject.org/files/ENCFF959PSX/@@download/ENCFF959PSX.fastq.gz\r\n",
      "https://www.encodeproject.org/files/ENCFF235DNM/@@download/ENCFF235DNM.fastq.gz\r\n",
      "https://www.encodeproject.org/files/ENCFF329ACL/@@download/ENCFF329ACL.fastq.gz\r\n",
      "https://www.encodeproject.org/files/ENCFF251LNG/@@download/ENCFF251LNG.fastq.gz\r\n",
      "https://www.encodeproject.org/files/ENCFF896COV/@@download/ENCFF896COV.fastq.gz\r\n",
      "https://www.encodeproject.org/files/ENCFF203BWA/@@download/ENCFF203BWA.fastq.gz\r\n",
      "https://www.encodeproject.org/files/ENCFF920QAY/@@download/ENCFF920QAY.fastq.gz\r\n",
      "https://www.encodeproject.org/files/ENCFF294JRP/@@download/ENCFF294JRP.fastq.gz\r\n",
      "https://www.encodeproject.org/files/ENCFF700OLU/@@download/ENCFF700OLU.fastq.gz\r\n",
      "https://www.encodeproject.org/files/ENCFF447EXU/@@download/ENCFF447EXU.fastq.gz\r\n",
      "https://www.encodeproject.org/files/ENCFF037JQC/@@download/ENCFF037JQC.fastq.gz\r\n",
      "https://www.encodeproject.org/files/ENCFF458NWF/@@download/ENCFF458NWF.fastq.gz\r\n",
      "https://www.encodeproject.org/files/ENCFF358MFI/@@download/ENCFF358MFI.fastq.gz\r\n",
      "https://www.encodeproject.org/files/ENCFF920CNZ/@@download/ENCFF920CNZ.fastq.gz\r\n",
      "https://www.encodeproject.org/files/ENCFF320FJX/@@download/ENCFF320FJX.fastq.gz\r\n",
      "https://www.encodeproject.org/files/ENCFF528EVC/@@download/ENCFF528EVC.fastq.gz\r\n",
      "https://www.encodeproject.org/files/ENCFF663SNC/@@download/ENCFF663SNC.fastq.gz\r\n",
      "https://www.encodeproject.org/files/ENCFF891HIX/@@download/ENCFF891HIX.fastq.gz\r\n",
      "https://www.encodeproject.org/files/ENCFF179JEC/@@download/ENCFF179JEC.fastq.gz"
     ]
    }
   ],
   "source": [
    "# These are the URL to download files\n",
    "!cat ./fastq/files.txt\n",
    "# This command download all files, ~30 GBs, you don't need to repeat\n",
    "# !xargs -L 1 curl -O -L < files.txt"
   ]
  },
  {
   "cell_type": "code",
   "execution_count": 7,
   "metadata": {
    "ExecuteTime": {
     "end_time": "2020-04-17T20:10:50.268012Z",
     "start_time": "2020-04-17T20:10:50.151816Z"
    }
   },
   "outputs": [
    {
     "name": "stdout",
     "output_type": "stream",
     "text": [
      "total 62G\r\n",
      "drwxr-xr-x 2 hanliu users 4.0K Apr 17 13:08 data\r\n",
      "-rw-r--r-- 1 hanliu users 1.8G Apr 17 11:28 ENCFF037JQC.fastq.gz\r\n",
      "-rw-r--r-- 1 hanliu users 3.1G Apr 17 11:12 ENCFF114DRT.fastq.gz\r\n",
      "-rw-r--r-- 1 hanliu users 1.7G Apr 17 11:08 ENCFF126IRS.fastq.gz\r\n",
      "-rw-r--r-- 1 hanliu users 4.3G Apr 17 11:39 ENCFF179JEC.fastq.gz\r\n",
      "-rw-r--r-- 1 hanliu users 3.4G Apr 17 11:22 ENCFF203BWA.fastq.gz\r\n",
      "-rw-r--r-- 1 hanliu users 4.3G Apr 17 11:17 ENCFF235DNM.fastq.gz\r\n",
      "-rw-r--r-- 1 hanliu users 1.9G Apr 17 11:19 ENCFF251LNG.fastq.gz\r\n",
      "-rw-r--r-- 1 hanliu users 2.0G Apr 17 11:05 ENCFF270GKY.fastq.gz\r\n",
      "-rw-r--r-- 1 hanliu users 1.7G Apr 17 11:25 ENCFF294JRP.fastq.gz\r\n",
      "-rw-r--r-- 1 hanliu users 2.1G Apr 17 11:33 ENCFF320FJX.fastq.gz\r\n",
      "-rw-r--r-- 1 hanliu users 2.6G Apr 17 11:18 ENCFF329ACL.fastq.gz\r\n",
      "-rw-r--r-- 1 hanliu users 1.8G Apr 17 11:30 ENCFF358MFI.fastq.gz\r\n",
      "-rw-r--r-- 1 hanliu users 1.8G Apr 17 11:27 ENCFF447EXU.fastq.gz\r\n",
      "-rw-r--r-- 1 hanliu users 1.8G Apr 17 11:29 ENCFF458NWF.fastq.gz\r\n",
      "-rw-r--r-- 1 hanliu users 2.0G Apr 17 11:07 ENCFF460TCF.fastq.gz\r\n",
      "-rw-r--r-- 1 hanliu users 1.9G Apr 17 11:34 ENCFF528EVC.fastq.gz\r\n",
      "-rw-r--r-- 1 hanliu users 1.9G Apr 17 11:35 ENCFF663SNC.fastq.gz\r\n",
      "-rw-r--r-- 1 hanliu users 1.8G Apr 17 11:26 ENCFF700OLU.fastq.gz\r\n",
      "-rw-r--r-- 1 hanliu users 1.7G Apr 17 11:09 ENCFF748SRJ.fastq.gz\r\n",
      "-rw-r--r-- 1 hanliu users 3.8G Apr 17 11:37 ENCFF891HIX.fastq.gz\r\n",
      "-rw-r--r-- 1 hanliu users 1.9G Apr 17 11:20 ENCFF896COV.fastq.gz\r\n",
      "-rw-r--r-- 1 hanliu users 2.1G Apr 17 11:31 ENCFF920CNZ.fastq.gz\r\n",
      "-rw-r--r-- 1 hanliu users 3.2G Apr 17 11:24 ENCFF920QAY.fastq.gz\r\n",
      "-rw-r--r-- 1 hanliu users 3.6G Apr 17 11:11 ENCFF931IVO.fastq.gz\r\n",
      "-rw-r--r-- 1 hanliu users 4.4G Apr 17 11:15 ENCFF959PSX.fastq.gz\r\n",
      "-rw-r--r-- 1 hanliu users 2.2K Apr 17 11:04 files.txt\r\n",
      "-rw-r--r-- 1 hanliu users  13K Apr 17 11:04 raw_metadata.tsv\r\n"
     ]
    }
   ],
   "source": [
    "# rename the raw metadata file\n",
    "!mv ?type\\=Experiment\\&status\\=released\\&files.file_type\\=fastq\\&lab.title\\=Barbara+Wold%2C+Caltech\\&biosample_ontology.term_name\\=forebrain raw_metadata.csv\n",
    "\n",
    "# check out what has been downloaded\n",
    "!ls -hl ./fastq"
   ]
  },
  {
   "cell_type": "markdown",
   "metadata": {},
   "source": [
    "## Rename file and make metadata"
   ]
  },
  {
   "cell_type": "code",
   "execution_count": 8,
   "metadata": {
    "ExecuteTime": {
     "end_time": "2020-04-17T20:10:57.606944Z",
     "start_time": "2020-04-17T20:10:57.474501Z"
    }
   },
   "outputs": [],
   "source": [
    "# pandas handle table, its the \"excel\" in python\n",
    "import pandas as pd\n",
    "# pathlib handle all path related stuff\n",
    "import pathlib"
   ]
  },
  {
   "cell_type": "code",
   "execution_count": 10,
   "metadata": {
    "ExecuteTime": {
     "end_time": "2020-04-17T20:11:02.171484Z",
     "start_time": "2020-04-17T20:11:02.142003Z"
    }
   },
   "outputs": [
    {
     "name": "stdout",
     "output_type": "stream",
     "text": [
      "The dataframe shape (25, 54)\n"
     ]
    },
    {
     "data": {
      "text/html": [
       "<div>\n",
       "<style scoped>\n",
       "    .dataframe tbody tr th:only-of-type {\n",
       "        vertical-align: middle;\n",
       "    }\n",
       "\n",
       "    .dataframe tbody tr th {\n",
       "        vertical-align: top;\n",
       "    }\n",
       "\n",
       "    .dataframe thead th {\n",
       "        text-align: right;\n",
       "    }\n",
       "</style>\n",
       "<table border=\"1\" class=\"dataframe\">\n",
       "  <thead>\n",
       "    <tr style=\"text-align: right;\">\n",
       "      <th></th>\n",
       "      <th>File format</th>\n",
       "      <th>File type</th>\n",
       "      <th>File format type</th>\n",
       "      <th>Output type</th>\n",
       "      <th>Experiment accession</th>\n",
       "      <th>Assay</th>\n",
       "      <th>Biosample term id</th>\n",
       "      <th>Biosample term name</th>\n",
       "      <th>Biosample type</th>\n",
       "      <th>Biosample organism</th>\n",
       "      <th>...</th>\n",
       "      <th>Assembly</th>\n",
       "      <th>Genome annotation</th>\n",
       "      <th>Platform</th>\n",
       "      <th>Controlled by</th>\n",
       "      <th>File Status</th>\n",
       "      <th>s3_uri</th>\n",
       "      <th>Audit WARNING</th>\n",
       "      <th>Audit INTERNAL_ACTION</th>\n",
       "      <th>Audit NOT_COMPLIANT</th>\n",
       "      <th>Audit ERROR</th>\n",
       "    </tr>\n",
       "    <tr>\n",
       "      <th>File accession</th>\n",
       "      <th></th>\n",
       "      <th></th>\n",
       "      <th></th>\n",
       "      <th></th>\n",
       "      <th></th>\n",
       "      <th></th>\n",
       "      <th></th>\n",
       "      <th></th>\n",
       "      <th></th>\n",
       "      <th></th>\n",
       "      <th></th>\n",
       "      <th></th>\n",
       "      <th></th>\n",
       "      <th></th>\n",
       "      <th></th>\n",
       "      <th></th>\n",
       "      <th></th>\n",
       "      <th></th>\n",
       "      <th></th>\n",
       "      <th></th>\n",
       "      <th></th>\n",
       "    </tr>\n",
       "  </thead>\n",
       "  <tbody>\n",
       "    <tr>\n",
       "      <th>ENCFF329ACL</th>\n",
       "      <td>fastq</td>\n",
       "      <td>fastq</td>\n",
       "      <td>NaN</td>\n",
       "      <td>reads</td>\n",
       "      <td>ENCSR160IIN</td>\n",
       "      <td>RNA-seq</td>\n",
       "      <td>UBERON:0001890</td>\n",
       "      <td>forebrain</td>\n",
       "      <td>tissue</td>\n",
       "      <td>Mus musculus</td>\n",
       "      <td>...</td>\n",
       "      <td>NaN</td>\n",
       "      <td>NaN</td>\n",
       "      <td>Illumina HiSeq 2500</td>\n",
       "      <td>NaN</td>\n",
       "      <td>released</td>\n",
       "      <td>s3://encode-public/2014/10/30/08ac2b2f-122f-4c...</td>\n",
       "      <td>NaN</td>\n",
       "      <td>NaN</td>\n",
       "      <td>NaN</td>\n",
       "      <td>NaN</td>\n",
       "    </tr>\n",
       "    <tr>\n",
       "      <th>ENCFF251LNG</th>\n",
       "      <td>fastq</td>\n",
       "      <td>fastq</td>\n",
       "      <td>NaN</td>\n",
       "      <td>reads</td>\n",
       "      <td>ENCSR160IIN</td>\n",
       "      <td>RNA-seq</td>\n",
       "      <td>UBERON:0001890</td>\n",
       "      <td>forebrain</td>\n",
       "      <td>tissue</td>\n",
       "      <td>Mus musculus</td>\n",
       "      <td>...</td>\n",
       "      <td>NaN</td>\n",
       "      <td>NaN</td>\n",
       "      <td>Illumina HiSeq 2500</td>\n",
       "      <td>NaN</td>\n",
       "      <td>released</td>\n",
       "      <td>s3://encode-public/2014/10/30/b2b42120-3ca3-4c...</td>\n",
       "      <td>NaN</td>\n",
       "      <td>NaN</td>\n",
       "      <td>NaN</td>\n",
       "      <td>NaN</td>\n",
       "    </tr>\n",
       "    <tr>\n",
       "      <th>ENCFF896COV</th>\n",
       "      <td>fastq</td>\n",
       "      <td>fastq</td>\n",
       "      <td>NaN</td>\n",
       "      <td>reads</td>\n",
       "      <td>ENCSR160IIN</td>\n",
       "      <td>RNA-seq</td>\n",
       "      <td>UBERON:0001890</td>\n",
       "      <td>forebrain</td>\n",
       "      <td>tissue</td>\n",
       "      <td>Mus musculus</td>\n",
       "      <td>...</td>\n",
       "      <td>NaN</td>\n",
       "      <td>NaN</td>\n",
       "      <td>Illumina HiSeq 2500</td>\n",
       "      <td>NaN</td>\n",
       "      <td>released</td>\n",
       "      <td>s3://encode-public/2014/10/30/a0df1ba6-c4a3-4b...</td>\n",
       "      <td>NaN</td>\n",
       "      <td>NaN</td>\n",
       "      <td>NaN</td>\n",
       "      <td>NaN</td>\n",
       "    </tr>\n",
       "    <tr>\n",
       "      <th>ENCFF959PSX</th>\n",
       "      <td>fastq</td>\n",
       "      <td>fastq</td>\n",
       "      <td>NaN</td>\n",
       "      <td>reads</td>\n",
       "      <td>ENCSR970EWM</td>\n",
       "      <td>RNA-seq</td>\n",
       "      <td>UBERON:0001890</td>\n",
       "      <td>forebrain</td>\n",
       "      <td>tissue</td>\n",
       "      <td>Mus musculus</td>\n",
       "      <td>...</td>\n",
       "      <td>NaN</td>\n",
       "      <td>NaN</td>\n",
       "      <td>Illumina HiSeq 2500</td>\n",
       "      <td>NaN</td>\n",
       "      <td>released</td>\n",
       "      <td>s3://encode-public/2015/09/23/a57550bb-5941-4f...</td>\n",
       "      <td>NaN</td>\n",
       "      <td>NaN</td>\n",
       "      <td>NaN</td>\n",
       "      <td>NaN</td>\n",
       "    </tr>\n",
       "    <tr>\n",
       "      <th>ENCFF235DNM</th>\n",
       "      <td>fastq</td>\n",
       "      <td>fastq</td>\n",
       "      <td>NaN</td>\n",
       "      <td>reads</td>\n",
       "      <td>ENCSR970EWM</td>\n",
       "      <td>RNA-seq</td>\n",
       "      <td>UBERON:0001890</td>\n",
       "      <td>forebrain</td>\n",
       "      <td>tissue</td>\n",
       "      <td>Mus musculus</td>\n",
       "      <td>...</td>\n",
       "      <td>NaN</td>\n",
       "      <td>NaN</td>\n",
       "      <td>Illumina HiSeq 2500</td>\n",
       "      <td>NaN</td>\n",
       "      <td>released</td>\n",
       "      <td>s3://encode-public/2015/09/23/d4d9c094-7e3b-43...</td>\n",
       "      <td>NaN</td>\n",
       "      <td>NaN</td>\n",
       "      <td>NaN</td>\n",
       "      <td>NaN</td>\n",
       "    </tr>\n",
       "  </tbody>\n",
       "</table>\n",
       "<p>5 rows × 54 columns</p>\n",
       "</div>"
      ],
      "text/plain": [
       "               File format File type  File format type Output type  \\\n",
       "File accession                                                       \n",
       "ENCFF329ACL          fastq     fastq               NaN       reads   \n",
       "ENCFF251LNG          fastq     fastq               NaN       reads   \n",
       "ENCFF896COV          fastq     fastq               NaN       reads   \n",
       "ENCFF959PSX          fastq     fastq               NaN       reads   \n",
       "ENCFF235DNM          fastq     fastq               NaN       reads   \n",
       "\n",
       "               Experiment accession    Assay Biosample term id  \\\n",
       "File accession                                                   \n",
       "ENCFF329ACL             ENCSR160IIN  RNA-seq    UBERON:0001890   \n",
       "ENCFF251LNG             ENCSR160IIN  RNA-seq    UBERON:0001890   \n",
       "ENCFF896COV             ENCSR160IIN  RNA-seq    UBERON:0001890   \n",
       "ENCFF959PSX             ENCSR970EWM  RNA-seq    UBERON:0001890   \n",
       "ENCFF235DNM             ENCSR970EWM  RNA-seq    UBERON:0001890   \n",
       "\n",
       "               Biosample term name Biosample type Biosample organism  ...  \\\n",
       "File accession                                                        ...   \n",
       "ENCFF329ACL              forebrain         tissue       Mus musculus  ...   \n",
       "ENCFF251LNG              forebrain         tissue       Mus musculus  ...   \n",
       "ENCFF896COV              forebrain         tissue       Mus musculus  ...   \n",
       "ENCFF959PSX              forebrain         tissue       Mus musculus  ...   \n",
       "ENCFF235DNM              forebrain         tissue       Mus musculus  ...   \n",
       "\n",
       "                Assembly  Genome annotation             Platform  \\\n",
       "File accession                                                     \n",
       "ENCFF329ACL          NaN                NaN  Illumina HiSeq 2500   \n",
       "ENCFF251LNG          NaN                NaN  Illumina HiSeq 2500   \n",
       "ENCFF896COV          NaN                NaN  Illumina HiSeq 2500   \n",
       "ENCFF959PSX          NaN                NaN  Illumina HiSeq 2500   \n",
       "ENCFF235DNM          NaN                NaN  Illumina HiSeq 2500   \n",
       "\n",
       "                Controlled by  File Status  \\\n",
       "File accession                               \n",
       "ENCFF329ACL               NaN     released   \n",
       "ENCFF251LNG               NaN     released   \n",
       "ENCFF896COV               NaN     released   \n",
       "ENCFF959PSX               NaN     released   \n",
       "ENCFF235DNM               NaN     released   \n",
       "\n",
       "                                                           s3_uri  \\\n",
       "File accession                                                      \n",
       "ENCFF329ACL     s3://encode-public/2014/10/30/08ac2b2f-122f-4c...   \n",
       "ENCFF251LNG     s3://encode-public/2014/10/30/b2b42120-3ca3-4c...   \n",
       "ENCFF896COV     s3://encode-public/2014/10/30/a0df1ba6-c4a3-4b...   \n",
       "ENCFF959PSX     s3://encode-public/2015/09/23/a57550bb-5941-4f...   \n",
       "ENCFF235DNM     s3://encode-public/2015/09/23/d4d9c094-7e3b-43...   \n",
       "\n",
       "                Audit WARNING  Audit INTERNAL_ACTION  Audit NOT_COMPLIANT  \\\n",
       "File accession                                                              \n",
       "ENCFF329ACL               NaN                    NaN                  NaN   \n",
       "ENCFF251LNG               NaN                    NaN                  NaN   \n",
       "ENCFF896COV               NaN                    NaN                  NaN   \n",
       "ENCFF959PSX               NaN                    NaN                  NaN   \n",
       "ENCFF235DNM               NaN                    NaN                  NaN   \n",
       "\n",
       "                Audit ERROR  \n",
       "File accession               \n",
       "ENCFF329ACL             NaN  \n",
       "ENCFF251LNG             NaN  \n",
       "ENCFF896COV             NaN  \n",
       "ENCFF959PSX             NaN  \n",
       "ENCFF235DNM             NaN  \n",
       "\n",
       "[5 rows x 54 columns]"
      ]
     },
     "execution_count": 10,
     "metadata": {},
     "output_type": "execute_result"
    }
   ],
   "source": [
    "metadata = pd.read_csv('./fastq/raw_metadata.tsv', sep='\\t', index_col=0)\n",
    "print('The dataframe shape', metadata.shape)\n",
    "metadata.head()"
   ]
  },
  {
   "cell_type": "code",
   "execution_count": 11,
   "metadata": {
    "ExecuteTime": {
     "end_time": "2020-04-17T20:11:04.659974Z",
     "start_time": "2020-04-17T20:11:04.656871Z"
    }
   },
   "outputs": [
    {
     "data": {
      "text/plain": [
       "Index(['File format', 'File type', 'File format type', 'Output type',\n",
       "       'Experiment accession', 'Assay', 'Biosample term id',\n",
       "       'Biosample term name', 'Biosample type', 'Biosample organism',\n",
       "       'Biosample treatments', 'Biosample treatments amount',\n",
       "       'Biosample treatments duration',\n",
       "       'Biosample genetic modifications methods',\n",
       "       'Biosample genetic modifications categories',\n",
       "       'Biosample genetic modifications targets',\n",
       "       'Biosample genetic modifications gene targets',\n",
       "       'Biosample genetic modifications site coordinates',\n",
       "       'Biosample genetic modifications zygosity', 'Experiment target',\n",
       "       'Library made from', 'Library depleted in', 'Library extraction method',\n",
       "       'Library lysis method', 'Library crosslinking method',\n",
       "       'Library strand specific', 'Experiment date released', 'Project',\n",
       "       'RBNS protein concentration', 'Library fragmentation method',\n",
       "       'Library size range', 'Biological replicate(s)', 'Technical replicate',\n",
       "       'Read length', 'Mapped read length', 'Run type', 'Paired end',\n",
       "       'Paired with', 'Derived from', 'Size', 'Lab', 'md5sum', 'dbxrefs',\n",
       "       'File download URL', 'Assembly', 'Genome annotation', 'Platform',\n",
       "       'Controlled by', 'File Status', 's3_uri', 'Audit WARNING',\n",
       "       'Audit INTERNAL_ACTION', 'Audit NOT_COMPLIANT', 'Audit ERROR'],\n",
       "      dtype='object')"
      ]
     },
     "execution_count": 11,
     "metadata": {},
     "output_type": "execute_result"
    }
   ],
   "source": [
    "metadata.columns"
   ]
  },
  {
   "cell_type": "markdown",
   "metadata": {},
   "source": [
    "### Clean metadata, select necessary columns"
   ]
  },
  {
   "cell_type": "code",
   "execution_count": 12,
   "metadata": {
    "ExecuteTime": {
     "end_time": "2020-04-17T20:11:06.360962Z",
     "start_time": "2020-04-17T20:11:06.351812Z"
    }
   },
   "outputs": [
    {
     "name": "stdout",
     "output_type": "stream",
     "text": [
      "The dataframe shape (25, 5)\n"
     ]
    },
    {
     "data": {
      "text/html": [
       "<div>\n",
       "<style scoped>\n",
       "    .dataframe tbody tr th:only-of-type {\n",
       "        vertical-align: middle;\n",
       "    }\n",
       "\n",
       "    .dataframe tbody tr th {\n",
       "        vertical-align: top;\n",
       "    }\n",
       "\n",
       "    .dataframe thead th {\n",
       "        text-align: right;\n",
       "    }\n",
       "</style>\n",
       "<table border=\"1\" class=\"dataframe\">\n",
       "  <thead>\n",
       "    <tr style=\"text-align: right;\">\n",
       "      <th></th>\n",
       "      <th>Output type</th>\n",
       "      <th>Experiment accession</th>\n",
       "      <th>Biosample term id</th>\n",
       "      <th>Biosample term name</th>\n",
       "      <th>Biological replicate(s)</th>\n",
       "    </tr>\n",
       "    <tr>\n",
       "      <th>File accession</th>\n",
       "      <th></th>\n",
       "      <th></th>\n",
       "      <th></th>\n",
       "      <th></th>\n",
       "      <th></th>\n",
       "    </tr>\n",
       "  </thead>\n",
       "  <tbody>\n",
       "    <tr>\n",
       "      <th>ENCFF329ACL</th>\n",
       "      <td>reads</td>\n",
       "      <td>ENCSR160IIN</td>\n",
       "      <td>UBERON:0001890</td>\n",
       "      <td>forebrain</td>\n",
       "      <td>1</td>\n",
       "    </tr>\n",
       "    <tr>\n",
       "      <th>ENCFF251LNG</th>\n",
       "      <td>reads</td>\n",
       "      <td>ENCSR160IIN</td>\n",
       "      <td>UBERON:0001890</td>\n",
       "      <td>forebrain</td>\n",
       "      <td>2</td>\n",
       "    </tr>\n",
       "    <tr>\n",
       "      <th>ENCFF896COV</th>\n",
       "      <td>reads</td>\n",
       "      <td>ENCSR160IIN</td>\n",
       "      <td>UBERON:0001890</td>\n",
       "      <td>forebrain</td>\n",
       "      <td>2</td>\n",
       "    </tr>\n",
       "    <tr>\n",
       "      <th>ENCFF959PSX</th>\n",
       "      <td>reads</td>\n",
       "      <td>ENCSR970EWM</td>\n",
       "      <td>UBERON:0001890</td>\n",
       "      <td>forebrain</td>\n",
       "      <td>2</td>\n",
       "    </tr>\n",
       "    <tr>\n",
       "      <th>ENCFF235DNM</th>\n",
       "      <td>reads</td>\n",
       "      <td>ENCSR970EWM</td>\n",
       "      <td>UBERON:0001890</td>\n",
       "      <td>forebrain</td>\n",
       "      <td>1</td>\n",
       "    </tr>\n",
       "  </tbody>\n",
       "</table>\n",
       "</div>"
      ],
      "text/plain": [
       "               Output type Experiment accession Biosample term id  \\\n",
       "File accession                                                      \n",
       "ENCFF329ACL          reads          ENCSR160IIN    UBERON:0001890   \n",
       "ENCFF251LNG          reads          ENCSR160IIN    UBERON:0001890   \n",
       "ENCFF896COV          reads          ENCSR160IIN    UBERON:0001890   \n",
       "ENCFF959PSX          reads          ENCSR970EWM    UBERON:0001890   \n",
       "ENCFF235DNM          reads          ENCSR970EWM    UBERON:0001890   \n",
       "\n",
       "               Biosample term name  Biological replicate(s)  \n",
       "File accession                                               \n",
       "ENCFF329ACL              forebrain                        1  \n",
       "ENCFF251LNG              forebrain                        2  \n",
       "ENCFF896COV              forebrain                        2  \n",
       "ENCFF959PSX              forebrain                        2  \n",
       "ENCFF235DNM              forebrain                        1  "
      ]
     },
     "execution_count": 12,
     "metadata": {},
     "output_type": "execute_result"
    }
   ],
   "source": [
    "use_columns = [\n",
    "    'Output type', 'Experiment accession', 'Biosample term id',\n",
    "    'Biosample term name', 'Biological replicate(s)'\n",
    "]\n",
    "\n",
    "metadata_selected = metadata[use_columns].copy()\n",
    "print('The dataframe shape', metadata_selected.shape)\n",
    "metadata_selected.head()"
   ]
  },
  {
   "cell_type": "markdown",
   "metadata": {},
   "source": [
    "### Concatenate timepoint information"
   ]
  },
  {
   "cell_type": "code",
   "execution_count": 13,
   "metadata": {
    "ExecuteTime": {
     "end_time": "2020-04-17T20:11:10.035854Z",
     "start_time": "2020-04-17T20:11:10.026119Z"
    }
   },
   "outputs": [
    {
     "name": "stdout",
     "output_type": "stream",
     "text": [
      "The dataframe shape (8, 4)\n"
     ]
    },
    {
     "data": {
      "text/html": [
       "<div>\n",
       "<style scoped>\n",
       "    .dataframe tbody tr th:only-of-type {\n",
       "        vertical-align: middle;\n",
       "    }\n",
       "\n",
       "    .dataframe tbody tr th {\n",
       "        vertical-align: top;\n",
       "    }\n",
       "\n",
       "    .dataframe thead th {\n",
       "        text-align: right;\n",
       "    }\n",
       "</style>\n",
       "<table border=\"1\" class=\"dataframe\">\n",
       "  <thead>\n",
       "    <tr style=\"text-align: right;\">\n",
       "      <th></th>\n",
       "      <th>Stage</th>\n",
       "      <th>Tissue_short</th>\n",
       "      <th>Tissue_full</th>\n",
       "      <th>Data type</th>\n",
       "    </tr>\n",
       "    <tr>\n",
       "      <th>ENCODE accession</th>\n",
       "      <th></th>\n",
       "      <th></th>\n",
       "      <th></th>\n",
       "      <th></th>\n",
       "    </tr>\n",
       "  </thead>\n",
       "  <tbody>\n",
       "    <tr>\n",
       "      <th>ENCSR304RDL</th>\n",
       "      <td>E10.5</td>\n",
       "      <td>FB</td>\n",
       "      <td>forebrain</td>\n",
       "      <td>RNA-seq</td>\n",
       "    </tr>\n",
       "    <tr>\n",
       "      <th>ENCSR160IIN</th>\n",
       "      <td>E11.5</td>\n",
       "      <td>FB</td>\n",
       "      <td>forebrain</td>\n",
       "      <td>RNA-seq</td>\n",
       "    </tr>\n",
       "    <tr>\n",
       "      <th>ENCSR647QBV</th>\n",
       "      <td>E12.5</td>\n",
       "      <td>FB</td>\n",
       "      <td>forebrain</td>\n",
       "      <td>RNA-seq</td>\n",
       "    </tr>\n",
       "    <tr>\n",
       "      <th>ENCSR970EWM</th>\n",
       "      <td>E13.5</td>\n",
       "      <td>FB</td>\n",
       "      <td>forebrain</td>\n",
       "      <td>RNA-seq</td>\n",
       "    </tr>\n",
       "    <tr>\n",
       "      <th>ENCSR185LWM</th>\n",
       "      <td>E14.5</td>\n",
       "      <td>FB</td>\n",
       "      <td>forebrain</td>\n",
       "      <td>RNA-seq</td>\n",
       "    </tr>\n",
       "  </tbody>\n",
       "</table>\n",
       "</div>"
      ],
      "text/plain": [
       "                  Stage Tissue_short Tissue_full Data type\n",
       "ENCODE accession                                          \n",
       "ENCSR304RDL       E10.5           FB   forebrain   RNA-seq\n",
       "ENCSR160IIN       E11.5           FB   forebrain   RNA-seq\n",
       "ENCSR647QBV       E12.5           FB   forebrain   RNA-seq\n",
       "ENCSR970EWM       E13.5           FB   forebrain   RNA-seq\n",
       "ENCSR185LWM       E14.5           FB   forebrain   RNA-seq"
      ]
     },
     "execution_count": 13,
     "metadata": {},
     "output_type": "execute_result"
    }
   ],
   "source": [
    "# I manually create this sample table, which contains the developmental time information\n",
    "exp_meta = pd.read_csv('metadata/ENCODE_experiments.tsv', sep='\\t', index_col=-1)\n",
    "print('The dataframe shape', exp_meta.shape)\n",
    "exp_meta.head()"
   ]
  },
  {
   "cell_type": "code",
   "execution_count": 14,
   "metadata": {
    "ExecuteTime": {
     "end_time": "2020-04-17T20:11:12.126986Z",
     "start_time": "2020-04-17T20:11:12.123575Z"
    }
   },
   "outputs": [
    {
     "data": {
      "text/plain": [
       "File accession\n",
       "ENCFF329ACL    ENCSR160IIN\n",
       "ENCFF251LNG    ENCSR160IIN\n",
       "ENCFF896COV    ENCSR160IIN\n",
       "ENCFF959PSX    ENCSR970EWM\n",
       "ENCFF235DNM    ENCSR970EWM\n",
       "Name: Experiment accession, dtype: object"
      ]
     },
     "execution_count": 14,
     "metadata": {},
     "output_type": "execute_result"
    }
   ],
   "source": [
    "# These Experiment accession \"ENCSR...\" matched with the exp_meta, \n",
    "# our goal is add the Stage column from exp_meta to the metadata_selected\n",
    "metadata_selected['Experiment accession'].head()"
   ]
  },
  {
   "cell_type": "code",
   "execution_count": 15,
   "metadata": {
    "ExecuteTime": {
     "end_time": "2020-04-17T20:11:12.226349Z",
     "start_time": "2020-04-17T20:11:12.216714Z"
    }
   },
   "outputs": [
    {
     "name": "stdout",
     "output_type": "stream",
     "text": [
      "The dataframe shape (25, 6)\n"
     ]
    },
    {
     "data": {
      "text/html": [
       "<div>\n",
       "<style scoped>\n",
       "    .dataframe tbody tr th:only-of-type {\n",
       "        vertical-align: middle;\n",
       "    }\n",
       "\n",
       "    .dataframe tbody tr th {\n",
       "        vertical-align: top;\n",
       "    }\n",
       "\n",
       "    .dataframe thead th {\n",
       "        text-align: right;\n",
       "    }\n",
       "</style>\n",
       "<table border=\"1\" class=\"dataframe\">\n",
       "  <thead>\n",
       "    <tr style=\"text-align: right;\">\n",
       "      <th></th>\n",
       "      <th>Output type</th>\n",
       "      <th>Experiment accession</th>\n",
       "      <th>Biosample term id</th>\n",
       "      <th>Biosample term name</th>\n",
       "      <th>Biological replicate(s)</th>\n",
       "      <th>Stage</th>\n",
       "    </tr>\n",
       "    <tr>\n",
       "      <th>File accession</th>\n",
       "      <th></th>\n",
       "      <th></th>\n",
       "      <th></th>\n",
       "      <th></th>\n",
       "      <th></th>\n",
       "      <th></th>\n",
       "    </tr>\n",
       "  </thead>\n",
       "  <tbody>\n",
       "    <tr>\n",
       "      <th>ENCFF329ACL</th>\n",
       "      <td>reads</td>\n",
       "      <td>ENCSR160IIN</td>\n",
       "      <td>UBERON:0001890</td>\n",
       "      <td>forebrain</td>\n",
       "      <td>1</td>\n",
       "      <td>E11.5</td>\n",
       "    </tr>\n",
       "    <tr>\n",
       "      <th>ENCFF251LNG</th>\n",
       "      <td>reads</td>\n",
       "      <td>ENCSR160IIN</td>\n",
       "      <td>UBERON:0001890</td>\n",
       "      <td>forebrain</td>\n",
       "      <td>2</td>\n",
       "      <td>E11.5</td>\n",
       "    </tr>\n",
       "    <tr>\n",
       "      <th>ENCFF896COV</th>\n",
       "      <td>reads</td>\n",
       "      <td>ENCSR160IIN</td>\n",
       "      <td>UBERON:0001890</td>\n",
       "      <td>forebrain</td>\n",
       "      <td>2</td>\n",
       "      <td>E11.5</td>\n",
       "    </tr>\n",
       "    <tr>\n",
       "      <th>ENCFF959PSX</th>\n",
       "      <td>reads</td>\n",
       "      <td>ENCSR970EWM</td>\n",
       "      <td>UBERON:0001890</td>\n",
       "      <td>forebrain</td>\n",
       "      <td>2</td>\n",
       "      <td>E13.5</td>\n",
       "    </tr>\n",
       "    <tr>\n",
       "      <th>ENCFF235DNM</th>\n",
       "      <td>reads</td>\n",
       "      <td>ENCSR970EWM</td>\n",
       "      <td>UBERON:0001890</td>\n",
       "      <td>forebrain</td>\n",
       "      <td>1</td>\n",
       "      <td>E13.5</td>\n",
       "    </tr>\n",
       "  </tbody>\n",
       "</table>\n",
       "</div>"
      ],
      "text/plain": [
       "               Output type Experiment accession Biosample term id  \\\n",
       "File accession                                                      \n",
       "ENCFF329ACL          reads          ENCSR160IIN    UBERON:0001890   \n",
       "ENCFF251LNG          reads          ENCSR160IIN    UBERON:0001890   \n",
       "ENCFF896COV          reads          ENCSR160IIN    UBERON:0001890   \n",
       "ENCFF959PSX          reads          ENCSR970EWM    UBERON:0001890   \n",
       "ENCFF235DNM          reads          ENCSR970EWM    UBERON:0001890   \n",
       "\n",
       "               Biosample term name  Biological replicate(s)  Stage  \n",
       "File accession                                                      \n",
       "ENCFF329ACL              forebrain                        1  E11.5  \n",
       "ENCFF251LNG              forebrain                        2  E11.5  \n",
       "ENCFF896COV              forebrain                        2  E11.5  \n",
       "ENCFF959PSX              forebrain                        2  E13.5  \n",
       "ENCFF235DNM              forebrain                        1  E13.5  "
      ]
     },
     "execution_count": 15,
     "metadata": {},
     "output_type": "execute_result"
    }
   ],
   "source": [
    "# single line of code can do this\n",
    "metadata_selected['Stage'] = metadata_selected['Experiment accession'].map(exp_meta['Stage'])\n",
    "\n",
    "print('The dataframe shape', metadata_selected.shape)\n",
    "metadata_selected.head()"
   ]
  },
  {
   "cell_type": "markdown",
   "metadata": {},
   "source": [
    "### Check some questions\n",
    "- Examples to validate your metadata"
   ]
  },
  {
   "cell_type": "code",
   "execution_count": 16,
   "metadata": {
    "ExecuteTime": {
     "end_time": "2020-04-17T20:11:14.348342Z",
     "start_time": "2020-04-17T20:11:14.344643Z"
    }
   },
   "outputs": [
    {
     "name": "stdout",
     "output_type": "stream",
     "text": [
      "Number of tissues 1\n"
     ]
    },
    {
     "data": {
      "text/plain": [
       "array(['forebrain'], dtype=object)"
      ]
     },
     "execution_count": 16,
     "metadata": {},
     "output_type": "execute_result"
    }
   ],
   "source": [
    "print('Number of tissues', \n",
    "      metadata_selected['Biosample term name'].unique().size)\n",
    "metadata_selected['Biosample term name'].unique()"
   ]
  },
  {
   "cell_type": "code",
   "execution_count": 17,
   "metadata": {
    "ExecuteTime": {
     "end_time": "2020-04-17T20:11:14.749198Z",
     "start_time": "2020-04-17T20:11:14.743667Z"
    }
   },
   "outputs": [
    {
     "name": "stdout",
     "output_type": "stream",
     "text": [
      "Number of time points in each tissue\n"
     ]
    },
    {
     "data": {
      "text/plain": [
       "Biosample term name\n",
       "forebrain    8\n",
       "Name: Stage, dtype: int64"
      ]
     },
     "execution_count": 17,
     "metadata": {},
     "output_type": "execute_result"
    }
   ],
   "source": [
    "print('Number of time points in each tissue')\n",
    "metadata_selected.groupby('Biosample term name')['Stage'].apply(lambda i: i.unique().size)"
   ]
  },
  {
   "cell_type": "code",
   "execution_count": 18,
   "metadata": {
    "ExecuteTime": {
     "end_time": "2020-04-17T20:11:14.923547Z",
     "start_time": "2020-04-17T20:11:14.916572Z"
    }
   },
   "outputs": [
    {
     "name": "stdout",
     "output_type": "stream",
     "text": [
      "Does each experiment (tissue*stage) has 2 replicates?\n"
     ]
    },
    {
     "data": {
      "text/plain": [
       "True"
      ]
     },
     "execution_count": 18,
     "metadata": {},
     "output_type": "execute_result"
    }
   ],
   "source": [
    "print('Does each experiment (tissue*stage) has 2 replicates?')\n",
    "\n",
    "# In human words, this means the number of replicates in each tissue and stage combination all equal to 2\n",
    "sum(\n",
    "    metadata_selected\\\n",
    "    .groupby(['Biosample term name', 'Stage'])\\\n",
    "    .apply(lambda i: i['Biological replicate(s)'].unique().size) != 2\n",
    ") == 0"
   ]
  },
  {
   "cell_type": "markdown",
   "metadata": {},
   "source": [
    "### Rename the files, add sample information"
   ]
  },
  {
   "cell_type": "code",
   "execution_count": null,
   "metadata": {},
   "outputs": [],
   "source": [
    "# create a output dir\n",
    "!mkdir fastq/data"
   ]
  },
  {
   "cell_type": "code",
   "execution_count": 22,
   "metadata": {
    "ExecuteTime": {
     "end_time": "2020-04-17T20:11:40.440186Z",
     "start_time": "2020-04-17T20:11:40.434848Z"
    }
   },
   "outputs": [],
   "source": [
    "# rename the columns\n",
    "rename_dict = {\n",
    "    'Output type': 'count_type',\n",
    "    'Experiment accession': 'experiment_id',\n",
    "    'Biosample term id': 'bio_sample_id',\n",
    "    'Biosample term name': 'tissue',\n",
    "    'Biological replicate(s)': 'replicate',\n",
    "    'Stage': 'dev_time'\n",
    "}\n",
    "metadata_selected.rename(columns=rename_dict, inplace=True)"
   ]
  },
  {
   "cell_type": "code",
   "execution_count": 23,
   "metadata": {
    "ExecuteTime": {
     "end_time": "2020-04-17T20:11:40.841524Z",
     "start_time": "2020-04-17T20:11:40.839885Z"
    }
   },
   "outputs": [],
   "source": [
    "# subprocess create a sub-process to execute certain shell command\n",
    "import subprocess"
   ]
  },
  {
   "cell_type": "code",
   "execution_count": 25,
   "metadata": {
    "ExecuteTime": {
     "end_time": "2020-04-17T20:11:51.471274Z",
     "start_time": "2020-04-17T20:11:51.322412Z"
    }
   },
   "outputs": [
    {
     "data": {
      "text/html": [
       "<div>\n",
       "<style scoped>\n",
       "    .dataframe tbody tr th:only-of-type {\n",
       "        vertical-align: middle;\n",
       "    }\n",
       "\n",
       "    .dataframe tbody tr th {\n",
       "        vertical-align: top;\n",
       "    }\n",
       "\n",
       "    .dataframe thead th {\n",
       "        text-align: right;\n",
       "    }\n",
       "</style>\n",
       "<table border=\"1\" class=\"dataframe\">\n",
       "  <thead>\n",
       "    <tr style=\"text-align: right;\">\n",
       "      <th></th>\n",
       "      <th>count_type</th>\n",
       "      <th>experiment_id</th>\n",
       "      <th>bio_sample_id</th>\n",
       "      <th>tissue</th>\n",
       "      <th>replicate</th>\n",
       "      <th>dev_time</th>\n",
       "      <th>file_name</th>\n",
       "    </tr>\n",
       "    <tr>\n",
       "      <th>File accession</th>\n",
       "      <th></th>\n",
       "      <th></th>\n",
       "      <th></th>\n",
       "      <th></th>\n",
       "      <th></th>\n",
       "      <th></th>\n",
       "      <th></th>\n",
       "    </tr>\n",
       "  </thead>\n",
       "  <tbody>\n",
       "    <tr>\n",
       "      <th>ENCFF329ACL</th>\n",
       "      <td>reads</td>\n",
       "      <td>ENCSR160IIN</td>\n",
       "      <td>UBERON:0001890</td>\n",
       "      <td>forebrain</td>\n",
       "      <td>1</td>\n",
       "      <td>E11.5</td>\n",
       "      <td>forebrain_E11.5_1_ENCFF329ACL.fastq.gz</td>\n",
       "    </tr>\n",
       "    <tr>\n",
       "      <th>ENCFF251LNG</th>\n",
       "      <td>reads</td>\n",
       "      <td>ENCSR160IIN</td>\n",
       "      <td>UBERON:0001890</td>\n",
       "      <td>forebrain</td>\n",
       "      <td>2</td>\n",
       "      <td>E11.5</td>\n",
       "      <td>forebrain_E11.5_2_ENCFF251LNG.fastq.gz</td>\n",
       "    </tr>\n",
       "    <tr>\n",
       "      <th>ENCFF896COV</th>\n",
       "      <td>reads</td>\n",
       "      <td>ENCSR160IIN</td>\n",
       "      <td>UBERON:0001890</td>\n",
       "      <td>forebrain</td>\n",
       "      <td>2</td>\n",
       "      <td>E11.5</td>\n",
       "      <td>forebrain_E11.5_2_ENCFF896COV.fastq.gz</td>\n",
       "    </tr>\n",
       "    <tr>\n",
       "      <th>ENCFF959PSX</th>\n",
       "      <td>reads</td>\n",
       "      <td>ENCSR970EWM</td>\n",
       "      <td>UBERON:0001890</td>\n",
       "      <td>forebrain</td>\n",
       "      <td>2</td>\n",
       "      <td>E13.5</td>\n",
       "      <td>forebrain_E13.5_2_ENCFF959PSX.fastq.gz</td>\n",
       "    </tr>\n",
       "    <tr>\n",
       "      <th>ENCFF235DNM</th>\n",
       "      <td>reads</td>\n",
       "      <td>ENCSR970EWM</td>\n",
       "      <td>UBERON:0001890</td>\n",
       "      <td>forebrain</td>\n",
       "      <td>1</td>\n",
       "      <td>E13.5</td>\n",
       "      <td>forebrain_E13.5_1_ENCFF235DNM.fastq.gz</td>\n",
       "    </tr>\n",
       "  </tbody>\n",
       "</table>\n",
       "</div>"
      ],
      "text/plain": [
       "               count_type experiment_id   bio_sample_id     tissue  replicate  \\\n",
       "File accession                                                                  \n",
       "ENCFF329ACL         reads   ENCSR160IIN  UBERON:0001890  forebrain          1   \n",
       "ENCFF251LNG         reads   ENCSR160IIN  UBERON:0001890  forebrain          2   \n",
       "ENCFF896COV         reads   ENCSR160IIN  UBERON:0001890  forebrain          2   \n",
       "ENCFF959PSX         reads   ENCSR970EWM  UBERON:0001890  forebrain          2   \n",
       "ENCFF235DNM         reads   ENCSR970EWM  UBERON:0001890  forebrain          1   \n",
       "\n",
       "               dev_time                               file_name  \n",
       "File accession                                                   \n",
       "ENCFF329ACL       E11.5  forebrain_E11.5_1_ENCFF329ACL.fastq.gz  \n",
       "ENCFF251LNG       E11.5  forebrain_E11.5_2_ENCFF251LNG.fastq.gz  \n",
       "ENCFF896COV       E11.5  forebrain_E11.5_2_ENCFF896COV.fastq.gz  \n",
       "ENCFF959PSX       E13.5  forebrain_E13.5_2_ENCFF959PSX.fastq.gz  \n",
       "ENCFF235DNM       E13.5  forebrain_E13.5_1_ENCFF235DNM.fastq.gz  "
      ]
     },
     "execution_count": 25,
     "metadata": {},
     "output_type": "execute_result"
    }
   ],
   "source": [
    "output_path_records = []\n",
    "for file_id, row in metadata_selected.iterrows():\n",
    "    tissue, dev_time, rep = row[['tissue', 'dev_time', 'replicate']]\n",
    "    \n",
    "    # assemble the input file path and make it absolute\n",
    "    input_path = pathlib.Path(f'./fastq/{file_id}.fastq.gz').absolute()\n",
    "    \n",
    "    # assemble the output file path\n",
    "    output_path = f'./fastq/data/{tissue}_{dev_time}_{rep}_{file_id}.fastq.gz'.replace(' ', '')\n",
    "    \n",
    "    # save the output file path\n",
    "    output_path_records.append(pathlib.Path(output_path).name)\n",
    "    # and create the soft link\n",
    "    subprocess.run(['ln', '-s', input_path, output_path])\n",
    "    \n",
    "metadata_selected['file_name'] = output_path_records\n",
    "metadata_selected.head()"
   ]
  },
  {
   "cell_type": "markdown",
   "metadata": {},
   "source": [
    "## Save the completed metadata table\n",
    "In each step, I will generate a metadata table to record related informations about all files and samples. This table will guide the next step."
   ]
  },
  {
   "cell_type": "code",
   "execution_count": 28,
   "metadata": {
    "ExecuteTime": {
     "end_time": "2020-04-17T20:12:21.933679Z",
     "start_time": "2020-04-17T20:12:21.930836Z"
    }
   },
   "outputs": [],
   "source": [
    "metadata_selected.to_csv('metadata/fastq_metadata.csv')"
   ]
  },
  {
   "cell_type": "code",
   "execution_count": 31,
   "metadata": {
    "ExecuteTime": {
     "end_time": "2020-04-17T20:12:34.038116Z",
     "start_time": "2020-04-17T20:12:33.917518Z"
    }
   },
   "outputs": [
    {
     "name": "stdout",
     "output_type": "stream",
     "text": [
      "total 0\r\n",
      "lrwxrwxrwx 1 hanliu users 65 Apr 17 13:08 forebrain_E10.5_1_ENCFF320FJX.fastq.gz -> /home/hanliu/project/genome_book/DevFB/fastq/ENCFF320FJX.fastq.gz\r\n",
      "lrwxrwxrwx 1 hanliu users 65 Apr 17 13:08 forebrain_E10.5_1_ENCFF920CNZ.fastq.gz -> /home/hanliu/project/genome_book/DevFB/fastq/ENCFF920CNZ.fastq.gz\r\n",
      "lrwxrwxrwx 1 hanliu users 65 Apr 17 13:08 forebrain_E10.5_2_ENCFF528EVC.fastq.gz -> /home/hanliu/project/genome_book/DevFB/fastq/ENCFF528EVC.fastq.gz\r\n",
      "lrwxrwxrwx 1 hanliu users 65 Apr 17 13:08 forebrain_E10.5_2_ENCFF663SNC.fastq.gz -> /home/hanliu/project/genome_book/DevFB/fastq/ENCFF663SNC.fastq.gz\r\n",
      "lrwxrwxrwx 1 hanliu users 65 Apr 17 13:08 forebrain_E11.5_1_ENCFF329ACL.fastq.gz -> /home/hanliu/project/genome_book/DevFB/fastq/ENCFF329ACL.fastq.gz\r\n",
      "lrwxrwxrwx 1 hanliu users 65 Apr 17 13:08 forebrain_E11.5_2_ENCFF251LNG.fastq.gz -> /home/hanliu/project/genome_book/DevFB/fastq/ENCFF251LNG.fastq.gz\r\n",
      "lrwxrwxrwx 1 hanliu users 65 Apr 17 13:08 forebrain_E11.5_2_ENCFF896COV.fastq.gz -> /home/hanliu/project/genome_book/DevFB/fastq/ENCFF896COV.fastq.gz\r\n",
      "lrwxrwxrwx 1 hanliu users 65 Apr 17 13:08 forebrain_E12.5_1_ENCFF294JRP.fastq.gz -> /home/hanliu/project/genome_book/DevFB/fastq/ENCFF294JRP.fastq.gz\r\n",
      "lrwxrwxrwx 1 hanliu users 65 Apr 17 13:08 forebrain_E12.5_1_ENCFF920QAY.fastq.gz -> /home/hanliu/project/genome_book/DevFB/fastq/ENCFF920QAY.fastq.gz\r\n",
      "lrwxrwxrwx 1 hanliu users 65 Apr 17 13:08 forebrain_E12.5_2_ENCFF203BWA.fastq.gz -> /home/hanliu/project/genome_book/DevFB/fastq/ENCFF203BWA.fastq.gz\r\n",
      "lrwxrwxrwx 1 hanliu users 65 Apr 17 13:08 forebrain_E12.5_2_ENCFF700OLU.fastq.gz -> /home/hanliu/project/genome_book/DevFB/fastq/ENCFF700OLU.fastq.gz\r\n",
      "lrwxrwxrwx 1 hanliu users 65 Apr 17 13:08 forebrain_E13.5_1_ENCFF235DNM.fastq.gz -> /home/hanliu/project/genome_book/DevFB/fastq/ENCFF235DNM.fastq.gz\r\n",
      "lrwxrwxrwx 1 hanliu users 65 Apr 17 13:08 forebrain_E13.5_2_ENCFF959PSX.fastq.gz -> /home/hanliu/project/genome_book/DevFB/fastq/ENCFF959PSX.fastq.gz\r\n",
      "lrwxrwxrwx 1 hanliu users 65 Apr 17 13:08 forebrain_E14.5_1_ENCFF270GKY.fastq.gz -> /home/hanliu/project/genome_book/DevFB/fastq/ENCFF270GKY.fastq.gz\r\n",
      "lrwxrwxrwx 1 hanliu users 65 Apr 17 13:08 forebrain_E14.5_1_ENCFF460TCF.fastq.gz -> /home/hanliu/project/genome_book/DevFB/fastq/ENCFF460TCF.fastq.gz\r\n",
      "lrwxrwxrwx 1 hanliu users 65 Apr 17 13:08 forebrain_E14.5_2_ENCFF126IRS.fastq.gz -> /home/hanliu/project/genome_book/DevFB/fastq/ENCFF126IRS.fastq.gz\r\n",
      "lrwxrwxrwx 1 hanliu users 65 Apr 17 13:08 forebrain_E14.5_2_ENCFF748SRJ.fastq.gz -> /home/hanliu/project/genome_book/DevFB/fastq/ENCFF748SRJ.fastq.gz\r\n",
      "lrwxrwxrwx 1 hanliu users 65 Apr 17 13:08 forebrain_E15.5_1_ENCFF179JEC.fastq.gz -> /home/hanliu/project/genome_book/DevFB/fastq/ENCFF179JEC.fastq.gz\r\n",
      "lrwxrwxrwx 1 hanliu users 65 Apr 17 13:08 forebrain_E15.5_2_ENCFF891HIX.fastq.gz -> /home/hanliu/project/genome_book/DevFB/fastq/ENCFF891HIX.fastq.gz\r\n",
      "lrwxrwxrwx 1 hanliu users 65 Apr 17 13:08 forebrain_E16.5_1_ENCFF931IVO.fastq.gz -> /home/hanliu/project/genome_book/DevFB/fastq/ENCFF931IVO.fastq.gz\r\n",
      "lrwxrwxrwx 1 hanliu users 65 Apr 17 13:08 forebrain_E16.5_2_ENCFF114DRT.fastq.gz -> /home/hanliu/project/genome_book/DevFB/fastq/ENCFF114DRT.fastq.gz\r\n",
      "lrwxrwxrwx 1 hanliu users 65 Apr 17 13:08 forebrain_P0_1_ENCFF037JQC.fastq.gz -> /home/hanliu/project/genome_book/DevFB/fastq/ENCFF037JQC.fastq.gz\r\n",
      "lrwxrwxrwx 1 hanliu users 65 Apr 17 13:08 forebrain_P0_1_ENCFF358MFI.fastq.gz -> /home/hanliu/project/genome_book/DevFB/fastq/ENCFF358MFI.fastq.gz\r\n",
      "lrwxrwxrwx 1 hanliu users 65 Apr 17 13:08 forebrain_P0_2_ENCFF447EXU.fastq.gz -> /home/hanliu/project/genome_book/DevFB/fastq/ENCFF447EXU.fastq.gz\r\n",
      "lrwxrwxrwx 1 hanliu users 65 Apr 17 13:08 forebrain_P0_2_ENCFF458NWF.fastq.gz -> /home/hanliu/project/genome_book/DevFB/fastq/ENCFF458NWF.fastq.gz\r\n"
     ]
    }
   ],
   "source": [
    "!ls -hl ./fastq/data/"
   ]
  },
  {
   "cell_type": "code",
   "execution_count": 32,
   "metadata": {
    "ExecuteTime": {
     "end_time": "2020-04-17T20:12:34.132359Z",
     "start_time": "2020-04-17T20:12:34.118853Z"
    }
   },
   "outputs": [
    {
     "data": {
      "text/html": [
       "<div>\n",
       "<style scoped>\n",
       "    .dataframe tbody tr th:only-of-type {\n",
       "        vertical-align: middle;\n",
       "    }\n",
       "\n",
       "    .dataframe tbody tr th {\n",
       "        vertical-align: top;\n",
       "    }\n",
       "\n",
       "    .dataframe thead th {\n",
       "        text-align: right;\n",
       "    }\n",
       "</style>\n",
       "<table border=\"1\" class=\"dataframe\">\n",
       "  <thead>\n",
       "    <tr style=\"text-align: right;\">\n",
       "      <th></th>\n",
       "      <th>count_type</th>\n",
       "      <th>experiment_id</th>\n",
       "      <th>bio_sample_id</th>\n",
       "      <th>tissue</th>\n",
       "      <th>replicate</th>\n",
       "      <th>dev_time</th>\n",
       "      <th>file_name</th>\n",
       "    </tr>\n",
       "    <tr>\n",
       "      <th>File accession</th>\n",
       "      <th></th>\n",
       "      <th></th>\n",
       "      <th></th>\n",
       "      <th></th>\n",
       "      <th></th>\n",
       "      <th></th>\n",
       "      <th></th>\n",
       "    </tr>\n",
       "  </thead>\n",
       "  <tbody>\n",
       "    <tr>\n",
       "      <th>ENCFF329ACL</th>\n",
       "      <td>reads</td>\n",
       "      <td>ENCSR160IIN</td>\n",
       "      <td>UBERON:0001890</td>\n",
       "      <td>forebrain</td>\n",
       "      <td>1</td>\n",
       "      <td>E11.5</td>\n",
       "      <td>forebrain_E11.5_1_ENCFF329ACL.fastq.gz</td>\n",
       "    </tr>\n",
       "    <tr>\n",
       "      <th>ENCFF251LNG</th>\n",
       "      <td>reads</td>\n",
       "      <td>ENCSR160IIN</td>\n",
       "      <td>UBERON:0001890</td>\n",
       "      <td>forebrain</td>\n",
       "      <td>2</td>\n",
       "      <td>E11.5</td>\n",
       "      <td>forebrain_E11.5_2_ENCFF251LNG.fastq.gz</td>\n",
       "    </tr>\n",
       "    <tr>\n",
       "      <th>ENCFF896COV</th>\n",
       "      <td>reads</td>\n",
       "      <td>ENCSR160IIN</td>\n",
       "      <td>UBERON:0001890</td>\n",
       "      <td>forebrain</td>\n",
       "      <td>2</td>\n",
       "      <td>E11.5</td>\n",
       "      <td>forebrain_E11.5_2_ENCFF896COV.fastq.gz</td>\n",
       "    </tr>\n",
       "    <tr>\n",
       "      <th>ENCFF959PSX</th>\n",
       "      <td>reads</td>\n",
       "      <td>ENCSR970EWM</td>\n",
       "      <td>UBERON:0001890</td>\n",
       "      <td>forebrain</td>\n",
       "      <td>2</td>\n",
       "      <td>E13.5</td>\n",
       "      <td>forebrain_E13.5_2_ENCFF959PSX.fastq.gz</td>\n",
       "    </tr>\n",
       "    <tr>\n",
       "      <th>ENCFF235DNM</th>\n",
       "      <td>reads</td>\n",
       "      <td>ENCSR970EWM</td>\n",
       "      <td>UBERON:0001890</td>\n",
       "      <td>forebrain</td>\n",
       "      <td>1</td>\n",
       "      <td>E13.5</td>\n",
       "      <td>forebrain_E13.5_1_ENCFF235DNM.fastq.gz</td>\n",
       "    </tr>\n",
       "    <tr>\n",
       "      <th>ENCFF270GKY</th>\n",
       "      <td>reads</td>\n",
       "      <td>ENCSR185LWM</td>\n",
       "      <td>UBERON:0001890</td>\n",
       "      <td>forebrain</td>\n",
       "      <td>1</td>\n",
       "      <td>E14.5</td>\n",
       "      <td>forebrain_E14.5_1_ENCFF270GKY.fastq.gz</td>\n",
       "    </tr>\n",
       "    <tr>\n",
       "      <th>ENCFF460TCF</th>\n",
       "      <td>reads</td>\n",
       "      <td>ENCSR185LWM</td>\n",
       "      <td>UBERON:0001890</td>\n",
       "      <td>forebrain</td>\n",
       "      <td>1</td>\n",
       "      <td>E14.5</td>\n",
       "      <td>forebrain_E14.5_1_ENCFF460TCF.fastq.gz</td>\n",
       "    </tr>\n",
       "    <tr>\n",
       "      <th>ENCFF126IRS</th>\n",
       "      <td>reads</td>\n",
       "      <td>ENCSR185LWM</td>\n",
       "      <td>UBERON:0001890</td>\n",
       "      <td>forebrain</td>\n",
       "      <td>2</td>\n",
       "      <td>E14.5</td>\n",
       "      <td>forebrain_E14.5_2_ENCFF126IRS.fastq.gz</td>\n",
       "    </tr>\n",
       "    <tr>\n",
       "      <th>ENCFF748SRJ</th>\n",
       "      <td>reads</td>\n",
       "      <td>ENCSR185LWM</td>\n",
       "      <td>UBERON:0001890</td>\n",
       "      <td>forebrain</td>\n",
       "      <td>2</td>\n",
       "      <td>E14.5</td>\n",
       "      <td>forebrain_E14.5_2_ENCFF748SRJ.fastq.gz</td>\n",
       "    </tr>\n",
       "    <tr>\n",
       "      <th>ENCFF447EXU</th>\n",
       "      <td>reads</td>\n",
       "      <td>ENCSR362AIZ</td>\n",
       "      <td>UBERON:0001890</td>\n",
       "      <td>forebrain</td>\n",
       "      <td>2</td>\n",
       "      <td>P0</td>\n",
       "      <td>forebrain_P0_2_ENCFF447EXU.fastq.gz</td>\n",
       "    </tr>\n",
       "    <tr>\n",
       "      <th>ENCFF037JQC</th>\n",
       "      <td>reads</td>\n",
       "      <td>ENCSR362AIZ</td>\n",
       "      <td>UBERON:0001890</td>\n",
       "      <td>forebrain</td>\n",
       "      <td>1</td>\n",
       "      <td>P0</td>\n",
       "      <td>forebrain_P0_1_ENCFF037JQC.fastq.gz</td>\n",
       "    </tr>\n",
       "    <tr>\n",
       "      <th>ENCFF458NWF</th>\n",
       "      <td>reads</td>\n",
       "      <td>ENCSR362AIZ</td>\n",
       "      <td>UBERON:0001890</td>\n",
       "      <td>forebrain</td>\n",
       "      <td>2</td>\n",
       "      <td>P0</td>\n",
       "      <td>forebrain_P0_2_ENCFF458NWF.fastq.gz</td>\n",
       "    </tr>\n",
       "    <tr>\n",
       "      <th>ENCFF358MFI</th>\n",
       "      <td>reads</td>\n",
       "      <td>ENCSR362AIZ</td>\n",
       "      <td>UBERON:0001890</td>\n",
       "      <td>forebrain</td>\n",
       "      <td>1</td>\n",
       "      <td>P0</td>\n",
       "      <td>forebrain_P0_1_ENCFF358MFI.fastq.gz</td>\n",
       "    </tr>\n",
       "    <tr>\n",
       "      <th>ENCFF891HIX</th>\n",
       "      <td>reads</td>\n",
       "      <td>ENCSR752RGN</td>\n",
       "      <td>UBERON:0001890</td>\n",
       "      <td>forebrain</td>\n",
       "      <td>2</td>\n",
       "      <td>E15.5</td>\n",
       "      <td>forebrain_E15.5_2_ENCFF891HIX.fastq.gz</td>\n",
       "    </tr>\n",
       "    <tr>\n",
       "      <th>ENCFF179JEC</th>\n",
       "      <td>reads</td>\n",
       "      <td>ENCSR752RGN</td>\n",
       "      <td>UBERON:0001890</td>\n",
       "      <td>forebrain</td>\n",
       "      <td>1</td>\n",
       "      <td>E15.5</td>\n",
       "      <td>forebrain_E15.5_1_ENCFF179JEC.fastq.gz</td>\n",
       "    </tr>\n",
       "    <tr>\n",
       "      <th>ENCFF203BWA</th>\n",
       "      <td>reads</td>\n",
       "      <td>ENCSR647QBV</td>\n",
       "      <td>UBERON:0001890</td>\n",
       "      <td>forebrain</td>\n",
       "      <td>2</td>\n",
       "      <td>E12.5</td>\n",
       "      <td>forebrain_E12.5_2_ENCFF203BWA.fastq.gz</td>\n",
       "    </tr>\n",
       "    <tr>\n",
       "      <th>ENCFF920QAY</th>\n",
       "      <td>reads</td>\n",
       "      <td>ENCSR647QBV</td>\n",
       "      <td>UBERON:0001890</td>\n",
       "      <td>forebrain</td>\n",
       "      <td>1</td>\n",
       "      <td>E12.5</td>\n",
       "      <td>forebrain_E12.5_1_ENCFF920QAY.fastq.gz</td>\n",
       "    </tr>\n",
       "    <tr>\n",
       "      <th>ENCFF294JRP</th>\n",
       "      <td>reads</td>\n",
       "      <td>ENCSR647QBV</td>\n",
       "      <td>UBERON:0001890</td>\n",
       "      <td>forebrain</td>\n",
       "      <td>1</td>\n",
       "      <td>E12.5</td>\n",
       "      <td>forebrain_E12.5_1_ENCFF294JRP.fastq.gz</td>\n",
       "    </tr>\n",
       "    <tr>\n",
       "      <th>ENCFF700OLU</th>\n",
       "      <td>reads</td>\n",
       "      <td>ENCSR647QBV</td>\n",
       "      <td>UBERON:0001890</td>\n",
       "      <td>forebrain</td>\n",
       "      <td>2</td>\n",
       "      <td>E12.5</td>\n",
       "      <td>forebrain_E12.5_2_ENCFF700OLU.fastq.gz</td>\n",
       "    </tr>\n",
       "    <tr>\n",
       "      <th>ENCFF920CNZ</th>\n",
       "      <td>reads</td>\n",
       "      <td>ENCSR304RDL</td>\n",
       "      <td>UBERON:0001890</td>\n",
       "      <td>forebrain</td>\n",
       "      <td>1</td>\n",
       "      <td>E10.5</td>\n",
       "      <td>forebrain_E10.5_1_ENCFF920CNZ.fastq.gz</td>\n",
       "    </tr>\n",
       "    <tr>\n",
       "      <th>ENCFF320FJX</th>\n",
       "      <td>reads</td>\n",
       "      <td>ENCSR304RDL</td>\n",
       "      <td>UBERON:0001890</td>\n",
       "      <td>forebrain</td>\n",
       "      <td>1</td>\n",
       "      <td>E10.5</td>\n",
       "      <td>forebrain_E10.5_1_ENCFF320FJX.fastq.gz</td>\n",
       "    </tr>\n",
       "    <tr>\n",
       "      <th>ENCFF528EVC</th>\n",
       "      <td>reads</td>\n",
       "      <td>ENCSR304RDL</td>\n",
       "      <td>UBERON:0001890</td>\n",
       "      <td>forebrain</td>\n",
       "      <td>2</td>\n",
       "      <td>E10.5</td>\n",
       "      <td>forebrain_E10.5_2_ENCFF528EVC.fastq.gz</td>\n",
       "    </tr>\n",
       "    <tr>\n",
       "      <th>ENCFF663SNC</th>\n",
       "      <td>reads</td>\n",
       "      <td>ENCSR304RDL</td>\n",
       "      <td>UBERON:0001890</td>\n",
       "      <td>forebrain</td>\n",
       "      <td>2</td>\n",
       "      <td>E10.5</td>\n",
       "      <td>forebrain_E10.5_2_ENCFF663SNC.fastq.gz</td>\n",
       "    </tr>\n",
       "    <tr>\n",
       "      <th>ENCFF931IVO</th>\n",
       "      <td>reads</td>\n",
       "      <td>ENCSR080EVZ</td>\n",
       "      <td>UBERON:0001890</td>\n",
       "      <td>forebrain</td>\n",
       "      <td>1</td>\n",
       "      <td>E16.5</td>\n",
       "      <td>forebrain_E16.5_1_ENCFF931IVO.fastq.gz</td>\n",
       "    </tr>\n",
       "    <tr>\n",
       "      <th>ENCFF114DRT</th>\n",
       "      <td>reads</td>\n",
       "      <td>ENCSR080EVZ</td>\n",
       "      <td>UBERON:0001890</td>\n",
       "      <td>forebrain</td>\n",
       "      <td>2</td>\n",
       "      <td>E16.5</td>\n",
       "      <td>forebrain_E16.5_2_ENCFF114DRT.fastq.gz</td>\n",
       "    </tr>\n",
       "  </tbody>\n",
       "</table>\n",
       "</div>"
      ],
      "text/plain": [
       "               count_type experiment_id   bio_sample_id     tissue  replicate  \\\n",
       "File accession                                                                  \n",
       "ENCFF329ACL         reads   ENCSR160IIN  UBERON:0001890  forebrain          1   \n",
       "ENCFF251LNG         reads   ENCSR160IIN  UBERON:0001890  forebrain          2   \n",
       "ENCFF896COV         reads   ENCSR160IIN  UBERON:0001890  forebrain          2   \n",
       "ENCFF959PSX         reads   ENCSR970EWM  UBERON:0001890  forebrain          2   \n",
       "ENCFF235DNM         reads   ENCSR970EWM  UBERON:0001890  forebrain          1   \n",
       "ENCFF270GKY         reads   ENCSR185LWM  UBERON:0001890  forebrain          1   \n",
       "ENCFF460TCF         reads   ENCSR185LWM  UBERON:0001890  forebrain          1   \n",
       "ENCFF126IRS         reads   ENCSR185LWM  UBERON:0001890  forebrain          2   \n",
       "ENCFF748SRJ         reads   ENCSR185LWM  UBERON:0001890  forebrain          2   \n",
       "ENCFF447EXU         reads   ENCSR362AIZ  UBERON:0001890  forebrain          2   \n",
       "ENCFF037JQC         reads   ENCSR362AIZ  UBERON:0001890  forebrain          1   \n",
       "ENCFF458NWF         reads   ENCSR362AIZ  UBERON:0001890  forebrain          2   \n",
       "ENCFF358MFI         reads   ENCSR362AIZ  UBERON:0001890  forebrain          1   \n",
       "ENCFF891HIX         reads   ENCSR752RGN  UBERON:0001890  forebrain          2   \n",
       "ENCFF179JEC         reads   ENCSR752RGN  UBERON:0001890  forebrain          1   \n",
       "ENCFF203BWA         reads   ENCSR647QBV  UBERON:0001890  forebrain          2   \n",
       "ENCFF920QAY         reads   ENCSR647QBV  UBERON:0001890  forebrain          1   \n",
       "ENCFF294JRP         reads   ENCSR647QBV  UBERON:0001890  forebrain          1   \n",
       "ENCFF700OLU         reads   ENCSR647QBV  UBERON:0001890  forebrain          2   \n",
       "ENCFF920CNZ         reads   ENCSR304RDL  UBERON:0001890  forebrain          1   \n",
       "ENCFF320FJX         reads   ENCSR304RDL  UBERON:0001890  forebrain          1   \n",
       "ENCFF528EVC         reads   ENCSR304RDL  UBERON:0001890  forebrain          2   \n",
       "ENCFF663SNC         reads   ENCSR304RDL  UBERON:0001890  forebrain          2   \n",
       "ENCFF931IVO         reads   ENCSR080EVZ  UBERON:0001890  forebrain          1   \n",
       "ENCFF114DRT         reads   ENCSR080EVZ  UBERON:0001890  forebrain          2   \n",
       "\n",
       "               dev_time                               file_name  \n",
       "File accession                                                   \n",
       "ENCFF329ACL       E11.5  forebrain_E11.5_1_ENCFF329ACL.fastq.gz  \n",
       "ENCFF251LNG       E11.5  forebrain_E11.5_2_ENCFF251LNG.fastq.gz  \n",
       "ENCFF896COV       E11.5  forebrain_E11.5_2_ENCFF896COV.fastq.gz  \n",
       "ENCFF959PSX       E13.5  forebrain_E13.5_2_ENCFF959PSX.fastq.gz  \n",
       "ENCFF235DNM       E13.5  forebrain_E13.5_1_ENCFF235DNM.fastq.gz  \n",
       "ENCFF270GKY       E14.5  forebrain_E14.5_1_ENCFF270GKY.fastq.gz  \n",
       "ENCFF460TCF       E14.5  forebrain_E14.5_1_ENCFF460TCF.fastq.gz  \n",
       "ENCFF126IRS       E14.5  forebrain_E14.5_2_ENCFF126IRS.fastq.gz  \n",
       "ENCFF748SRJ       E14.5  forebrain_E14.5_2_ENCFF748SRJ.fastq.gz  \n",
       "ENCFF447EXU          P0     forebrain_P0_2_ENCFF447EXU.fastq.gz  \n",
       "ENCFF037JQC          P0     forebrain_P0_1_ENCFF037JQC.fastq.gz  \n",
       "ENCFF458NWF          P0     forebrain_P0_2_ENCFF458NWF.fastq.gz  \n",
       "ENCFF358MFI          P0     forebrain_P0_1_ENCFF358MFI.fastq.gz  \n",
       "ENCFF891HIX       E15.5  forebrain_E15.5_2_ENCFF891HIX.fastq.gz  \n",
       "ENCFF179JEC       E15.5  forebrain_E15.5_1_ENCFF179JEC.fastq.gz  \n",
       "ENCFF203BWA       E12.5  forebrain_E12.5_2_ENCFF203BWA.fastq.gz  \n",
       "ENCFF920QAY       E12.5  forebrain_E12.5_1_ENCFF920QAY.fastq.gz  \n",
       "ENCFF294JRP       E12.5  forebrain_E12.5_1_ENCFF294JRP.fastq.gz  \n",
       "ENCFF700OLU       E12.5  forebrain_E12.5_2_ENCFF700OLU.fastq.gz  \n",
       "ENCFF920CNZ       E10.5  forebrain_E10.5_1_ENCFF920CNZ.fastq.gz  \n",
       "ENCFF320FJX       E10.5  forebrain_E10.5_1_ENCFF320FJX.fastq.gz  \n",
       "ENCFF528EVC       E10.5  forebrain_E10.5_2_ENCFF528EVC.fastq.gz  \n",
       "ENCFF663SNC       E10.5  forebrain_E10.5_2_ENCFF663SNC.fastq.gz  \n",
       "ENCFF931IVO       E16.5  forebrain_E16.5_1_ENCFF931IVO.fastq.gz  \n",
       "ENCFF114DRT       E16.5  forebrain_E16.5_2_ENCFF114DRT.fastq.gz  "
      ]
     },
     "execution_count": 32,
     "metadata": {},
     "output_type": "execute_result"
    }
   ],
   "source": [
    "metadata_selected"
   ]
  },
  {
   "cell_type": "code",
   "execution_count": null,
   "metadata": {},
   "outputs": [],
   "source": []
  }
 ],
 "metadata": {
  "hide_input": false,
  "kernelspec": {
   "display_name": "Python 3",
   "language": "python",
   "name": "python3"
  },
  "language_info": {
   "codemirror_mode": {
    "name": "ipython",
    "version": 3
   },
   "file_extension": ".py",
   "mimetype": "text/x-python",
   "name": "python",
   "nbconvert_exporter": "python",
   "pygments_lexer": "ipython3",
   "version": "3.7.6"
  },
  "toc": {
   "base_numbering": 1,
   "nav_menu": {},
   "number_sections": true,
   "sideBar": true,
   "skip_h1_title": true,
   "title_cell": "Table of Contents",
   "title_sidebar": "Contents",
   "toc_cell": false,
   "toc_position": {},
   "toc_section_display": true,
   "toc_window_display": true
  }
 },
 "nbformat": 4,
 "nbformat_minor": 4
}
